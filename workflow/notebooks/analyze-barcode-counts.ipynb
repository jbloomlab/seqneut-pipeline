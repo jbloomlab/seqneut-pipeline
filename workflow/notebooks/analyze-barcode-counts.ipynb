{
 "cells": [
  {
   "cell_type": "markdown",
   "metadata": {},
   "source": [
    "# Analyze Barcode Counts\n",
    "\n",
    "*Check the barcode counts for each sample and create a combined barcode count file.*"
   ]
  },
  {
   "cell_type": "code",
   "execution_count": 1,
   "metadata": {},
   "outputs": [],
   "source": [
    "import os\n",
    "import yaml\n",
    "import numpy as np\n",
    "import altair as alt\n",
    "import pandas as pd"
   ]
  },
  {
   "cell_type": "code",
   "execution_count": 2,
   "metadata": {},
   "outputs": [],
   "source": [
    "# Allow for large dataframes\n",
    "_ = alt.data_transformers.disable_max_rows()"
   ]
  },
  {
   "cell_type": "markdown",
   "metadata": {},
   "source": [
    "This notebook is parameterized by `papermill`. The next cell is tagged as parameters to get the passed parameters."
   ]
  },
  {
   "cell_type": "code",
   "execution_count": 130,
   "metadata": {
    "tags": [
     "parameters"
    ]
   },
   "outputs": [],
   "source": [
    "# this cell is tagged 'parameters' for `papermill` parameterization\n",
    "joined_counts = None\n",
    "snakemake = None\n"
   ]
  },
  {
   "cell_type": "code",
   "execution_count": 131,
   "metadata": {},
   "outputs": [],
   "source": [
    "# Set the input and output paths\n",
    "if snakemake is not None:\n",
    "    filepath_prefix = \"\"\n",
    "else:\n",
    "    filepath_prefix = \"../../\"\n",
    "\n",
    "with open(filepath_prefix + 'config.yml') as f:\n",
    "    config = yaml.safe_load(f)\n"
   ]
  },
  {
   "cell_type": "code",
   "execution_count": 132,
   "metadata": {},
   "outputs": [
    {
     "name": "stdout",
     "output_type": "stream",
     "text": [
      "There are 1152 barcode runs.\n"
     ]
    }
   ],
   "source": [
    "# Read in the information about all barcode runs\n",
    "barcode_runs_df = pd.read_csv(filepath_prefix + config['barcode_runs'])\n",
    "barcode_runs_df[\"sample\"] = barcode_runs_df[config[\"id_columns\"]].apply(\n",
    "    lambda x: \"-\".join(x.astype(str)), axis=1\n",
    ")\n",
    "barcode_runs_df[\"date\"] = pd.to_datetime(barcode_runs_df[\"date\"], format=\"%y%m%d\").dt.strftime(\"%Y-%m-%d\")\n",
    "barcode_runs_df.drop(columns=[\"fastq\"], inplace=True)\n",
    "\n",
    "samples = barcode_runs_df[\"sample\"].unique().tolist()\n",
    "print(f\"There are {len(samples)} barcode runs.\")"
   ]
  },
  {
   "cell_type": "code",
   "execution_count": 133,
   "metadata": {},
   "outputs": [],
   "source": [
    "# Read in the barcode counts files\n",
    "count_dfs = {}\n",
    "for file_type in [\"counts\", \"invalid\", \"fates\"]:\n",
    "    count_dfs[file_type] =  pd.concat([\n",
    "        pd.read_csv(os.path.join(filepath_prefix, config[\"barcode_counts_dir\"], f\"{sample}\", f\"{sample}_{file_type}.csv\"))\n",
    "        .assign(sample=sample)\n",
    "        for sample in samples\n",
    "    ])\n",
    "\n",
    "# Merge with the run information\n",
    "for file_type in count_dfs:\n",
    "    # Left merge to retain all columns in 'barcode_runs'\n",
    "    count_dfs[file_type] = count_dfs[file_type].merge(barcode_runs_df, on='sample', how='left')"
   ]
  },
  {
   "cell_type": "code",
   "execution_count": 134,
   "metadata": {},
   "outputs": [],
   "source": [
    "# Get the user defined columns for dropdown menus\n",
    "dropdown_columns = list(set(config[\"analyze_barcodes_params\"][\"dropdown_columns\"] + ['library', 'date', 'plate']))\n"
   ]
  },
  {
   "cell_type": "markdown",
   "metadata": {},
   "source": [
    "## General Barcode Stats\n",
    "\n",
    "Below is an interactive plot of the count of barcodes in each sample colored by whether they are: \n",
    "- valid (in the library)\n",
    "- invalid (not in the library)\n",
    "- fails the chastity filter\n",
    "- is too low quality\n",
    "- is unparsable\n",
    "\n",
    "You can select the `plate`, `library`, `date`, and whatever additional columns were specified in the `config`.\n",
    "\n",
    "\n",
    "\n"
   ]
  },
  {
   "cell_type": "code",
   "execution_count": 135,
   "metadata": {},
   "outputs": [
    {
     "ename": "AttributeError",
     "evalue": "module 'altair' has no attribute 'selection_point'",
     "output_type": "error",
     "traceback": [
      "\u001b[0;31m---------------------------------------------------------------------------\u001b[0m",
      "\u001b[0;31mAttributeError\u001b[0m                            Traceback (most recent call last)",
      "Cell \u001b[0;32mIn[135], line 1\u001b[0m\n\u001b[0;32m----> 1\u001b[0m selections \u001b[38;5;241m=\u001b[39m [\n\u001b[1;32m      2\u001b[0m     alt\u001b[38;5;241m.\u001b[39mselection_point(\n\u001b[1;32m      3\u001b[0m         fields\u001b[38;5;241m=\u001b[39m[col],\n\u001b[1;32m      4\u001b[0m         bind\u001b[38;5;241m=\u001b[39malt\u001b[38;5;241m.\u001b[39mbinding_select(\n\u001b[1;32m      5\u001b[0m             options\u001b[38;5;241m=\u001b[39m[\u001b[38;5;28;01mNone\u001b[39;00m] \u001b[38;5;241m+\u001b[39m barcode_runs_df[col]\u001b[38;5;241m.\u001b[39mdropna()\u001b[38;5;241m.\u001b[39munique()\u001b[38;5;241m.\u001b[39mtolist(),\n\u001b[1;32m      6\u001b[0m             labels\u001b[38;5;241m=\u001b[39m[\u001b[38;5;124m\"\u001b[39m\u001b[38;5;124mall\u001b[39m\u001b[38;5;124m\"\u001b[39m] \u001b[38;5;241m+\u001b[39m [\u001b[38;5;28mstr\u001b[39m(x) \u001b[38;5;28;01mfor\u001b[39;00m x \u001b[38;5;129;01min\u001b[39;00m barcode_runs_df[col]\u001b[38;5;241m.\u001b[39mdropna()\u001b[38;5;241m.\u001b[39munique()],\n\u001b[1;32m      7\u001b[0m             name\u001b[38;5;241m=\u001b[39mcol,\n\u001b[1;32m      8\u001b[0m         ),\n\u001b[1;32m      9\u001b[0m     )\n\u001b[1;32m     10\u001b[0m     \u001b[38;5;28;01mfor\u001b[39;00m col \u001b[38;5;129;01min\u001b[39;00m dropdown_columns\n\u001b[1;32m     11\u001b[0m ]\n\u001b[1;32m     14\u001b[0m fate_chart \u001b[38;5;241m=\u001b[39m (\n\u001b[1;32m     15\u001b[0m     alt\u001b[38;5;241m.\u001b[39mChart(count_dfs[\u001b[38;5;124m\"\u001b[39m\u001b[38;5;124mfates\u001b[39m\u001b[38;5;124m\"\u001b[39m])\n\u001b[1;32m     16\u001b[0m     \u001b[38;5;241m.\u001b[39mencode(\n\u001b[0;32m   (...)\u001b[0m\n\u001b[1;32m     33\u001b[0m     \u001b[38;5;241m.\u001b[39mconfigure_axis(labelLimit\u001b[38;5;241m=\u001b[39m\u001b[38;5;241m500\u001b[39m)\n\u001b[1;32m     34\u001b[0m )\n\u001b[1;32m     36\u001b[0m \u001b[38;5;28;01mfor\u001b[39;00m selection \u001b[38;5;129;01min\u001b[39;00m selections:\n",
      "Cell \u001b[0;32mIn[135], line 2\u001b[0m, in \u001b[0;36m<listcomp>\u001b[0;34m(.0)\u001b[0m\n\u001b[1;32m      1\u001b[0m selections \u001b[38;5;241m=\u001b[39m [\n\u001b[0;32m----> 2\u001b[0m     \u001b[43malt\u001b[49m\u001b[38;5;241;43m.\u001b[39;49m\u001b[43mselection_point\u001b[49m(\n\u001b[1;32m      3\u001b[0m         fields\u001b[38;5;241m=\u001b[39m[col],\n\u001b[1;32m      4\u001b[0m         bind\u001b[38;5;241m=\u001b[39malt\u001b[38;5;241m.\u001b[39mbinding_select(\n\u001b[1;32m      5\u001b[0m             options\u001b[38;5;241m=\u001b[39m[\u001b[38;5;28;01mNone\u001b[39;00m] \u001b[38;5;241m+\u001b[39m barcode_runs_df[col]\u001b[38;5;241m.\u001b[39mdropna()\u001b[38;5;241m.\u001b[39munique()\u001b[38;5;241m.\u001b[39mtolist(),\n\u001b[1;32m      6\u001b[0m             labels\u001b[38;5;241m=\u001b[39m[\u001b[38;5;124m\"\u001b[39m\u001b[38;5;124mall\u001b[39m\u001b[38;5;124m\"\u001b[39m] \u001b[38;5;241m+\u001b[39m [\u001b[38;5;28mstr\u001b[39m(x) \u001b[38;5;28;01mfor\u001b[39;00m x \u001b[38;5;129;01min\u001b[39;00m barcode_runs_df[col]\u001b[38;5;241m.\u001b[39mdropna()\u001b[38;5;241m.\u001b[39munique()],\n\u001b[1;32m      7\u001b[0m             name\u001b[38;5;241m=\u001b[39mcol,\n\u001b[1;32m      8\u001b[0m         ),\n\u001b[1;32m      9\u001b[0m     )\n\u001b[1;32m     10\u001b[0m     \u001b[38;5;28;01mfor\u001b[39;00m col \u001b[38;5;129;01min\u001b[39;00m dropdown_columns\n\u001b[1;32m     11\u001b[0m ]\n\u001b[1;32m     14\u001b[0m fate_chart \u001b[38;5;241m=\u001b[39m (\n\u001b[1;32m     15\u001b[0m     alt\u001b[38;5;241m.\u001b[39mChart(count_dfs[\u001b[38;5;124m\"\u001b[39m\u001b[38;5;124mfates\u001b[39m\u001b[38;5;124m\"\u001b[39m])\n\u001b[1;32m     16\u001b[0m     \u001b[38;5;241m.\u001b[39mencode(\n\u001b[0;32m   (...)\u001b[0m\n\u001b[1;32m     33\u001b[0m     \u001b[38;5;241m.\u001b[39mconfigure_axis(labelLimit\u001b[38;5;241m=\u001b[39m\u001b[38;5;241m500\u001b[39m)\n\u001b[1;32m     34\u001b[0m )\n\u001b[1;32m     36\u001b[0m \u001b[38;5;28;01mfor\u001b[39;00m selection \u001b[38;5;129;01min\u001b[39;00m selections:\n",
      "\u001b[0;31mAttributeError\u001b[0m: module 'altair' has no attribute 'selection_point'"
     ]
    }
   ],
   "source": [
    "selections = [\n",
    "    alt.selection_point(\n",
    "        fields=[col],\n",
    "        bind=alt.binding_select(\n",
    "            options=[None] + barcode_runs_df[col].dropna().unique().tolist(),\n",
    "            labels=[\"all\"] + [str(x) for x in barcode_runs_df[col].dropna().unique()],\n",
    "            name=col,\n",
    "        ),\n",
    "    )\n",
    "    for col in dropdown_columns\n",
    "]\n",
    "\n",
    "\n",
    "fate_chart = (\n",
    "    alt.Chart(count_dfs[\"fates\"])\n",
    "    .encode(\n",
    "        x=alt.X(\n",
    "            \"count\", title=\"barcode sequencing counts\", axis=alt.Axis(format=\".2g\")\n",
    "        ),\n",
    "        y=alt.Y(\"sample\", title=None),\n",
    "        color=alt.Color(\n",
    "            \"fate\",\n",
    "            scale=alt.Scale(reverse=True),\n",
    "        ),\n",
    "        order=alt.Order(\"fate\", sort=\"descending\"),\n",
    "        tooltip=[\n",
    "            alt.Tooltip(c, format=\".3g\") if c == \"count\" else c\n",
    "            for c in count_dfs[\"fates\"].columns.tolist()\n",
    "        ],\n",
    "    )\n",
    "    .mark_bar()\n",
    "    .properties(width=350, height=alt.Step(13))\n",
    "    .configure_axis(labelLimit=500)\n",
    ")\n",
    "\n",
    "for selection in selections:\n",
    "    fate_chart = fate_chart.add_params(selection).transform_filter(selection)\n",
    "\n",
    "\n",
    "display(fate_chart)"
   ]
  },
  {
   "cell_type": "markdown",
   "metadata": {},
   "source": [
    "## Average Valid and Invalid Counts\n",
    "\n",
    "Below is a plot of the mean count of valid (present in the library) and invalid (not in the library) barcodes for each sample. \n",
    "\n",
    "\n",
    "You can select the `plate`, `library`, `date`, and whatever additional columns were specified in the `config`. You can also click on the legend to either the valid or invalid barcodes alone.\n",
    "\n"
   ]
  },
  {
   "cell_type": "code",
   "execution_count": 141,
   "metadata": {},
   "outputs": [
    {
     "ename": "AttributeError",
     "evalue": "module 'altair' has no attribute 'selection_point'",
     "output_type": "error",
     "traceback": [
      "\u001b[0;31m---------------------------------------------------------------------------\u001b[0m",
      "\u001b[0;31mAttributeError\u001b[0m                            Traceback (most recent call last)",
      "Cell \u001b[0;32mIn[141], line 14\u001b[0m\n\u001b[1;32m      2\u001b[0m counts_df \u001b[38;5;241m=\u001b[39m pd\u001b[38;5;241m.\u001b[39mconcat(\n\u001b[1;32m      3\u001b[0m     [\n\u001b[1;32m      4\u001b[0m         count_dfs[\u001b[38;5;124m\"\u001b[39m\u001b[38;5;124mcounts\u001b[39m\u001b[38;5;124m\"\u001b[39m]\u001b[38;5;241m.\u001b[39massign(valid\u001b[38;5;241m=\u001b[39m\u001b[38;5;124m\"\u001b[39m\u001b[38;5;124mvalid\u001b[39m\u001b[38;5;124m\"\u001b[39m),\n\u001b[1;32m      5\u001b[0m         count_dfs[\u001b[38;5;124m\"\u001b[39m\u001b[38;5;124minvalid\u001b[39m\u001b[38;5;124m\"\u001b[39m]\u001b[38;5;241m.\u001b[39massign(valid\u001b[38;5;241m=\u001b[39m\u001b[38;5;124m\"\u001b[39m\u001b[38;5;124minvalid\u001b[39m\u001b[38;5;124m\"\u001b[39m),\n\u001b[1;32m      6\u001b[0m     ]\n\u001b[1;32m      7\u001b[0m )\n\u001b[1;32m      9\u001b[0m avg_counts \u001b[38;5;241m=\u001b[39m counts_df\u001b[38;5;241m.\u001b[39mgroupby([\u001b[38;5;124m\"\u001b[39m\u001b[38;5;124msample\u001b[39m\u001b[38;5;124m\"\u001b[39m, \u001b[38;5;124m\"\u001b[39m\u001b[38;5;124mvalid\u001b[39m\u001b[38;5;124m\"\u001b[39m], as_index\u001b[38;5;241m=\u001b[39m\u001b[38;5;28;01mFalse\u001b[39;00m)\u001b[38;5;241m.\u001b[39maggregate(\n\u001b[1;32m     10\u001b[0m     avg_count\u001b[38;5;241m=\u001b[39mpd\u001b[38;5;241m.\u001b[39mNamedAgg(\u001b[38;5;124m\"\u001b[39m\u001b[38;5;124mcount\u001b[39m\u001b[38;5;124m\"\u001b[39m, \u001b[38;5;124m\"\u001b[39m\u001b[38;5;124mmean\u001b[39m\u001b[38;5;124m\"\u001b[39m)\n\u001b[1;32m     11\u001b[0m )\u001b[38;5;241m.\u001b[39mmerge(barcode_runs_df, validate\u001b[38;5;241m=\u001b[39m\u001b[38;5;124m\"\u001b[39m\u001b[38;5;124mmany_to_one\u001b[39m\u001b[38;5;124m\"\u001b[39m)\n\u001b[0;32m---> 14\u001b[0m valid_selection \u001b[38;5;241m=\u001b[39m \u001b[43malt\u001b[49m\u001b[38;5;241;43m.\u001b[39;49m\u001b[43mselection_point\u001b[49m(fields\u001b[38;5;241m=\u001b[39m[\u001b[38;5;124m\"\u001b[39m\u001b[38;5;124mvalid\u001b[39m\u001b[38;5;124m\"\u001b[39m], bind\u001b[38;5;241m=\u001b[39m\u001b[38;5;124m\"\u001b[39m\u001b[38;5;124mlegend\u001b[39m\u001b[38;5;124m\"\u001b[39m)\n\u001b[1;32m     16\u001b[0m avg_counts_chart \u001b[38;5;241m=\u001b[39m (\n\u001b[1;32m     17\u001b[0m     alt\u001b[38;5;241m.\u001b[39mChart(avg_counts)\n\u001b[1;32m     18\u001b[0m     \u001b[38;5;241m.\u001b[39mencode(\n\u001b[0;32m   (...)\u001b[0m\n\u001b[1;32m     36\u001b[0m     \u001b[38;5;241m.\u001b[39mtransform_filter(valid_selection)\n\u001b[1;32m     37\u001b[0m )\n\u001b[1;32m     38\u001b[0m \u001b[38;5;28;01mfor\u001b[39;00m selection \u001b[38;5;129;01min\u001b[39;00m selections:\n",
      "\u001b[0;31mAttributeError\u001b[0m: module 'altair' has no attribute 'selection_point'"
     ]
    }
   ],
   "source": [
    "# Merge valid and invalid counts\n",
    "counts_df = pd.concat(\n",
    "    [\n",
    "        count_dfs[\"counts\"].assign(valid=\"valid\"),\n",
    "        count_dfs[\"invalid\"].assign(valid=\"invalid\"),\n",
    "    ]\n",
    ")\n",
    "\n",
    "avg_counts = counts_df.groupby([\"sample\", \"valid\"], as_index=False).aggregate(\n",
    "    avg_count=pd.NamedAgg(\"count\", \"mean\")\n",
    ").merge(barcode_runs_df, validate=\"many_to_one\")\n",
    "\n",
    "\n",
    "valid_selection = alt.selection_point(fields=[\"valid\"], bind=\"legend\")\n",
    "\n",
    "avg_counts_chart = (\n",
    "    alt.Chart(avg_counts)\n",
    "    .encode(\n",
    "        x=alt.X(\"avg_count\", title=\"average counts per barcode\"),\n",
    "        y=alt.Y(\"sample\", title=None),\n",
    "        yOffset=\"valid\",\n",
    "        color=alt.Color(\n",
    "            \"valid\",\n",
    "            title=\"valid barcode\",\n",
    "            scale=alt.Scale(domain=avg_counts[\"valid\"].unique()),\n",
    "        ),\n",
    "        tooltip=[\n",
    "            alt.Tooltip(c, format=\".3g\") if c == \"avg_count\" else c\n",
    "            for c in avg_counts.columns.tolist()\n",
    "        ],\n",
    "    )\n",
    "    .mark_bar()\n",
    "    .properties(width=200, height=alt.Step(15, **{\"for\": \"position\"}))\n",
    "    .configure_axis(labelLimit=500)\n",
    "    .add_params(*selections, valid_selection)\n",
    "    .transform_filter(valid_selection)\n",
    ")\n",
    "for selection in selections:\n",
    "    avg_counts_chart = avg_counts_chart.transform_filter(selection)\n",
    "\n",
    "display(avg_counts_chart)"
   ]
  },
  {
   "cell_type": "markdown",
   "metadata": {},
   "source": [
    "### Identify samples that fall below minimum valid counts filter\n",
    "#### Add samples that have low valid counts to list of samples that should not be retained for further analysis"
   ]
  },
  {
   "cell_type": "code",
   "execution_count": 143,
   "metadata": {},
   "outputs": [
    {
     "name": "stdout",
     "output_type": "stream",
     "text": [
      "There are 7 samples with low average valid counts. These samples will be discarded from analysis\n"
     ]
    }
   ],
   "source": [
    "# Identify samples with low average valid counts to be discarded\n",
    "avg_counts_valid = avg_counts.loc[avg_counts['valid']=='valid']\n",
    "samples_lowvalidcounts = avg_counts_valid.loc[avg_counts_valid['avg_count']<1000]['sample'].tolist()\n",
    "print(\"There are\", len(samples_lowvalidcounts), \"samples with low average valid counts. These samples will be discarded from analysis\")\n",
    "\n",
    "#Add samples to a list that should not be retained in counts file if below counts filter\n",
    "samples_to_discard = samples_lowvalidcounts"
   ]
  },
  {
   "cell_type": "markdown",
   "metadata": {},
   "source": [
    "## Fraction of Counts from Neutralization Standards\n",
    "\n",
    "Below is a plot of the fraction of each sample's barcodes that correspond to the barcodes in the neutralization standards.\n",
    "\n",
    "You can select the `plate`, `library`, `date`, and whatever additional columns were specified in the `config`. "
   ]
  },
  {
   "cell_type": "code",
   "execution_count": 144,
   "metadata": {},
   "outputs": [
    {
     "name": "stdout",
     "output_type": "stream",
     "text": [
      "Read 10 neutralization-standard barcodes\n"
     ]
    }
   ],
   "source": [
    "neut_standards_barcodes = pd.read_csv(filepath_prefix + config[\"neut_standards\"])[\"barcode\"].tolist()\n",
    "\n",
    "print(f\"Read {len(neut_standards_barcodes)} neutralization-standard barcodes\")"
   ]
  },
  {
   "cell_type": "code",
   "execution_count": 145,
   "metadata": {},
   "outputs": [],
   "source": [
    "fraction_standards_df = (\n",
    "    counts_df\n",
    "        .query(\"valid == 'valid'\")\n",
    "        .query(\"retain\")\n",
    "        .assign(is_neut_standard=lambda x: x[\"barcode\"].isin(neut_standards_barcodes))\n",
    "        .groupby([\"sample\", \"is_neut_standard\"], as_index=False)\n",
    "        .aggregate(count=pd.NamedAgg(\"count\", \"sum\"))\n",
    "        .assign(total_count=lambda x: x.groupby([\"sample\"])[\"count\"].transform(\"sum\"))\n",
    "        .assign(fraction_standards=lambda x: x.apply(lambda row: row[\"count\"] / row[\"total_count\"] if row[\"total_count\"] != 0 else np.nan, axis=1))\n",
    "        .query(\"is_neut_standard\")\n",
    "        .drop(columns=[\"is_neut_standard\", \"count\", \"total_count\"])\n",
    "        .merge(barcode_runs_df, validate=\"one_to_one\")\n",
    "        .sort_values(['library', 'plate', 'date', 'antibody', 'concentration'], ascending=[True, True, True, True, False])\n",
    ")"
   ]
  },
  {
   "cell_type": "markdown",
   "metadata": {},
   "source": [
    "### Identify samples that fall below minimum fraction of reads from neutralization standard\n",
    "#### Add samples that have low fraction neutstandard counts to list of samples that should not be retained for further analysis"
   ]
  },
  {
   "cell_type": "code",
   "execution_count": 147,
   "metadata": {},
   "outputs": [],
   "source": [
    "## Add samples that have a low fraction standard count to list to discard\n",
    "samples_lowfractionstandard = fraction_standards_df.loc[fraction_standards_df['fraction_standards'] < 0.001]['sample'].tolist()\n",
    "samples_to_discard = samples_to_discard + samples_lowfractionstandard"
   ]
  },
  {
   "cell_type": "markdown",
   "metadata": {},
   "source": [
    "Make sure that there are neutralization standards in every sample. If not, there is likely an issue."
   ]
  },
  {
   "cell_type": "code",
   "execution_count": 148,
   "metadata": {},
   "outputs": [
    {
     "name": "stdout",
     "output_type": "stream",
     "text": [
      "WARNING: There are no neutralization standards for the following retained samples:\n",
      "['pdmH1N1_lib2022-Noserum6-nan-1-230802-Plate3']\n"
     ]
    }
   ],
   "source": [
    "# Warn if there are no neutralization standards for a given sample (i.e an NaN value in the fraction_standards column)\n",
    "if fraction_standards_df[\"fraction_standards\"].isna().any():\n",
    "    print(\"WARNING: There are no neutralization standards for the following retained samples:\")\n",
    "    print(fraction_standards_df[fraction_standards_df[\"fraction_standards\"].isna()][\"sample\"].tolist())\n"
   ]
  },
  {
   "cell_type": "code",
   "execution_count": 149,
   "metadata": {},
   "outputs": [
    {
     "ename": "AttributeError",
     "evalue": "'Chart' object has no attribute 'add_params'",
     "output_type": "error",
     "traceback": [
      "\u001b[0;31m---------------------------------------------------------------------------\u001b[0m",
      "\u001b[0;31mAttributeError\u001b[0m                            Traceback (most recent call last)",
      "Cell \u001b[0;32mIn[149], line 1\u001b[0m\n\u001b[0;32m----> 1\u001b[0m fraction_standards_chart \u001b[38;5;241m=\u001b[39m \u001b[43malt\u001b[49m\u001b[38;5;241;43m.\u001b[39;49m\u001b[43mChart\u001b[49m\u001b[43m(\u001b[49m\u001b[43mfraction_standards_df\u001b[49m\u001b[43m)\u001b[49m\u001b[38;5;241;43m.\u001b[39;49m\u001b[43mencode\u001b[49m\u001b[43m(\u001b[49m\n\u001b[1;32m      2\u001b[0m \u001b[43m    \u001b[49m\u001b[43my\u001b[49m\u001b[38;5;241;43m=\u001b[39;49m\u001b[43malt\u001b[49m\u001b[38;5;241;43m.\u001b[39;49m\u001b[43mY\u001b[49m\u001b[43m(\u001b[49m\u001b[38;5;124;43m'\u001b[39;49m\u001b[38;5;124;43msample:N\u001b[39;49m\u001b[38;5;124;43m'\u001b[39;49m\u001b[43m,\u001b[49m\u001b[43m \u001b[49m\u001b[43mtitle\u001b[49m\u001b[38;5;241;43m=\u001b[39;49m\u001b[38;5;28;43;01mNone\u001b[39;49;00m\u001b[43m,\u001b[49m\u001b[43m \u001b[49m\u001b[43msort\u001b[49m\u001b[38;5;241;43m=\u001b[39;49m\u001b[43malt\u001b[49m\u001b[38;5;241;43m.\u001b[39;49m\u001b[43mSortField\u001b[49m\u001b[43m(\u001b[49m\u001b[38;5;124;43m'\u001b[39;49m\u001b[38;5;124;43mrank\u001b[39;49m\u001b[38;5;124;43m'\u001b[39;49m\u001b[43m,\u001b[49m\u001b[43m \u001b[49m\u001b[43morder\u001b[49m\u001b[38;5;241;43m=\u001b[39;49m\u001b[38;5;124;43m'\u001b[39;49m\u001b[38;5;124;43mascending\u001b[39;49m\u001b[38;5;124;43m'\u001b[39;49m\u001b[43m)\u001b[49m\u001b[43m)\u001b[49m\u001b[43m,\u001b[49m\n\u001b[1;32m      3\u001b[0m \u001b[43m    \u001b[49m\u001b[43mx\u001b[49m\u001b[38;5;241;43m=\u001b[39;49m\u001b[43malt\u001b[49m\u001b[38;5;241;43m.\u001b[39;49m\u001b[43mX\u001b[49m\u001b[43m(\u001b[49m\n\u001b[1;32m      4\u001b[0m \u001b[43m        \u001b[49m\u001b[38;5;124;43m\"\u001b[39;49m\u001b[38;5;124;43mfraction_standards:Q\u001b[39;49m\u001b[38;5;124;43m\"\u001b[39;49m\u001b[43m,\u001b[49m\n\u001b[1;32m      5\u001b[0m \u001b[43m        \u001b[49m\u001b[43mtitle\u001b[49m\u001b[38;5;241;43m=\u001b[39;49m\u001b[38;5;124;43m\"\u001b[39;49m\u001b[38;5;124;43mfraction counts from neutralization standard\u001b[39;49m\u001b[38;5;124;43m\"\u001b[39;49m\u001b[43m,\u001b[49m\n\u001b[1;32m      6\u001b[0m \u001b[43m        \u001b[49m\u001b[43mscale\u001b[49m\u001b[38;5;241;43m=\u001b[39;49m\u001b[43malt\u001b[49m\u001b[38;5;241;43m.\u001b[39;49m\u001b[43mScale\u001b[49m\u001b[43m(\u001b[49m\u001b[38;5;28;43mtype\u001b[39;49m\u001b[38;5;241;43m=\u001b[39;49m\u001b[38;5;124;43m\"\u001b[39;49m\u001b[38;5;124;43msymlog\u001b[39;49m\u001b[38;5;124;43m\"\u001b[39;49m\u001b[43m,\u001b[49m\u001b[43m \u001b[49m\u001b[43mconstant\u001b[49m\u001b[38;5;241;43m=\u001b[39;49m\u001b[38;5;241;43m0.02\u001b[39;49m\u001b[43m,\u001b[49m\u001b[43m \u001b[49m\u001b[43mdomainMax\u001b[49m\u001b[38;5;241;43m=\u001b[39;49m\u001b[38;5;241;43m.8\u001b[39;49m\u001b[43m)\u001b[49m\n\u001b[1;32m      7\u001b[0m \u001b[43m        \u001b[49m\u001b[43m)\u001b[49m\u001b[43m,\u001b[49m\n\u001b[1;32m      8\u001b[0m \u001b[43m    \u001b[49m\u001b[43mtooltip\u001b[49m\u001b[38;5;241;43m=\u001b[39;49m\u001b[43m[\u001b[49m\u001b[43malt\u001b[49m\u001b[38;5;241;43m.\u001b[39;49m\u001b[43mTooltip\u001b[49m\u001b[43m(\u001b[49m\u001b[43mc\u001b[49m\u001b[43m,\u001b[49m\u001b[43m \u001b[49m\u001b[38;5;28;43mformat\u001b[39;49m\u001b[38;5;241;43m=\u001b[39;49m\u001b[38;5;124;43m\"\u001b[39;49m\u001b[38;5;124;43m.3g\u001b[39;49m\u001b[38;5;124;43m\"\u001b[39;49m\u001b[43m)\u001b[49m\u001b[43m \u001b[49m\u001b[38;5;28;43;01mif\u001b[39;49;00m\u001b[43m \u001b[49m\u001b[43mc\u001b[49m\u001b[43m \u001b[49m\u001b[38;5;129;43;01min\u001b[39;49;00m\u001b[43m \u001b[49m\u001b[43m[\u001b[49m\u001b[38;5;124;43m\"\u001b[39;49m\u001b[38;5;124;43mfraction_standards\u001b[39;49m\u001b[38;5;124;43m\"\u001b[39;49m\u001b[43m]\u001b[49m\u001b[43m \u001b[49m\u001b[38;5;28;43;01melse\u001b[39;49;00m\u001b[43m \u001b[49m\u001b[43mc\u001b[49m\n\u001b[1;32m      9\u001b[0m \u001b[43m            \u001b[49m\u001b[38;5;28;43;01mfor\u001b[39;49;00m\u001b[43m \u001b[49m\u001b[43mc\u001b[49m\u001b[43m \u001b[49m\u001b[38;5;129;43;01min\u001b[39;49;00m\u001b[43m \u001b[49m\u001b[43mfraction_standards_df\u001b[49m\u001b[38;5;241;43m.\u001b[39;49m\u001b[43mcolumns\u001b[49m\u001b[43m \u001b[49m\u001b[38;5;28;43;01mif\u001b[39;49;00m\u001b[43m \u001b[49m\u001b[43mc\u001b[49m\u001b[43m \u001b[49m\u001b[38;5;241;43m!=\u001b[39;49m\u001b[43m \u001b[49m\u001b[38;5;124;43m\"\u001b[39;49m\u001b[38;5;124;43mlibrary_sample\u001b[39;49m\u001b[38;5;124;43m\"\u001b[39;49m\u001b[43m]\u001b[49m\u001b[43m,\u001b[49m\n\u001b[1;32m     10\u001b[0m \u001b[43m)\u001b[49m\u001b[38;5;241;43m.\u001b[39;49m\u001b[43mmark_point\u001b[49m\u001b[43m(\u001b[49m\u001b[43mfilled\u001b[49m\u001b[38;5;241;43m=\u001b[39;49m\u001b[38;5;28;43;01mTrue\u001b[39;49;00m\u001b[43m,\u001b[49m\u001b[43m \u001b[49m\u001b[43msize\u001b[49m\u001b[38;5;241;43m=\u001b[39;49m\u001b[38;5;241;43m50\u001b[39;49m\u001b[43m,\u001b[49m\u001b[43m \u001b[49m\u001b[43mopacity\u001b[49m\u001b[38;5;241;43m=\u001b[39;49m\u001b[38;5;241;43m0.7\u001b[39;49m\n\u001b[1;32m     11\u001b[0m \u001b[43m)\u001b[49m\u001b[38;5;241;43m.\u001b[39;49m\u001b[43mproperties\u001b[49m\u001b[43m(\u001b[49m\u001b[43mwidth\u001b[49m\u001b[38;5;241;43m=\u001b[39;49m\u001b[38;5;241;43m245\u001b[39;49m\u001b[43m,\u001b[49m\u001b[43m \u001b[49m\u001b[43mheight\u001b[49m\u001b[38;5;241;43m=\u001b[39;49m\u001b[43malt\u001b[49m\u001b[38;5;241;43m.\u001b[39;49m\u001b[43mStep\u001b[49m\u001b[43m(\u001b[49m\u001b[38;5;241;43m15\u001b[39;49m\u001b[43m)\u001b[49m\n\u001b[1;32m     12\u001b[0m \u001b[43m)\u001b[49m\u001b[38;5;241;43m.\u001b[39;49m\u001b[43mconfigure_axis\u001b[49m\u001b[43m(\u001b[49m\u001b[43mlabelLimit\u001b[49m\u001b[38;5;241;43m=\u001b[39;49m\u001b[38;5;241;43m500\u001b[39;49m\n\u001b[1;32m     13\u001b[0m \u001b[43m)\u001b[49m\u001b[38;5;241;43m.\u001b[39;49m\u001b[43madd_params\u001b[49m(\u001b[38;5;241m*\u001b[39mselections)\n\u001b[1;32m     15\u001b[0m \u001b[38;5;28;01mfor\u001b[39;00m selection \u001b[38;5;129;01min\u001b[39;00m selections:\n\u001b[1;32m     16\u001b[0m     fraction_standards_chart \u001b[38;5;241m=\u001b[39m fraction_standards_chart\u001b[38;5;241m.\u001b[39mtransform_filter(selection)\n",
      "File \u001b[0;32m/fh/fast/bloom_j/computational_notebooks/aloes/2023/flu_NGSNeuts_DRIVE/env/lib/python3.8/site-packages/altair/utils/schemapi.py:278\u001b[0m, in \u001b[0;36mSchemaBase.__getattr__\u001b[0;34m(self, attr)\u001b[0m\n\u001b[1;32m    276\u001b[0m \u001b[38;5;28;01mexcept\u001b[39;00m \u001b[38;5;167;01mAttributeError\u001b[39;00m:\n\u001b[1;32m    277\u001b[0m     _getattr \u001b[38;5;241m=\u001b[39m \u001b[38;5;28msuper\u001b[39m(SchemaBase, \u001b[38;5;28mself\u001b[39m)\u001b[38;5;241m.\u001b[39m\u001b[38;5;21m__getattribute__\u001b[39m\n\u001b[0;32m--> 278\u001b[0m \u001b[38;5;28;01mreturn\u001b[39;00m \u001b[43m_getattr\u001b[49m\u001b[43m(\u001b[49m\u001b[43mattr\u001b[49m\u001b[43m)\u001b[49m\n",
      "\u001b[0;31mAttributeError\u001b[0m: 'Chart' object has no attribute 'add_params'"
     ]
    }
   ],
   "source": [
    "fraction_standards_chart = alt.Chart(fraction_standards_df).encode(\n",
    "    y=alt.Y('sample:N', title=None, sort=alt.SortField('rank', order='ascending')),\n",
    "    x=alt.X(\n",
    "        \"fraction_standards:Q\",\n",
    "        title=\"fraction counts from neutralization standard\",\n",
    "        scale=alt.Scale(type=\"symlog\", constant=0.02, domainMax=.8)\n",
    "        ),\n",
    "    tooltip=[alt.Tooltip(c, format=\".3g\") if c in [\"fraction_standards\"] else c\n",
    "            for c in fraction_standards_df.columns if c != \"library_sample\"],\n",
    ").mark_point(filled=True, size=50, opacity=0.7\n",
    ").properties(width=245, height=alt.Step(15)\n",
    ").configure_axis(labelLimit=500\n",
    ").add_params(*selections)\n",
    "\n",
    "for selection in selections:\n",
    "    fraction_standards_chart = fraction_standards_chart.transform_filter(selection)\n",
    "\n",
    "display(fraction_standards_chart)"
   ]
  },
  {
   "cell_type": "markdown",
   "metadata": {},
   "source": [
    "# Update retain column based on quality metrics for barcode counts\n",
    "### For samples that were identified to have low valid counts or low fraction neutralization standard, update retain column to 'False'"
   ]
  },
  {
   "cell_type": "code",
   "execution_count": 151,
   "metadata": {},
   "outputs": [],
   "source": [
    "# Update retain column for samples that have been added to list to discard from analysis\n",
    "counts_df['retain'] = (~counts_df['sample'].isin(samples_to_discard))"
   ]
  },
  {
   "cell_type": "markdown",
   "metadata": {},
   "source": [
    "## Combine Counts Files\n",
    "\n",
    "Combine all of the valid counts files into a single file for downstream analyses.\n"
   ]
  },
  {
   "cell_type": "code",
   "execution_count": 152,
   "metadata": {},
   "outputs": [],
   "source": [
    "if snakemake:\n",
    "    counts_df.to_csv(joined_counts, index=False)\n",
    "else:\n",
    "    counts_df.to_csv(os.path.join(filepath_prefix, config[\"barcode_counts_dir\"], \"barcode_counts.csv\"), index=False)"
   ]
  },
  {
   "cell_type": "markdown",
   "metadata": {},
   "source": [
    "## Combine Counts Files By Plate\n",
    "\n",
    "Combine all of the valid counts files into a single file for each plate for downstream analyses."
   ]
  },
  {
   "cell_type": "code",
   "execution_count": 153,
   "metadata": {},
   "outputs": [],
   "source": [
    "plates = counts_df['plate'].unique().tolist()\n",
    "\n",
    "if snakemake:\n",
    "    for plate in plates:\n",
    "        filename = plate + \"_barcode_counts.csv\"\n",
    "        counts_per_plate = counts_df.loc[counts_df['plate'] == plate]\n",
    "        counts_per_plate.to_csv(os.path.join(filepath_prefix, config[\"barcode_counts_dir\"], filename), index=False)\n",
    "else:\n",
    "    for plate in plates:\n",
    "        filename = plate + \"_barcode_counts.csv\"\n",
    "        counts_per_plate = counts_df.loc[counts_df['plate'] == plate]\n",
    "        counts_per_plate.to_csv(os.path.join(filepath_prefix, config[\"barcode_counts_dir\"], filename), index=False)"
   ]
  },
  {
   "cell_type": "code",
   "execution_count": null,
   "metadata": {},
   "outputs": [],
   "source": []
  }
 ],
 "metadata": {
  "kernelspec": {
   "display_name": "Python 3 (ipykernel)",
   "language": "python",
   "name": "python3"
  },
  "language_info": {
   "codemirror_mode": {
    "name": "ipython",
    "version": 3
   },
   "file_extension": ".py",
   "mimetype": "text/x-python",
   "name": "python",
   "nbconvert_exporter": "python",
   "pygments_lexer": "ipython3",
   "version": "3.8.8"
  }
 },
 "nbformat": 4,
 "nbformat_minor": 4
}
