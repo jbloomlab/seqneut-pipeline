{
 "cells": [
  {
   "cell_type": "markdown",
   "id": "f0e11ed3-800c-4984-a4f9-8ea2729bb772",
   "metadata": {
    "editable": true,
    "slideshow": {
     "slide_type": ""
    },
    "tags": []
   },
   "source": [
    "# Calculate neutralization for the strains included in the library\n",
    "Here we compute the  IC50-like measurements for the selections that we performed in a 96-well plate\n",
    "\n",
    "First, import Python modules:"
   ]
  },
  {
   "cell_type": "code",
   "execution_count": null,
   "id": "f5ac106c-e192-428d-bc22-07b39294d77b",
   "metadata": {},
   "outputs": [],
   "source": [
    "import os\n",
    "import altair as alt\n",
    "\n",
    "import pandas as pd\n",
    "import yaml\n",
    "import numpy as np\n",
    "import neutcurve\n",
    "from neutcurve import HillCurve\n",
    "\n",
    "from matplotlib import pyplot as plt\n",
    "from matplotlib.backends.backend_pdf import PdfPages"
   ]
  },
  {
   "cell_type": "code",
   "execution_count": null,
   "id": "f881f46e-8ded-4527-8e34-97dc37e08d10",
   "metadata": {},
   "outputs": [],
   "source": [
    "# allow more rows for Altair\n",
    "_ = alt.data_transformers.disable_max_rows()"
   ]
  },
  {
   "cell_type": "markdown",
   "id": "9b476caa-4c0b-463f-bead-99d2a70ef229",
   "metadata": {
    "editable": true,
    "slideshow": {
     "slide_type": ""
    },
    "tags": []
   },
   "source": [
    "This notebook is parameterized by `papermill`. The next cell is tagged as parameters to get the passed parameters."
   ]
  },
  {
   "cell_type": "code",
   "execution_count": null,
   "id": "e848cf4b-a480-421a-a91f-1c8a3963954b",
   "metadata": {
    "editable": true,
    "slideshow": {
     "slide_type": ""
    },
    "tags": [
     "parameters"
    ]
   },
   "outputs": [],
   "source": [
    "# this cell is tagged 'parameters' for `papermill` parameterization\n",
    "snakemake = None\n",
    "median_ic50s = None"
   ]
  },
  {
   "cell_type": "code",
   "execution_count": null,
   "id": "4905644c-b420-4c7e-a5de-0da7e3ec1d84",
   "metadata": {
    "editable": true,
    "slideshow": {
     "slide_type": ""
    },
    "tags": []
   },
   "outputs": [],
   "source": [
    "# Set the input and output paths\n",
    "if snakemake is not None:\n",
    "    filepath_prefix = \"\"\n",
    "else:\n",
    "    filepath_prefix = \"../../\"\n",
    "\n",
    "with open(filepath_prefix + 'config.yml') as f:\n",
    "    config = yaml.safe_load(f)"
   ]
  },
  {
   "cell_type": "markdown",
   "id": "cab8e1fc-b739-4a7e-966d-6bac40cb2a2e",
   "metadata": {
    "editable": true,
    "slideshow": {
     "slide_type": ""
    },
    "tags": []
   },
   "source": [
    "## Read input data for generating dataframe with fraction infectivity measurements\n",
    "Read configuration:"
   ]
  },
  {
   "cell_type": "markdown",
   "id": "e6960edc-860c-420c-81af-265cafed4adb",
   "metadata": {
    "editable": true,
    "slideshow": {
     "slide_type": ""
    },
    "tags": []
   },
   "source": [
    "Read the fraction infectivity measurements calculated from the normalized barcode runs:"
   ]
  },
  {
   "cell_type": "code",
   "execution_count": null,
   "id": "d6a17b99-5e3b-4577-8b96-970aba3996a3",
   "metadata": {
    "editable": true,
    "slideshow": {
     "slide_type": ""
    },
    "tags": []
   },
   "outputs": [],
   "source": [
    "# Read in the fraction infectivity files\n",
    "barcode_runs_df = pd.read_csv(filepath_prefix + config['barcode_runs'])\n",
    "plates = barcode_runs_df[\"plate\"].unique().tolist()\n",
    "fractioninfectivity =  pd.concat([\n",
    "        pd.read_csv(os.path.join(filepath_prefix, config[\"fraction_infectivity_dir\"], f\"{plate}_fractioninfectivity.csv\"))\n",
    "        .assign(plate=plate)\n",
    "        for plate in plates\n",
    "    ])\n",
    "\n",
    "# Remove unassigned barcodes from fraction_infectivity file\n",
    "fractioninfectivity_filtered = fractioninfectivity.dropna()"
   ]
  },
  {
   "cell_type": "code",
   "execution_count": null,
   "id": "4568ad68-4730-497f-bb9b-00e91f25fd63",
   "metadata": {
    "editable": true,
    "slideshow": {
     "slide_type": ""
    },
    "tags": []
   },
   "outputs": [],
   "source": [
    "# Here we are fixing setting every fraction infectivity that is greater than 1 to 1, so as to make the curves a bit easier to look at.\n",
    "fractioninfectivity_fixtop = fractioninfectivity_filtered\n",
    "fractioninfectivity_fixtop['fraction infectivity'] = np.where(fractioninfectivity_fixtop['fraction infectivity']>1, 1,fractioninfectivity_fixtop['fraction infectivity'])"
   ]
  },
  {
   "cell_type": "code",
   "execution_count": null,
   "id": "4ef79a9a-c627-4c46-8222-60b0fec10657",
   "metadata": {
    "editable": true,
    "slideshow": {
     "slide_type": ""
    },
    "tags": []
   },
   "outputs": [],
   "source": [
    "# Fit curves to each of the barcoded variants for each sample\n",
    "fits = neutcurve.CurveFits(fractioninfectivity_fixtop)"
   ]
  },
  {
   "cell_type": "markdown",
   "id": "8d0a2aa4-19bf-4c31-86d9-402748e84dfe",
   "metadata": {
    "editable": true,
    "slideshow": {
     "slide_type": ""
    },
    "tags": []
   },
   "source": [
    "## Creating this dataframe from fits.fitParams takes a very long time, this might be improved if we were able to remove bad curves first?"
   ]
  },
  {
   "cell_type": "code",
   "execution_count": null,
   "id": "eafb8342-606b-44a0-bbc2-2b2e87ebd290",
   "metadata": {
    "editable": true,
    "slideshow": {
     "slide_type": ""
    },
    "tags": []
   },
   "outputs": [],
   "source": [
    "fit_parameters = fits.fitParams()"
   ]
  },
  {
   "cell_type": "code",
   "execution_count": null,
   "id": "49eaf542-47c7-4667-a425-3d5f9e07d397",
   "metadata": {
    "editable": true,
    "slideshow": {
     "slide_type": ""
    },
    "tags": []
   },
   "outputs": [],
   "source": [
    "fit_parameters.to_csv(os.path.join(filepath_prefix, config[\"neutralization_titers_by_barcode\"]))"
   ]
  },
  {
   "cell_type": "markdown",
   "id": "6e490353-c2a9-404b-b9ca-57f05a2b1775",
   "metadata": {},
   "source": [
    "## Now we need to create a dictionary of barcoded strains such that we can call by strain to plot"
   ]
  },
  {
   "cell_type": "code",
   "execution_count": null,
   "id": "30efa707-4cd3-4b22-a3d9-3551865e0ac6",
   "metadata": {
    "editable": true,
    "slideshow": {
     "slide_type": ""
    },
    "tags": []
   },
   "outputs": [],
   "source": [
    "# Generate a dictionary of barcodes and variants.\n",
    "# We are using \"virus\" column here as it already contains the replicate label\n",
    "\n",
    "barcode_strain = dict(zip(fractioninfectivity_filtered.virus,fractioninfectivity_filtered.strain))\n",
    "\n",
    "condense = {}\n",
    "for key,value in barcode_strain.items():\n",
    "    if value not in condense:\n",
    "        condense[value] = []\n",
    "        condense[value].append(key)\n",
    "    else:\n",
    "        condense[value].append(key)\n",
    "               \n",
    "#To confirm that we have the right number of strains in the library:\n",
    "output = 'There are ' + str(len(condense)) + ' strains in the library'\n",
    "print(output)"
   ]
  },
  {
   "cell_type": "code",
   "execution_count": null,
   "id": "4f4d8bd9-e92e-4f0e-85e5-528d676dd3bb",
   "metadata": {
    "editable": true,
    "slideshow": {
     "slide_type": ""
    },
    "tags": []
   },
   "outputs": [],
   "source": [
    "#Prior to averaging, remove things that have poor slopes\n",
    "fit_parameters = fit_parameters.loc[fit_parameters['slope']>0]\n",
    "fit_parameters['strain'] = fit_parameters['virus'].map(barcode_strain)\n",
    "\n",
    "#Find median NT50 for each strain for each individual this is currently treating all barcodes from replicates in same pool, need to update so that it takes average of NT50 from each replicate for strains that have replicates\n",
    "median_ic50_frombarcodes = fit_parameters.groupby(['serum','strain'], as_index=False).median(numeric_only=True)\n",
    "median_ic50_frombarcodes['NT50'] = 1 / median_ic50_frombarcodes['ic50']\n",
    "\n",
    "#Also adding in some more reasonable names for columns so that I can transform the dataframe to show columns\n",
    "median_ic50_frombarcodes['individual'] =  median_ic50_frombarcodes['serum'].str.split('d').str[0]\n",
    "median_ic50_frombarcodes['day'] =  median_ic50_frombarcodes['serum'].str.split('d').str[1]\n",
    "median_ic50_frombarcodes['day'] = pd.to_numeric(median_ic50_frombarcodes['day'])\n",
    "\n",
    "#median_ic50_frombarcodes.to_csv(os.path.join(filepath_prefix, config[\"neutralization_titers_by_strain\"]))"
   ]
  },
  {
   "cell_type": "code",
   "execution_count": null,
   "id": "35825cb9-1543-4693-b9c8-abdc9273f750",
   "metadata": {
    "editable": true,
    "slideshow": {
     "slide_type": ""
    },
    "tags": []
   },
   "outputs": [],
   "source": [
    "# This step is quite slow, we are creating a pdf for each serum sample, then outputing all the curves for all timepoints to the file. \n",
    "\n",
    "listofselection = fits.sera\n",
    "print(listofselection)\n",
    "sera = []\n",
    "for i in listofselection:\n",
    "    if i[0:4] not in sera:\n",
    "        sera.append(i[0:4])\n",
    "sera_withrep = ['D041','M099','Y044','D042','Y184','M131']\n",
    "toplot = {}\n",
    "for indiv in sera:\n",
    "    samples = [m for m in listofselection if indiv in m]\n",
    "    toplot[indiv] = samples\n",
    "\n",
    "for indiv in toplot:\n",
    "    with PdfPages(os.path.join(filepath_prefix, config[\"selection_dir\"]+\"/\"+indiv+\".pdf\")) as pdf:\n",
    "        if indiv in sera_withrep:\n",
    "            for i in condense:\n",
    "                fig, axes = fits.plotSera(sera=toplot[indiv], viruses=condense[i],xlabel='dilution',ylabel='Relative Fraction Infectivity',legendfontsize=16,legendtitle=i,max_viruses_per_subplot=8)\n",
    "                pdf.savefig(bbox_inches='tight')  # saves the current figure into a pdf page\n",
    "                plt.close()\n",
    "        else:\n",
    "            for i in condense:\n",
    "                viruses_list =  [x for x in condense[i] if \"_rep2\" not in x]\n",
    "                fig, axes = fits.plotSera(sera=toplot[indiv], viruses=viruses_list,xlabel='dilution',ylabel='Relative Fraction Infectivity',legendfontsize=16,legendtitle=i,max_viruses_per_subplot=8)\n",
    "                pdf.savefig(bbox_inches='tight')  # saves the current figure into a pdf page\n",
    "                plt.close()\n",
    "    plt.close('all')"
   ]
  },
  {
   "cell_type": "code",
   "execution_count": null,
   "id": "1c18af20-c5dd-49b9-b836-a998adb44b47",
   "metadata": {
    "editable": true,
    "slideshow": {
     "slide_type": ""
    },
    "tags": []
   },
   "outputs": [],
   "source": [
    "if snakemake:\n",
    "    median_ic50_frombarcodes.to_csv(median_ic50s, index=False)\n",
    "else:\n",
    "    median_ic50_frombarcodes.to_csv(os.path.join(filepath_prefix, config[\"neutralization_titers_by_strain\"]))"
   ]
  }
 ],
 "metadata": {
  "kernelspec": {
   "display_name": "Python 3 (ipykernel)",
   "language": "python",
   "name": "python3"
  },
  "language_info": {
   "codemirror_mode": {
    "name": "ipython",
    "version": 3
   },
   "file_extension": ".py",
   "mimetype": "text/x-python",
   "name": "python",
   "nbconvert_exporter": "python",
   "pygments_lexer": "ipython3",
   "version": "3.8.8"
  }
 },
 "nbformat": 4,
 "nbformat_minor": 5
}
