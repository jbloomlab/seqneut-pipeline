{
 "cells": [
  {
   "cell_type": "markdown",
   "id": "f0e11ed3-800c-4984-a4f9-8ea2729bb772",
   "metadata": {
    "editable": true,
    "slideshow": {
     "slide_type": ""
    },
    "tags": []
   },
   "source": [
    "# Calculate neutralization for the strains included in the library\n",
    "Here we compute the  IC50-like measurements for the selections that we performed in a 96-well plate\n",
    "\n",
    "First, import Python modules:"
   ]
  },
  {
   "cell_type": "code",
   "execution_count": 1,
   "id": "f5ac106c-e192-428d-bc22-07b39294d77b",
   "metadata": {},
   "outputs": [],
   "source": [
    "import os\n",
    "import altair as alt\n",
    "\n",
    "import pandas as pd\n",
    "import yaml\n",
    "import numpy as np\n",
    "import neutcurve\n",
    "from neutcurve import HillCurve\n",
    "\n",
    "from matplotlib import pyplot as plt\n",
    "from matplotlib.backends.backend_pdf import PdfPages"
   ]
  },
  {
   "cell_type": "code",
   "execution_count": 2,
   "id": "f881f46e-8ded-4527-8e34-97dc37e08d10",
   "metadata": {},
   "outputs": [],
   "source": [
    "# allow more rows for Altair\n",
    "_ = alt.data_transformers.disable_max_rows()"
   ]
  },
  {
   "cell_type": "markdown",
   "id": "9b476caa-4c0b-463f-bead-99d2a70ef229",
   "metadata": {
    "editable": true,
    "slideshow": {
     "slide_type": ""
    },
    "tags": []
   },
   "source": [
    "This notebook is parameterized by `papermill`. The next cell is tagged as parameters to get the passed parameters."
   ]
  },
  {
   "cell_type": "code",
   "execution_count": 3,
   "id": "e848cf4b-a480-421a-a91f-1c8a3963954b",
   "metadata": {
    "editable": true,
    "slideshow": {
     "slide_type": ""
    },
    "tags": [
     "parameters"
    ]
   },
   "outputs": [],
   "source": [
    "# this cell is tagged 'parameters' for `papermill` parameterization\n",
    "snakemake = None\n",
    "median_ic50s = None"
   ]
  },
  {
   "cell_type": "code",
   "execution_count": 4,
   "id": "4905644c-b420-4c7e-a5de-0da7e3ec1d84",
   "metadata": {
    "editable": true,
    "slideshow": {
     "slide_type": ""
    },
    "tags": []
   },
   "outputs": [],
   "source": [
    "# Set the input and output paths\n",
    "if snakemake is not None:\n",
    "    filepath_prefix = \"\"\n",
    "else:\n",
    "    filepath_prefix = \"../../\"\n",
    "\n",
    "with open(filepath_prefix + 'config.yml') as f:\n",
    "    config = yaml.safe_load(f)"
   ]
  },
  {
   "cell_type": "markdown",
   "id": "cab8e1fc-b739-4a7e-966d-6bac40cb2a2e",
   "metadata": {
    "editable": true,
    "slideshow": {
     "slide_type": ""
    },
    "tags": []
   },
   "source": [
    "## Read input data for generating dataframe with fraction infectivity measurements\n",
    "Read configuration:"
   ]
  },
  {
   "cell_type": "markdown",
   "id": "e6960edc-860c-420c-81af-265cafed4adb",
   "metadata": {
    "editable": true,
    "slideshow": {
     "slide_type": ""
    },
    "tags": []
   },
   "source": [
    "Read the fraction infectivity measurements calculated from the normalized barcode runs:"
   ]
  },
  {
   "cell_type": "code",
   "execution_count": 45,
   "id": "d6a17b99-5e3b-4577-8b96-970aba3996a3",
   "metadata": {
    "editable": true,
    "slideshow": {
     "slide_type": ""
    },
    "tags": []
   },
   "outputs": [],
   "source": [
    "# Read in the fraction infectivity files\n",
    "barcode_runs_df = pd.read_csv(filepath_prefix + config['barcode_runs'])\n",
    "plates = barcode_runs_df[\"plate\"].unique().tolist()\n",
    "fractioninfectivity =  pd.concat([\n",
    "        pd.read_csv(os.path.join(filepath_prefix, config[\"fraction_infectivity_dir\"], f\"{plate}_fractioninfectivity.csv\"))\n",
    "        .assign(plate=plate)\n",
    "        for plate in plates\n",
    "    ])\n",
    "\n",
    "# Remove unassigned barcodes from fraction_infectivity file\n",
    "fractioninfectivity_filtered = fractioninfectivity.dropna()"
   ]
  },
  {
   "cell_type": "code",
   "execution_count": 46,
   "id": "bdf42c72-7b0e-42c1-803c-76db1ec69a19",
   "metadata": {},
   "outputs": [],
   "source": [
    "#fractioninfectivity_filtered = fractioninfectivity_filtered.rename(columns={\"serum\":\"individual\"})\n",
    "#fractioninfectivity_filtered = fractioninfectivity_filtered.rename(columns={\"antibody\":\"serum\"})\n"
   ]
  },
  {
   "cell_type": "code",
   "execution_count": 47,
   "id": "4568ad68-4730-497f-bb9b-00e91f25fd63",
   "metadata": {
    "editable": true,
    "slideshow": {
     "slide_type": ""
    },
    "tags": []
   },
   "outputs": [],
   "source": [
    "# Here we are fixing setting every fraction infectivity that is greater than 1 to 1, so as to make the curves a bit easier to look at.\n",
    "fractioninfectivity_fixtop = fractioninfectivity_filtered\n",
    "fractioninfectivity_fixtop['fraction infectivity'] = np.where(fractioninfectivity_fixtop['fraction infectivity']>1, 1,fractioninfectivity_fixtop['fraction infectivity'])"
   ]
  },
  {
   "cell_type": "code",
   "execution_count": 36,
   "id": "4ef79a9a-c627-4c46-8222-60b0fec10657",
   "metadata": {
    "editable": true,
    "slideshow": {
     "slide_type": ""
    },
    "tags": []
   },
   "outputs": [],
   "source": [
    "# Fit curves to each of the barcoded variants for each sample\n",
    "fits = neutcurve.CurveFits(fractioninfectivity_fixtop)"
   ]
  },
  {
   "cell_type": "markdown",
   "id": "8d0a2aa4-19bf-4c31-86d9-402748e84dfe",
   "metadata": {
    "editable": true,
    "slideshow": {
     "slide_type": ""
    },
    "tags": []
   },
   "source": [
    "## Creating this dataframe from fits.fitParams takes a very long time, this might be improved if we were able to remove bad curves first?"
   ]
  },
  {
   "cell_type": "code",
   "execution_count": 37,
   "id": "eafb8342-606b-44a0-bbc2-2b2e87ebd290",
   "metadata": {
    "editable": true,
    "slideshow": {
     "slide_type": ""
    },
    "tags": []
   },
   "outputs": [
    {
     "name": "stderr",
     "output_type": "stream",
     "text": [
      "/fh/fast/bloom_j/computational_notebooks/aloes/2023/flu_NGSNeuts_DRIVE/env/lib/python3.8/site-packages/neutcurve/hillcurve.py:741: RuntimeWarning: invalid value encountered in power\n",
      "  return b + (t - b) / (1 + (c / m)**s)\n",
      "/fh/fast/bloom_j/computational_notebooks/aloes/2023/flu_NGSNeuts_DRIVE/env/lib/python3.8/site-packages/neutcurve/hillcurve.py:741: RuntimeWarning: divide by zero encountered in true_divide\n",
      "  return b + (t - b) / (1 + (c / m)**s)\n"
     ]
    }
   ],
   "source": [
    "fit_parameters = fits.fitParams()"
   ]
  },
  {
   "cell_type": "code",
   "execution_count": null,
   "id": "49eaf542-47c7-4667-a425-3d5f9e07d397",
   "metadata": {
    "editable": true,
    "slideshow": {
     "slide_type": ""
    },
    "tags": []
   },
   "outputs": [],
   "source": [
    "fit_parameters.to_csv(os.path.join(filepath_prefix, config[\"neutralization_titers_by_barcode\"]))"
   ]
  },
  {
   "cell_type": "markdown",
   "id": "6e490353-c2a9-404b-b9ca-57f05a2b1775",
   "metadata": {},
   "source": [
    "## Now we need to create a dictionary of barcoded strains such that we can call by strain to plot"
   ]
  },
  {
   "cell_type": "code",
   "execution_count": 79,
   "id": "30efa707-4cd3-4b22-a3d9-3551865e0ac6",
   "metadata": {
    "editable": true,
    "slideshow": {
     "slide_type": ""
    },
    "tags": []
   },
   "outputs": [
    {
     "name": "stdout",
     "output_type": "stream",
     "text": [
      "There are 36 strains in the library\n"
     ]
    }
   ],
   "source": [
    "# Generate a dictionary of barcodes and variants.\n",
    "# We are using \"virus\" column here as it already contains the replicate label\n",
    "\n",
    "barcode_strain = dict(zip(fractioninfectivity_filtered.virus,fractioninfectivity_filtered.strain))\n",
    "\n",
    "condense = {}\n",
    "for key,value in barcode_strain.items():\n",
    "    if value not in condense:\n",
    "        condense[value] = []\n",
    "        condense[value].append(key)\n",
    "    else:\n",
    "        condense[value].append(key)\n",
    "               \n",
    "#To confirm that we have the right number of strains in the library:\n",
    "output = 'There are ' + str(len(condense)) + ' strains in the library'\n",
    "print(output)\n",
    "#condense"
   ]
  },
  {
   "cell_type": "code",
   "execution_count": 80,
   "id": "4f4d8bd9-e92e-4f0e-85e5-528d676dd3bb",
   "metadata": {
    "editable": true,
    "slideshow": {
     "slide_type": ""
    },
    "tags": []
   },
   "outputs": [
    {
     "data": {
      "text/html": [
       "<div>\n",
       "<style scoped>\n",
       "    .dataframe tbody tr th:only-of-type {\n",
       "        vertical-align: middle;\n",
       "    }\n",
       "\n",
       "    .dataframe tbody tr th {\n",
       "        vertical-align: top;\n",
       "    }\n",
       "\n",
       "    .dataframe thead th {\n",
       "        text-align: right;\n",
       "    }\n",
       "</style>\n",
       "<table border=\"1\" class=\"dataframe\">\n",
       "  <thead>\n",
       "    <tr style=\"text-align: right;\">\n",
       "      <th></th>\n",
       "      <th>serum</th>\n",
       "      <th>strain</th>\n",
       "      <th>replicate</th>\n",
       "      <th>nreplicates</th>\n",
       "      <th>ic50</th>\n",
       "      <th>midpoint</th>\n",
       "      <th>slope</th>\n",
       "      <th>top</th>\n",
       "      <th>bottom</th>\n",
       "      <th>NT50</th>\n",
       "    </tr>\n",
       "  </thead>\n",
       "  <tbody>\n",
       "    <tr>\n",
       "      <th>0</th>\n",
       "      <td>D002d0</td>\n",
       "      <td>A/Bangladesh/2221/2021</td>\n",
       "      <td>average</td>\n",
       "      <td>1.0</td>\n",
       "      <td>0.007591</td>\n",
       "      <td>0.007591</td>\n",
       "      <td>5.076486</td>\n",
       "      <td>1.0</td>\n",
       "      <td>0.0</td>\n",
       "      <td>131.742203</td>\n",
       "    </tr>\n",
       "    <tr>\n",
       "      <th>1</th>\n",
       "      <td>D002d0</td>\n",
       "      <td>A/Bangladesh/3210810034/2021</td>\n",
       "      <td>average</td>\n",
       "      <td>1.0</td>\n",
       "      <td>0.002112</td>\n",
       "      <td>0.002112</td>\n",
       "      <td>1.388135</td>\n",
       "      <td>1.0</td>\n",
       "      <td>0.0</td>\n",
       "      <td>473.387020</td>\n",
       "    </tr>\n",
       "    <tr>\n",
       "      <th>2</th>\n",
       "      <td>D002d0</td>\n",
       "      <td>A/Bangladesh/8002/2021</td>\n",
       "      <td>average</td>\n",
       "      <td>1.0</td>\n",
       "      <td>0.003815</td>\n",
       "      <td>0.003815</td>\n",
       "      <td>1.252906</td>\n",
       "      <td>1.0</td>\n",
       "      <td>0.0</td>\n",
       "      <td>262.151592</td>\n",
       "    </tr>\n",
       "    <tr>\n",
       "      <th>3</th>\n",
       "      <td>D002d0</td>\n",
       "      <td>A/Bangladesh/8036/2021</td>\n",
       "      <td>average</td>\n",
       "      <td>1.0</td>\n",
       "      <td>0.002738</td>\n",
       "      <td>0.002738</td>\n",
       "      <td>1.300548</td>\n",
       "      <td>1.0</td>\n",
       "      <td>0.0</td>\n",
       "      <td>365.184696</td>\n",
       "    </tr>\n",
       "    <tr>\n",
       "      <th>4</th>\n",
       "      <td>D002d0</td>\n",
       "      <td>A/Belgium/H0017/2022</td>\n",
       "      <td>average</td>\n",
       "      <td>1.0</td>\n",
       "      <td>0.003473</td>\n",
       "      <td>0.003473</td>\n",
       "      <td>1.768176</td>\n",
       "      <td>1.0</td>\n",
       "      <td>0.0</td>\n",
       "      <td>287.940217</td>\n",
       "    </tr>\n",
       "    <tr>\n",
       "      <th>...</th>\n",
       "      <td>...</td>\n",
       "      <td>...</td>\n",
       "      <td>...</td>\n",
       "      <td>...</td>\n",
       "      <td>...</td>\n",
       "      <td>...</td>\n",
       "      <td>...</td>\n",
       "      <td>...</td>\n",
       "      <td>...</td>\n",
       "      <td>...</td>\n",
       "    </tr>\n",
       "    <tr>\n",
       "      <th>2911</th>\n",
       "      <td>Y214d30</td>\n",
       "      <td>A/Togo/0304/2021</td>\n",
       "      <td>average</td>\n",
       "      <td>1.0</td>\n",
       "      <td>0.000072</td>\n",
       "      <td>0.000072</td>\n",
       "      <td>5.225541</td>\n",
       "      <td>1.0</td>\n",
       "      <td>0.0</td>\n",
       "      <td>13919.293062</td>\n",
       "    </tr>\n",
       "    <tr>\n",
       "      <th>2912</th>\n",
       "      <td>Y214d30</td>\n",
       "      <td>A/Togo/845/2020</td>\n",
       "      <td>average</td>\n",
       "      <td>1.0</td>\n",
       "      <td>0.000086</td>\n",
       "      <td>0.000086</td>\n",
       "      <td>2.846300</td>\n",
       "      <td>1.0</td>\n",
       "      <td>0.0</td>\n",
       "      <td>11660.063991</td>\n",
       "    </tr>\n",
       "    <tr>\n",
       "      <th>2913</th>\n",
       "      <td>Y214d30</td>\n",
       "      <td>A/Utah/27/2022</td>\n",
       "      <td>average</td>\n",
       "      <td>1.0</td>\n",
       "      <td>0.000180</td>\n",
       "      <td>0.000180</td>\n",
       "      <td>7.837181</td>\n",
       "      <td>1.0</td>\n",
       "      <td>0.0</td>\n",
       "      <td>5564.258889</td>\n",
       "    </tr>\n",
       "    <tr>\n",
       "      <th>2914</th>\n",
       "      <td>Y214d30</td>\n",
       "      <td>A/Washington/23/2020</td>\n",
       "      <td>average</td>\n",
       "      <td>1.0</td>\n",
       "      <td>0.000116</td>\n",
       "      <td>0.000116</td>\n",
       "      <td>4.439063</td>\n",
       "      <td>1.0</td>\n",
       "      <td>0.0</td>\n",
       "      <td>8646.091725</td>\n",
       "    </tr>\n",
       "    <tr>\n",
       "      <th>2915</th>\n",
       "      <td>Y214d30</td>\n",
       "      <td>A/Wisconsin/588/2019</td>\n",
       "      <td>average</td>\n",
       "      <td>1.0</td>\n",
       "      <td>0.000089</td>\n",
       "      <td>0.000089</td>\n",
       "      <td>4.580327</td>\n",
       "      <td>1.0</td>\n",
       "      <td>0.0</td>\n",
       "      <td>11238.311390</td>\n",
       "    </tr>\n",
       "  </tbody>\n",
       "</table>\n",
       "<p>2916 rows × 10 columns</p>\n",
       "</div>"
      ],
      "text/plain": [
       "        serum                        strain replicate  nreplicates      ic50  \\\n",
       "0      D002d0        A/Bangladesh/2221/2021   average          1.0  0.007591   \n",
       "1      D002d0  A/Bangladesh/3210810034/2021   average          1.0  0.002112   \n",
       "2      D002d0        A/Bangladesh/8002/2021   average          1.0  0.003815   \n",
       "3      D002d0        A/Bangladesh/8036/2021   average          1.0  0.002738   \n",
       "4      D002d0          A/Belgium/H0017/2022   average          1.0  0.003473   \n",
       "...       ...                           ...       ...          ...       ...   \n",
       "2911  Y214d30              A/Togo/0304/2021   average          1.0  0.000072   \n",
       "2912  Y214d30               A/Togo/845/2020   average          1.0  0.000086   \n",
       "2913  Y214d30                A/Utah/27/2022   average          1.0  0.000180   \n",
       "2914  Y214d30          A/Washington/23/2020   average          1.0  0.000116   \n",
       "2915  Y214d30          A/Wisconsin/588/2019   average          1.0  0.000089   \n",
       "\n",
       "      midpoint     slope  top  bottom          NT50  \n",
       "0     0.007591  5.076486  1.0     0.0    131.742203  \n",
       "1     0.002112  1.388135  1.0     0.0    473.387020  \n",
       "2     0.003815  1.252906  1.0     0.0    262.151592  \n",
       "3     0.002738  1.300548  1.0     0.0    365.184696  \n",
       "4     0.003473  1.768176  1.0     0.0    287.940217  \n",
       "...        ...       ...  ...     ...           ...  \n",
       "2911  0.000072  5.225541  1.0     0.0  13919.293062  \n",
       "2912  0.000086  2.846300  1.0     0.0  11660.063991  \n",
       "2913  0.000180  7.837181  1.0     0.0   5564.258889  \n",
       "2914  0.000116  4.439063  1.0     0.0   8646.091725  \n",
       "2915  0.000089  4.580327  1.0     0.0  11238.311390  \n",
       "\n",
       "[2916 rows x 10 columns]"
      ]
     },
     "execution_count": 80,
     "metadata": {},
     "output_type": "execute_result"
    }
   ],
   "source": [
    "#Prior to averaging, remove things that have poor slopes\n",
    "fit_parameters = fit_parameters.loc[fit_parameters['slope']>0]\n",
    "fit_parameters['strain'] = fit_parameters['virus'].map(barcode_strain)\n",
    "\n",
    "#Find median NT50 for each strain for each individual this is currently treating all barcodes from replicates in same pool, need to update so that it takes average of NT50 from each replicate for strains that have replicates\n",
    "median_ic50_frombarcodes = fit_parameters.groupby(['serum','strain','replicate'], as_index=False).median(numeric_only=True)\n",
    "median_ic50_frombarcodes['NT50'] = 1 / median_ic50_frombarcodes['ic50']\n",
    "median_ic50_frombarcodes"
   ]
  },
  {
   "cell_type": "code",
   "execution_count": 103,
   "id": "991c0f5f-949c-4663-bb9d-532b4b66e4e7",
   "metadata": {},
   "outputs": [],
   "source": [
    "# Creating two dictionary that relates individuals to all sera run from that individual under different conditions so that we can plot all samples for the same individual in the same file\n",
    "## In addition, a dictionary is created that lists all viruses run for each individual, such that these can be used for plotting\n",
    "\n",
    "sera = fractioninfectivity_filtered.individual.unique().tolist()\n",
    "\n",
    "toplot = {}\n",
    "comparisons_in_dataset = {}\n",
    "for indiv in sera:\n",
    "    samples =  fractioninfectivity_filtered.loc[fractioninfectivity_filtered['individual'] == indiv]['serum'].unique().tolist()\n",
    "    toplot[indiv] = samples\n",
    "    virusesrun = fractioninfectivity_filtered.loc[fractioninfectivity_filtered['individual'] == indiv]['virus'].unique().tolist()\n",
    "    comparisons_in_dataset[indiv] = virusesrun\n"
   ]
  },
  {
   "cell_type": "code",
   "execution_count": 97,
   "id": "35825cb9-1543-4693-b9c8-abdc9273f750",
   "metadata": {
    "editable": true,
    "slideshow": {
     "slide_type": ""
    },
    "tags": []
   },
   "outputs": [
    {
     "name": "stderr",
     "output_type": "stream",
     "text": [
      "/fh/fast/bloom_j/computational_notebooks/aloes/2023/flu_NGSNeuts_DRIVE/env/lib/python3.8/site-packages/matplotlib/axes/_axes.py:1148: RuntimeWarning: All-NaN axis encountered\n",
      "  miny = np.nanmin(masked_verts[..., 1])\n",
      "/fh/fast/bloom_j/computational_notebooks/aloes/2023/flu_NGSNeuts_DRIVE/env/lib/python3.8/site-packages/matplotlib/axes/_axes.py:1149: RuntimeWarning: All-NaN axis encountered\n",
      "  maxy = np.nanmax(masked_verts[..., 1])\n",
      "/fh/fast/bloom_j/computational_notebooks/aloes/2023/flu_NGSNeuts_DRIVE/env/lib/python3.8/site-packages/matplotlib/axes/_axes.py:1148: RuntimeWarning: All-NaN axis encountered\n",
      "  miny = np.nanmin(masked_verts[..., 1])\n",
      "/fh/fast/bloom_j/computational_notebooks/aloes/2023/flu_NGSNeuts_DRIVE/env/lib/python3.8/site-packages/matplotlib/axes/_axes.py:1149: RuntimeWarning: All-NaN axis encountered\n",
      "  maxy = np.nanmax(masked_verts[..., 1])\n",
      "/fh/fast/bloom_j/computational_notebooks/aloes/2023/flu_NGSNeuts_DRIVE/env/lib/python3.8/site-packages/matplotlib/axes/_axes.py:1148: RuntimeWarning: All-NaN axis encountered\n",
      "  miny = np.nanmin(masked_verts[..., 1])\n",
      "/fh/fast/bloom_j/computational_notebooks/aloes/2023/flu_NGSNeuts_DRIVE/env/lib/python3.8/site-packages/matplotlib/axes/_axes.py:1149: RuntimeWarning: All-NaN axis encountered\n",
      "  maxy = np.nanmax(masked_verts[..., 1])\n",
      "/fh/fast/bloom_j/computational_notebooks/aloes/2023/flu_NGSNeuts_DRIVE/env/lib/python3.8/site-packages/matplotlib/axes/_axes.py:1148: RuntimeWarning: All-NaN axis encountered\n",
      "  miny = np.nanmin(masked_verts[..., 1])\n",
      "/fh/fast/bloom_j/computational_notebooks/aloes/2023/flu_NGSNeuts_DRIVE/env/lib/python3.8/site-packages/matplotlib/axes/_axes.py:1149: RuntimeWarning: All-NaN axis encountered\n",
      "  maxy = np.nanmax(masked_verts[..., 1])\n",
      "/fh/fast/bloom_j/computational_notebooks/aloes/2023/flu_NGSNeuts_DRIVE/env/lib/python3.8/site-packages/matplotlib/axes/_axes.py:1148: RuntimeWarning: All-NaN axis encountered\n",
      "  miny = np.nanmin(masked_verts[..., 1])\n",
      "/fh/fast/bloom_j/computational_notebooks/aloes/2023/flu_NGSNeuts_DRIVE/env/lib/python3.8/site-packages/matplotlib/axes/_axes.py:1149: RuntimeWarning: All-NaN axis encountered\n",
      "  maxy = np.nanmax(masked_verts[..., 1])\n",
      "/fh/fast/bloom_j/computational_notebooks/aloes/2023/flu_NGSNeuts_DRIVE/env/lib/python3.8/site-packages/matplotlib/axes/_axes.py:1148: RuntimeWarning: All-NaN axis encountered\n",
      "  miny = np.nanmin(masked_verts[..., 1])\n",
      "/fh/fast/bloom_j/computational_notebooks/aloes/2023/flu_NGSNeuts_DRIVE/env/lib/python3.8/site-packages/matplotlib/axes/_axes.py:1149: RuntimeWarning: All-NaN axis encountered\n",
      "  maxy = np.nanmax(masked_verts[..., 1])\n",
      "/fh/fast/bloom_j/computational_notebooks/aloes/2023/flu_NGSNeuts_DRIVE/env/lib/python3.8/site-packages/matplotlib/axes/_axes.py:1148: RuntimeWarning: All-NaN axis encountered\n",
      "  miny = np.nanmin(masked_verts[..., 1])\n",
      "/fh/fast/bloom_j/computational_notebooks/aloes/2023/flu_NGSNeuts_DRIVE/env/lib/python3.8/site-packages/matplotlib/axes/_axes.py:1149: RuntimeWarning: All-NaN axis encountered\n",
      "  maxy = np.nanmax(masked_verts[..., 1])\n",
      "/fh/fast/bloom_j/computational_notebooks/aloes/2023/flu_NGSNeuts_DRIVE/env/lib/python3.8/site-packages/matplotlib/axes/_axes.py:1148: RuntimeWarning: All-NaN axis encountered\n",
      "  miny = np.nanmin(masked_verts[..., 1])\n",
      "/fh/fast/bloom_j/computational_notebooks/aloes/2023/flu_NGSNeuts_DRIVE/env/lib/python3.8/site-packages/matplotlib/axes/_axes.py:1149: RuntimeWarning: All-NaN axis encountered\n",
      "  maxy = np.nanmax(masked_verts[..., 1])\n",
      "/fh/fast/bloom_j/computational_notebooks/aloes/2023/flu_NGSNeuts_DRIVE/env/lib/python3.8/site-packages/matplotlib/axes/_axes.py:1148: RuntimeWarning: All-NaN axis encountered\n",
      "  miny = np.nanmin(masked_verts[..., 1])\n",
      "/fh/fast/bloom_j/computational_notebooks/aloes/2023/flu_NGSNeuts_DRIVE/env/lib/python3.8/site-packages/matplotlib/axes/_axes.py:1149: RuntimeWarning: All-NaN axis encountered\n",
      "  maxy = np.nanmax(masked_verts[..., 1])\n",
      "/fh/fast/bloom_j/computational_notebooks/aloes/2023/flu_NGSNeuts_DRIVE/env/lib/python3.8/site-packages/matplotlib/axes/_axes.py:1148: RuntimeWarning: All-NaN axis encountered\n",
      "  miny = np.nanmin(masked_verts[..., 1])\n",
      "/fh/fast/bloom_j/computational_notebooks/aloes/2023/flu_NGSNeuts_DRIVE/env/lib/python3.8/site-packages/matplotlib/axes/_axes.py:1149: RuntimeWarning: All-NaN axis encountered\n",
      "  maxy = np.nanmax(masked_verts[..., 1])\n",
      "/fh/fast/bloom_j/computational_notebooks/aloes/2023/flu_NGSNeuts_DRIVE/env/lib/python3.8/site-packages/matplotlib/axes/_axes.py:1148: RuntimeWarning: All-NaN axis encountered\n",
      "  miny = np.nanmin(masked_verts[..., 1])\n",
      "/fh/fast/bloom_j/computational_notebooks/aloes/2023/flu_NGSNeuts_DRIVE/env/lib/python3.8/site-packages/matplotlib/axes/_axes.py:1149: RuntimeWarning: All-NaN axis encountered\n",
      "  maxy = np.nanmax(masked_verts[..., 1])\n",
      "/fh/fast/bloom_j/computational_notebooks/aloes/2023/flu_NGSNeuts_DRIVE/env/lib/python3.8/site-packages/matplotlib/axes/_axes.py:1148: RuntimeWarning: All-NaN axis encountered\n",
      "  miny = np.nanmin(masked_verts[..., 1])\n",
      "/fh/fast/bloom_j/computational_notebooks/aloes/2023/flu_NGSNeuts_DRIVE/env/lib/python3.8/site-packages/matplotlib/axes/_axes.py:1149: RuntimeWarning: All-NaN axis encountered\n",
      "  maxy = np.nanmax(masked_verts[..., 1])\n",
      "/fh/fast/bloom_j/computational_notebooks/aloes/2023/flu_NGSNeuts_DRIVE/env/lib/python3.8/site-packages/matplotlib/axes/_axes.py:1148: RuntimeWarning: All-NaN axis encountered\n",
      "  miny = np.nanmin(masked_verts[..., 1])\n",
      "/fh/fast/bloom_j/computational_notebooks/aloes/2023/flu_NGSNeuts_DRIVE/env/lib/python3.8/site-packages/matplotlib/axes/_axes.py:1149: RuntimeWarning: All-NaN axis encountered\n",
      "  maxy = np.nanmax(masked_verts[..., 1])\n",
      "/fh/fast/bloom_j/computational_notebooks/aloes/2023/flu_NGSNeuts_DRIVE/env/lib/python3.8/site-packages/matplotlib/axes/_axes.py:1148: RuntimeWarning: All-NaN axis encountered\n",
      "  miny = np.nanmin(masked_verts[..., 1])\n",
      "/fh/fast/bloom_j/computational_notebooks/aloes/2023/flu_NGSNeuts_DRIVE/env/lib/python3.8/site-packages/matplotlib/axes/_axes.py:1149: RuntimeWarning: All-NaN axis encountered\n",
      "  maxy = np.nanmax(masked_verts[..., 1])\n",
      "/fh/fast/bloom_j/computational_notebooks/aloes/2023/flu_NGSNeuts_DRIVE/env/lib/python3.8/site-packages/matplotlib/axes/_axes.py:1148: RuntimeWarning: All-NaN axis encountered\n",
      "  miny = np.nanmin(masked_verts[..., 1])\n",
      "/fh/fast/bloom_j/computational_notebooks/aloes/2023/flu_NGSNeuts_DRIVE/env/lib/python3.8/site-packages/matplotlib/axes/_axes.py:1149: RuntimeWarning: All-NaN axis encountered\n",
      "  maxy = np.nanmax(masked_verts[..., 1])\n",
      "/fh/fast/bloom_j/computational_notebooks/aloes/2023/flu_NGSNeuts_DRIVE/env/lib/python3.8/site-packages/matplotlib/axes/_axes.py:1148: RuntimeWarning: All-NaN axis encountered\n",
      "  miny = np.nanmin(masked_verts[..., 1])\n",
      "/fh/fast/bloom_j/computational_notebooks/aloes/2023/flu_NGSNeuts_DRIVE/env/lib/python3.8/site-packages/matplotlib/axes/_axes.py:1149: RuntimeWarning: All-NaN axis encountered\n",
      "  maxy = np.nanmax(masked_verts[..., 1])\n",
      "/fh/fast/bloom_j/computational_notebooks/aloes/2023/flu_NGSNeuts_DRIVE/env/lib/python3.8/site-packages/matplotlib/axes/_axes.py:1148: RuntimeWarning: All-NaN axis encountered\n",
      "  miny = np.nanmin(masked_verts[..., 1])\n",
      "/fh/fast/bloom_j/computational_notebooks/aloes/2023/flu_NGSNeuts_DRIVE/env/lib/python3.8/site-packages/matplotlib/axes/_axes.py:1149: RuntimeWarning: All-NaN axis encountered\n",
      "  maxy = np.nanmax(masked_verts[..., 1])\n",
      "/fh/fast/bloom_j/computational_notebooks/aloes/2023/flu_NGSNeuts_DRIVE/env/lib/python3.8/site-packages/matplotlib/axes/_axes.py:1148: RuntimeWarning: All-NaN axis encountered\n",
      "  miny = np.nanmin(masked_verts[..., 1])\n",
      "/fh/fast/bloom_j/computational_notebooks/aloes/2023/flu_NGSNeuts_DRIVE/env/lib/python3.8/site-packages/matplotlib/axes/_axes.py:1149: RuntimeWarning: All-NaN axis encountered\n",
      "  maxy = np.nanmax(masked_verts[..., 1])\n",
      "/fh/fast/bloom_j/computational_notebooks/aloes/2023/flu_NGSNeuts_DRIVE/env/lib/python3.8/site-packages/matplotlib/axes/_axes.py:1148: RuntimeWarning: All-NaN axis encountered\n",
      "  miny = np.nanmin(masked_verts[..., 1])\n",
      "/fh/fast/bloom_j/computational_notebooks/aloes/2023/flu_NGSNeuts_DRIVE/env/lib/python3.8/site-packages/matplotlib/axes/_axes.py:1149: RuntimeWarning: All-NaN axis encountered\n",
      "  maxy = np.nanmax(masked_verts[..., 1])\n",
      "/fh/fast/bloom_j/computational_notebooks/aloes/2023/flu_NGSNeuts_DRIVE/env/lib/python3.8/site-packages/matplotlib/axes/_axes.py:1148: RuntimeWarning: All-NaN axis encountered\n",
      "  miny = np.nanmin(masked_verts[..., 1])\n",
      "/fh/fast/bloom_j/computational_notebooks/aloes/2023/flu_NGSNeuts_DRIVE/env/lib/python3.8/site-packages/matplotlib/axes/_axes.py:1149: RuntimeWarning: All-NaN axis encountered\n",
      "  maxy = np.nanmax(masked_verts[..., 1])\n"
     ]
    },
    {
     "ename": "KeyboardInterrupt",
     "evalue": "",
     "output_type": "error",
     "traceback": [
      "\u001b[0;31m---------------------------------------------------------------------------\u001b[0m",
      "\u001b[0;31mKeyboardInterrupt\u001b[0m                         Traceback (most recent call last)",
      "Cell \u001b[0;32mIn[97], line 8\u001b[0m\n\u001b[1;32m      6\u001b[0m viruses_for_strain \u001b[38;5;241m=\u001b[39m condense[i]\n\u001b[1;32m      7\u001b[0m viruses_to_plot \u001b[38;5;241m=\u001b[39m [virus \u001b[38;5;28;01mfor\u001b[39;00m virus \u001b[38;5;129;01min\u001b[39;00m viruses_for_strain \u001b[38;5;28;01mif\u001b[39;00m virus \u001b[38;5;129;01min\u001b[39;00m comparisons_in_dataset[indiv]]                \n\u001b[0;32m----> 8\u001b[0m fig, axes \u001b[38;5;241m=\u001b[39m \u001b[43mfits\u001b[49m\u001b[38;5;241;43m.\u001b[39;49m\u001b[43mplotSera\u001b[49m\u001b[43m(\u001b[49m\u001b[43msera\u001b[49m\u001b[38;5;241;43m=\u001b[39;49m\u001b[43mtoplot\u001b[49m\u001b[43m[\u001b[49m\u001b[43mindiv\u001b[49m\u001b[43m]\u001b[49m\u001b[43m,\u001b[49m\u001b[43m \u001b[49m\u001b[43mviruses\u001b[49m\u001b[38;5;241;43m=\u001b[39;49m\u001b[43mviruses_to_plot\u001b[49m\u001b[43m,\u001b[49m\u001b[43mxlabel\u001b[49m\u001b[38;5;241;43m=\u001b[39;49m\u001b[38;5;124;43m'\u001b[39;49m\u001b[38;5;124;43mdilution\u001b[39;49m\u001b[38;5;124;43m'\u001b[39;49m\u001b[43m,\u001b[49m\u001b[43mylabel\u001b[49m\u001b[38;5;241;43m=\u001b[39;49m\u001b[38;5;124;43m'\u001b[39;49m\u001b[38;5;124;43mRelative Fraction Infectivity\u001b[39;49m\u001b[38;5;124;43m'\u001b[39;49m\u001b[43m,\u001b[49m\u001b[43mlegendfontsize\u001b[49m\u001b[38;5;241;43m=\u001b[39;49m\u001b[38;5;241;43m16\u001b[39;49m\u001b[43m,\u001b[49m\u001b[43mlegendtitle\u001b[49m\u001b[38;5;241;43m=\u001b[39;49m\u001b[43mi\u001b[49m\u001b[43m,\u001b[49m\u001b[43mmax_viruses_per_subplot\u001b[49m\u001b[38;5;241;43m=\u001b[39;49m\u001b[38;5;241;43m8\u001b[39;49m\u001b[43m)\u001b[49m\n\u001b[1;32m      9\u001b[0m pdf\u001b[38;5;241m.\u001b[39msavefig(bbox_inches\u001b[38;5;241m=\u001b[39m\u001b[38;5;124m'\u001b[39m\u001b[38;5;124mtight\u001b[39m\u001b[38;5;124m'\u001b[39m)  \u001b[38;5;66;03m# saves the current figure into a pdf page\u001b[39;00m\n\u001b[1;32m     10\u001b[0m plt\u001b[38;5;241m.\u001b[39mclose()\n",
      "File \u001b[0;32m/fh/fast/bloom_j/computational_notebooks/aloes/2023/flu_NGSNeuts_DRIVE/env/lib/python3.8/site-packages/neutcurve/curvefits.py:531\u001b[0m, in \u001b[0;36mCurveFits.plotSera\u001b[0;34m(self, ncol, nrow, sera, viruses, ignore_serum_virus, colors, markers, virus_to_color_marker, max_viruses_per_subplot, multi_serum_subplots, all_subplots, titles, vlines, **kwargs)\u001b[0m\n\u001b[1;32m    528\u001b[0m     orderlegend \u001b[38;5;241m=\u001b[39m virus_to_color_marker\u001b[38;5;241m.\u001b[39mkeys()\n\u001b[1;32m    529\u001b[0m     kwargs[\u001b[38;5;124m'\u001b[39m\u001b[38;5;124morderlegend\u001b[39m\u001b[38;5;124m'\u001b[39m] \u001b[38;5;241m=\u001b[39m orderlegend\n\u001b[0;32m--> 531\u001b[0m \u001b[38;5;28;01mreturn\u001b[39;00m \u001b[38;5;28;43mself\u001b[39;49m\u001b[38;5;241;43m.\u001b[39;49m\u001b[43mplotGrid\u001b[49m\u001b[43m(\u001b[49m\u001b[43mplots\u001b[49m\u001b[43m,\u001b[49m\n\u001b[1;32m    532\u001b[0m \u001b[43m                     \u001b[49m\u001b[43mvlines\u001b[49m\u001b[38;5;241;43m=\u001b[39;49m\u001b[43mvlines_axkey\u001b[49m\u001b[43m,\u001b[49m\n\u001b[1;32m    533\u001b[0m \u001b[43m                     \u001b[49m\u001b[38;5;241;43m*\u001b[39;49m\u001b[38;5;241;43m*\u001b[39;49m\u001b[43mkwargs\u001b[49m\u001b[43m,\u001b[49m\n\u001b[1;32m    534\u001b[0m \u001b[43m                     \u001b[49m\u001b[43m)\u001b[49m\n",
      "File \u001b[0;32m/fh/fast/bloom_j/computational_notebooks/aloes/2023/flu_NGSNeuts_DRIVE/env/lib/python3.8/site-packages/neutcurve/curvefits.py:1244\u001b[0m, in \u001b[0;36mCurveFits.plotGrid\u001b[0;34m(self, plots, xlabel, ylabel, widthscale, heightscale, attempt_shared_legend, fix_lims, bound_ymin, bound_ymax, extend_lim, markersize, linewidth, linestyle, legendtitle, orderlegend, titlesize, labelsize, ticksize, legendfontsize, align_to_dmslogo_facet, despine, yticklocs, sharex, sharey, vlines)\u001b[0m\n\u001b[1;32m   1237\u001b[0m     fig\u001b[38;5;241m.\u001b[39msubplots_adjust(hspace\u001b[38;5;241m=\u001b[39mhparams[\u001b[38;5;124m'\u001b[39m\u001b[38;5;124mhspace\u001b[39m\u001b[38;5;124m'\u001b[39m],\n\u001b[1;32m   1238\u001b[0m                         top\u001b[38;5;241m=\u001b[39mhparams[\u001b[38;5;124m'\u001b[39m\u001b[38;5;124mtop\u001b[39m\u001b[38;5;124m'\u001b[39m],\n\u001b[1;32m   1239\u001b[0m                         bottom\u001b[38;5;241m=\u001b[39mhparams[\u001b[38;5;124m'\u001b[39m\u001b[38;5;124mbottom\u001b[39m\u001b[38;5;124m'\u001b[39m],\n\u001b[1;32m   1240\u001b[0m                         left\u001b[38;5;241m=\u001b[39malign_to_dmslogo_facet[\u001b[38;5;124m'\u001b[39m\u001b[38;5;124mleft\u001b[39m\u001b[38;5;124m'\u001b[39m],\n\u001b[1;32m   1241\u001b[0m                         right\u001b[38;5;241m=\u001b[39malign_to_dmslogo_facet[\u001b[38;5;124m'\u001b[39m\u001b[38;5;124mright\u001b[39m\u001b[38;5;124m'\u001b[39m],\n\u001b[1;32m   1242\u001b[0m                         )\n\u001b[1;32m   1243\u001b[0m \u001b[38;5;28;01melse\u001b[39;00m:\n\u001b[0;32m-> 1244\u001b[0m     \u001b[43mfig\u001b[49m\u001b[38;5;241;43m.\u001b[39;49m\u001b[43mtight_layout\u001b[49m\u001b[43m(\u001b[49m\u001b[43m)\u001b[49m\n\u001b[1;32m   1246\u001b[0m \u001b[38;5;28;01mreturn\u001b[39;00m fig, axes\n",
      "File \u001b[0;32m/fh/fast/bloom_j/computational_notebooks/aloes/2023/flu_NGSNeuts_DRIVE/env/lib/python3.8/site-packages/matplotlib/figure.py:3236\u001b[0m, in \u001b[0;36mFigure.tight_layout\u001b[0;34m(self, pad, h_pad, w_pad, rect)\u001b[0m\n\u001b[1;32m   3234\u001b[0m renderer \u001b[38;5;241m=\u001b[39m get_renderer(\u001b[38;5;28mself\u001b[39m)\n\u001b[1;32m   3235\u001b[0m \u001b[38;5;28;01mwith\u001b[39;00m \u001b[38;5;28mgetattr\u001b[39m(renderer, \u001b[38;5;124m\"\u001b[39m\u001b[38;5;124m_draw_disabled\u001b[39m\u001b[38;5;124m\"\u001b[39m, nullcontext)():\n\u001b[0;32m-> 3236\u001b[0m     kwargs \u001b[38;5;241m=\u001b[39m \u001b[43mget_tight_layout_figure\u001b[49m\u001b[43m(\u001b[49m\n\u001b[1;32m   3237\u001b[0m \u001b[43m        \u001b[49m\u001b[38;5;28;43mself\u001b[39;49m\u001b[43m,\u001b[49m\u001b[43m \u001b[49m\u001b[38;5;28;43mself\u001b[39;49m\u001b[38;5;241;43m.\u001b[39;49m\u001b[43maxes\u001b[49m\u001b[43m,\u001b[49m\u001b[43m \u001b[49m\u001b[43msubplotspec_list\u001b[49m\u001b[43m,\u001b[49m\u001b[43m \u001b[49m\u001b[43mrenderer\u001b[49m\u001b[43m,\u001b[49m\n\u001b[1;32m   3238\u001b[0m \u001b[43m        \u001b[49m\u001b[43mpad\u001b[49m\u001b[38;5;241;43m=\u001b[39;49m\u001b[43mpad\u001b[49m\u001b[43m,\u001b[49m\u001b[43m \u001b[49m\u001b[43mh_pad\u001b[49m\u001b[38;5;241;43m=\u001b[39;49m\u001b[43mh_pad\u001b[49m\u001b[43m,\u001b[49m\u001b[43m \u001b[49m\u001b[43mw_pad\u001b[49m\u001b[38;5;241;43m=\u001b[39;49m\u001b[43mw_pad\u001b[49m\u001b[43m,\u001b[49m\u001b[43m \u001b[49m\u001b[43mrect\u001b[49m\u001b[38;5;241;43m=\u001b[39;49m\u001b[43mrect\u001b[49m\u001b[43m)\u001b[49m\n\u001b[1;32m   3239\u001b[0m \u001b[38;5;28;01mif\u001b[39;00m kwargs:\n\u001b[1;32m   3240\u001b[0m     \u001b[38;5;28mself\u001b[39m\u001b[38;5;241m.\u001b[39msubplots_adjust(\u001b[38;5;241m*\u001b[39m\u001b[38;5;241m*\u001b[39mkwargs)\n",
      "File \u001b[0;32m/fh/fast/bloom_j/computational_notebooks/aloes/2023/flu_NGSNeuts_DRIVE/env/lib/python3.8/site-packages/matplotlib/tight_layout.py:320\u001b[0m, in \u001b[0;36mget_tight_layout_figure\u001b[0;34m(fig, axes_list, subplotspec_list, renderer, pad, h_pad, w_pad, rect)\u001b[0m\n\u001b[1;32m    315\u001b[0m         \u001b[38;5;28;01mreturn\u001b[39;00m {}\n\u001b[1;32m    316\u001b[0m     span_pairs\u001b[38;5;241m.\u001b[39mappend((\n\u001b[1;32m    317\u001b[0m         \u001b[38;5;28mslice\u001b[39m(ss\u001b[38;5;241m.\u001b[39mrowspan\u001b[38;5;241m.\u001b[39mstart \u001b[38;5;241m*\u001b[39m div_row, ss\u001b[38;5;241m.\u001b[39mrowspan\u001b[38;5;241m.\u001b[39mstop \u001b[38;5;241m*\u001b[39m div_row),\n\u001b[1;32m    318\u001b[0m         \u001b[38;5;28mslice\u001b[39m(ss\u001b[38;5;241m.\u001b[39mcolspan\u001b[38;5;241m.\u001b[39mstart \u001b[38;5;241m*\u001b[39m div_col, ss\u001b[38;5;241m.\u001b[39mcolspan\u001b[38;5;241m.\u001b[39mstop \u001b[38;5;241m*\u001b[39m div_col)))\n\u001b[0;32m--> 320\u001b[0m kwargs \u001b[38;5;241m=\u001b[39m \u001b[43m_auto_adjust_subplotpars\u001b[49m\u001b[43m(\u001b[49m\u001b[43mfig\u001b[49m\u001b[43m,\u001b[49m\u001b[43m \u001b[49m\u001b[43mrenderer\u001b[49m\u001b[43m,\u001b[49m\n\u001b[1;32m    321\u001b[0m \u001b[43m                                  \u001b[49m\u001b[43mshape\u001b[49m\u001b[38;5;241;43m=\u001b[39;49m\u001b[43m(\u001b[49m\u001b[43mmax_nrows\u001b[49m\u001b[43m,\u001b[49m\u001b[43m \u001b[49m\u001b[43mmax_ncols\u001b[49m\u001b[43m)\u001b[49m\u001b[43m,\u001b[49m\n\u001b[1;32m    322\u001b[0m \u001b[43m                                  \u001b[49m\u001b[43mspan_pairs\u001b[49m\u001b[38;5;241;43m=\u001b[39;49m\u001b[43mspan_pairs\u001b[49m\u001b[43m,\u001b[49m\n\u001b[1;32m    323\u001b[0m \u001b[43m                                  \u001b[49m\u001b[43msubplot_list\u001b[49m\u001b[38;5;241;43m=\u001b[39;49m\u001b[43msubplot_list\u001b[49m\u001b[43m,\u001b[49m\n\u001b[1;32m    324\u001b[0m \u001b[43m                                  \u001b[49m\u001b[43max_bbox_list\u001b[49m\u001b[38;5;241;43m=\u001b[39;49m\u001b[43max_bbox_list\u001b[49m\u001b[43m,\u001b[49m\n\u001b[1;32m    325\u001b[0m \u001b[43m                                  \u001b[49m\u001b[43mpad\u001b[49m\u001b[38;5;241;43m=\u001b[39;49m\u001b[43mpad\u001b[49m\u001b[43m,\u001b[49m\u001b[43m \u001b[49m\u001b[43mh_pad\u001b[49m\u001b[38;5;241;43m=\u001b[39;49m\u001b[43mh_pad\u001b[49m\u001b[43m,\u001b[49m\u001b[43m \u001b[49m\u001b[43mw_pad\u001b[49m\u001b[38;5;241;43m=\u001b[39;49m\u001b[43mw_pad\u001b[49m\u001b[43m)\u001b[49m\n\u001b[1;32m    327\u001b[0m \u001b[38;5;66;03m# kwargs can be none if tight_layout fails...\u001b[39;00m\n\u001b[1;32m    328\u001b[0m \u001b[38;5;28;01mif\u001b[39;00m rect \u001b[38;5;129;01mis\u001b[39;00m \u001b[38;5;129;01mnot\u001b[39;00m \u001b[38;5;28;01mNone\u001b[39;00m \u001b[38;5;129;01mand\u001b[39;00m kwargs \u001b[38;5;129;01mis\u001b[39;00m \u001b[38;5;129;01mnot\u001b[39;00m \u001b[38;5;28;01mNone\u001b[39;00m:\n\u001b[1;32m    329\u001b[0m     \u001b[38;5;66;03m# if rect is given, the whole subplots area (including\u001b[39;00m\n\u001b[1;32m    330\u001b[0m     \u001b[38;5;66;03m# labels) will fit into the rect instead of the\u001b[39;00m\n\u001b[0;32m   (...)\u001b[0m\n\u001b[1;32m    334\u001b[0m     \u001b[38;5;66;03m# auto_adjust_subplotpars twice, where the second run\u001b[39;00m\n\u001b[1;32m    335\u001b[0m     \u001b[38;5;66;03m# with adjusted rect parameters.\u001b[39;00m\n",
      "File \u001b[0;32m/fh/fast/bloom_j/computational_notebooks/aloes/2023/flu_NGSNeuts_DRIVE/env/lib/python3.8/site-packages/matplotlib/tight_layout.py:82\u001b[0m, in \u001b[0;36m_auto_adjust_subplotpars\u001b[0;34m(fig, renderer, shape, span_pairs, subplot_list, ax_bbox_list, pad, h_pad, w_pad, rect)\u001b[0m\n\u001b[1;32m     80\u001b[0m \u001b[38;5;28;01mif\u001b[39;00m ax\u001b[38;5;241m.\u001b[39mget_visible():\n\u001b[1;32m     81\u001b[0m     \u001b[38;5;28;01mtry\u001b[39;00m:\n\u001b[0;32m---> 82\u001b[0m         bb \u001b[38;5;241m+\u001b[39m\u001b[38;5;241m=\u001b[39m [\u001b[43max\u001b[49m\u001b[38;5;241;43m.\u001b[39;49m\u001b[43mget_tightbbox\u001b[49m\u001b[43m(\u001b[49m\u001b[43mrenderer\u001b[49m\u001b[43m,\u001b[49m\u001b[43m \u001b[49m\u001b[43mfor_layout_only\u001b[49m\u001b[38;5;241;43m=\u001b[39;49m\u001b[38;5;28;43;01mTrue\u001b[39;49;00m\u001b[43m)\u001b[49m]\n\u001b[1;32m     83\u001b[0m     \u001b[38;5;28;01mexcept\u001b[39;00m \u001b[38;5;167;01mTypeError\u001b[39;00m:\n\u001b[1;32m     84\u001b[0m         bb \u001b[38;5;241m+\u001b[39m\u001b[38;5;241m=\u001b[39m [ax\u001b[38;5;241m.\u001b[39mget_tightbbox(renderer)]\n",
      "File \u001b[0;32m/fh/fast/bloom_j/computational_notebooks/aloes/2023/flu_NGSNeuts_DRIVE/env/lib/python3.8/site-packages/matplotlib/axes/_base.py:4628\u001b[0m, in \u001b[0;36m_AxesBase.get_tightbbox\u001b[0;34m(self, renderer, call_axes_locator, bbox_extra_artists, for_layout_only)\u001b[0m\n\u001b[1;32m   4626\u001b[0m \u001b[38;5;28;01mif\u001b[39;00m \u001b[38;5;28mself\u001b[39m\u001b[38;5;241m.\u001b[39mxaxis\u001b[38;5;241m.\u001b[39mget_visible():\n\u001b[1;32m   4627\u001b[0m     \u001b[38;5;28;01mtry\u001b[39;00m:\n\u001b[0;32m-> 4628\u001b[0m         bb_xaxis \u001b[38;5;241m=\u001b[39m \u001b[38;5;28;43mself\u001b[39;49m\u001b[38;5;241;43m.\u001b[39;49m\u001b[43mxaxis\u001b[49m\u001b[38;5;241;43m.\u001b[39;49m\u001b[43mget_tightbbox\u001b[49m\u001b[43m(\u001b[49m\n\u001b[1;32m   4629\u001b[0m \u001b[43m            \u001b[49m\u001b[43mrenderer\u001b[49m\u001b[43m,\u001b[49m\u001b[43m \u001b[49m\u001b[43mfor_layout_only\u001b[49m\u001b[38;5;241;43m=\u001b[39;49m\u001b[43mfor_layout_only\u001b[49m\u001b[43m)\u001b[49m\n\u001b[1;32m   4630\u001b[0m     \u001b[38;5;28;01mexcept\u001b[39;00m \u001b[38;5;167;01mTypeError\u001b[39;00m:\n\u001b[1;32m   4631\u001b[0m         \u001b[38;5;66;03m# in case downstream library has redefined axis:\u001b[39;00m\n\u001b[1;32m   4632\u001b[0m         bb_xaxis \u001b[38;5;241m=\u001b[39m \u001b[38;5;28mself\u001b[39m\u001b[38;5;241m.\u001b[39mxaxis\u001b[38;5;241m.\u001b[39mget_tightbbox(renderer)\n",
      "File \u001b[0;32m/fh/fast/bloom_j/computational_notebooks/aloes/2023/flu_NGSNeuts_DRIVE/env/lib/python3.8/site-packages/matplotlib/axis.py:1123\u001b[0m, in \u001b[0;36mAxis.get_tightbbox\u001b[0;34m(self, renderer, for_layout_only)\u001b[0m\n\u001b[1;32m   1121\u001b[0m \u001b[38;5;66;03m# take care of label\u001b[39;00m\n\u001b[1;32m   1122\u001b[0m \u001b[38;5;28;01mif\u001b[39;00m \u001b[38;5;28mself\u001b[39m\u001b[38;5;241m.\u001b[39mlabel\u001b[38;5;241m.\u001b[39mget_visible():\n\u001b[0;32m-> 1123\u001b[0m     bb \u001b[38;5;241m=\u001b[39m \u001b[38;5;28;43mself\u001b[39;49m\u001b[38;5;241;43m.\u001b[39;49m\u001b[43mlabel\u001b[49m\u001b[38;5;241;43m.\u001b[39;49m\u001b[43mget_window_extent\u001b[49m\u001b[43m(\u001b[49m\u001b[43mrenderer\u001b[49m\u001b[43m)\u001b[49m\n\u001b[1;32m   1124\u001b[0m     \u001b[38;5;66;03m# for constrained/tight_layout, we want to ignore the label's\u001b[39;00m\n\u001b[1;32m   1125\u001b[0m     \u001b[38;5;66;03m# width/height because the adjustments they make can't be improved.\u001b[39;00m\n\u001b[1;32m   1126\u001b[0m     \u001b[38;5;66;03m# this code collapses the relevant direction\u001b[39;00m\n\u001b[1;32m   1127\u001b[0m     \u001b[38;5;28;01mif\u001b[39;00m for_layout_only:\n",
      "File \u001b[0;32m/fh/fast/bloom_j/computational_notebooks/aloes/2023/flu_NGSNeuts_DRIVE/env/lib/python3.8/site-packages/matplotlib/text.py:910\u001b[0m, in \u001b[0;36mText.get_window_extent\u001b[0;34m(self, renderer, dpi)\u001b[0m\n\u001b[1;32m    907\u001b[0m     \u001b[38;5;28;01mraise\u001b[39;00m \u001b[38;5;167;01mRuntimeError\u001b[39;00m(\u001b[38;5;124m'\u001b[39m\u001b[38;5;124mCannot get window extent w/o renderer\u001b[39m\u001b[38;5;124m'\u001b[39m)\n\u001b[1;32m    909\u001b[0m \u001b[38;5;28;01mwith\u001b[39;00m cbook\u001b[38;5;241m.\u001b[39m_setattr_cm(\u001b[38;5;28mself\u001b[39m\u001b[38;5;241m.\u001b[39mfigure, dpi\u001b[38;5;241m=\u001b[39mdpi):\n\u001b[0;32m--> 910\u001b[0m     bbox, info, descent \u001b[38;5;241m=\u001b[39m \u001b[38;5;28;43mself\u001b[39;49m\u001b[38;5;241;43m.\u001b[39;49m\u001b[43m_get_layout\u001b[49m\u001b[43m(\u001b[49m\u001b[38;5;28;43mself\u001b[39;49m\u001b[38;5;241;43m.\u001b[39;49m\u001b[43m_renderer\u001b[49m\u001b[43m)\u001b[49m\n\u001b[1;32m    911\u001b[0m     x, y \u001b[38;5;241m=\u001b[39m \u001b[38;5;28mself\u001b[39m\u001b[38;5;241m.\u001b[39mget_unitless_position()\n\u001b[1;32m    912\u001b[0m     x, y \u001b[38;5;241m=\u001b[39m \u001b[38;5;28mself\u001b[39m\u001b[38;5;241m.\u001b[39mget_transform()\u001b[38;5;241m.\u001b[39mtransform((x, y))\n",
      "File \u001b[0;32m/fh/fast/bloom_j/computational_notebooks/aloes/2023/flu_NGSNeuts_DRIVE/env/lib/python3.8/site-packages/matplotlib/text.py:309\u001b[0m, in \u001b[0;36mText._get_layout\u001b[0;34m(self, renderer)\u001b[0m\n\u001b[1;32m    306\u001b[0m ys \u001b[38;5;241m=\u001b[39m []\n\u001b[1;32m    308\u001b[0m \u001b[38;5;66;03m# Full vertical extent of font, including ascenders and descenders:\u001b[39;00m\n\u001b[0;32m--> 309\u001b[0m _, lp_h, lp_d \u001b[38;5;241m=\u001b[39m \u001b[43mrenderer\u001b[49m\u001b[38;5;241;43m.\u001b[39;49m\u001b[43mget_text_width_height_descent\u001b[49m\u001b[43m(\u001b[49m\n\u001b[1;32m    310\u001b[0m \u001b[43m    \u001b[49m\u001b[38;5;124;43m\"\u001b[39;49m\u001b[38;5;124;43mlp\u001b[39;49m\u001b[38;5;124;43m\"\u001b[39;49m\u001b[43m,\u001b[49m\u001b[43m \u001b[49m\u001b[38;5;28;43mself\u001b[39;49m\u001b[38;5;241;43m.\u001b[39;49m\u001b[43m_fontproperties\u001b[49m\u001b[43m,\u001b[49m\n\u001b[1;32m    311\u001b[0m \u001b[43m    \u001b[49m\u001b[43mismath\u001b[49m\u001b[38;5;241;43m=\u001b[39;49m\u001b[38;5;124;43m\"\u001b[39;49m\u001b[38;5;124;43mTeX\u001b[39;49m\u001b[38;5;124;43m\"\u001b[39;49m\u001b[43m \u001b[49m\u001b[38;5;28;43;01mif\u001b[39;49;00m\u001b[43m \u001b[49m\u001b[38;5;28;43mself\u001b[39;49m\u001b[38;5;241;43m.\u001b[39;49m\u001b[43mget_usetex\u001b[49m\u001b[43m(\u001b[49m\u001b[43m)\u001b[49m\u001b[43m \u001b[49m\u001b[38;5;28;43;01melse\u001b[39;49;00m\u001b[43m \u001b[49m\u001b[38;5;28;43;01mFalse\u001b[39;49;00m\u001b[43m)\u001b[49m\n\u001b[1;32m    312\u001b[0m min_dy \u001b[38;5;241m=\u001b[39m (lp_h \u001b[38;5;241m-\u001b[39m lp_d) \u001b[38;5;241m*\u001b[39m \u001b[38;5;28mself\u001b[39m\u001b[38;5;241m.\u001b[39m_linespacing\n\u001b[1;32m    314\u001b[0m \u001b[38;5;28;01mfor\u001b[39;00m i, line \u001b[38;5;129;01min\u001b[39;00m \u001b[38;5;28menumerate\u001b[39m(lines):\n",
      "File \u001b[0;32m/fh/fast/bloom_j/computational_notebooks/aloes/2023/flu_NGSNeuts_DRIVE/env/lib/python3.8/site-packages/matplotlib/backends/backend_agg.py:270\u001b[0m, in \u001b[0;36mRendererAgg.get_text_width_height_descent\u001b[0;34m(self, s, prop, ismath)\u001b[0m\n\u001b[1;32m    268\u001b[0m flags \u001b[38;5;241m=\u001b[39m get_hinting_flag()\n\u001b[1;32m    269\u001b[0m font \u001b[38;5;241m=\u001b[39m \u001b[38;5;28mself\u001b[39m\u001b[38;5;241m.\u001b[39m_get_agg_font(prop)\n\u001b[0;32m--> 270\u001b[0m \u001b[43mfont\u001b[49m\u001b[38;5;241;43m.\u001b[39;49m\u001b[43mset_text\u001b[49m\u001b[43m(\u001b[49m\u001b[43ms\u001b[49m\u001b[43m,\u001b[49m\u001b[43m \u001b[49m\u001b[38;5;241;43m0.0\u001b[39;49m\u001b[43m,\u001b[49m\u001b[43m \u001b[49m\u001b[43mflags\u001b[49m\u001b[38;5;241;43m=\u001b[39;49m\u001b[43mflags\u001b[49m\u001b[43m)\u001b[49m\n\u001b[1;32m    271\u001b[0m w, h \u001b[38;5;241m=\u001b[39m font\u001b[38;5;241m.\u001b[39mget_width_height()  \u001b[38;5;66;03m# width and height of unrotated string\u001b[39;00m\n\u001b[1;32m    272\u001b[0m d \u001b[38;5;241m=\u001b[39m font\u001b[38;5;241m.\u001b[39mget_descent()\n",
      "\u001b[0;31mKeyboardInterrupt\u001b[0m: "
     ]
    },
    {
     "data": {
      "image/png": "[encoded data removed]",
      "text/plain": [
       "<Figure size 1000x325 with 4 Axes>"
      ]
     },
     "metadata": {},
     "output_type": "display_data"
    }
   ],
   "source": [
    "# This step is quite slow, we are creating a pdf for each serum sample, then outputing all the curves for all timepoints to the file. \n",
    "\n",
    "for indiv in toplot:\n",
    "    with PdfPages(os.path.join(filepath_prefix, config[\"selection_dir\"]+\"/\"+indiv+\".pdf\")) as pdf:\n",
    "        for i in condense:\n",
    "            viruses_for_strain = condense[i]\n",
    "            viruses_to_plot = [virus for virus in viruses_for_strain if virus in comparisons_in_dataset[indiv]]                \n",
    "            fig, axes = fits.plotSera(sera=toplot[indiv], viruses=viruses_to_plot,xlabel='dilution',ylabel='Relative Fraction Infectivity',legendfontsize=16,legendtitle=i,max_viruses_per_subplot=8)\n",
    "            pdf.savefig(bbox_inches='tight')  # saves the current figure into a pdf page\n",
    "            plt.close()\n",
    "    plt.close('all')"
   ]
  },
  {
   "cell_type": "code",
   "execution_count": null,
   "id": "1c18af20-c5dd-49b9-b836-a998adb44b47",
   "metadata": {
    "editable": true,
    "slideshow": {
     "slide_type": ""
    },
    "tags": []
   },
   "outputs": [],
   "source": [
    "if snakemake:\n",
    "    median_ic50_frombarcodes.to_csv(median_ic50s, index=False)\n",
    "else:\n",
    "    median_ic50_frombarcodes.to_csv(os.path.join(filepath_prefix, config[\"neutralization_titers_by_strain\"]))"
   ]
  }
 ],
 "metadata": {
  "kernelspec": {
   "display_name": "Python 3 (ipykernel)",
   "language": "python",
   "name": "python3"
  },
  "language_info": {
   "codemirror_mode": {
    "name": "ipython",
    "version": 3
   },
   "file_extension": ".py",
   "mimetype": "text/x-python",
   "name": "python",
   "nbconvert_exporter": "python",
   "pygments_lexer": "ipython3",
   "version": "3.8.8"
  }
 },
 "nbformat": 4,
 "nbformat_minor": 5
}
