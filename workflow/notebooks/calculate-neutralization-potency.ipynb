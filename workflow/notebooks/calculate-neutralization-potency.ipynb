{
 "cells": [
  {
   "cell_type": "markdown",
   "id": "f0e11ed3-800c-4984-a4f9-8ea2729bb772",
   "metadata": {},
   "source": [
    "# Calculate neutralization for the strains included in the library\n",
    "Here we compute the  IC50-like measurements for the selections that we performed in a 96-well plate\n",
    "\n",
    "First, import Python modules:"
   ]
  },
  {
   "cell_type": "code",
   "execution_count": 1,
   "id": "f5ac106c-e192-428d-bc22-07b39294d77b",
   "metadata": {},
   "outputs": [],
   "source": [
    "import os\n",
    "import altair as alt\n",
    "\n",
    "import pandas as pd\n",
    "import yaml\n",
    "import numpy as np\n",
    "import neutcurve\n",
    "from neutcurve import HillCurve\n",
    "\n",
    "from matplotlib import pyplot as plt\n",
    "from matplotlib.backends.backend_pdf import PdfPages"
   ]
  },
  {
   "cell_type": "code",
   "execution_count": 2,
   "id": "f881f46e-8ded-4527-8e34-97dc37e08d10",
   "metadata": {},
   "outputs": [],
   "source": [
    "# allow more rows for Altair\n",
    "_ = alt.data_transformers.disable_max_rows()"
   ]
  },
  {
   "cell_type": "markdown",
   "id": "e61e604d-af4f-4af1-9942-62e046b7a4c4",
   "metadata": {},
   "source": [
    "Change working directory to top directory of repo:"
   ]
  },
  {
   "cell_type": "code",
   "execution_count": 3,
   "id": "02e5d91f-946b-45e2-a85c-d2f62eab9dea",
   "metadata": {},
   "outputs": [
    {
     "data": {
      "text/plain": [
       "'/fh/fast/bloom_j/computational_notebooks/aloes/2023/NGS_Neut_Assay'"
      ]
     },
     "execution_count": 3,
     "metadata": {},
     "output_type": "execute_result"
    }
   ],
   "source": [
    "os.chdir('../../')\n",
    "#os.chdir('/fh/fast/bloom_j/computational_notebooks/aloes/2023/NGS_Neut_Assay')\n",
    "os.getcwd()"
   ]
  },
  {
   "cell_type": "markdown",
   "id": "cab8e1fc-b739-4a7e-966d-6bac40cb2a2e",
   "metadata": {},
   "source": [
    "## Read input data for generating dataframe with fraction infectivity measurements\n",
    "Read configuration:"
   ]
  },
  {
   "cell_type": "code",
   "execution_count": 4,
   "id": "98438eb1-3924-4e7b-a0be-93954a164fa7",
   "metadata": {},
   "outputs": [],
   "source": [
    "with open('config.yml') as f:\n",
    "    config = yaml.safe_load(f)"
   ]
  },
  {
   "cell_type": "markdown",
   "id": "e6960edc-860c-420c-81af-265cafed4adb",
   "metadata": {},
   "source": [
    "Read the fraction infectivity measurements calculated from the normalized barcode runs:"
   ]
  },
  {
   "cell_type": "code",
   "execution_count": 5,
   "id": "129db88a-bbe3-4686-ba4a-4c3f3f15c29f",
   "metadata": {},
   "outputs": [
    {
     "data": {
      "text/html": [
       "<div>\n",
       "<style scoped>\n",
       "    .dataframe tbody tr th:only-of-type {\n",
       "        vertical-align: middle;\n",
       "    }\n",
       "\n",
       "    .dataframe tbody tr th {\n",
       "        vertical-align: top;\n",
       "    }\n",
       "\n",
       "    .dataframe thead th {\n",
       "        text-align: right;\n",
       "    }\n",
       "</style>\n",
       "<table border=\"1\" class=\"dataframe\">\n",
       "  <thead>\n",
       "    <tr style=\"text-align: right;\">\n",
       "      <th></th>\n",
       "      <th>Unnamed: 0</th>\n",
       "      <th>serum</th>\n",
       "      <th>barcode</th>\n",
       "      <th>concentration</th>\n",
       "      <th>fraction infectivity</th>\n",
       "      <th>strain</th>\n",
       "      <th>sample</th>\n",
       "      <th>replicate</th>\n",
       "      <th>virus</th>\n",
       "    </tr>\n",
       "  </thead>\n",
       "  <tbody>\n",
       "    <tr>\n",
       "      <th>0</th>\n",
       "      <td>0</td>\n",
       "      <td>D002d0</td>\n",
       "      <td>CGTTTAAACAATGAAG</td>\n",
       "      <td>0.000003</td>\n",
       "      <td>0.938447</td>\n",
       "      <td>A/India-Pune-Nivcov2221170/2022</td>\n",
       "      <td>pdmH1N1_lib2022-D002d0-393660.0-1-230801-Plate1</td>\n",
       "      <td>rep1</td>\n",
       "      <td>CGTTTAAACAATGAAG_rep1</td>\n",
       "    </tr>\n",
       "    <tr>\n",
       "      <th>1</th>\n",
       "      <td>1</td>\n",
       "      <td>D002d0</td>\n",
       "      <td>AGTGTCCCTAAGAGGC</td>\n",
       "      <td>0.000003</td>\n",
       "      <td>1.338317</td>\n",
       "      <td>A/Bangladesh/8002/2021</td>\n",
       "      <td>pdmH1N1_lib2022-D002d0-393660.0-1-230801-Plate1</td>\n",
       "      <td>rep1</td>\n",
       "      <td>AGTGTCCCTAAGAGGC_rep1</td>\n",
       "    </tr>\n",
       "    <tr>\n",
       "      <th>2</th>\n",
       "      <td>2</td>\n",
       "      <td>D002d0</td>\n",
       "      <td>CTGCACGAGAGACTTC</td>\n",
       "      <td>0.000003</td>\n",
       "      <td>1.268718</td>\n",
       "      <td>A/Perth/1/2022</td>\n",
       "      <td>pdmH1N1_lib2022-D002d0-393660.0-1-230801-Plate1</td>\n",
       "      <td>rep1</td>\n",
       "      <td>CTGCACGAGAGACTTC_rep1</td>\n",
       "    </tr>\n",
       "    <tr>\n",
       "      <th>3</th>\n",
       "      <td>3</td>\n",
       "      <td>D002d0</td>\n",
       "      <td>GTCCGTTGATAAAGAG</td>\n",
       "      <td>0.000003</td>\n",
       "      <td>1.636438</td>\n",
       "      <td>A/Cote_DIvoire/1448/2021</td>\n",
       "      <td>pdmH1N1_lib2022-D002d0-393660.0-1-230801-Plate1</td>\n",
       "      <td>rep1</td>\n",
       "      <td>GTCCGTTGATAAAGAG_rep1</td>\n",
       "    </tr>\n",
       "    <tr>\n",
       "      <th>4</th>\n",
       "      <td>4</td>\n",
       "      <td>D002d0</td>\n",
       "      <td>ATACCTCAACCTTGAA</td>\n",
       "      <td>0.000003</td>\n",
       "      <td>1.094941</td>\n",
       "      <td>A/Bangladesh/8036/2021</td>\n",
       "      <td>pdmH1N1_lib2022-D002d0-393660.0-1-230801-Plate1</td>\n",
       "      <td>rep1</td>\n",
       "      <td>ATACCTCAACCTTGAA_rep1</td>\n",
       "    </tr>\n",
       "    <tr>\n",
       "      <th>...</th>\n",
       "      <td>...</td>\n",
       "      <td>...</td>\n",
       "      <td>...</td>\n",
       "      <td>...</td>\n",
       "      <td>...</td>\n",
       "      <td>...</td>\n",
       "      <td>...</td>\n",
       "      <td>...</td>\n",
       "      <td>...</td>\n",
       "    </tr>\n",
       "    <tr>\n",
       "      <th>105595</th>\n",
       "      <td>108472</td>\n",
       "      <td>Y184d30</td>\n",
       "      <td>AACGAATGAATTTCTT</td>\n",
       "      <td>0.000008</td>\n",
       "      <td>1.246951</td>\n",
       "      <td>A/Togo/0274/2021</td>\n",
       "      <td>pdmH1N1_lib2022-Y184d30-131220.0-2-230926-Plate12</td>\n",
       "      <td>rep2</td>\n",
       "      <td>AACGAATGAATTTCTT_rep2</td>\n",
       "    </tr>\n",
       "    <tr>\n",
       "      <th>105596</th>\n",
       "      <td>108473</td>\n",
       "      <td>Y184d30</td>\n",
       "      <td>ACGGAATCCCCTGAGA</td>\n",
       "      <td>0.000008</td>\n",
       "      <td>0.491026</td>\n",
       "      <td>A/Washington/23/2020</td>\n",
       "      <td>pdmH1N1_lib2022-Y184d30-131220.0-2-230926-Plate12</td>\n",
       "      <td>rep2</td>\n",
       "      <td>ACGGAATCCCCTGAGA_rep2</td>\n",
       "    </tr>\n",
       "    <tr>\n",
       "      <th>105597</th>\n",
       "      <td>108474</td>\n",
       "      <td>Y184d30</td>\n",
       "      <td>GCAATCCCGCAATTTG</td>\n",
       "      <td>0.000008</td>\n",
       "      <td>0.821261</td>\n",
       "      <td>A/Ghana/2080/2020</td>\n",
       "      <td>pdmH1N1_lib2022-Y184d30-131220.0-2-230926-Plate12</td>\n",
       "      <td>rep2</td>\n",
       "      <td>GCAATCCCGCAATTTG_rep2</td>\n",
       "    </tr>\n",
       "    <tr>\n",
       "      <th>105598</th>\n",
       "      <td>108475</td>\n",
       "      <td>Y184d30</td>\n",
       "      <td>GCCGGAGGGCATTTTC</td>\n",
       "      <td>0.000008</td>\n",
       "      <td>1.331956</td>\n",
       "      <td>A/Belgium/H0038/2022</td>\n",
       "      <td>pdmH1N1_lib2022-Y184d30-131220.0-2-230926-Plate12</td>\n",
       "      <td>rep2</td>\n",
       "      <td>GCCGGAGGGCATTTTC_rep2</td>\n",
       "    </tr>\n",
       "    <tr>\n",
       "      <th>105599</th>\n",
       "      <td>108476</td>\n",
       "      <td>Y184d30</td>\n",
       "      <td>CCTTTCTCAAAACATA</td>\n",
       "      <td>0.000008</td>\n",
       "      <td>1.251926</td>\n",
       "      <td>A/California/07/2009</td>\n",
       "      <td>pdmH1N1_lib2022-Y184d30-131220.0-2-230926-Plate12</td>\n",
       "      <td>rep2</td>\n",
       "      <td>CCTTTCTCAAAACATA_rep2</td>\n",
       "    </tr>\n",
       "  </tbody>\n",
       "</table>\n",
       "<p>105600 rows × 9 columns</p>\n",
       "</div>"
      ],
      "text/plain": [
       "        Unnamed: 0    serum           barcode  concentration  \\\n",
       "0                0   D002d0  CGTTTAAACAATGAAG       0.000003   \n",
       "1                1   D002d0  AGTGTCCCTAAGAGGC       0.000003   \n",
       "2                2   D002d0  CTGCACGAGAGACTTC       0.000003   \n",
       "3                3   D002d0  GTCCGTTGATAAAGAG       0.000003   \n",
       "4                4   D002d0  ATACCTCAACCTTGAA       0.000003   \n",
       "...            ...      ...               ...            ...   \n",
       "105595      108472  Y184d30  AACGAATGAATTTCTT       0.000008   \n",
       "105596      108473  Y184d30  ACGGAATCCCCTGAGA       0.000008   \n",
       "105597      108474  Y184d30  GCAATCCCGCAATTTG       0.000008   \n",
       "105598      108475  Y184d30  GCCGGAGGGCATTTTC       0.000008   \n",
       "105599      108476  Y184d30  CCTTTCTCAAAACATA       0.000008   \n",
       "\n",
       "        fraction infectivity                           strain  \\\n",
       "0                   0.938447  A/India-Pune-Nivcov2221170/2022   \n",
       "1                   1.338317           A/Bangladesh/8002/2021   \n",
       "2                   1.268718                   A/Perth/1/2022   \n",
       "3                   1.636438         A/Cote_DIvoire/1448/2021   \n",
       "4                   1.094941           A/Bangladesh/8036/2021   \n",
       "...                      ...                              ...   \n",
       "105595              1.246951                 A/Togo/0274/2021   \n",
       "105596              0.491026             A/Washington/23/2020   \n",
       "105597              0.821261                A/Ghana/2080/2020   \n",
       "105598              1.331956             A/Belgium/H0038/2022   \n",
       "105599              1.251926             A/California/07/2009   \n",
       "\n",
       "                                                   sample replicate  \\\n",
       "0         pdmH1N1_lib2022-D002d0-393660.0-1-230801-Plate1      rep1   \n",
       "1         pdmH1N1_lib2022-D002d0-393660.0-1-230801-Plate1      rep1   \n",
       "2         pdmH1N1_lib2022-D002d0-393660.0-1-230801-Plate1      rep1   \n",
       "3         pdmH1N1_lib2022-D002d0-393660.0-1-230801-Plate1      rep1   \n",
       "4         pdmH1N1_lib2022-D002d0-393660.0-1-230801-Plate1      rep1   \n",
       "...                                                   ...       ...   \n",
       "105595  pdmH1N1_lib2022-Y184d30-131220.0-2-230926-Plate12      rep2   \n",
       "105596  pdmH1N1_lib2022-Y184d30-131220.0-2-230926-Plate12      rep2   \n",
       "105597  pdmH1N1_lib2022-Y184d30-131220.0-2-230926-Plate12      rep2   \n",
       "105598  pdmH1N1_lib2022-Y184d30-131220.0-2-230926-Plate12      rep2   \n",
       "105599  pdmH1N1_lib2022-Y184d30-131220.0-2-230926-Plate12      rep2   \n",
       "\n",
       "                        virus  \n",
       "0       CGTTTAAACAATGAAG_rep1  \n",
       "1       AGTGTCCCTAAGAGGC_rep1  \n",
       "2       CTGCACGAGAGACTTC_rep1  \n",
       "3       GTCCGTTGATAAAGAG_rep1  \n",
       "4       ATACCTCAACCTTGAA_rep1  \n",
       "...                       ...  \n",
       "105595  AACGAATGAATTTCTT_rep2  \n",
       "105596  ACGGAATCCCCTGAGA_rep2  \n",
       "105597  GCAATCCCGCAATTTG_rep2  \n",
       "105598  GCCGGAGGGCATTTTC_rep2  \n",
       "105599  CCTTTCTCAAAACATA_rep2  \n",
       "\n",
       "[105600 rows x 9 columns]"
      ]
     },
     "execution_count": 5,
     "metadata": {},
     "output_type": "execute_result"
    }
   ],
   "source": [
    "fractioninfectivity = pd.read_csv(config[\"fraction_infectivity_file\"])\n",
    "fractioninfectivity"
   ]
  },
  {
   "cell_type": "code",
   "execution_count": 6,
   "id": "4568ad68-4730-497f-bb9b-00e91f25fd63",
   "metadata": {},
   "outputs": [],
   "source": [
    "# Here we are fixing setting every fraction infectivity that is greater than 1 to 1, so as to make the curves a bit easier to look at.\n",
    "fractioninfectivity_fixtop = fractioninfectivity\n",
    "fractioninfectivity_fixtop['fraction infectivity'] = np.where(fractioninfectivity_fixtop['fraction infectivity']>1, 1,fractioninfectivity_fixtop['fraction infectivity'])"
   ]
  },
  {
   "cell_type": "code",
   "execution_count": 7,
   "id": "4ef79a9a-c627-4c46-8222-60b0fec10657",
   "metadata": {},
   "outputs": [],
   "source": [
    "# Fit curves to each of the barcoded variants for each sample\n",
    "fits = neutcurve.CurveFits(fractioninfectivity_fixtop)"
   ]
  },
  {
   "cell_type": "code",
   "execution_count": 8,
   "id": "eafb8342-606b-44a0-bbc2-2b2e87ebd290",
   "metadata": {},
   "outputs": [
    {
     "name": "stderr",
     "output_type": "stream",
     "text": [
      "/fh/fast/bloom_j/computational_notebooks/aloes/2023/flu_NGSNeuts_DRIVE/env/lib/python3.8/site-packages/neutcurve/hillcurve.py:741: RuntimeWarning: invalid value encountered in power\n",
      "  return b + (t - b) / (1 + (c / m)**s)\n",
      "/fh/fast/bloom_j/computational_notebooks/aloes/2023/flu_NGSNeuts_DRIVE/env/lib/python3.8/site-packages/neutcurve/hillcurve.py:741: RuntimeWarning: divide by zero encountered in true_divide\n",
      "  return b + (t - b) / (1 + (c / m)**s)\n"
     ]
    }
   ],
   "source": [
    "fit_parameters = fits.fitParams()"
   ]
  },
  {
   "cell_type": "code",
   "execution_count": 85,
   "id": "75dcf771-9f5c-48b9-b489-e55e125f1fc3",
   "metadata": {},
   "outputs": [
    {
     "ename": "FileExistsError",
     "evalue": "[Errno 17] File exists: 'results/selections'",
     "output_type": "error",
     "traceback": [
      "\u001b[0;31m---------------------------------------------------------------------------\u001b[0m",
      "\u001b[0;31mFileExistsError\u001b[0m                           Traceback (most recent call last)",
      "Cell \u001b[0;32mIn[85], line 2\u001b[0m\n\u001b[1;32m      1\u001b[0m \u001b[38;5;66;03m# Create directory for selection results\u001b[39;00m\n\u001b[0;32m----> 2\u001b[0m \u001b[43mos\u001b[49m\u001b[38;5;241;43m.\u001b[39;49m\u001b[43mmkdir\u001b[49m\u001b[43m(\u001b[49m\u001b[43mconfig\u001b[49m\u001b[43m[\u001b[49m\u001b[38;5;124;43m\"\u001b[39;49m\u001b[38;5;124;43mselection_dir\u001b[39;49m\u001b[38;5;124;43m\"\u001b[39;49m\u001b[43m]\u001b[49m\u001b[43m)\u001b[49m\n",
      "\u001b[0;31mFileExistsError\u001b[0m: [Errno 17] File exists: 'results/selections'"
     ]
    }
   ],
   "source": [
    "# Create directory for selection results\n",
    "#os.mkdir(config[\"selection_dir\"])"
   ]
  },
  {
   "cell_type": "code",
   "execution_count": 9,
   "id": "49eaf542-47c7-4667-a425-3d5f9e07d397",
   "metadata": {},
   "outputs": [],
   "source": [
    "fit_parameters.to_csv(config[\"neutralization_titers_by_barcode\"])"
   ]
  },
  {
   "cell_type": "markdown",
   "id": "6e490353-c2a9-404b-b9ca-57f05a2b1775",
   "metadata": {},
   "source": [
    "## Now we need to create a dictionary of barcoded strains such that we can call by strain to plot"
   ]
  },
  {
   "cell_type": "code",
   "execution_count": null,
   "id": "30efa707-4cd3-4b22-a3d9-3551865e0ac6",
   "metadata": {},
   "outputs": [],
   "source": [
    "# Generate a dictionary of barcodes and variants.\n",
    "# We are using \"virus\" column here as it already contains the replicate label\n",
    "barcode_strain = dict(zip(fractioninfectivity.virus,fractioninfectivity.strain))\n",
    "\n",
    "condense = {}\n",
    "for key,value in barcode_strain.items():\n",
    "    if value not in condense:\n",
    "        condense[value] = []\n",
    "        condense[value].append(key)\n",
    "    else:\n",
    "        condense[value].append(key)\n",
    "               \n",
    "#To confirm that we have the right number of strains in the library:\n",
    "output = 'There are ' + str(len(condense)) + ' strains in the library'\n",
    "print(output)"
   ]
  },
  {
   "cell_type": "code",
   "execution_count": null,
   "id": "4f4d8bd9-e92e-4f0e-85e5-528d676dd3bb",
   "metadata": {},
   "outputs": [],
   "source": [
    "#Prior to averaging, remove things that have poor slopes\n",
    "fit_parameters = fit_parameters.loc[fit_parameters['slope']>0]\n",
    "fit_parameters['strain'] = fit_parameters['virus'].map(barcode_strain)\n",
    "\n",
    "#Find median NT50 for each strain for each individual\n",
    "median_ic50_frombarcodes = fit_parameters.groupby(['serum','strain'], as_index=False).median(numeric_only=True)\n",
    "median_ic50_frombarcodes['NT50'] = 1 / median_ic50_frombarcodes['ic50']\n",
    "\n",
    "#Also adding in some more reasonable names for columns so that I can transform the dataframe to show columns\n",
    "median_ic50_frombarcodes['individual'] =  median_ic50_frombarcodes['serum'].str.split('d').str[0]\n",
    "median_ic50_frombarcodes['day'] =  median_ic50_frombarcodes['serum'].str.split('d').str[1]\n",
    "median_ic50_frombarcodes['day'] = pd.to_numeric(median_ic50_frombarcodes['day'])\n",
    "\n",
    "median_ic50_frombarcodes.to_csv(config[\"neutralization_titers_by_strain\"])"
   ]
  },
  {
   "cell_type": "code",
   "execution_count": null,
   "id": "35825cb9-1543-4693-b9c8-abdc9273f750",
   "metadata": {},
   "outputs": [],
   "source": [
    "%%time\n",
    "# This step is quite slow, we are creating a pdf for each serum sample, then outputing all the curves for all timepoints to the file. \n",
    "\n",
    "listofselection = fits.sera\n",
    "print(listofselection)\n",
    "sera = []\n",
    "for i in listofselection:\n",
    "    if i[0:4] not in sera:\n",
    "        sera.append(i[0:4])\n",
    "#sera = ['M099']\n",
    "sera_withrep = ['D041','M099','Y044','D042','Y184','M131']\n",
    "toplot = {}\n",
    "for indiv in sera:\n",
    "    samples = [m for m in listofselection if indiv in m]\n",
    "    toplot[indiv] = samples\n",
    "\n",
    "for indiv in toplot:\n",
    "    with PdfPages(config[\"selection_dir\"]+\"/\"+indiv+\".pdf\") as pdf:\n",
    "        if indiv in sera_withrep:\n",
    "            for i in condense:\n",
    "                fig, axes = fits.plotSera(sera=toplot[indiv], viruses=condense[i],xlabel='dilution',ylabel='Relative Fraction Infectivity',legendfontsize=16,legendtitle=i,max_viruses_per_subplot=8)\n",
    "                pdf.savefig(bbox_inches='tight')  # saves the current figure into a pdf page\n",
    "                plt.close()\n",
    "        else:\n",
    "            for i in condense:\n",
    "                viruses_list =  [x for x in condense[i] if \"_rep2\" not in x]\n",
    "                fig, axes = fits.plotSera(sera=toplot[indiv], viruses=condense[i],xlabel='dilution',ylabel='Relative Fraction Infectivity',legendfontsize=16,legendtitle=i,max_viruses_per_subplot=8)\n",
    "                pdf.savefig(bbox_inches='tight')  # saves the current figure into a pdf page\n",
    "                plt.close()\n",
    "    plt.close('all')"
   ]
  }
 ],
 "metadata": {
  "kernelspec": {
   "display_name": "Python 3 (ipykernel)",
   "language": "python",
   "name": "python3"
  },
  "language_info": {
   "codemirror_mode": {
    "name": "ipython",
    "version": 3
   },
   "file_extension": ".py",
   "mimetype": "text/x-python",
   "name": "python",
   "nbconvert_exporter": "python",
   "pygments_lexer": "ipython3",
   "version": "3.8.8"
  }
 },
 "nbformat": 4,
 "nbformat_minor": 5
}
