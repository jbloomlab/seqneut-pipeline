{
 "cells": [
  {
   "cell_type": "markdown",
   "id": "abe395dc-8a57-4ee8-b22e-8a1acacf1619",
   "metadata": {},
   "source": [
    "# Summarize titers across all sera and groups\n",
    "Examine median titers for all serum samples."
   ]
  },
  {
   "cell_type": "code",
   "execution_count": 1,
   "id": "f404cc02-6d9a-4a3a-892e-fd73f1e00b52",
   "metadata": {},
   "outputs": [],
   "source": [
    "import pickle\n",
    "\n",
    "import altair as alt\n",
    "\n",
    "import neutcurve\n",
    "\n",
    "import pandas as pd\n",
    "\n",
    "_ = alt.data_transformers.disable_max_rows()"
   ]
  },
  {
   "cell_type": "markdown",
   "id": "be4112bc-7d79-4b38-8e76-ec81588f40e9",
   "metadata": {},
   "source": [
    "Get variables from `snakemake`:"
   ]
  },
  {
   "cell_type": "code",
   "execution_count": 2,
   "id": "83425f55-9905-4cc0-b42c-440926e9a81e",
   "metadata": {},
   "outputs": [
    {
     "ename": "NameError",
     "evalue": "name 'snakemake' is not defined",
     "output_type": "error",
     "traceback": [
      "\u001b[0;31m---------------------------------------------------------------------------\u001b[0m",
      "\u001b[0;31mNameError\u001b[0m                                 Traceback (most recent call last)",
      "Cell \u001b[0;32mIn[2], line 1\u001b[0m\n\u001b[0;32m----> 1\u001b[0m input_pickles \u001b[38;5;241m=\u001b[39m \u001b[43msnakemake\u001b[49m\u001b[38;5;241m.\u001b[39minput\u001b[38;5;241m.\u001b[39mpickles\n\u001b[1;32m      2\u001b[0m input_titers \u001b[38;5;241m=\u001b[39m snakemake\u001b[38;5;241m.\u001b[39minput\u001b[38;5;241m.\u001b[39mtiters\n\u001b[1;32m      3\u001b[0m output_pickle \u001b[38;5;241m=\u001b[39m snakemake\u001b[38;5;241m.\u001b[39moutput\u001b[38;5;241m.\u001b[39mpickle\n",
      "\u001b[0;31mNameError\u001b[0m: name 'snakemake' is not defined"
     ]
    }
   ],
   "source": [
    "input_pickles = snakemake.input.pickles\n",
    "input_titers = snakemake.input.titers\n",
    "output_pickle = snakemake.output.pickle\n",
    "output_titers = snakemake.output.titers\n",
    "titers_chart_html = snakemake.output.titers_chart\n",
    "viral_strain_plot_order = snakemake.params.viral_strain_plot_order"
   ]
  },
  {
   "cell_type": "markdown",
   "id": "7a89d9f5-a789-454b-9ec6-3186a5d55c7b",
   "metadata": {},
   "source": [
    "Get the merged titers and merged `CurveFits` object:"
   ]
  },
  {
   "cell_type": "code",
   "execution_count": null,
   "id": "dda8dec6-8981-4f10-9fe2-afc35066929e",
   "metadata": {},
   "outputs": [],
   "source": [
    "assert len(input_titers) == len(input_pickles)\n",
    "\n",
    "titers = pd.concat([pd.read_csv(f) for f in input_titers], ignore_index=True)\n",
    "assert len(titers) == len(titers.groupby([\"serum\", \"virus\"]))\n",
    "print(f\"Writing aggregated titers to {output_titers}\")\n",
    "titers.to_csv(output_titers, index=False, float_format=\"%.4g\")\n",
    "\n",
    "fits_list = []\n",
    "for fname in input_pickles:\n",
    "    with open(fname, \"rb\") as f:\n",
    "        fits_list.append(pickle.load(f))\n",
    "curvefits = neutcurve.CurveFits.combineCurveFits(fits_list)\n",
    "print(f\"Pickling aggregated `CurveFits` to {output_pickle}\")\n",
    "with open(output_pickle, \"wb\") as f:\n",
    "    pickle.dump(curvefits, f)"
   ]
  },
  {
   "cell_type": "markdown",
   "id": "e194786d-c227-403f-bbf9-d8ab3b19b502",
   "metadata": {},
   "source": [
    "Plot all the titers:"
   ]
  },
  {
   "cell_type": "code",
   "execution_count": null,
   "id": "eb2c2a97-e54a-4875-bc75-d57975017565",
   "metadata": {},
   "outputs": [],
   "source": [
    "viruses = [v for v in viral_strain_plot_order if v in curvefits.allviruses]\n",
    "\n",
    "assert set(viruses) == set(curvefits.allviruses)\n",
    "\n",
    "sera = curvefits.sera\n",
    "\n",
    "virus_selection = alt.selection_point(fields=[\"virus\"], on=\"mouseover\", empty=False)\n",
    "\n",
    "serum_selection = alt.selection_point(\n",
    "    fields=[\"serum\"],\n",
    "    bind=\"legend\",\n",
    "    toggle=\"true\",\n",
    ")\n",
    "\n",
    "ncols = 8\n",
    "\n",
    "titers_chart = (\n",
    "    alt.Chart(titers)\n",
    "    .add_params(virus_selection, serum_selection)\n",
    "    .transform_filter(serum_selection)\n",
    "    .encode(\n",
    "        alt.X(\n",
    "            \"titer\",\n",
    "            title=\"neutralization titer\",\n",
    "            scale=alt.Scale(nice=False, padding=4, type=\"log\"),\n",
    "            axis=alt.Axis(labelOverlap=True),\n",
    "        ),\n",
    "        alt.Y(\"virus\", sort=viruses),\n",
    "        alt.Facet(\n",
    "            \"serum\",\n",
    "            header=alt.Header(\n",
    "                title=None, labelFontSize=11, labelFontStyle=\"bold\", labelPadding=0\n",
    "            ),\n",
    "            spacing=3,\n",
    "            columns=ncols,\n",
    "        ),\n",
    "        alt.StrokeWidth(\n",
    "            \"serum:N\",\n",
    "            scale=alt.Scale(domain=sera, range=[1] * len(sera)),\n",
    "            legend=alt.Legend(\n",
    "                orient=\"bottom\",\n",
    "                columns=ncols,\n",
    "                symbolLimit=0,\n",
    "                symbolFillColor=\"black\",\n",
    "                title=\"serum (click to select)\",\n",
    "            ),\n",
    "        ),\n",
    "        color=alt.condition(virus_selection, alt.value(\"red\"), alt.value(\"black\")),\n",
    "        tooltip=[\n",
    "            alt.Tooltip(c, format=\".3g\") if titers[c].dtype == float else c\n",
    "            for c in titers.columns\n",
    "        ],\n",
    "    )\n",
    "    .mark_line(point=True)\n",
    "    .configure_axis(grid=False)\n",
    "    .configure_point(size=45)\n",
    "    .properties(\n",
    "        height=alt.Step(11),\n",
    "        width=100,\n",
    "        title=alt.TitleParams(\n",
    "            \"Interactive chart of serum neutralization titers\",\n",
    "            subtitle=\"Mouseover points for details, click serum legend at bottom to select sera to show\",\n",
    "            fontSize=15,\n",
    "            dx=100,\n",
    "            dy=-5,\n",
    "        ),\n",
    "        autosize=alt.AutoSizeParams(resize=True),\n",
    "    )\n",
    ")\n",
    "\n",
    "print(f\"Saving chart to {titers_chart_html}\")\n",
    "titers_chart.save(titers_chart_html)\n",
    "\n",
    "titers_chart"
   ]
  },
  {
   "cell_type": "code",
   "execution_count": null,
   "id": "27ff41ab-c967-42a9-adb1-5856810c7f34",
   "metadata": {},
   "outputs": [],
   "source": []
  }
 ],
 "metadata": {
  "kernelspec": {
   "display_name": "Python 3 (ipykernel)",
   "language": "python",
   "name": "python3"
  },
  "language_info": {
   "codemirror_mode": {
    "name": "ipython",
    "version": 3
   },
   "file_extension": ".py",
   "mimetype": "text/x-python",
   "name": "python",
   "nbconvert_exporter": "python",
   "pygments_lexer": "ipython3",
   "version": "3.11.7"
  }
 },
 "nbformat": 4,
 "nbformat_minor": 5
}
