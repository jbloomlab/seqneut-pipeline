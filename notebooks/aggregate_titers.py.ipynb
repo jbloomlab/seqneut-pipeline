{
 "cells": [
  {
   "cell_type": "markdown",
   "id": "abe395dc-8a57-4ee8-b22e-8a1acacf1619",
   "metadata": {},
   "source": [
    "# Aggregate titers across all sera\n",
    "Aggregate the titers across all sera, failing if there are QC failures for any individual sera."
   ]
  },
  {
   "cell_type": "code",
   "execution_count": 1,
   "id": "f404cc02-6d9a-4a3a-892e-fd73f1e00b52",
   "metadata": {},
   "outputs": [],
   "source": [
    "import pickle\n",
    "\n",
    "import altair as alt\n",
    "\n",
    "import neutcurve\n",
    "\n",
    "import pandas as pd\n",
    "\n",
    "_ = alt.data_transformers.disable_max_rows()"
   ]
  },
  {
   "cell_type": "markdown",
   "id": "be4112bc-7d79-4b38-8e76-ec81588f40e9",
   "metadata": {},
   "source": [
    "Get variables from `snakemake`:"
   ]
  },
  {
   "cell_type": "code",
   "execution_count": 2,
   "id": "682e0d51-822f-43c7-9635-6094d3252ca4",
   "metadata": {},
   "outputs": [],
   "source": [
    "######## snakemake preamble start (automatically inserted, do not edit) ########\n",
    "import sys; sys.path.extend(['/Users/jbloom/miniconda3/envs/seqneut-pipeline/lib/python3.11/site-packages', '/Users/jbloom/Library/Caches/snakemake/snakemake/source-cache/runtime-cache/tmpac2czgam/file/Users/jbloom/Library/CloudStorage/OneDrive-FredHutchinsonCancerCenter/seqneut-pipeline/notebooks', '/Users/jbloom/Library/CloudStorage/OneDrive-FredHutchinsonCancerCenter/seqneut-pipeline/notebooks']); import pickle; snakemake = pickle.loads(b'\\x80\\x04\\x95\\x05\\x14\\x00\\x00\\x00\\x00\\x00\\x00\\x8c\\x10snakemake.script\\x94\\x8c\\tSnakemake\\x94\\x93\\x94)\\x81\\x94}\\x94(\\x8c\\x05input\\x94\\x8c\\x0csnakemake.io\\x94\\x8c\\nInputFiles\\x94\\x93\\x94)\\x81\\x94(\\x8c(results/sera/qc_serum_titers_summary.txt\\x94\\x8c$results/sera/M099d0/curvefits.pickle\\x94\\x8c%results/sera/M099d30/curvefits.pickle\\x94\\x8c%results/sera/Y044d30/curvefits.pickle\\x94\\x8c&results/sera/Y154d182/curvefits.pickle\\x94\\x8c%results/sera/M099d0/titers_median.csv\\x94\\x8c&results/sera/M099d30/titers_median.csv\\x94\\x8c&results/sera/Y044d30/titers_median.csv\\x94\\x8c\\'results/sera/Y154d182/titers_median.csv\\x94e}\\x94(\\x8c\\x06_names\\x94}\\x94(\\x8c\\x17qc_serum_titer_failures\\x94K\\x00N\\x86\\x94\\x8c\\x07pickles\\x94K\\x01K\\x05\\x86\\x94\\x8c\\x06titers\\x94K\\x05K\\t\\x86\\x94u\\x8c\\x12_allowed_overrides\\x94]\\x94(\\x8c\\x05index\\x94\\x8c\\x04sort\\x94eh\\x1e\\x8c\\tfunctools\\x94\\x8c\\x07partial\\x94\\x93\\x94h\\x06\\x8c\\x19Namedlist._used_attribute\\x94\\x93\\x94\\x85\\x94R\\x94(h$)}\\x94\\x8c\\x05_name\\x94h\\x1esNt\\x94bh\\x1fh\"h$\\x85\\x94R\\x94(h$)}\\x94h(h\\x1fsNt\\x94bh\\x16h\\nh\\x18h\\x06\\x8c\\tNamedlist\\x94\\x93\\x94)\\x81\\x94(h\\x0bh\\x0ch\\rh\\x0ee}\\x94(h\\x14}\\x94h\\x1c]\\x94(h\\x1eh\\x1feh\\x1eh\"h$\\x85\\x94R\\x94(h$)}\\x94h(h\\x1esNt\\x94bh\\x1fh\"h$\\x85\\x94R\\x94(h$)}\\x94h(h\\x1fsNt\\x94bubh\\x1ah/)\\x81\\x94(h\\x0fh\\x10h\\x11h\\x12e}\\x94(h\\x14}\\x94h\\x1c]\\x94(h\\x1eh\\x1feh\\x1eh\"h$\\x85\\x94R\\x94(h$)}\\x94h(h\\x1esNt\\x94bh\\x1fh\"h$\\x85\\x94R\\x94(h$)}\\x94h(h\\x1fsNt\\x94bubub\\x8c\\x06output\\x94h\\x06\\x8c\\x0bOutputFiles\\x94\\x93\\x94)\\x81\\x94(\\x8c*results/aggregated_titers/curvefits.pickle\\x94\\x8c$results/aggregated_titers/titers.csv\\x94\\x8c%results/aggregated_titers/titers.html\\x94e}\\x94(h\\x14}\\x94(\\x8c\\x06pickle\\x94K\\x00N\\x86\\x94h\\x1aK\\x01N\\x86\\x94\\x8c\\x0ctiters_chart\\x94K\\x02N\\x86\\x94uh\\x1c]\\x94(h\\x1eh\\x1feh\\x1eh\"h$\\x85\\x94R\\x94(h$)}\\x94h(h\\x1esNt\\x94bh\\x1fh\"h$\\x85\\x94R\\x94(h$)}\\x94h(h\\x1fsNt\\x94bhQhLh\\x1ahMhThNub\\x8c\\x06params\\x94h\\x06\\x8c\\x06Params\\x94\\x93\\x94)\\x81\\x94]\\x94(\\x8c\\x14A/California/07/2009\\x94\\x8c\\x12A/Michigan/45/2015\\x94\\x8c\\x12A/Brisbane/02/2018\\x94\\x8c\\x11A/Ghana/2080/2020\\x94\\x8c\\x18A/Cote_DIvoire/1448/2021\\x94\\x8c\\x10A/Ghana/138/2020\\x94\\x8c\\x0fA/Togo/845/2020\\x94\\x8c\\x10A/Togo/0274/2021\\x94\\x8c\\x10A/Hawaii/70/2019\\x94\\x8c\\x12A/Niger/10217/2021\\x94\\x8c\\x19A/SouthAfrica/R16462/2021\\x94\\x8c\\x10A/Togo/0304/2021\\x94\\x8c\\x12A/Paris/31196/2021\\x94\\x8c\\x14A/Belgium/H0017/2022\\x94\\x8c\\x18A/England/220200318/2022\\x94\\x8c\\x12A/Paris/30353/2021\\x94\\x8c\\x10A/Nimes/871/2021\\x94\\x8c\\x14A/Belgium/H0038/2022\\x94\\x8c\\x14A/Wisconsin/588/2019\\x94\\x8c\\x14A/Washington/23/2020\\x94\\x8c\\x1aA/India/Pun-NIV312851/2021\\x94\\x8c\\x1aA/India-PUN-NIV328484/2021\\x94\\x8c\\x16A/Bangladesh/8036/2021\\x94\\x8c\\x0eA/Perth/1/2022\\x94\\x8c\\x19A/SouthAfrica/R14850/2021\\x94\\x8c\\x13A/Norway/25089/2022\\x94\\x8c\\x1cA/Bangladesh/3210810034/2021\\x94\\x8c\\x13A/Chester/5355/2022\\x94\\x8c\\x12A/Michigan/19/2021\\x94\\x8c\\x0eA/Utah/27/2022\\x94\\x8c\\x12A/Newcastle/2/2022\\x94\\x8c\\x1fA/India-Pune-Nivcov2221170/2022\\x94\\x8c\\x10A/Sydney/43/2022\\x94\\x8c\\x12A/Brisbane/48/2022\\x94\\x8c\\x16A/Bangladesh/8002/2021\\x94\\x8c\\x16A/Bangladesh/2221/2021\\x94ea}\\x94(h\\x14}\\x94\\x8c\\x17viral_strain_plot_order\\x94K\\x00N\\x86\\x94sh\\x1c]\\x94(h\\x1eh\\x1feh\\x1eh\"h$\\x85\\x94R\\x94(h$)}\\x94h(h\\x1esNt\\x94bh\\x1fh\"h$\\x85\\x94R\\x94(h$)}\\x94h(h\\x1fsNt\\x94bh\\x8ahcub\\x8c\\twildcards\\x94h\\x06\\x8c\\tWildcards\\x94\\x93\\x94)\\x81\\x94}\\x94(h\\x14}\\x94h\\x1c]\\x94(h\\x1eh\\x1feh\\x1eh\"h$\\x85\\x94R\\x94(h$)}\\x94h(h\\x1esNt\\x94bh\\x1fh\"h$\\x85\\x94R\\x94(h$)}\\x94h(h\\x1fsNt\\x94bub\\x8c\\x07threads\\x94K\\x01\\x8c\\tresources\\x94h\\x06\\x8c\\tResources\\x94\\x93\\x94)\\x81\\x94(K\\x01K\\x01\\x8c0/var/folders/jj/t2kjg1p146x_z68z7j80z8yw0000gq/T\\x94e}\\x94(h\\x14}\\x94(\\x8c\\x06_cores\\x94K\\x00N\\x86\\x94\\x8c\\x06_nodes\\x94K\\x01N\\x86\\x94\\x8c\\x06tmpdir\\x94K\\x02N\\x86\\x94uh\\x1c]\\x94(h\\x1eh\\x1feh\\x1eh\"h$\\x85\\x94R\\x94(h$)}\\x94h(h\\x1esNt\\x94bh\\x1fh\"h$\\x85\\x94R\\x94(h$)}\\x94h(h\\x1fsNt\\x94bh\\xacK\\x01h\\xaeK\\x01h\\xb0h\\xa9ub\\x8c\\x03log\\x94h\\x06\\x8c\\x03Log\\x94\\x93\\x94)\\x81\\x94\\x8c0results/aggregated_titers/aggregate_titers.ipynb\\x94a}\\x94(h\\x14}\\x94\\x8c\\x08notebook\\x94K\\x00N\\x86\\x94sh\\x1c]\\x94(h\\x1eh\\x1feh\\x1eh\"h$\\x85\\x94R\\x94(h$)}\\x94h(h\\x1esNt\\x94bh\\x1fh\"h$\\x85\\x94R\\x94(h$)}\\x94h(h\\x1fsNt\\x94bh\\xc2h\\xbfub\\x8c\\x06config\\x94}\\x94(\\x8c\\x10seqneut-pipeline\\x94\\x8c\\x03../\\x94\\x8c\\x0fviral_libraries\\x94}\\x94\\x8c\\x14pdmH1N1_lib2023_loes\\x94\\x8c-data/viral_libraries/pdmH1N1_lib2023_loes.csv\\x94s\\x8c\\x17viral_strain_plot_order\\x94\\x8c data/viral_strain_plot_order.csv\\x94\\x8c\\x12neut_standard_sets\\x94}\\x94\\x8c\\x08loes2023\\x94\\x8c3data/neut_standard_sets/loes2023_neut_standards.csv\\x94s\\x8c\\x1eillumina_barcode_parser_params\\x94}\\x94(\\x8c\\x08upstream\\x94\\x8c\\x1fCTCCCTACAATGTCGGATTTGTATTTAATAG\\x94\\x8c\\ndownstream\\x94\\x8c\\x00\\x94\\x8c\\x04minq\\x94K\\x14\\x8c\\x11upstream_mismatch\\x94K\\x04\\x8c\\x0ebc_orientation\\x94\\x8c\\x02R2\\x94u\\x8c$default_process_counts_qc_thresholds\\x94}\\x94(\\x8c\\x12avg_barcode_counts\\x94K\\xfa\\x8c\\x16min_neut_standard_frac\\x94G?tz\\xe1G\\xae\\x14{\\x8c\\x1fmax_neut_standard_frac_no_serum\\x94G?\\xb9\\x99\\x99\\x99\\x99\\x99\\x9a\\x8c\\x18barcode_frac_consistency\\x94K\\x04\\x8c\\x16min_viral_barcode_frac\\x94G?@bM\\xd2\\xf1\\xa9\\xfc\\x8c\\x1emin_neut_standard_barcode_frac\\x94G?tz\\xe1G\\xae\\x14{\\x8c\\x17min_neut_standard_count\\x94M^\\x01\\x8c min_no_serum_viral_barcode_count\\x94K\\x05\\x8c!min_dilutions_per_serum_replicate\\x94K\\x04\\x8c\\x14max_frac_infectivity\\x94K\\x08u\\x8c\\x17default_curvefit_params\\x94}\\x94(\\x8c\\x18frac_infectivity_ceiling\\x94K\\x01\\x8c\\x06fixtop\\x94\\x89\\x8c\\tfixbottom\\x94K\\x00u\\x8c\\x06plates\\x94}\\x94(\\x8c\\x06plate2\\x94}\\x94(\\x8c\\x04date\\x94\\x8c\\x08datetime\\x94\\x8c\\x04date\\x94\\x93\\x94C\\x04\\x07\\xe7\\x08\\x01\\x94\\x85\\x94R\\x94\\x8c\\rviral_library\\x94\\x8c\\x14pdmH1N1_lib2023_loes\\x94\\x8c\\x11neut_standard_set\\x94\\x8c\\x08loes2023\\x94\\x8c\\x0bsamples_csv\\x94\\x8c\\x1edata/plates/plate2_samples.csv\\x94\\x8c\\x1cprocess_counts_qc_thresholds\\x94}\\x94(h\\xe7K\\xfah\\xe8G?tz\\xe1G\\xae\\x14{h\\xe9G?\\xb9\\x99\\x99\\x99\\x99\\x99\\x9ah\\xeaK\\x04h\\xebG?@bM\\xd2\\xf1\\xa9\\xfch\\xecG?tz\\xe1G\\xae\\x14{h\\xedM^\\x01h\\xeeK\\x05h\\xefK\\x04h\\xf0K\\x08u\\x8c\\x10barcodes_to_drop\\x94]\\x94\\x8c\\x10GGTCCATCTCAGATCG\\x94a\\x8c\\rwells_to_drop\\x94]\\x94(\\x8c\\x02C1\\x94\\x8c\\x03D12\\x94e\\x8c\\x0fcurvefit_params\\x94}\\x94(h\\xf3K\\x01h\\xf4\\x89h\\xf5K\\x00uu\\x8c\\x07plate11\\x94}\\x94(\\x8c\\x04date\\x94h\\xfdC\\x04\\x07\\xe7\\t\\x1a\\x94\\x85\\x94R\\x94\\x8c\\rviral_library\\x94\\x8c\\x14pdmH1N1_lib2023_loes\\x94\\x8c\\x11neut_standard_set\\x94\\x8c\\x08loes2023\\x94\\x8c\\x0bsamples_csv\\x94\\x8c\\x1fdata/plates/plate11_samples.csv\\x94\\x8c\\x1cprocess_counts_qc_thresholds\\x94}\\x94(h\\xe7K\\xfah\\xe8G?tz\\xe1G\\xae\\x14{h\\xe9G?\\xb9\\x99\\x99\\x99\\x99\\x99\\x9ah\\xeaK\\x04h\\xebG?@bM\\xd2\\xf1\\xa9\\xfch\\xecG?tz\\xe1G\\xae\\x14{h\\xedM^\\x01h\\xeeK\\x05h\\xefK\\x04h\\xf0K\\x08u\\x8c\\x10barcodes_to_drop\\x94]\\x94\\x8c\\x10GGTCCATCTCAGATCG\\x94a\\x8c\\rwells_to_drop\\x94]\\x94(\\x8c\\x02D6\\x94\\x8c\\x03C12\\x94e\\x8c\\x0fcurvefit_params\\x94}\\x94(h\\xf3K\\x01h\\xf4\\x89h\\xf5K\\x00uuu\\x8c\\x1aserum_titers_qc_thresholds\\x94}\\x94(\\x8c\\x0emin_replicates\\x94K\\x02\\x8c\\x1bmax_fold_change_from_median\\x94K\\x03u\\x8c\\x1aserum_titers_qc_exclusions\\x94}\\x94(\\x8c\\x06M099d0\\x94}\\x94(\\x8c\\x16A/Bangladesh/8002/2021\\x94}\\x94\\x8c\\tignore_qc\\x94\\x88s\\x8c\\x12A/Brisbane/02/2018\\x94}\\x94\\x8c\\tignore_qc\\x94\\x88s\\x8c\\x13A/Norway/25089/2022\\x94}\\x94\\x8c\\x12replicates_to_drop\\x94]\\x94\\x8c\\x18plate11-CGGATAAAAATGATAT\\x94as\\x8c\\x14A/Wisconsin/588/2019\\x94}\\x94\\x8c\\x12replicates_to_drop\\x94]\\x94\\x8c\\x18plate11-AGTCCTATCCTCAAAT\\x94asu\\x8c\\x07M099d30\\x94}\\x94(\\x8c\\x13A/Chester/5355/2022\\x94}\\x94\\x8c\\x12replicates_to_drop\\x94]\\x94\\x8c\\x18plate11-CCTCAAAATAACAAGC\\x94as\\x8c\\x12A/Michigan/45/2015\\x94}\\x94\\x8c\\tignore_qc\\x94\\x88s\\x8c\\x12A/Paris/31196/2021\\x94}\\x94\\x8c\\tignore_qc\\x94\\x88su\\x8c\\x07Y044d30\\x94}\\x94(\\x8c\\x16A/Bangladesh/8036/2021\\x94}\\x94\\x8c\\tignore_qc\\x94\\x88s\\x8c\\x12A/Brisbane/48/2022\\x94}\\x94\\x8c\\tignore_qc\\x94\\x88s\\x8c\\x1aA/India-PUN-NIV328484/2021\\x94}\\x94\\x8c\\tignore_qc\\x94\\x88s\\x8c\\x0eA/Perth/1/2022\\x94}\\x94\\x8c\\tignore_qc\\x94\\x88s\\x8c\\x14A/Washington/23/2020\\x94}\\x94\\x8c\\tignore_qc\\x94\\x88suuu\\x8c\\x04rule\\x94\\x8c\\x10aggregate_titers\\x94\\x8c\\x0fbench_iteration\\x94N\\x8c\\tscriptdir\\x94\\x8ca/Users/jbloom/Library/CloudStorage/OneDrive-FredHutchinsonCancerCenter/seqneut-pipeline/notebooks\\x94ub.'); from snakemake.logging import logger; logger.printshellcmds = False; import os; os.chdir(r'/Users/jbloom/Library/CloudStorage/OneDrive-FredHutchinsonCancerCenter/seqneut-pipeline/test_example');\n",
    "######## snakemake preamble end #########\n"
   ]
  },
  {
   "cell_type": "code",
   "execution_count": 3,
   "id": "83425f55-9905-4cc0-b42c-440926e9a81e",
   "metadata": {},
   "outputs": [],
   "source": [
    "qc_failures_file = snakemake.input.qc_serum_titer_failures\n",
    "input_pickles = snakemake.input.pickles\n",
    "input_titers = snakemake.input.titers\n",
    "output_pickle = snakemake.output.pickle\n",
    "output_titers = snakemake.output.titers\n",
    "titers_chart_html = snakemake.output.titers_chart\n",
    "viral_strain_plot_order = snakemake.params.viral_strain_plot_order"
   ]
  },
  {
   "cell_type": "markdown",
   "id": "d3668ae9-ad6d-436e-8e7b-9a0cd3b30548",
   "metadata": {},
   "source": [
    "Check for quality control failures for any individual sera:"
   ]
  },
  {
   "cell_type": "code",
   "execution_count": 4,
   "id": "1fbc6445-bbd0-4d7e-b50e-a861e03c06b6",
   "metadata": {},
   "outputs": [
    {
     "name": "stdout",
     "output_type": "stream",
     "text": [
      "All serum titers pass the QC filters.\n"
     ]
    }
   ],
   "source": [
    "with open(qc_failures_file) as f:\n",
    "    qc_failures = f.readlines()\n",
    "if not all(line.strip().endswith(\"serum passed all QC\") for line in qc_failures):\n",
    "    raise ValueError(\n",
    "        f\"QC failures for some serum titers. See {qc_failures_file}:\\n\\n\"\n",
    "        + \"\".join(qc_failures)\n",
    "    )\n",
    "else:\n",
    "    print(\"All serum titers pass the QC filters.\")"
   ]
  },
  {
   "cell_type": "markdown",
   "id": "7a89d9f5-a789-454b-9ec6-3186a5d55c7b",
   "metadata": {},
   "source": [
    "Get the merged titers and merged `CurveFits` object:"
   ]
  },
  {
   "cell_type": "code",
   "execution_count": 5,
   "id": "dda8dec6-8981-4f10-9fe2-afc35066929e",
   "metadata": {},
   "outputs": [
    {
     "name": "stdout",
     "output_type": "stream",
     "text": [
      "Writing aggregated titers to results/aggregated_titers/titers.csv\n",
      "Pickling aggregated `CurveFits` to results/aggregated_titers/curvefits.pickle\n"
     ]
    }
   ],
   "source": [
    "assert len(input_titers) == len(input_pickles)\n",
    "\n",
    "titers = pd.concat([pd.read_csv(f) for f in input_titers], ignore_index=True)\n",
    "assert len(titers) == len(titers.groupby([\"serum\", \"virus\"]))\n",
    "print(f\"Writing aggregated titers to {output_titers}\")\n",
    "titers.to_csv(output_titers, index=False, float_format=\"%.4g\")\n",
    "\n",
    "fits_list = []\n",
    "for fname in input_pickles:\n",
    "    with open(fname, \"rb\") as f:\n",
    "        fits_list.append(pickle.load(f))\n",
    "curvefits = neutcurve.CurveFits.combineCurveFits(fits_list)\n",
    "print(f\"Pickling aggregated `CurveFits` to {output_pickle}\")\n",
    "with open(output_pickle, \"wb\") as f:\n",
    "    pickle.dump(curvefits, f)"
   ]
  },
  {
   "cell_type": "markdown",
   "id": "e194786d-c227-403f-bbf9-d8ab3b19b502",
   "metadata": {},
   "source": [
    "Plot all the titers:"
   ]
  },
  {
   "cell_type": "code",
   "execution_count": 37,
   "id": "eb2c2a97-e54a-4875-bc75-d57975017565",
   "metadata": {},
   "outputs": [
    {
     "data": {
      "text/html": [
       "\n",
       "<style>\n",
       "  #altair-viz-fe1a76fd22ba4f008da58dcf923446a5.vega-embed {\n",
       "    width: 100%;\n",
       "    display: flex;\n",
       "  }\n",
       "\n",
       "  #altair-viz-fe1a76fd22ba4f008da58dcf923446a5.vega-embed details,\n",
       "  #altair-viz-fe1a76fd22ba4f008da58dcf923446a5.vega-embed details summary {\n",
       "    position: relative;\n",
       "  }\n",
       "</style>\n",
       "<div id=\"altair-viz-fe1a76fd22ba4f008da58dcf923446a5\"></div>\n",
       "<script type=\"text/javascript\">\n",
       "  var VEGA_DEBUG = (typeof VEGA_DEBUG == \"undefined\") ? {} : VEGA_DEBUG;\n",
       "  (function(spec, embedOpt){\n",
       "    let outputDiv = document.currentScript.previousElementSibling;\n",
       "    if (outputDiv.id !== \"altair-viz-fe1a76fd22ba4f008da58dcf923446a5\") {\n",
       "      outputDiv = document.getElementById(\"altair-viz-fe1a76fd22ba4f008da58dcf923446a5\");\n",
       "    }\n",
       "    const paths = {\n",
       "      \"vega\": \"https://cdn.jsdelivr.net/npm/vega@5?noext\",\n",
       "      \"vega-lib\": \"https://cdn.jsdelivr.net/npm/vega-lib?noext\",\n",
       "      \"vega-lite\": \"https://cdn.jsdelivr.net/npm/vega-lite@5.15.1?noext\",\n",
       "      \"vega-embed\": \"https://cdn.jsdelivr.net/npm/vega-embed@6?noext\",\n",
       "    };\n",
       "\n",
       "    function maybeLoadScript(lib, version) {\n",
       "      var key = `${lib.replace(\"-\", \"\")}_version`;\n",
       "      return (VEGA_DEBUG[key] == version) ?\n",
       "        Promise.resolve(paths[lib]) :\n",
       "        new Promise(function(resolve, reject) {\n",
       "          var s = document.createElement('script');\n",
       "          document.getElementsByTagName(\"head\")[0].appendChild(s);\n",
       "          s.async = true;\n",
       "          s.onload = () => {\n",
       "            VEGA_DEBUG[key] = version;\n",
       "            return resolve(paths[lib]);\n",
       "          };\n",
       "          s.onerror = () => reject(`Error loading script: ${paths[lib]}`);\n",
       "          s.src = paths[lib];\n",
       "        });\n",
       "    }\n",
       "\n",
       "    function showError(err) {\n",
       "      outputDiv.innerHTML = `<div class=\"error\" style=\"color:red;\">${err}</div>`;\n",
       "      throw err;\n",
       "    }\n",
       "\n",
       "    function displayChart(vegaEmbed) {\n",
       "      vegaEmbed(outputDiv, spec, embedOpt)\n",
       "        .catch(err => showError(`Javascript Error: ${err.message}<br>This usually means there's a typo in your chart specification. See the javascript console for the full traceback.`));\n",
       "    }\n",
       "\n",
       "    if(typeof define === \"function\" && define.amd) {\n",
       "      requirejs.config({paths});\n",
       "      require([\"vega-embed\"], displayChart, err => showError(`Error loading script: ${err.message}`));\n",
       "    } else {\n",
       "      maybeLoadScript(\"vega\", \"5\")\n",
       "        .then(() => maybeLoadScript(\"vega-lite\", \"5.15.1\"))\n",
       "        .then(() => maybeLoadScript(\"vega-embed\", \"6\"))\n",
       "        .catch(showError)\n",
       "        .then(() => displayChart(vegaEmbed));\n",
       "    }\n",
       "  })({\"config\": {\"view\": {\"continuousWidth\": 300, \"continuousHeight\": 300}, \"axis\": {\"grid\": false}, \"point\": {\"size\": 45}}, \"data\": {\"name\": \"data-8e29d212ab73b5c720e4be0ea035ed33\"}, \"mark\": {\"type\": \"line\", \"point\": true, \"size\": 1}, \"encoding\": {\"color\": {\"condition\": {\"param\": \"param_5\", \"value\": \"red\", \"empty\": false}, \"value\": \"black\"}, \"facet\": {\"columns\": 3, \"field\": \"serum\", \"header\": {\"labelFontSize\": 11, \"labelFontStyle\": \"bold\", \"labelPadding\": 0, \"title\": null}, \"spacing\": 3, \"type\": \"nominal\"}, \"tooltip\": [{\"field\": \"serum\", \"type\": \"nominal\"}, {\"field\": \"virus\", \"type\": \"nominal\"}, {\"field\": \"nt50\", \"format\": \".3g\", \"title\": \"NT50\", \"type\": \"quantitative\"}, {\"field\": \"n_replicates\", \"type\": \"quantitative\"}], \"x\": {\"axis\": {\"labelOverlap\": true}, \"field\": \"nt50\", \"scale\": {\"nice\": false, \"padding\": 4, \"type\": \"log\"}, \"title\": \"neutralization titer\", \"type\": \"quantitative\"}, \"y\": {\"field\": \"virus\", \"sort\": [\"A/California/07/2009\", \"A/Michigan/45/2015\", \"A/Brisbane/02/2018\", \"A/Ghana/2080/2020\", \"A/Cote_DIvoire/1448/2021\", \"A/Ghana/138/2020\", \"A/Togo/845/2020\", \"A/Togo/0274/2021\", \"A/Hawaii/70/2019\", \"A/Niger/10217/2021\", \"A/SouthAfrica/R16462/2021\", \"A/Togo/0304/2021\", \"A/Paris/31196/2021\", \"A/Belgium/H0017/2022\", \"A/England/220200318/2022\", \"A/Paris/30353/2021\", \"A/Nimes/871/2021\", \"A/Belgium/H0038/2022\", \"A/Wisconsin/588/2019\", \"A/Washington/23/2020\", \"A/India/Pun-NIV312851/2021\", \"A/India-PUN-NIV328484/2021\", \"A/Bangladesh/8036/2021\", \"A/Perth/1/2022\", \"A/SouthAfrica/R14850/2021\", \"A/Norway/25089/2022\", \"A/Bangladesh/3210810034/2021\", \"A/Chester/5355/2022\", \"A/Michigan/19/2021\", \"A/Utah/27/2022\", \"A/Newcastle/2/2022\", \"A/India-Pune-Nivcov2221170/2022\", \"A/Sydney/43/2022\", \"A/Brisbane/48/2022\", \"A/Bangladesh/8002/2021\", \"A/Bangladesh/2221/2021\"], \"type\": \"nominal\"}}, \"height\": {\"step\": 11}, \"params\": [{\"name\": \"param_5\", \"select\": {\"type\": \"point\", \"fields\": [\"virus\"], \"on\": \"mouseover\"}}], \"width\": 100, \"$schema\": \"https://vega.github.io/schema/vega-lite/v5.15.1.json\", \"datasets\": {\"data-8e29d212ab73b5c720e4be0ea035ed33\": [{\"serum\": \"M099d0\", \"virus\": \"A/Bangladesh/2221/2021\", \"nt50\": 221.1, \"n_replicates\": 6, \"nt50_stderr\": 73.84, \"nt50_bound\": \"interpolated\"}, {\"serum\": \"M099d0\", \"virus\": \"A/Bangladesh/3210810034/2021\", \"nt50\": 196.9, \"n_replicates\": 4, \"nt50_stderr\": 97.86, \"nt50_bound\": \"interpolated\"}, {\"serum\": \"M099d0\", \"virus\": \"A/Bangladesh/8002/2021\", \"nt50\": 292.2, \"n_replicates\": 6, \"nt50_stderr\": 117.8, \"nt50_bound\": \"interpolated\"}, {\"serum\": \"M099d0\", \"virus\": \"A/Bangladesh/8036/2021\", \"nt50\": 285.3, \"n_replicates\": 6, \"nt50_stderr\": 63.76, \"nt50_bound\": \"interpolated\"}, {\"serum\": \"M099d0\", \"virus\": \"A/Belgium/H0017/2022\", \"nt50\": 566.1, \"n_replicates\": 6, \"nt50_stderr\": 38.77, \"nt50_bound\": \"interpolated\"}, {\"serum\": \"M099d0\", \"virus\": \"A/Belgium/H0038/2022\", \"nt50\": 820.1, \"n_replicates\": 6, \"nt50_stderr\": 202.5, \"nt50_bound\": \"interpolated\"}, {\"serum\": \"M099d0\", \"virus\": \"A/Brisbane/02/2018\", \"nt50\": 703.4, \"n_replicates\": 8, \"nt50_stderr\": 254.8, \"nt50_bound\": \"interpolated\"}, {\"serum\": \"M099d0\", \"virus\": \"A/Brisbane/48/2022\", \"nt50\": 210.8, \"n_replicates\": 6, \"nt50_stderr\": 63.33, \"nt50_bound\": \"interpolated\"}, {\"serum\": \"M099d0\", \"virus\": \"A/California/07/2009\", \"nt50\": 649.2, \"n_replicates\": 8, \"nt50_stderr\": 76.09, \"nt50_bound\": \"interpolated\"}, {\"serum\": \"M099d0\", \"virus\": \"A/Chester/5355/2022\", \"nt50\": 386.8, \"n_replicates\": 6, \"nt50_stderr\": 84.54, \"nt50_bound\": \"interpolated\"}, {\"serum\": \"M099d0\", \"virus\": \"A/Cote_DIvoire/1448/2021\", \"nt50\": 608.5, \"n_replicates\": 6, \"nt50_stderr\": 137.6, \"nt50_bound\": \"interpolated\"}, {\"serum\": \"M099d0\", \"virus\": \"A/England/220200318/2022\", \"nt50\": 632.2, \"n_replicates\": 6, \"nt50_stderr\": 189.4, \"nt50_bound\": \"interpolated\"}, {\"serum\": \"M099d0\", \"virus\": \"A/Ghana/138/2020\", \"nt50\": 702.2, \"n_replicates\": 6, \"nt50_stderr\": 83.55, \"nt50_bound\": \"interpolated\"}, {\"serum\": \"M099d0\", \"virus\": \"A/Ghana/2080/2020\", \"nt50\": 637.9, \"n_replicates\": 6, \"nt50_stderr\": 51.65, \"nt50_bound\": \"interpolated\"}, {\"serum\": \"M099d0\", \"virus\": \"A/Hawaii/70/2019\", \"nt50\": 636.5, \"n_replicates\": 8, \"nt50_stderr\": 127.0, \"nt50_bound\": \"interpolated\"}, {\"serum\": \"M099d0\", \"virus\": \"A/India-PUN-NIV328484/2021\", \"nt50\": 361.3, \"n_replicates\": 6, \"nt50_stderr\": 72.32, \"nt50_bound\": \"interpolated\"}, {\"serum\": \"M099d0\", \"virus\": \"A/India-Pune-Nivcov2221170/2022\", \"nt50\": 193.8, \"n_replicates\": 4, \"nt50_stderr\": 23.26, \"nt50_bound\": \"interpolated\"}, {\"serum\": \"M099d0\", \"virus\": \"A/India/Pun-NIV312851/2021\", \"nt50\": 288.4, \"n_replicates\": 6, \"nt50_stderr\": 58.69, \"nt50_bound\": \"interpolated\"}, {\"serum\": \"M099d0\", \"virus\": \"A/Michigan/19/2021\", \"nt50\": 382.9, \"n_replicates\": 6, \"nt50_stderr\": 130.2, \"nt50_bound\": \"interpolated\"}, {\"serum\": \"M099d0\", \"virus\": \"A/Michigan/45/2015\", \"nt50\": 998.0, \"n_replicates\": 8, \"nt50_stderr\": 128.7, \"nt50_bound\": \"interpolated\"}, {\"serum\": \"M099d0\", \"virus\": \"A/Newcastle/2/2022\", \"nt50\": 312.3, \"n_replicates\": 6, \"nt50_stderr\": 60.83, \"nt50_bound\": \"interpolated\"}, {\"serum\": \"M099d0\", \"virus\": \"A/Niger/10217/2021\", \"nt50\": 704.3, \"n_replicates\": 6, \"nt50_stderr\": 86.0, \"nt50_bound\": \"interpolated\"}, {\"serum\": \"M099d0\", \"virus\": \"A/Nimes/871/2021\", \"nt50\": 1025.0, \"n_replicates\": 6, \"nt50_stderr\": 219.5, \"nt50_bound\": \"interpolated\"}, {\"serum\": \"M099d0\", \"virus\": \"A/Norway/25089/2022\", \"nt50\": 214.8, \"n_replicates\": 5, \"nt50_stderr\": 71.67, \"nt50_bound\": \"interpolated\"}, {\"serum\": \"M099d0\", \"virus\": \"A/Paris/30353/2021\", \"nt50\": 677.5, \"n_replicates\": 6, \"nt50_stderr\": 92.85, \"nt50_bound\": \"interpolated\"}, {\"serum\": \"M099d0\", \"virus\": \"A/Paris/31196/2021\", \"nt50\": 983.3, \"n_replicates\": 6, \"nt50_stderr\": 138.4, \"nt50_bound\": \"interpolated\"}, {\"serum\": \"M099d0\", \"virus\": \"A/Perth/1/2022\", \"nt50\": 357.8, \"n_replicates\": 6, \"nt50_stderr\": 75.71, \"nt50_bound\": \"interpolated\"}, {\"serum\": \"M099d0\", \"virus\": \"A/SouthAfrica/R14850/2021\", \"nt50\": 423.2, \"n_replicates\": 6, \"nt50_stderr\": 67.79, \"nt50_bound\": \"interpolated\"}, {\"serum\": \"M099d0\", \"virus\": \"A/SouthAfrica/R16462/2021\", \"nt50\": 764.5, \"n_replicates\": 6, \"nt50_stderr\": 163.3, \"nt50_bound\": \"interpolated\"}, {\"serum\": \"M099d0\", \"virus\": \"A/Sydney/43/2022\", \"nt50\": 247.6, \"n_replicates\": 6, \"nt50_stderr\": 38.78, \"nt50_bound\": \"interpolated\"}, {\"serum\": \"M099d0\", \"virus\": \"A/Togo/0274/2021\", \"nt50\": 831.6, \"n_replicates\": 6, \"nt50_stderr\": 126.6, \"nt50_bound\": \"interpolated\"}, {\"serum\": \"M099d0\", \"virus\": \"A/Togo/0304/2021\", \"nt50\": 723.4, \"n_replicates\": 6, \"nt50_stderr\": 122.7, \"nt50_bound\": \"interpolated\"}, {\"serum\": \"M099d0\", \"virus\": \"A/Togo/845/2020\", \"nt50\": 754.3, \"n_replicates\": 6, \"nt50_stderr\": 178.9, \"nt50_bound\": \"interpolated\"}, {\"serum\": \"M099d0\", \"virus\": \"A/Utah/27/2022\", \"nt50\": 216.2, \"n_replicates\": 6, \"nt50_stderr\": 43.03, \"nt50_bound\": \"interpolated\"}, {\"serum\": \"M099d0\", \"virus\": \"A/Washington/23/2020\", \"nt50\": 420.0, \"n_replicates\": 6, \"nt50_stderr\": 74.41, \"nt50_bound\": \"interpolated\"}, {\"serum\": \"M099d0\", \"virus\": \"A/Wisconsin/588/2019\", \"nt50\": 271.3, \"n_replicates\": 5, \"nt50_stderr\": 70.86, \"nt50_bound\": \"interpolated\"}, {\"serum\": \"M099d30\", \"virus\": \"A/Bangladesh/2221/2021\", \"nt50\": 1534.0, \"n_replicates\": 6, \"nt50_stderr\": 187.6, \"nt50_bound\": \"interpolated\"}, {\"serum\": \"M099d30\", \"virus\": \"A/Bangladesh/3210810034/2021\", \"nt50\": 1456.0, \"n_replicates\": 4, \"nt50_stderr\": 112.7, \"nt50_bound\": \"interpolated\"}, {\"serum\": \"M099d30\", \"virus\": \"A/Bangladesh/8002/2021\", \"nt50\": 1646.0, \"n_replicates\": 6, \"nt50_stderr\": 230.4, \"nt50_bound\": \"interpolated\"}, {\"serum\": \"M099d30\", \"virus\": \"A/Bangladesh/8036/2021\", \"nt50\": 1678.0, \"n_replicates\": 6, \"nt50_stderr\": 43.41, \"nt50_bound\": \"interpolated\"}, {\"serum\": \"M099d30\", \"virus\": \"A/Belgium/H0017/2022\", \"nt50\": 2516.0, \"n_replicates\": 6, \"nt50_stderr\": 501.1, \"nt50_bound\": \"interpolated\"}, {\"serum\": \"M099d30\", \"virus\": \"A/Belgium/H0038/2022\", \"nt50\": 2532.0, \"n_replicates\": 6, \"nt50_stderr\": 613.8, \"nt50_bound\": \"interpolated\"}, {\"serum\": \"M099d30\", \"virus\": \"A/Brisbane/02/2018\", \"nt50\": 5376.0, \"n_replicates\": 8, \"nt50_stderr\": 1014.0, \"nt50_bound\": \"interpolated\"}, {\"serum\": \"M099d30\", \"virus\": \"A/Brisbane/48/2022\", \"nt50\": 1397.0, \"n_replicates\": 6, \"nt50_stderr\": 57.84, \"nt50_bound\": \"interpolated\"}, {\"serum\": \"M099d30\", \"virus\": \"A/California/07/2009\", \"nt50\": 4680.0, \"n_replicates\": 8, \"nt50_stderr\": 938.3, \"nt50_bound\": \"interpolated\"}, {\"serum\": \"M099d30\", \"virus\": \"A/Chester/5355/2022\", \"nt50\": 1411.0, \"n_replicates\": 5, \"nt50_stderr\": 100.7, \"nt50_bound\": \"interpolated\"}, {\"serum\": \"M099d30\", \"virus\": \"A/Cote_DIvoire/1448/2021\", \"nt50\": 3237.0, \"n_replicates\": 6, \"nt50_stderr\": 412.6, \"nt50_bound\": \"interpolated\"}, {\"serum\": \"M099d30\", \"virus\": \"A/England/220200318/2022\", \"nt50\": 2696.0, \"n_replicates\": 6, \"nt50_stderr\": 561.0, \"nt50_bound\": \"interpolated\"}, {\"serum\": \"M099d30\", \"virus\": \"A/Ghana/138/2020\", \"nt50\": 1824.0, \"n_replicates\": 6, \"nt50_stderr\": 426.4, \"nt50_bound\": \"interpolated\"}, {\"serum\": \"M099d30\", \"virus\": \"A/Ghana/2080/2020\", \"nt50\": 2974.0, \"n_replicates\": 6, \"nt50_stderr\": 496.5, \"nt50_bound\": \"interpolated\"}, {\"serum\": \"M099d30\", \"virus\": \"A/Hawaii/70/2019\", \"nt50\": 3124.0, \"n_replicates\": 8, \"nt50_stderr\": 421.3, \"nt50_bound\": \"interpolated\"}, {\"serum\": \"M099d30\", \"virus\": \"A/India-PUN-NIV328484/2021\", \"nt50\": 1970.0, \"n_replicates\": 6, \"nt50_stderr\": 602.3, \"nt50_bound\": \"interpolated\"}, {\"serum\": \"M099d30\", \"virus\": \"A/India-Pune-Nivcov2221170/2022\", \"nt50\": 1015.0, \"n_replicates\": 4, \"nt50_stderr\": 21.79, \"nt50_bound\": \"interpolated\"}, {\"serum\": \"M099d30\", \"virus\": \"A/India/Pun-NIV312851/2021\", \"nt50\": 1658.0, \"n_replicates\": 6, \"nt50_stderr\": 599.8, \"nt50_bound\": \"interpolated\"}, {\"serum\": \"M099d30\", \"virus\": \"A/Michigan/19/2021\", \"nt50\": 1720.0, \"n_replicates\": 6, \"nt50_stderr\": 26.97, \"nt50_bound\": \"interpolated\"}, {\"serum\": \"M099d30\", \"virus\": \"A/Michigan/45/2015\", \"nt50\": 5283.0, \"n_replicates\": 8, \"nt50_stderr\": 1399.0, \"nt50_bound\": \"interpolated\"}, {\"serum\": \"M099d30\", \"virus\": \"A/Newcastle/2/2022\", \"nt50\": 1550.0, \"n_replicates\": 6, \"nt50_stderr\": 336.4, \"nt50_bound\": \"interpolated\"}, {\"serum\": \"M099d30\", \"virus\": \"A/Niger/10217/2021\", \"nt50\": 1738.0, \"n_replicates\": 6, \"nt50_stderr\": 124.7, \"nt50_bound\": \"interpolated\"}, {\"serum\": \"M099d30\", \"virus\": \"A/Nimes/871/2021\", \"nt50\": 3310.0, \"n_replicates\": 6, \"nt50_stderr\": 392.1, \"nt50_bound\": \"interpolated\"}, {\"serum\": \"M099d30\", \"virus\": \"A/Norway/25089/2022\", \"nt50\": 646.0, \"n_replicates\": 6, \"nt50_stderr\": 160.0, \"nt50_bound\": \"interpolated\"}, {\"serum\": \"M099d30\", \"virus\": \"A/Paris/30353/2021\", \"nt50\": 1696.0, \"n_replicates\": 6, \"nt50_stderr\": 358.6, \"nt50_bound\": \"interpolated\"}, {\"serum\": \"M099d30\", \"virus\": \"A/Paris/31196/2021\", \"nt50\": 3300.0, \"n_replicates\": 6, \"nt50_stderr\": 1342.0, \"nt50_bound\": \"interpolated\"}, {\"serum\": \"M099d30\", \"virus\": \"A/Perth/1/2022\", \"nt50\": 1760.0, \"n_replicates\": 6, \"nt50_stderr\": 147.2, \"nt50_bound\": \"interpolated\"}, {\"serum\": \"M099d30\", \"virus\": \"A/SouthAfrica/R14850/2021\", \"nt50\": 1088.0, \"n_replicates\": 6, \"nt50_stderr\": 145.0, \"nt50_bound\": \"interpolated\"}, {\"serum\": \"M099d30\", \"virus\": \"A/SouthAfrica/R16462/2021\", \"nt50\": 1868.0, \"n_replicates\": 6, \"nt50_stderr\": 425.8, \"nt50_bound\": \"interpolated\"}, {\"serum\": \"M099d30\", \"virus\": \"A/Sydney/43/2022\", \"nt50\": 1187.0, \"n_replicates\": 6, \"nt50_stderr\": 346.5, \"nt50_bound\": \"interpolated\"}, {\"serum\": \"M099d30\", \"virus\": \"A/Togo/0274/2021\", \"nt50\": 2726.0, \"n_replicates\": 6, \"nt50_stderr\": 315.8, \"nt50_bound\": \"interpolated\"}, {\"serum\": \"M099d30\", \"virus\": \"A/Togo/0304/2021\", \"nt50\": 1828.0, \"n_replicates\": 6, \"nt50_stderr\": 494.7, \"nt50_bound\": \"interpolated\"}, {\"serum\": \"M099d30\", \"virus\": \"A/Togo/845/2020\", \"nt50\": 1972.0, \"n_replicates\": 6, \"nt50_stderr\": 169.5, \"nt50_bound\": \"interpolated\"}, {\"serum\": \"M099d30\", \"virus\": \"A/Utah/27/2022\", \"nt50\": 1410.0, \"n_replicates\": 6, \"nt50_stderr\": 119.8, \"nt50_bound\": \"interpolated\"}, {\"serum\": \"M099d30\", \"virus\": \"A/Washington/23/2020\", \"nt50\": 2549.0, \"n_replicates\": 6, \"nt50_stderr\": 433.3, \"nt50_bound\": \"interpolated\"}, {\"serum\": \"M099d30\", \"virus\": \"A/Wisconsin/588/2019\", \"nt50\": 2348.0, \"n_replicates\": 6, \"nt50_stderr\": 534.9, \"nt50_bound\": \"interpolated\"}, {\"serum\": \"Y044d30\", \"virus\": \"A/Bangladesh/2221/2021\", \"nt50\": 2125.0, \"n_replicates\": 3, \"nt50_stderr\": 881.8, \"nt50_bound\": \"interpolated\"}, {\"serum\": \"Y044d30\", \"virus\": \"A/Bangladesh/3210810034/2021\", \"nt50\": 535.2, \"n_replicates\": 2, \"nt50_stderr\": 67.55, \"nt50_bound\": \"interpolated\"}, {\"serum\": \"Y044d30\", \"virus\": \"A/Bangladesh/8002/2021\", \"nt50\": 1204.0, \"n_replicates\": 3, \"nt50_stderr\": 114.1, \"nt50_bound\": \"interpolated\"}, {\"serum\": \"Y044d30\", \"virus\": \"A/Bangladesh/8036/2021\", \"nt50\": 1641.0, \"n_replicates\": 3, \"nt50_stderr\": 1227.0, \"nt50_bound\": \"interpolated\"}, {\"serum\": \"Y044d30\", \"virus\": \"A/Belgium/H0017/2022\", \"nt50\": 14430.0, \"n_replicates\": 3, \"nt50_stderr\": 1161.0, \"nt50_bound\": \"interpolated\"}, {\"serum\": \"Y044d30\", \"virus\": \"A/Belgium/H0038/2022\", \"nt50\": 14420.0, \"n_replicates\": 3, \"nt50_stderr\": 497.9, \"nt50_bound\": \"interpolated\"}, {\"serum\": \"Y044d30\", \"virus\": \"A/Brisbane/02/2018\", \"nt50\": 12910.0, \"n_replicates\": 4, \"nt50_stderr\": 2489.0, \"nt50_bound\": \"interpolated\"}, {\"serum\": \"Y044d30\", \"virus\": \"A/Brisbane/48/2022\", \"nt50\": 986.9, \"n_replicates\": 3, \"nt50_stderr\": 1024.0, \"nt50_bound\": \"interpolated\"}, {\"serum\": \"Y044d30\", \"virus\": \"A/California/07/2009\", \"nt50\": 9227.0, \"n_replicates\": 4, \"nt50_stderr\": 1970.0, \"nt50_bound\": \"interpolated\"}, {\"serum\": \"Y044d30\", \"virus\": \"A/Chester/5355/2022\", \"nt50\": 2008.0, \"n_replicates\": 3, \"nt50_stderr\": 1087.0, \"nt50_bound\": \"interpolated\"}, {\"serum\": \"Y044d30\", \"virus\": \"A/Cote_DIvoire/1448/2021\", \"nt50\": 15560.0, \"n_replicates\": 3, \"nt50_stderr\": 1401.0, \"nt50_bound\": \"interpolated\"}, {\"serum\": \"Y044d30\", \"virus\": \"A/England/220200318/2022\", \"nt50\": 15620.0, \"n_replicates\": 3, \"nt50_stderr\": 628.9, \"nt50_bound\": \"interpolated\"}, {\"serum\": \"Y044d30\", \"virus\": \"A/Ghana/138/2020\", \"nt50\": 17090.0, \"n_replicates\": 3, \"nt50_stderr\": 2122.0, \"nt50_bound\": \"interpolated\"}, {\"serum\": \"Y044d30\", \"virus\": \"A/Ghana/2080/2020\", \"nt50\": 15880.0, \"n_replicates\": 3, \"nt50_stderr\": 145.0, \"nt50_bound\": \"interpolated\"}, {\"serum\": \"Y044d30\", \"virus\": \"A/Hawaii/70/2019\", \"nt50\": 13790.0, \"n_replicates\": 4, \"nt50_stderr\": 2671.0, \"nt50_bound\": \"interpolated\"}, {\"serum\": \"Y044d30\", \"virus\": \"A/India-PUN-NIV328484/2021\", \"nt50\": 1200.0, \"n_replicates\": 3, \"nt50_stderr\": 1314.0, \"nt50_bound\": \"interpolated\"}, {\"serum\": \"Y044d30\", \"virus\": \"A/India-Pune-Nivcov2221170/2022\", \"nt50\": 1416.0, \"n_replicates\": 2, \"nt50_stderr\": 227.5, \"nt50_bound\": \"interpolated\"}, {\"serum\": \"Y044d30\", \"virus\": \"A/India/Pun-NIV312851/2021\", \"nt50\": 900.8, \"n_replicates\": 3, \"nt50_stderr\": 130.9, \"nt50_bound\": \"interpolated\"}, {\"serum\": \"Y044d30\", \"virus\": \"A/Michigan/19/2021\", \"nt50\": 926.6, \"n_replicates\": 3, \"nt50_stderr\": 137.8, \"nt50_bound\": \"interpolated\"}, {\"serum\": \"Y044d30\", \"virus\": \"A/Michigan/45/2015\", \"nt50\": 13700.0, \"n_replicates\": 4, \"nt50_stderr\": 1383.0, \"nt50_bound\": \"interpolated\"}, {\"serum\": \"Y044d30\", \"virus\": \"A/Newcastle/2/2022\", \"nt50\": 859.0, \"n_replicates\": 3, \"nt50_stderr\": 128.5, \"nt50_bound\": \"interpolated\"}, {\"serum\": \"Y044d30\", \"virus\": \"A/Niger/10217/2021\", \"nt50\": 11800.0, \"n_replicates\": 3, \"nt50_stderr\": 840.0, \"nt50_bound\": \"interpolated\"}, {\"serum\": \"Y044d30\", \"virus\": \"A/Nimes/871/2021\", \"nt50\": 15320.0, \"n_replicates\": 3, \"nt50_stderr\": 102.6, \"nt50_bound\": \"interpolated\"}, {\"serum\": \"Y044d30\", \"virus\": \"A/Norway/25089/2022\", \"nt50\": 932.6, \"n_replicates\": 3, \"nt50_stderr\": 152.1, \"nt50_bound\": \"interpolated\"}, {\"serum\": \"Y044d30\", \"virus\": \"A/Paris/30353/2021\", \"nt50\": 8269.0, \"n_replicates\": 3, \"nt50_stderr\": 3439.0, \"nt50_bound\": \"interpolated\"}, {\"serum\": \"Y044d30\", \"virus\": \"A/Paris/31196/2021\", \"nt50\": 14230.0, \"n_replicates\": 3, \"nt50_stderr\": 1790.0, \"nt50_bound\": \"interpolated\"}, {\"serum\": \"Y044d30\", \"virus\": \"A/Perth/1/2022\", \"nt50\": 999.8, \"n_replicates\": 3, \"nt50_stderr\": 784.4, \"nt50_bound\": \"interpolated\"}, {\"serum\": \"Y044d30\", \"virus\": \"A/SouthAfrica/R14850/2021\", \"nt50\": 531.4, \"n_replicates\": 3, \"nt50_stderr\": 98.51, \"nt50_bound\": \"interpolated\"}, {\"serum\": \"Y044d30\", \"virus\": \"A/SouthAfrica/R16462/2021\", \"nt50\": 15350.0, \"n_replicates\": 3, \"nt50_stderr\": 253.1, \"nt50_bound\": \"interpolated\"}, {\"serum\": \"Y044d30\", \"virus\": \"A/Sydney/43/2022\", \"nt50\": 1640.0, \"n_replicates\": 3, \"nt50_stderr\": 519.7, \"nt50_bound\": \"interpolated\"}, {\"serum\": \"Y044d30\", \"virus\": \"A/Togo/0274/2021\", \"nt50\": 15370.0, \"n_replicates\": 3, \"nt50_stderr\": 4183.0, \"nt50_bound\": \"interpolated\"}, {\"serum\": \"Y044d30\", \"virus\": \"A/Togo/0304/2021\", \"nt50\": 9236.0, \"n_replicates\": 3, \"nt50_stderr\": 3618.0, \"nt50_bound\": \"interpolated\"}, {\"serum\": \"Y044d30\", \"virus\": \"A/Togo/845/2020\", \"nt50\": 16970.0, \"n_replicates\": 3, \"nt50_stderr\": 880.8, \"nt50_bound\": \"interpolated\"}, {\"serum\": \"Y044d30\", \"virus\": \"A/Utah/27/2022\", \"nt50\": 1205.0, \"n_replicates\": 3, \"nt50_stderr\": 175.5, \"nt50_bound\": \"interpolated\"}, {\"serum\": \"Y044d30\", \"virus\": \"A/Washington/23/2020\", \"nt50\": 4387.0, \"n_replicates\": 3, \"nt50_stderr\": 1251.0, \"nt50_bound\": \"interpolated\"}, {\"serum\": \"Y044d30\", \"virus\": \"A/Wisconsin/588/2019\", \"nt50\": 867.4, \"n_replicates\": 3, \"nt50_stderr\": 22.52, \"nt50_bound\": \"interpolated\"}, {\"serum\": \"Y154d182\", \"virus\": \"A/Bangladesh/2221/2021\", \"nt50\": 191.3, \"n_replicates\": 3, \"nt50_stderr\": 2.345, \"nt50_bound\": \"interpolated\"}, {\"serum\": \"Y154d182\", \"virus\": \"A/Bangladesh/3210810034/2021\", \"nt50\": 200.9, \"n_replicates\": 2, \"nt50_stderr\": 7.3, \"nt50_bound\": \"interpolated\"}, {\"serum\": \"Y154d182\", \"virus\": \"A/Bangladesh/8002/2021\", \"nt50\": 203.0, \"n_replicates\": 3, \"nt50_stderr\": 6.583, \"nt50_bound\": \"interpolated\"}, {\"serum\": \"Y154d182\", \"virus\": \"A/Bangladesh/8036/2021\", \"nt50\": 208.6, \"n_replicates\": 3, \"nt50_stderr\": 13.99, \"nt50_bound\": \"interpolated\"}, {\"serum\": \"Y154d182\", \"virus\": \"A/Belgium/H0017/2022\", \"nt50\": 1717.0, \"n_replicates\": 3, \"nt50_stderr\": 533.9, \"nt50_bound\": \"interpolated\"}, {\"serum\": \"Y154d182\", \"virus\": \"A/Belgium/H0038/2022\", \"nt50\": 3018.0, \"n_replicates\": 3, \"nt50_stderr\": 340.4, \"nt50_bound\": \"interpolated\"}, {\"serum\": \"Y154d182\", \"virus\": \"A/Brisbane/02/2018\", \"nt50\": 3786.0, \"n_replicates\": 4, \"nt50_stderr\": 443.6, \"nt50_bound\": \"interpolated\"}, {\"serum\": \"Y154d182\", \"virus\": \"A/Brisbane/48/2022\", \"nt50\": 198.9, \"n_replicates\": 3, \"nt50_stderr\": 3.967, \"nt50_bound\": \"interpolated\"}, {\"serum\": \"Y154d182\", \"virus\": \"A/California/07/2009\", \"nt50\": 4098.0, \"n_replicates\": 4, \"nt50_stderr\": 650.2, \"nt50_bound\": \"interpolated\"}, {\"serum\": \"Y154d182\", \"virus\": \"A/Chester/5355/2022\", \"nt50\": 201.6, \"n_replicates\": 3, \"nt50_stderr\": 7.105, \"nt50_bound\": \"interpolated\"}, {\"serum\": \"Y154d182\", \"virus\": \"A/Cote_DIvoire/1448/2021\", \"nt50\": 3124.0, \"n_replicates\": 3, \"nt50_stderr\": 520.3, \"nt50_bound\": \"interpolated\"}, {\"serum\": \"Y154d182\", \"virus\": \"A/England/220200318/2022\", \"nt50\": 2513.0, \"n_replicates\": 3, \"nt50_stderr\": 663.2, \"nt50_bound\": \"interpolated\"}, {\"serum\": \"Y154d182\", \"virus\": \"A/Ghana/138/2020\", \"nt50\": 2794.0, \"n_replicates\": 3, \"nt50_stderr\": 294.1, \"nt50_bound\": \"interpolated\"}, {\"serum\": \"Y154d182\", \"virus\": \"A/Ghana/2080/2020\", \"nt50\": 2762.0, \"n_replicates\": 3, \"nt50_stderr\": 665.4, \"nt50_bound\": \"interpolated\"}, {\"serum\": \"Y154d182\", \"virus\": \"A/Hawaii/70/2019\", \"nt50\": 3675.0, \"n_replicates\": 4, \"nt50_stderr\": 496.1, \"nt50_bound\": \"interpolated\"}, {\"serum\": \"Y154d182\", \"virus\": \"A/India-PUN-NIV328484/2021\", \"nt50\": 239.5, \"n_replicates\": 3, \"nt50_stderr\": 40.3, \"nt50_bound\": \"interpolated\"}, {\"serum\": \"Y154d182\", \"virus\": \"A/India-Pune-Nivcov2221170/2022\", \"nt50\": 170.2, \"n_replicates\": 2, \"nt50_stderr\": 1.3, \"nt50_bound\": \"interpolated\"}, {\"serum\": \"Y154d182\", \"virus\": \"A/India/Pun-NIV312851/2021\", \"nt50\": 218.8, \"n_replicates\": 3, \"nt50_stderr\": 76.96, \"nt50_bound\": \"interpolated\"}, {\"serum\": \"Y154d182\", \"virus\": \"A/Michigan/19/2021\", \"nt50\": 208.9, \"n_replicates\": 3, \"nt50_stderr\": 72.27, \"nt50_bound\": \"interpolated\"}, {\"serum\": \"Y154d182\", \"virus\": \"A/Michigan/45/2015\", \"nt50\": 5578.0, \"n_replicates\": 4, \"nt50_stderr\": 1182.0, \"nt50_bound\": \"interpolated\"}, {\"serum\": \"Y154d182\", \"virus\": \"A/Newcastle/2/2022\", \"nt50\": 215.6, \"n_replicates\": 3, \"nt50_stderr\": 40.11, \"nt50_bound\": \"interpolated\"}, {\"serum\": \"Y154d182\", \"virus\": \"A/Niger/10217/2021\", \"nt50\": 2938.0, \"n_replicates\": 3, \"nt50_stderr\": 423.0, \"nt50_bound\": \"interpolated\"}, {\"serum\": \"Y154d182\", \"virus\": \"A/Nimes/871/2021\", \"nt50\": 3441.0, \"n_replicates\": 3, \"nt50_stderr\": 568.7, \"nt50_bound\": \"interpolated\"}, {\"serum\": \"Y154d182\", \"virus\": \"A/Norway/25089/2022\", \"nt50\": 191.2, \"n_replicates\": 3, \"nt50_stderr\": 66.9, \"nt50_bound\": \"interpolated\"}, {\"serum\": \"Y154d182\", \"virus\": \"A/Paris/30353/2021\", \"nt50\": 2306.0, \"n_replicates\": 3, \"nt50_stderr\": 307.3, \"nt50_bound\": \"interpolated\"}, {\"serum\": \"Y154d182\", \"virus\": \"A/Paris/31196/2021\", \"nt50\": 5608.0, \"n_replicates\": 3, \"nt50_stderr\": 1716.0, \"nt50_bound\": \"interpolated\"}, {\"serum\": \"Y154d182\", \"virus\": \"A/Perth/1/2022\", \"nt50\": 259.4, \"n_replicates\": 3, \"nt50_stderr\": 24.65, \"nt50_bound\": \"interpolated\"}, {\"serum\": \"Y154d182\", \"virus\": \"A/SouthAfrica/R14850/2021\", \"nt50\": 200.2, \"n_replicates\": 3, \"nt50_stderr\": 5.32, \"nt50_bound\": \"interpolated\"}, {\"serum\": \"Y154d182\", \"virus\": \"A/SouthAfrica/R16462/2021\", \"nt50\": 3200.0, \"n_replicates\": 3, \"nt50_stderr\": 785.8, \"nt50_bound\": \"interpolated\"}, {\"serum\": \"Y154d182\", \"virus\": \"A/Sydney/43/2022\", \"nt50\": 237.9, \"n_replicates\": 3, \"nt50_stderr\": 46.09, \"nt50_bound\": \"interpolated\"}, {\"serum\": \"Y154d182\", \"virus\": \"A/Togo/0274/2021\", \"nt50\": 3474.0, \"n_replicates\": 3, \"nt50_stderr\": 600.4, \"nt50_bound\": \"interpolated\"}, {\"serum\": \"Y154d182\", \"virus\": \"A/Togo/0304/2021\", \"nt50\": 2602.0, \"n_replicates\": 3, \"nt50_stderr\": 631.4, \"nt50_bound\": \"interpolated\"}, {\"serum\": \"Y154d182\", \"virus\": \"A/Togo/845/2020\", \"nt50\": 1815.0, \"n_replicates\": 3, \"nt50_stderr\": 265.8, \"nt50_bound\": \"interpolated\"}, {\"serum\": \"Y154d182\", \"virus\": \"A/Utah/27/2022\", \"nt50\": 236.2, \"n_replicates\": 3, \"nt50_stderr\": 16.55, \"nt50_bound\": \"interpolated\"}, {\"serum\": \"Y154d182\", \"virus\": \"A/Washington/23/2020\", \"nt50\": 620.8, \"n_replicates\": 3, \"nt50_stderr\": 17.26, \"nt50_bound\": \"interpolated\"}, {\"serum\": \"Y154d182\", \"virus\": \"A/Wisconsin/588/2019\", \"nt50\": 1153.0, \"n_replicates\": 3, \"nt50_stderr\": 295.6, \"nt50_bound\": \"interpolated\"}]}}, {\"mode\": \"vega-lite\"});\n",
       "</script>"
      ],
      "text/plain": [
       "alt.Chart(...)"
      ]
     },
     "execution_count": 37,
     "metadata": {},
     "output_type": "execute_result"
    }
   ],
   "source": [
    "viruses = [v for v in viral_strain_plot_order if v in curvefits.allviruses]\n",
    "\n",
    "virus_selection = alt.selection_point(fields=[\"virus\"], on=\"mouseover\", empty=False)\n",
    "\n",
    "titers_chart = (\n",
    "    alt.Chart(titers)\n",
    "    .add_params(virus_selection)\n",
    "    .encode(\n",
    "        alt.X(\n",
    "            \"nt50\",\n",
    "            title=\"neutralization titer\",\n",
    "            scale=alt.Scale(nice=False, padding=4, type=\"log\"),\n",
    "            axis=alt.Axis(labelOverlap=True),\n",
    "        ),\n",
    "        alt.Y(\"virus\", sort=viruses),\n",
    "        alt.Facet(\n",
    "            \"serum\",\n",
    "            header=alt.Header(title=None, labelFontSize=11, labelFontStyle=\"bold\", labelPadding=0),\n",
    "            spacing=3,\n",
    "            columns=3,\n",
    "        ),\n",
    "        color=alt.condition(virus_selection, alt.value(\"red\"), alt.value(\"black\")),\n",
    "        tooltip=[\"serum\", \"virus\", alt.Tooltip(\"nt50\", title=\"NT50\", format=\".3g\"), \"n_replicates\"],\n",
    "    )\n",
    "    .mark_line(point=True, size=1)\n",
    "    .configure_axis(grid=False)\n",
    "    .configure_point(size=45)\n",
    "    .properties(\n",
    "        height=alt.Step(11),\n",
    "        width=100,\n",
    "    )\n",
    ")\n",
    "\n",
    "titers_chart"
   ]
  },
  {
   "cell_type": "code",
   "execution_count": null,
   "id": "747aa5f2-2a81-459e-bf8d-9933e07fcce6",
   "metadata": {},
   "outputs": [],
   "source": []
  }
 ],
 "metadata": {
  "kernelspec": {
   "display_name": "Python 3 (ipykernel)",
   "language": "python",
   "name": "python3"
  },
  "language_info": {
   "codemirror_mode": {
    "name": "ipython",
    "version": 3
   },
   "file_extension": ".py",
   "mimetype": "text/x-python",
   "name": "python",
   "nbconvert_exporter": "python",
   "pygments_lexer": "ipython3",
   "version": "3.11.6"
  }
 },
 "nbformat": 4,
 "nbformat_minor": 5
}
