{
 "cells": [
  {
   "cell_type": "markdown",
   "id": "abe395dc-8a57-4ee8-b22e-8a1acacf1619",
   "metadata": {},
   "source": [
    "# Aggregate titers across all sera\n",
    "Aggregate the titers across all sera."
   ]
  },
  {
   "cell_type": "code",
   "execution_count": null,
   "id": "f404cc02-6d9a-4a3a-892e-fd73f1e00b52",
   "metadata": {},
   "outputs": [],
   "source": [
    "import pickle\n",
    "\n",
    "import altair as alt\n",
    "\n",
    "import neutcurve\n",
    "\n",
    "import pandas as pd\n",
    "\n",
    "_ = alt.data_transformers.disable_max_rows()"
   ]
  },
  {
   "cell_type": "markdown",
   "id": "be4112bc-7d79-4b38-8e76-ec81588f40e9",
   "metadata": {},
   "source": [
    "Get variables from `snakemake`:"
   ]
  },
  {
   "cell_type": "code",
   "execution_count": null,
   "id": "83425f55-9905-4cc0-b42c-440926e9a81e",
   "metadata": {},
   "outputs": [],
   "source": [
    "input_pickles = snakemake.input.pickles\n",
    "input_titers = snakemake.input.titers\n",
    "output_pickles = snakemake.output.pickles\n",
    "output_titers = snakemake.output.titers\n",
    "titers_chart_html = snakemake.output.titers_chart\n",
    "groups_sera = snakemake.params.groups_sera\n",
    "groups = snakemake.params.groups\n",
    "viral_strain_plot_order = snakemake.params.viral_strain_plot_order"
   ]
  },
  {
   "cell_type": "markdown",
   "id": "e5de9f99-32c2-4bd7-a797-588138f4c2bb",
   "metadata": {},
   "source": [
    "Get the groups ordered by number of sera in each:"
   ]
  },
  {
   "cell_type": "code",
   "execution_count": null,
   "id": "1543e420-ae67-4916-b1a2-373abbe4513c",
   "metadata": {},
   "outputs": [],
   "source": [
    "ordered_groups = [\n",
    "    g\n",
    "    for (_, g) in sorted(\n",
    "        [(sum(g == group for (g, _) in groups_sera), group) for group in groups],\n",
    "        reverse=True,\n",
    "    )\n",
    "]\n",
    "\n",
    "ordered_groups_sera = [\n",
    "    f\"{group} {serum}\"\n",
    "    for group in ordered_groups\n",
    "    for (g, serum) in sorted(groups_sera)\n",
    "    if g == group\n",
    "]"
   ]
  },
  {
   "cell_type": "markdown",
   "id": "7a89d9f5-a789-454b-9ec6-3186a5d55c7b",
   "metadata": {},
   "source": [
    "Get the merged titers and merged `CurveFits` object:"
   ]
  },
  {
   "cell_type": "code",
   "execution_count": null,
   "id": "dda8dec6-8981-4f10-9fe2-afc35066929e",
   "metadata": {},
   "outputs": [],
   "source": [
    "assert len(input_titers) == len(input_pickles) == len(groups_sera)\n",
    "assert len(groups) == len(output_titers) == len(output_pickles)\n",
    "\n",
    "titers = pd.concat([pd.read_csv(f) for f in input_titers], ignore_index=True)\n",
    "assert len(titers) == len(titers.groupby([\"group\", \"serum\", \"virus\"]))\n",
    "for group, f in zip(groups, output_titers):\n",
    "    print(f\"Writing aggregated titers for {group=} to {f}\")\n",
    "    titers.query(\"group == @group\").to_csv(f, index=False, float_format=\"%.4g\")\n",
    "\n",
    "for group, f in zip(groups, output_pickles):\n",
    "    fits_list = []\n",
    "    for (g, serum), pickle_f in zip(groups_sera, input_pickles):\n",
    "        if g == group:\n",
    "            with open(pickle_f, \"rb\") as fin:\n",
    "                fits_list.append(pickle.load(fin))\n",
    "    curvefits = neutcurve.CurveFits.combineCurveFits(fits_list)\n",
    "    print(f\"Pickling aggregated `CurveFits` for {group=} to {f}\")\n",
    "    with open(f, \"wb\") as fout:\n",
    "        pickle.dump(curvefits, fout)"
   ]
  },
  {
   "cell_type": "markdown",
   "id": "e194786d-c227-403f-bbf9-d8ab3b19b502",
   "metadata": {},
   "source": [
    "Plot all the titers:"
   ]
  },
  {
   "cell_type": "code",
   "execution_count": null,
   "id": "eb2c2a97-e54a-4875-bc75-d57975017565",
   "metadata": {},
   "outputs": [],
   "source": [
    "viruses = [v for v in viral_strain_plot_order if v in curvefits.allviruses]\n",
    "\n",
    "assert set(viruses) == set(curvefits.allviruses)\n",
    "\n",
    "sera = curvefits.sera\n",
    "\n",
    "virus_selection = alt.selection_point(fields=[\"virus\"], on=\"mouseover\", empty=False)\n",
    "\n",
    "serum_selection = alt.selection_point(\n",
    "    fields=[\"group_serum\"],\n",
    "    bind=\"legend\",\n",
    "    toggle=\"true\",\n",
    ")\n",
    "\n",
    "group_selection = alt.selection_point(\n",
    "    fields=[\"group\"],\n",
    "    value=ordered_groups[0],\n",
    "    bind=alt.binding_select(\n",
    "        options=[None] + ordered_groups,\n",
    "        labels=[\"all\"] + ordered_groups,\n",
    "        name=\"group\",\n",
    "    ),\n",
    ")\n",
    "\n",
    "ncols = min(8, titers[\"serum\"].nunique())\n",
    "\n",
    "titers_chart = (\n",
    "    alt.Chart(titers)\n",
    "    .transform_calculate(group_serum=alt.datum[\"group\"] + \" \" + alt.datum[\"serum\"])\n",
    "    .add_params(virus_selection, serum_selection, group_selection)\n",
    "    .transform_filter(group_selection)\n",
    "    .transform_filter(serum_selection)\n",
    "    .encode(\n",
    "        alt.X(\n",
    "            \"titer\",\n",
    "            title=\"neutralization titer\",\n",
    "            scale=alt.Scale(nice=False, padding=4, type=\"log\"),\n",
    "            axis=alt.Axis(labelOverlap=True),\n",
    "        ),\n",
    "        alt.Y(\"virus\", sort=viruses),\n",
    "        alt.Facet(\n",
    "            \"group_serum:N\",\n",
    "            header=alt.Header(\n",
    "                title=None, labelFontSize=11, labelFontStyle=\"bold\", labelPadding=0\n",
    "            ),\n",
    "            spacing=3,\n",
    "            columns=ncols,\n",
    "            sort=ordered_groups_sera,\n",
    "        ),\n",
    "        alt.StrokeWidth(\n",
    "            \"group_serum:N\",\n",
    "            scale=alt.Scale(\n",
    "                domain=ordered_groups_sera, range=[1] * len(ordered_groups_sera)\n",
    "            ),\n",
    "            legend=alt.Legend(\n",
    "                orient=\"bottom\",\n",
    "                columns=ncols,\n",
    "                symbolLimit=0,\n",
    "                symbolFillColor=\"black\",\n",
    "                title=\"serum (click to select)\",\n",
    "            ),\n",
    "            sort=ordered_groups_sera,\n",
    "        ),\n",
    "        alt.Shape(\n",
    "            \"titer_bound\",\n",
    "            title=\"titer interpolated or at dilution bounds\",\n",
    "            legend=alt.Legend(orient=\"top\", titleLimit=200, titleOrient=\"left\"),\n",
    "        ),\n",
    "        color=alt.condition(virus_selection, alt.value(\"red\"), alt.value(\"black\")),\n",
    "        tooltip=[\n",
    "            alt.Tooltip(c, format=\".3g\") if titers[c].dtype == float else c\n",
    "            for c in titers.columns\n",
    "        ],\n",
    "    )\n",
    "    .mark_line(point=True)\n",
    "    .configure_axis(grid=False)\n",
    "    .configure_legend(padding=10, labelOffset=2, columnPadding=8, labelLimit=400)\n",
    "    .configure_point(size=45)\n",
    "    .properties(\n",
    "        height=alt.Step(11),\n",
    "        width=100,\n",
    "        title=alt.TitleParams(\n",
    "            \"Interactive chart of serum neutralization titers\",\n",
    "            subtitle=[\n",
    "                \"Mouseover points for details.\",\n",
    "                \"Click serum legend at bottom to select sera to show.\",\n",
    "                \"Use dropdown at bottom to select serum groups to show.\",\n",
    "            ],\n",
    "            fontSize=15,\n",
    "            dx=100,\n",
    "            dy=-5,\n",
    "        ),\n",
    "        autosize=alt.AutoSizeParams(resize=True),\n",
    "    )\n",
    ")\n",
    "\n",
    "print(f\"Saving chart to {titers_chart_html}\")\n",
    "titers_chart.save(titers_chart_html)\n",
    "\n",
    "titers_chart"
   ]
  }
 ],
 "metadata": {
  "kernelspec": {
   "display_name": "Python 3 (ipykernel)",
   "language": "python",
   "name": "python3"
  },
  "language_info": {
   "codemirror_mode": {
    "name": "ipython",
    "version": 3
   },
   "file_extension": ".py",
   "mimetype": "text/x-python",
   "name": "python",
   "nbconvert_exporter": "python",
   "pygments_lexer": "ipython3",
   "version": "3.11.8"
  }
 },
 "nbformat": 4,
 "nbformat_minor": 5
}
