{
 "cells": [
  {
   "cell_type": "markdown",
   "id": "4eb38ea4-98fa-4da1-9071-2c65d38291ff",
   "metadata": {},
   "source": [
    "# Process sequencing-based neutralization assay plate\n",
    "This notebook is designed to be run using `snakemake`.\n",
    "\n",
    "## Setup\n",
    "Import Python modules:"
   ]
  },
  {
   "cell_type": "code",
   "execution_count": 1,
   "id": "900fe170-1b4b-4646-b9ee-01d75a76f664",
   "metadata": {
    "execution": {
     "iopub.execute_input": "2023-12-05T14:18:50.970347Z",
     "iopub.status.busy": "2023-12-05T14:18:50.969920Z",
     "iopub.status.idle": "2023-12-05T14:18:53.315167Z",
     "shell.execute_reply": "2023-12-05T14:18:53.314237Z",
     "shell.execute_reply.started": "2023-12-05T14:18:50.970306Z"
    }
   },
   "outputs": [],
   "source": [
    "import altair as alt\n",
    "\n",
    "import neutcurve\n",
    "\n",
    "import pandas as pd\n",
    "\n",
    "_ = alt.data_transformers.disable_max_rows()"
   ]
  },
  {
   "cell_type": "markdown",
   "id": "ecc47332-2e29-4605-bf8b-463edb63cac6",
   "metadata": {},
   "source": [
    "Get the variables passed by `snakemake`:"
   ]
  },
  {
   "cell_type": "code",
   "execution_count": 3,
   "id": "199f1499-8e9e-4a01-a41c-e7937c94995c",
   "metadata": {
    "execution": {
     "iopub.execute_input": "2023-12-05T14:18:53.466041Z",
     "iopub.status.busy": "2023-12-05T14:18:53.465695Z",
     "iopub.status.idle": "2023-12-05T14:18:53.473945Z",
     "shell.execute_reply": "2023-12-05T14:18:53.473124Z",
     "shell.execute_reply.started": "2023-12-05T14:18:53.466002Z"
    }
   },
   "outputs": [
    {
     "name": "stdout",
     "output_type": "stream",
     "text": [
      "Processing plate='plate9'\n"
     ]
    }
   ],
   "source": [
    "count_csvs = snakemake.input.count_csvs\n",
    "fate_csvs = snakemake.input.fate_csvs\n",
    "viral_library_csv = snakemake.input.viral_library_csv\n",
    "neut_standard_set_csv = snakemake.input.neut_standard_set_csv\n",
    "frac_infectivity_csv = snakemake.output.frac_infectivity_csv\n",
    "samples = snakemake.params.samples\n",
    "plate_params = snakemake.params.plate_params\n",
    "plate = snakemake.wildcards.plate\n",
    "\n",
    "samples_df = plate_params[\"samples\"]\n",
    "\n",
    "assert len(samples) == len(count_csvs) == len(fate_csvs) == len(samples_df)\n",
    "\n",
    "print(f\"Processing {plate=}\")"
   ]
  },
  {
   "cell_type": "markdown",
   "id": "6bc6f5cd-de3d-4824-a421-7b460090d72e",
   "metadata": {},
   "source": [
    "## Statistics on barcode-parsing for each sample\n",
    "Plot the \"fates\" of the sequencing reads parsed for each sample on the plate:"
   ]
  },
  {
   "cell_type": "code",
   "execution_count": 8,
   "id": "9aa103c7-3240-4dac-8532-f7298a5fe009",
   "metadata": {
    "execution": {
     "iopub.execute_input": "2023-12-05T14:24:11.343836Z",
     "iopub.status.busy": "2023-12-05T14:24:11.343118Z",
     "iopub.status.idle": "2023-12-05T14:24:11.524212Z",
     "shell.execute_reply": "2023-12-05T14:24:11.523485Z",
     "shell.execute_reply.started": "2023-12-05T14:24:11.343773Z"
    }
   },
   "outputs": [
    {
     "data": {
      "text/html": [
       "<div>\n",
       "<style scoped>\n",
       "    .dataframe tbody tr th:only-of-type {\n",
       "        vertical-align: middle;\n",
       "    }\n",
       "\n",
       "    .dataframe tbody tr th {\n",
       "        vertical-align: top;\n",
       "    }\n",
       "\n",
       "    .dataframe thead th {\n",
       "        text-align: right;\n",
       "    }\n",
       "</style>\n",
       "<table border=\"1\" class=\"dataframe\">\n",
       "  <thead>\n",
       "    <tr style=\"text-align: right;\">\n",
       "      <th></th>\n",
       "      <th>fate</th>\n",
       "      <th>count</th>\n",
       "      <th>serum</th>\n",
       "      <th>sample_noplate</th>\n",
       "      <th>dilution_factor</th>\n",
       "    </tr>\n",
       "  </thead>\n",
       "  <tbody>\n",
       "    <tr>\n",
       "      <th>0</th>\n",
       "      <td>valid barcode</td>\n",
       "      <td>403240</td>\n",
       "      <td>M121d0</td>\n",
       "      <td>M121d0_20</td>\n",
       "      <td>20</td>\n",
       "    </tr>\n",
       "    <tr>\n",
       "      <th>1</th>\n",
       "      <td>low quality barcode</td>\n",
       "      <td>65505</td>\n",
       "      <td>M121d0</td>\n",
       "      <td>M121d0_20</td>\n",
       "      <td>20</td>\n",
       "    </tr>\n",
       "    <tr>\n",
       "      <th>2</th>\n",
       "      <td>unparseable barcode</td>\n",
       "      <td>44859</td>\n",
       "      <td>M121d0</td>\n",
       "      <td>M121d0_20</td>\n",
       "      <td>20</td>\n",
       "    </tr>\n",
       "    <tr>\n",
       "      <th>5</th>\n",
       "      <td>valid barcode</td>\n",
       "      <td>1649517</td>\n",
       "      <td>M121d0</td>\n",
       "      <td>M121d0_60</td>\n",
       "      <td>60</td>\n",
       "    </tr>\n",
       "    <tr>\n",
       "      <th>6</th>\n",
       "      <td>low quality barcode</td>\n",
       "      <td>265894</td>\n",
       "      <td>M121d0</td>\n",
       "      <td>M121d0_60</td>\n",
       "      <td>60</td>\n",
       "    </tr>\n",
       "    <tr>\n",
       "      <th>...</th>\n",
       "      <td>...</td>\n",
       "      <td>...</td>\n",
       "      <td>...</td>\n",
       "      <td>...</td>\n",
       "      <td>...</td>\n",
       "    </tr>\n",
       "    <tr>\n",
       "      <th>471</th>\n",
       "      <td>low quality barcode</td>\n",
       "      <td>468483</td>\n",
       "      <td>none</td>\n",
       "      <td>none-15</td>\n",
       "      <td>&lt;NA&gt;</td>\n",
       "    </tr>\n",
       "    <tr>\n",
       "      <th>472</th>\n",
       "      <td>unparseable barcode</td>\n",
       "      <td>41109</td>\n",
       "      <td>none</td>\n",
       "      <td>none-15</td>\n",
       "      <td>&lt;NA&gt;</td>\n",
       "    </tr>\n",
       "    <tr>\n",
       "      <th>475</th>\n",
       "      <td>valid barcode</td>\n",
       "      <td>1485582</td>\n",
       "      <td>none</td>\n",
       "      <td>none-16</td>\n",
       "      <td>&lt;NA&gt;</td>\n",
       "    </tr>\n",
       "    <tr>\n",
       "      <th>476</th>\n",
       "      <td>low quality barcode</td>\n",
       "      <td>244410</td>\n",
       "      <td>none</td>\n",
       "      <td>none-16</td>\n",
       "      <td>&lt;NA&gt;</td>\n",
       "    </tr>\n",
       "    <tr>\n",
       "      <th>477</th>\n",
       "      <td>unparseable barcode</td>\n",
       "      <td>24367</td>\n",
       "      <td>none</td>\n",
       "      <td>none-16</td>\n",
       "      <td>&lt;NA&gt;</td>\n",
       "    </tr>\n",
       "  </tbody>\n",
       "</table>\n",
       "<p>288 rows × 5 columns</p>\n",
       "</div>"
      ],
      "text/plain": [
       "                    fate    count   serum sample_noplate  dilution_factor\n",
       "0          valid barcode   403240  M121d0      M121d0_20               20\n",
       "1    low quality barcode    65505  M121d0      M121d0_20               20\n",
       "2    unparseable barcode    44859  M121d0      M121d0_20               20\n",
       "5          valid barcode  1649517  M121d0      M121d0_60               60\n",
       "6    low quality barcode   265894  M121d0      M121d0_60               60\n",
       "..                   ...      ...     ...            ...              ...\n",
       "471  low quality barcode   468483    none        none-15             <NA>\n",
       "472  unparseable barcode    41109    none        none-15             <NA>\n",
       "475        valid barcode  1485582    none        none-16             <NA>\n",
       "476  low quality barcode   244410    none        none-16             <NA>\n",
       "477  unparseable barcode    24367    none        none-16             <NA>\n",
       "\n",
       "[288 rows x 5 columns]"
      ]
     },
     "execution_count": 8,
     "metadata": {},
     "output_type": "execute_result"
    }
   ],
   "source": [
    "fates = (\n",
    "    pd.concat([pd.read_csv(f).assign(sample=s) for f, s in zip(fate_csvs, samples)])\n",
    "    .merge(samples_df, validate=\"many_to_one\", on=\"sample\")\n",
    "    .assign(fate_counts=lambda x: x.groupby(\"fate\")[\"count\"].transform(\"sum\"))\n",
    "    .query(\"fate_counts > 0\")  # only keep fates with at least one count\n",
    "    [[\"fate\", \"count\", \"serum\", \"sample_noplate\", \"dilution_factor\"]]\n",
    ")\n",
    "\n",
    "assert len(fates) == len(fates.drop_duplicates())\n",
    "\n",
    "fates"
   ]
  },
  {
   "cell_type": "code",
   "execution_count": null,
   "id": "e165f68f-7f7a-4646-8da4-19f6a55014b9",
   "metadata": {},
   "outputs": [],
   "source": []
  }
 ],
 "metadata": {
  "kernelspec": {
   "display_name": "Python 3 (ipykernel)",
   "language": "python",
   "name": "python3"
  },
  "language_info": {
   "codemirror_mode": {
    "name": "ipython",
    "version": 3
   },
   "file_extension": ".py",
   "mimetype": "text/x-python",
   "name": "python",
   "nbconvert_exporter": "python",
   "pygments_lexer": "ipython3",
   "version": "3.11.6"
  }
 },
 "nbformat": 4,
 "nbformat_minor": 5
}
