{
 "cells": [
  {
   "cell_type": "markdown",
   "id": "d25b7008-70d0-4456-8793-116e394b9d3b",
   "metadata": {},
   "source": [
    "# Fit the neutralization curves for a plate\n",
    "The fitting is done using [neutcurve](https://jbloomlab.github.io/neutcurve)."
   ]
  },
  {
   "cell_type": "code",
   "execution_count": null,
   "id": "b58de3e1-0a05-42f5-9f7d-158311f3a1c1",
   "metadata": {},
   "outputs": [],
   "source": []
  }
 ],
 "metadata": {
  "kernelspec": {
   "display_name": "Python 3 (ipykernel)",
   "language": "python",
   "name": "python3"
  },
  "language_info": {
   "codemirror_mode": {
    "name": "ipython",
    "version": 3
   },
   "file_extension": ".py",
   "mimetype": "text/x-python",
   "name": "python",
   "nbconvert_exporter": "python",
   "pygments_lexer": "ipython3",
   "version": "3.11.6"
  }
 },
 "nbformat": 4,
 "nbformat_minor": 5
}
