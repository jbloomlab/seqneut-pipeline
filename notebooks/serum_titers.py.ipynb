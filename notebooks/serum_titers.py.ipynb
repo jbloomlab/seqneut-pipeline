{
 "cells": [
  {
   "cell_type": "markdown",
   "id": "abe395dc-8a57-4ee8-b22e-8a1acacf1619",
   "metadata": {},
   "source": [
    "# Titers for a serum\n",
    "Analyze titers for a serum, aggregating replicates which may be across multiple plates."
   ]
  },
  {
   "cell_type": "code",
   "execution_count": null,
   "id": "f404cc02-6d9a-4a3a-892e-fd73f1e00b52",
   "metadata": {},
   "outputs": [],
   "source": [
    "import pickle\n",
    "\n",
    "import altair as alt\n",
    "\n",
    "import neutcurve\n",
    "\n",
    "import pandas as pd\n",
    "\n",
    "_ = alt.data_transformers.disable_max_rows()"
   ]
  },
  {
   "cell_type": "markdown",
   "id": "be4112bc-7d79-4b38-8e76-ec81588f40e9",
   "metadata": {},
   "source": [
    "Get variables from `snakemake`:"
   ]
  },
  {
   "cell_type": "code",
   "execution_count": null,
   "id": "83425f55-9905-4cc0-b42c-440926e9a81e",
   "metadata": {},
   "outputs": [],
   "source": [
    "plate_fits = snakemake.input.plate_fits\n",
    "pickle_fits = snakemake.input.pickles\n",
    "viral_strain_plot_order = snakemake.params.viral_strain_plot_order\n",
    "per_rep_titers_csv = snakemake.output.per_rep_titers\n",
    "median_titers_csv = snakemake.output.median_titers\n",
    "curves_pdf = snakemake.output.curves_pdf\n",
    "output_pickle = snakemake.output.pickle\n",
    "serum = snakemake.wildcards.serum\n",
    "qc_thresholds = snakemake.params.qc_thresholds\n",
    "qc_exclusions = snakemake.params.qc_exclusions\n",
    "qc_failures_file = snakemake.output.qc_failures"
   ]
  },
  {
   "cell_type": "markdown",
   "id": "d3668ae9-ad6d-436e-8e7b-9a0cd3b30548",
   "metadata": {},
   "source": [
    "Process the QC exclusions:"
   ]
  },
  {
   "cell_type": "code",
   "execution_count": null,
   "id": "28e5cc5f-79cf-45d0-8bad-61dbd6d9d32d",
   "metadata": {},
   "outputs": [],
   "source": [
    "print(f\"The QC thresholds are:\\n{qc_thresholds}\")\n",
    "\n",
    "# get viruses for which we are ignoring QC\n",
    "viruses_ignore_qc = [\n",
    "    virus\n",
    "    for virus, d in qc_exclusions.items()\n",
    "    if \"ignore_qc\" in d and d[\"ignore_qc\"] is True\n",
    "]\n",
    "if viruses_ignore_qc:\n",
    "    print(\"\\nIgnoring QC for these viruses:\\n\\t\" + \"\\n\\t\".join(viruses_ignore_qc))\n",
    "\n",
    "# get virus replicates to drop\n",
    "virus_replicates_to_drop = [\n",
    "    (virus, rep)\n",
    "    for virus, d in qc_exclusions.items()\n",
    "    for rep in (d[\"replicates_to_drop\"] if \"replicates_to_drop\" in d else [])\n",
    "]\n",
    "if virus_replicates_to_drop:\n",
    "    print(\n",
    "        \"\\nDropping these virus-replicates:\\n\\t\"\n",
    "        + \"\\n\\t\".join(str(tup) for tup in virus_replicates_to_drop)\n",
    "    )"
   ]
  },
  {
   "cell_type": "markdown",
   "id": "d96f352b-3c98-4ba9-b646-60b336b533bd",
   "metadata": {},
   "source": [
    "Read all titers for this serum, dropping virus/replicates to drop:"
   ]
  },
  {
   "cell_type": "code",
   "execution_count": null,
   "id": "fa38f739-e173-470a-8fc3-9e0271f4f7ad",
   "metadata": {},
   "outputs": [],
   "source": [
    "print(f\"Reading titers for {serum=}\")\n",
    "\n",
    "assert len(plate_fits)\n",
    "\n",
    "serum_fits = pd.concat([pd.read_csv(f) for f in plate_fits]).query(\"serum == @serum\")\n",
    "\n",
    "# remove virus-replicates to drop\n",
    "print(f\"Read a total of {len(serum_fits)} titers\")\n",
    "assert \"tup\" not in set(serum_fits.columns)\n",
    "serum_fits = (\n",
    "    serum_fits.assign(\n",
    "        tup=lambda x: list(\n",
    "            x[[\"virus\", \"replicate\"]].itertuples(index=False, name=None)\n",
    "        ),\n",
    "    )\n",
    "    .query(\"tup not in @virus_replicates_to_drop\")\n",
    "    .drop(columns=\"tup\")\n",
    ")\n",
    "print(f\"Retained {len(serum_fits)} titers after dropping specified ones\")\n",
    "\n",
    "assert len(serum_fits), f\"no titers for {serum=}\"\n",
    "assert len(serum_fits) == len(serum_fits.groupby([\"replicate\", \"virus\"]))\n",
    "print(f\"Read a total of {len(serum_fits)} titers for {serum=}\")\n",
    "\n",
    "# get viruses in the order to plot them\n",
    "viruses = sorted(serum_fits[\"virus\"].unique())\n",
    "if viral_strain_plot_order is not None:\n",
    "    if not set(viruses).issubset(viral_strain_plot_order):\n",
    "        raise ValueError(\n",
    "            \"`viral_strain_plot_order` lacks some viruses with titers:\\n\"\n",
    "            + str(set(viruses) - set(viral_strain_plot_order))\n",
    "        )\n",
    "    viruses = [v for v in viral_strain_plot_order if v in viruses]\n",
    "print(f\"{serum=} has titers for a total of {len(viruses)} viruses\")"
   ]
  },
  {
   "cell_type": "markdown",
   "id": "ef86e268-3840-474f-a30a-71a98f70ea86",
   "metadata": {},
   "source": [
    "Get the NT50s per replicate.\n",
    "Note that a lower bound in the IC50s represents and upper-bound on the NT50s:"
   ]
  },
  {
   "cell_type": "code",
   "execution_count": null,
   "id": "8c10a8ec-9c57-40fe-a687-336065c61d55",
   "metadata": {},
   "outputs": [],
   "source": [
    "per_rep_titers = serum_fits.assign(\n",
    "    nt50=lambda x: 1 / x[\"ic50\"],\n",
    "    nt50_bound=lambda x: x[\"ic50_bound\"].map(\n",
    "        {\"interpolated\": \"interpolated\", \"upper\": \"lower\", \"lower\": \"upper\"}\n",
    "    ),\n",
    ")[[\"serum\", \"replicate\", \"virus\", \"nt50\", \"nt50_bound\"]]\n",
    "\n",
    "assert per_rep_titers.notnull().all().all()\n",
    "\n",
    "print(f\"Saving {len(per_rep_titers)} per-replicate titers to {per_rep_titers_csv}\")\n",
    "per_rep_titers.to_csv(per_rep_titers_csv, index=False, float_format=\"%.4g\")"
   ]
  },
  {
   "cell_type": "markdown",
   "id": "86479097-9812-43ca-b474-d304ca8a1376",
   "metadata": {},
   "source": [
    "Get the median titers and the standard error of the mean. We defined the bounds (is the measurement interpolated or at a bound of the dilution series) for the median as the same as the bounds for the median measurement if there are an odd number of measurements, or if there are an even number of measurements interpolated only if all of the middle values are interpolated:"
   ]
  },
  {
   "cell_type": "code",
   "execution_count": null,
   "id": "28c53843-2979-450f-aec2-5ae80c38a83b",
   "metadata": {},
   "outputs": [],
   "source": [
    "def get_median_nt50_bound(s):\n",
    "    \"\"\"Get the bound for the median NT50.\"\"\"\n",
    "    s = list(s)\n",
    "    if len(s) % 2:\n",
    "        return s[len(s) // 2]\n",
    "    else:\n",
    "        bounds = s[len(s) // 2 - 1 : len(s) // 2 + 1]\n",
    "        assert len(bounds) == 2\n",
    "        if len(set(bounds)) == 1:\n",
    "            return bounds[0]\n",
    "        elif \"interpolated\" in bounds:\n",
    "            return [b for b in bounds if b != \"interpolated\"][0]\n",
    "        else:\n",
    "            return \"inconsistent\"\n",
    "\n",
    "\n",
    "median_titers = (\n",
    "    per_rep_titers.sort_values(\"nt50\")  # for getting median nt50 bound\n",
    "    .groupby([\"serum\", \"virus\"], as_index=False)\n",
    "    .aggregate(\n",
    "        nt50=pd.NamedAgg(\"nt50\", \"median\"),\n",
    "        n_replicates=pd.NamedAgg(\"replicate\", \"count\"),\n",
    "        nt50_stderr=pd.NamedAgg(\"nt50\", \"sem\"),\n",
    "        nt50_bound=pd.NamedAgg(\"nt50_bound\", get_median_nt50_bound),\n",
    "    )\n",
    ")\n",
    "\n",
    "print(f\"Saving {len(median_titers)} median titers to {median_titers_csv}\")\n",
    "median_titers.to_csv(median_titers_csv, index=False, float_format=\"%.4g\")"
   ]
  },
  {
   "cell_type": "markdown",
   "id": "20ef5b0d-6021-407a-92d3-083e6b7bf840",
   "metadata": {},
   "source": [
    "Plot the per-replicate and median titers:"
   ]
  },
  {
   "cell_type": "code",
   "execution_count": null,
   "id": "cda2f56d-ceed-43fe-9ee2-4d9365cb94e6",
   "metadata": {},
   "outputs": [],
   "source": [
    "virus_selection = alt.selection_point(fields=[\"virus\"], on=\"mouseover\", empty=False)\n",
    "\n",
    "per_rep_chart = (\n",
    "    alt.Chart(per_rep_titers)\n",
    "    .encode(\n",
    "        alt.X(\n",
    "            \"nt50\",\n",
    "            title=\"neutralization titer\",\n",
    "            scale=alt.Scale(nice=False, padding=5, type=\"log\"),\n",
    "        ),\n",
    "        alt.Y(\"virus\", sort=viruses),\n",
    "        alt.Shape(\"nt50_bound\", title=\"is titer bound?\"),\n",
    "        strokeWidth=alt.condition(virus_selection, alt.value(2), alt.value(0)),\n",
    "        tooltip=[\n",
    "            alt.Tooltip(c, format=\".3g\") if per_rep_titers[c].dtype == float else c\n",
    "            for c in per_rep_titers\n",
    "            if c != \"serum\"\n",
    "        ],\n",
    "    )\n",
    "    .mark_point(\n",
    "        size=45,\n",
    "        filled=True,\n",
    "        fillOpacity=0.5,\n",
    "        strokeOpacity=1,\n",
    "        stroke=\"black\",\n",
    "        color=\"#56B4E9\",\n",
    "    )\n",
    ")\n",
    "\n",
    "median_chart = (\n",
    "    alt.Chart(median_titers)\n",
    "    .encode(\n",
    "        alt.X(\n",
    "            \"nt50\",\n",
    "            title=\"neutralization titer\",\n",
    "            scale=alt.Scale(nice=False, padding=5, type=\"log\"),\n",
    "        ),\n",
    "        alt.Y(\"virus\", sort=viruses),\n",
    "        alt.Shape(\"nt50_bound\", title=\"is titer bound?\"),\n",
    "        strokeWidth=alt.condition(virus_selection, alt.value(2), alt.value(0)),\n",
    "        tooltip=[\n",
    "            alt.Tooltip(c, format=\".3g\") if median_titers[c].dtype == float else c\n",
    "            for c in median_titers\n",
    "            if c != \"serum\"\n",
    "        ],\n",
    "    )\n",
    "    .mark_point(\n",
    "        color=\"#E69F00\",\n",
    "        size=85,\n",
    "        filled=True,\n",
    "        fillOpacity=0.9,\n",
    "        strokeOpacity=1,\n",
    "        stroke=\"black\",\n",
    "    )\n",
    ")\n",
    "\n",
    "titer_chart = (\n",
    "    (per_rep_chart + median_chart)\n",
    "    .add_params(virus_selection)\n",
    "    .properties(\n",
    "        height=alt.Step(14),\n",
    "        width=250,\n",
    "        title=f\"{serum} median (orange) and per-replicate (blue) titers\",\n",
    "    )\n",
    "    .configure_axis(grid=False)\n",
    ")\n",
    "\n",
    "titer_chart"
   ]
  },
  {
   "cell_type": "markdown",
   "id": "648f03a9-8d1e-45d7-bcf8-77fe5530fdc2",
   "metadata": {},
   "source": [
    "Combine all the `CurveFits` for this serum and retained viruses:"
   ]
  },
  {
   "cell_type": "code",
   "execution_count": null,
   "id": "b13d904a-d63b-4ffc-b170-5b8aa10b562d",
   "metadata": {},
   "outputs": [],
   "source": [
    "fits_to_combine = []\n",
    "for fname in pickle_fits:\n",
    "    with open(fname, \"rb\") as f:\n",
    "        fits_to_combine.append(pickle.load(f))\n",
    "serum_curvefits = neutcurve.CurveFits.combineCurveFits(\n",
    "    fits_to_combine,\n",
    "    sera=[serum],\n",
    "    serum_virus_replicates_to_drop=[\n",
    "        (serum, virus, replicate) for (virus, replicate) in virus_replicates_to_drop\n",
    "    ],\n",
    ")"
   ]
  },
  {
   "cell_type": "markdown",
   "id": "d3dee1b4-494e-4a3a-af39-e55200e4ef10",
   "metadata": {},
   "source": [
    "Get any QC failures (ignoring any viruses for which we specified to ignore QC), and write to file:"
   ]
  },
  {
   "cell_type": "code",
   "execution_count": null,
   "id": "bea8d9da-eb35-4782-9d34-57e3fbc2612b",
   "metadata": {},
   "outputs": [],
   "source": [
    "qc_failures = []\n",
    "\n",
    "insufficient_replicates = (\n",
    "    median_titers.sort_values(\"virus\", key=lambda s: s.map(lambda v: viruses.index(v)))\n",
    "    .reset_index(drop=True)[\n",
    "        median_titers[\"n_replicates\"] < qc_thresholds[\"min_replicates\"]\n",
    "    ]\n",
    "    .query(\"virus not in @viruses_ignore_qc\")\n",
    "    .drop(columns=\"serum\")\n",
    ")\n",
    "if len(insufficient_replicates):\n",
    "    print(f\"The following viruses fail {qc_thresholds['min_replicates']=}\")\n",
    "    display(insufficient_replicates)\n",
    "    qc_failures.append(\"min_replicates\")\n",
    "else:\n",
    "    print(f\"All viruses pass {qc_thresholds['min_replicates']=}\")\n",
    "\n",
    "max_fold_change_from_median = qc_thresholds[\"max_fold_change_from_median\"]\n",
    "assert max_fold_change_from_median > 1, max_fold_change_from_median\n",
    "excess_fold_change_from_median = (\n",
    "    median_titers.rename(columns={\"nt50\": \"median_nt50\"})[[\"virus\", \"median_nt50\"]]\n",
    "    .merge(per_rep_titers, validate=\"one_to_many\")\n",
    "    .assign(\n",
    "        fold_change_from_median=lambda x: x[\"nt50\"] / x[\"median_nt50\"],\n",
    "        excess_fold_change=lambda x: (\n",
    "            (x[\"fold_change_from_median\"] > max_fold_change_from_median)\n",
    "            | (x[\"fold_change_from_median\"] < 1 / max_fold_change_from_median)\n",
    "        ),\n",
    "    )\n",
    "    .sort_values(\"virus\", key=lambda s: s.map(lambda v: viruses.index(v)))\n",
    "    .reset_index(drop=True)\n",
    "    .query(\"excess_fold_change and (virus not in @viruses_ignore_qc)\")[\n",
    "        [\"virus\", \"replicate\", \"median_nt50\", \"nt50\", \"fold_change_from_median\"]\n",
    "    ]\n",
    ")\n",
    "if len(excess_fold_change_from_median):\n",
    "    print(f\"\\nThese replicates fail {qc_thresholds['max_fold_change_from_median']=}\")\n",
    "    display(excess_fold_change_from_median)\n",
    "    qc_failures.append(\"max_fold_change_from_median\")\n",
    "else:\n",
    "    print(f\"\\nAll viruses pass {qc_thresholds['max_fold_change_from_median']=}\")\n",
    "\n",
    "qc_failures = \"\\n\".join(qc_failures)\n",
    "if qc_failures:\n",
    "    print(f\"\\nEncountered the following QC failures:\\n{qc_failures}\")\n",
    "else:\n",
    "    print(\"\\nNo QC failures\")\n",
    "print(f\"\\nLogging QC failures to {qc_failures_file}\")\n",
    "with open(qc_failures_file, \"w\") as f:\n",
    "    f.write(qc_failures)"
   ]
  },
  {
   "cell_type": "markdown",
   "id": "0ff216ff-15af-49c5-b7c6-68533415960b",
   "metadata": {},
   "source": [
    "Plot the individual neutralization curves:"
   ]
  },
  {
   "cell_type": "code",
   "execution_count": null,
   "id": "53172ad1-5fd3-4c7c-8e39-d55e331a5cfe",
   "metadata": {},
   "outputs": [],
   "source": [
    "fig, _ = serum_curvefits.plotReplicates(\n",
    "    attempt_shared_legend=False,\n",
    "    legendfontsize=8,\n",
    "    ncol=4,\n",
    "    heightscale=1.25,\n",
    "    widthscale=1.25,\n",
    "    viruses=viruses,\n",
    "    subplot_titles=\"{virus}\",\n",
    ")\n",
    "\n",
    "_ = fig.suptitle(\n",
    "    f\"neutralization curves for {serum}\", y=1, fontsize=18, fontweight=\"bold\"\n",
    ")\n",
    "\n",
    "fig.tight_layout()"
   ]
  },
  {
   "cell_type": "markdown",
   "id": "b4f74eb0-2c8f-4916-9e91-aa7aa0c16ca2",
   "metadata": {},
   "source": [
    "Save the curves to a file:"
   ]
  },
  {
   "cell_type": "code",
   "execution_count": null,
   "id": "4da1d7c0-7100-4ca9-a14e-68e58e4d5e66",
   "metadata": {},
   "outputs": [],
   "source": [
    "print(f\"Saving to {curves_pdf}\")\n",
    "fig.savefig(curves_pdf)"
   ]
  },
  {
   "cell_type": "markdown",
   "id": "9d8122c1-1b03-464f-af8e-5fa0fb29f50c",
   "metadata": {},
   "source": [
    "Save the `CurveFits` for the serum to a pickle file:"
   ]
  },
  {
   "cell_type": "code",
   "execution_count": null,
   "id": "a865011f-95a4-4852-85c6-d3e28eeaa9e6",
   "metadata": {},
   "outputs": [],
   "source": [
    "with open(output_pickle, \"wb\") as f:\n",
    "    pickle.dump(serum_curvefits, f)"
   ]
  }
 ],
 "metadata": {
  "kernelspec": {
   "display_name": "Python 3 (ipykernel)",
   "language": "python",
   "name": "python3"
  },
  "language_info": {
   "codemirror_mode": {
    "name": "ipython",
    "version": 3
   },
   "file_extension": ".py",
   "mimetype": "text/x-python",
   "name": "python",
   "nbconvert_exporter": "python",
   "pygments_lexer": "ipython3",
   "version": "3.11.7"
  }
 },
 "nbformat": 4,
 "nbformat_minor": 5
}
