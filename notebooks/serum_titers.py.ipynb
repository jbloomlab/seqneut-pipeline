{
 "cells": [
  {
   "cell_type": "markdown",
   "id": "abe395dc-8a57-4ee8-b22e-8a1acacf1619",
   "metadata": {},
   "source": [
    "# Titers for a serum\n",
    "Analyze titers for a serum, aggregating replicates which may be across multiple plates."
   ]
  },
  {
   "cell_type": "code",
   "execution_count": 1,
   "id": "f404cc02-6d9a-4a3a-892e-fd73f1e00b52",
   "metadata": {
    "execution": {
     "iopub.execute_input": "2023-12-30T15:18:12.931075Z",
     "iopub.status.busy": "2023-12-30T15:18:12.930416Z",
     "iopub.status.idle": "2023-12-30T15:18:18.162071Z",
     "shell.execute_reply": "2023-12-30T15:18:18.160810Z",
     "shell.execute_reply.started": "2023-12-30T15:18:12.931009Z"
    }
   },
   "outputs": [],
   "source": [
    "import pickle\n",
    "\n",
    "import altair as alt\n",
    "\n",
    "import neutcurve\n",
    "\n",
    "import pandas as pd\n",
    "\n",
    "_ = alt.data_transformers.disable_max_rows()"
   ]
  },
  {
   "cell_type": "markdown",
   "id": "be4112bc-7d79-4b38-8e76-ec81588f40e9",
   "metadata": {},
   "source": [
    "Get variables from `snakemake`:"
   ]
  },
  {
   "cell_type": "code",
   "execution_count": 2,
   "id": "098fc76b-3285-4471-bc98-4dec876cddac",
   "metadata": {
    "execution": {
     "iopub.execute_input": "2023-12-30T15:18:18.165377Z",
     "iopub.status.busy": "2023-12-30T15:18:18.164651Z",
     "iopub.status.idle": "2023-12-30T15:18:18.285481Z",
     "shell.execute_reply": "2023-12-30T15:18:18.284436Z",
     "shell.execute_reply.started": "2023-12-30T15:18:18.165330Z"
    }
   },
   "outputs": [],
   "source": [
    "\n",
    "######## snakemake preamble start (automatically inserted, do not edit) ########\n",
    "import sys; sys.path.extend(['/fh/fast/bloom_j/software/miniconda3/envs/seqneut-pipeline/lib/python3.11/site-packages', '/fh/fast/bloom_j/computational_notebooks/jbloom/2023/flu_seqneut_DRIVE_2021-22_repeat_vax/seqneut-pipeline', '/fh/fast/bloom_j/computational_notebooks/jbloom/2023/flu_seqneut_DRIVE_2021-22_repeat_vax/seqneut-pipeline/test_example/..', '/fh/fast/bloom_j/computational_notebooks/jbloom/2023/flu_seqneut_DRIVE_2021-22_repeat_vax/seqneut-pipeline/test_example', '/fh/fast/bloom_j/software/miniconda3/envs/seqneut-pipeline/bin', '/fh/fast/bloom_j/software/miniconda3/envs/seqneut-pipeline/lib/python3.11', '/fh/fast/bloom_j/software/miniconda3/envs/seqneut-pipeline/lib/python3.11/lib-dynload', '/home/jbloom/.local/lib/python3.11/site-packages', '/fh/fast/bloom_j/software/miniconda3/envs/seqneut-pipeline/lib/python3.11/site-packages', '/home/jbloom/.cache/snakemake/snakemake/source-cache/runtime-cache/tmpbw69qygs/file/fh/fast/bloom_j/computational_notebooks/jbloom/2023/flu_seqneut_DRIVE_2021-22_repeat_vax/seqneut-pipeline/notebooks', '/fh/fast/bloom_j/computational_notebooks/jbloom/2023/flu_seqneut_DRIVE_2021-22_repeat_vax/seqneut-pipeline/notebooks']); import pickle; snakemake = pickle.loads(b'\\x80\\x04\\x95\\xdb\\x13\\x00\\x00\\x00\\x00\\x00\\x00\\x8c\\x10snakemake.script\\x94\\x8c\\tSnakemake\\x94\\x93\\x94)\\x81\\x94}\\x94(\\x8c\\x05input\\x94\\x8c\\x0csnakemake.io\\x94\\x8c\\nInputFiles\\x94\\x93\\x94)\\x81\\x94\\x8c\\'results/plates/plate11/curvefits.pickle\\x94a}\\x94(\\x8c\\x06_names\\x94}\\x94\\x8c\\x07pickles\\x94K\\x00K\\x01\\x86\\x94s\\x8c\\x12_allowed_overrides\\x94]\\x94(\\x8c\\x05index\\x94\\x8c\\x04sort\\x94eh\\x12\\x8c\\tfunctools\\x94\\x8c\\x07partial\\x94\\x93\\x94h\\x06\\x8c\\x19Namedlist._used_attribute\\x94\\x93\\x94\\x85\\x94R\\x94(h\\x18)}\\x94\\x8c\\x05_name\\x94h\\x12sNt\\x94bh\\x13h\\x16h\\x18\\x85\\x94R\\x94(h\\x18)}\\x94h\\x1ch\\x13sNt\\x94bh\\x0eh\\x06\\x8c\\tNamedlist\\x94\\x93\\x94)\\x81\\x94h\\na}\\x94(h\\x0c}\\x94h\\x10]\\x94(h\\x12h\\x13eh\\x12h\\x16h\\x18\\x85\\x94R\\x94(h\\x18)}\\x94h\\x1ch\\x12sNt\\x94bh\\x13h\\x16h\\x18\\x85\\x94R\\x94(h\\x18)}\\x94h\\x1ch\\x13sNt\\x94bubub\\x8c\\x06output\\x94h\\x06\\x8c\\x0bOutputFiles\\x94\\x93\\x94)\\x81\\x94(\\x8c-results/sera/Y044d30/titers_per_replicate.csv\\x94\\x8c\\x1fresults/sera/Y044d30/titers.csv\\x94\\x8c\\x1fresults/sera/Y044d30/curves.pdf\\x94\\x8c%results/sera/Y044d30/curvefits.pickle\\x94\\x8c!results/sera/Y044d30/qc_drops.yml\\x94e}\\x94(h\\x0c}\\x94(\\x8c\\x0eper_rep_titers\\x94K\\x00N\\x86\\x94\\x8c\\x06titers\\x94K\\x01N\\x86\\x94\\x8c\\ncurves_pdf\\x94K\\x02N\\x86\\x94\\x8c\\x06pickle\\x94K\\x03N\\x86\\x94\\x8c\\x08qc_drops\\x94K\\x04N\\x86\\x94uh\\x10]\\x94(h\\x12h\\x13eh\\x12h\\x16h\\x18\\x85\\x94R\\x94(h\\x18)}\\x94h\\x1ch\\x12sNt\\x94bh\\x13h\\x16h\\x18\\x85\\x94R\\x94(h\\x18)}\\x94h\\x1ch\\x13sNt\\x94bh;h4h=h5h?h6hAh7hCh8ub\\x8c\\x06params\\x94h\\x06\\x8c\\x06Params\\x94\\x93\\x94)\\x81\\x94(]\\x94(\\x8c\\x14A/California/07/2009\\x94\\x8c\\x12A/Michigan/45/2015\\x94\\x8c\\x12A/Brisbane/02/2018\\x94\\x8c\\x11A/Ghana/2080/2020\\x94\\x8c\\x18A/Cote_DIvoire/1448/2021\\x94\\x8c\\x10A/Ghana/138/2020\\x94\\x8c\\x0fA/Togo/845/2020\\x94\\x8c\\x10A/Togo/0274/2021\\x94\\x8c\\x10A/Hawaii/70/2019\\x94\\x8c\\x12A/Niger/10217/2021\\x94\\x8c\\x19A/SouthAfrica/R16462/2021\\x94\\x8c\\x10A/Togo/0304/2021\\x94\\x8c\\x12A/Paris/31196/2021\\x94\\x8c\\x14A/Belgium/H0017/2022\\x94\\x8c\\x18A/England/220200318/2022\\x94\\x8c\\x12A/Paris/30353/2021\\x94\\x8c\\x10A/Nimes/871/2021\\x94\\x8c\\x14A/Belgium/H0038/2022\\x94\\x8c\\x14A/Wisconsin/588/2019\\x94\\x8c\\x14A/Washington/23/2020\\x94\\x8c\\x1aA/India/Pun-NIV312851/2021\\x94\\x8c\\x1aA/India-PUN-NIV328484/2021\\x94\\x8c\\x16A/Bangladesh/8036/2021\\x94\\x8c\\x0eA/Perth/1/2022\\x94\\x8c\\x19A/SouthAfrica/R14850/2021\\x94\\x8c\\x13A/Norway/25089/2022\\x94\\x8c\\x1cA/Bangladesh/3210810034/2021\\x94\\x8c\\x13A/Chester/5355/2022\\x94\\x8c\\x12A/Michigan/19/2021\\x94\\x8c\\x0eA/Utah/27/2022\\x94\\x8c\\x12A/Newcastle/2/2022\\x94\\x8c\\x1fA/India-Pune-Nivcov2221170/2022\\x94\\x8c\\x10A/Sydney/43/2022\\x94\\x8c\\x12A/Brisbane/48/2022\\x94\\x8c\\x16A/Bangladesh/8002/2021\\x94\\x8c\\x16A/Bangladesh/2221/2021\\x94e\\x8c\\x08midpoint\\x94}\\x94(\\x8c\\x0emin_replicates\\x94K\\x02\\x8c\\x1bmax_fold_change_from_median\\x94K\\x03\\x8c\\tignore_qc\\x94\\x89ue}\\x94(h\\x0c}\\x94(\\x8c\\x17viral_strain_plot_order\\x94K\\x00N\\x86\\x94\\x8c\\x0eserum_titer_as\\x94K\\x01N\\x86\\x94\\x8c\\rqc_thresholds\\x94K\\x02N\\x86\\x94uh\\x10]\\x94(h\\x12h\\x13eh\\x12h\\x16h\\x18\\x85\\x94R\\x94(h\\x18)}\\x94h\\x1ch\\x12sNt\\x94bh\\x13h\\x16h\\x18\\x85\\x94R\\x94(h\\x18)}\\x94h\\x1ch\\x13sNt\\x94bh~hRh\\x80hwh\\x82hxub\\x8c\\twildcards\\x94h\\x06\\x8c\\tWildcards\\x94\\x93\\x94)\\x81\\x94\\x8c\\x07Y044d30\\x94a}\\x94(h\\x0c}\\x94\\x8c\\x05serum\\x94K\\x00N\\x86\\x94sh\\x10]\\x94(h\\x12h\\x13eh\\x12h\\x16h\\x18\\x85\\x94R\\x94(h\\x18)}\\x94h\\x1ch\\x12sNt\\x94bh\\x13h\\x16h\\x18\\x85\\x94R\\x94(h\\x18)}\\x94h\\x1ch\\x13sNt\\x94b\\x8c\\x05serum\\x94h\\x91ub\\x8c\\x07threads\\x94K\\x01\\x8c\\tresources\\x94h\\x06\\x8c\\tResources\\x94\\x93\\x94)\\x81\\x94(K\\x01K\\x01\\x8c\\x04/tmp\\x94e}\\x94(h\\x0c}\\x94(\\x8c\\x06_cores\\x94K\\x00N\\x86\\x94\\x8c\\x06_nodes\\x94K\\x01N\\x86\\x94\\x8c\\x06tmpdir\\x94K\\x02N\\x86\\x94uh\\x10]\\x94(h\\x12h\\x13eh\\x12h\\x16h\\x18\\x85\\x94R\\x94(h\\x18)}\\x94h\\x1ch\\x12sNt\\x94bh\\x13h\\x16h\\x18\\x85\\x94R\\x94(h\\x18)}\\x94h\\x1ch\\x13sNt\\x94bh\\xa8K\\x01h\\xaaK\\x01h\\xach\\xa5ub\\x8c\\x03log\\x94h\\x06\\x8c\\x03Log\\x94\\x93\\x94)\\x81\\x94\\x8c)results/sera/Y044d30/Y044d30_titers.ipynb\\x94a}\\x94(h\\x0c}\\x94\\x8c\\x08notebook\\x94K\\x00N\\x86\\x94sh\\x10]\\x94(h\\x12h\\x13eh\\x12h\\x16h\\x18\\x85\\x94R\\x94(h\\x18)}\\x94h\\x1ch\\x12sNt\\x94bh\\x13h\\x16h\\x18\\x85\\x94R\\x94(h\\x18)}\\x94h\\x1ch\\x13sNt\\x94bh\\xbeh\\xbbub\\x8c\\x06config\\x94}\\x94(\\x8c\\x10seqneut-pipeline\\x94\\x8c\\x03../\\x94\\x8c\\x04docs\\x94\\x8c\\x07../docs\\x94\\x8c\\x0bdescription\\x94X\\xba\\x01\\x00\\x00# Test example for [seqneut-pipeline](https://github.com/jbloomlab/seqneut-pipeline)\\nThis is a small toy-example created by subsetting a real experiment dataset.\\n\\nSee [https://github.com/jbloomlab/seqneut-pipeline](https://github.com/jbloomlab/seqneut-pipeline)\\nfor the computer code and underlying numerical data.\\n\\nSee [here](https://github.com/jbloomlab/seqneut-pipeline/graphs/contributors) for a\\nlist of all contributors to the pipeline.\\n\\x94\\x8c\\x0fviral_libraries\\x94}\\x94\\x8c\\x14pdmH1N1_lib2023_loes\\x94\\x8c-data/viral_libraries/pdmH1N1_lib2023_loes.csv\\x94s\\x8c\\x17viral_strain_plot_order\\x94\\x8c data/viral_strain_plot_order.csv\\x94\\x8c\\x12neut_standard_sets\\x94}\\x94\\x8c\\x08loes2023\\x94\\x8c3data/neut_standard_sets/loes2023_neut_standards.csv\\x94s\\x8c\\x1eillumina_barcode_parser_params\\x94}\\x94(\\x8c\\x08upstream\\x94\\x8c\\x1fCTCCCTACAATGTCGGATTTGTATTTAATAG\\x94\\x8c\\ndownstream\\x94\\x8c\\x00\\x94\\x8c\\x04minq\\x94K\\x14\\x8c\\x11upstream_mismatch\\x94K\\x04\\x8c\\x0ebc_orientation\\x94\\x8c\\x02R2\\x94u\\x8c#default_process_plate_qc_thresholds\\x94}\\x94(\\x8c\\x1bavg_barcode_counts_per_well\\x94K\\xfa\\x8c\\x1fmin_neut_standard_frac_per_well\\x94G?tz\\xe1G\\xae\\x14{\\x8c\"no_serum_per_viral_barcode_filters\\x94}\\x94(\\x8c\\x08min_frac\\x94G?@bM\\xd2\\xf1\\xa9\\xfc\\x8c\\x0fmax_fold_change\\x94K\\x03\\x8c\\tmax_wells\\x94K\\x02u\\x8c!per_neut_standard_barcode_filters\\x94}\\x94(\\x8c\\x08min_frac\\x94G?tz\\xe1G\\xae\\x14{\\x8c\\x0fmax_fold_change\\x94K\\x03\\x8c\\tmax_wells\\x94K\\x02u\\x8c min_neut_standard_count_per_well\\x94M\\xf4\\x01\\x8c)min_no_serum_count_per_viral_barcode_well\\x94K\\x1e\\x8c+max_frac_infectivity_per_viral_barcode_well\\x94K\\x05\\x8c)min_dilutions_per_barcode_serum_replicate\\x94K\\x06u\\x8c%default_process_plate_curvefit_params\\x94}\\x94(\\x8c\\x18frac_infectivity_ceiling\\x94K\\x01\\x8c\\x06fixtop\\x94\\x89\\x8c\\tfixbottom\\x94K\\x00u\\x8c!default_process_plate_curvefit_qc\\x94}\\x94(\\x8c\\x1dmax_frac_infectivity_at_least\\x94G?\\xe0\\x00\\x00\\x00\\x00\\x00\\x00\\x8c\\x06min_R2\\x94G?\\xe9\\x99\\x99\\x99\\x99\\x99\\x9a\\x8c#serum_replicates_ignore_curvefit_qc\\x94]\\x94\\x8c+barcode_serum_replicates_ignore_curvefit_qc\\x94]\\x94u\\x8c\\x06plates\\x94}\\x94(\\x8c\\x06plate2\\x94}\\x94(\\x8c\\x04date\\x94\\x8c\\x08datetime\\x94\\x8c\\x04date\\x94\\x93\\x94C\\x04\\x07\\xe7\\x08\\x01\\x94\\x85\\x94R\\x94\\x8c\\rviral_library\\x94\\x8c\\x14pdmH1N1_lib2023_loes\\x94\\x8c\\x11neut_standard_set\\x94\\x8c\\x08loes2023\\x94\\x8c\\x0bsamples_csv\\x94\\x8c\\x1edata/plates/plate2_samples.csv\\x94\\x8c\\x0cmanual_drops\\x94}\\x94\\x8c\\rqc_thresholds\\x94}\\x94(h\\xe7K\\xfah\\xe8G?tz\\xe1G\\xae\\x14{h\\xe9}\\x94(h\\xebG?@bM\\xd2\\xf1\\xa9\\xfch\\xecK\\x03h\\xedK\\x02uh\\xee}\\x94(h\\xf0G?tz\\xe1G\\xae\\x14{h\\xf1K\\x03h\\xf2K\\x02uh\\xf3M\\xf4\\x01h\\xf4K\\x1eh\\xf5K\\x05h\\xf6K\\x06u\\x8c\\x0fcurvefit_params\\x94}\\x94(h\\xf9K\\x01h\\xfa\\x89h\\xfbK\\x00u\\x8c\\x0bcurvefit_qc\\x94}\\x94(h\\xfeG?\\xe0\\x00\\x00\\x00\\x00\\x00\\x00h\\xffG?\\xe9\\x99\\x99\\x99\\x99\\x99\\x9aj\\x00\\x01\\x00\\x00j\\x01\\x01\\x00\\x00j\\x02\\x01\\x00\\x00j\\x03\\x01\\x00\\x00uu\\x8c\\x07plate11\\x94}\\x94(\\x8c\\x04date\\x94j\\x0b\\x01\\x00\\x00C\\x04\\x07\\xe7\\t\\x1a\\x94\\x85\\x94R\\x94\\x8c\\rviral_library\\x94\\x8c\\x14pdmH1N1_lib2023_loes\\x94\\x8c\\x11neut_standard_set\\x94\\x8c\\x08loes2023\\x94\\x8c\\x0bsamples_csv\\x94\\x8c\\x1fdata/plates/plate11_samples.csv\\x94\\x8c\\x0cmanual_drops\\x94}\\x94\\x8c\\rqc_thresholds\\x94}\\x94(h\\xe7K\\xfah\\xe8G?tz\\xe1G\\xae\\x14{h\\xe9}\\x94(h\\xebG?@bM\\xd2\\xf1\\xa9\\xfch\\xecK\\x03h\\xedK\\x02uh\\xee}\\x94(h\\xf0G?tz\\xe1G\\xae\\x14{h\\xf1K\\x03h\\xf2K\\x02uh\\xf3M\\xf4\\x01h\\xf4K\\x1eh\\xf5K\\x05h\\xf6K\\x06u\\x8c\\x0fcurvefit_params\\x94}\\x94(h\\xf9K\\x01h\\xfa\\x89h\\xfbK\\x00u\\x8c\\x0bcurvefit_qc\\x94}\\x94(h\\xfeG?\\xe0\\x00\\x00\\x00\\x00\\x00\\x00h\\xffG?\\xe9\\x99\\x99\\x99\\x99\\x99\\x9aj\\x00\\x01\\x00\\x00j\\x01\\x01\\x00\\x00j\\x02\\x01\\x00\\x00]\\x94]\\x94(\\x8c\\x10AGGTCAAGACCACAGG\\x94\\x8c\\x06M099d0\\x94eauuu\\x8c\\x16default_serum_titer_as\\x94hw\\x8c\\x1bdefault_serum_qc_thresholds\\x94hx\\x8c\\x16sera_override_defaults\\x94}\\x94u\\x8c\\x04rule\\x94\\x8c\\x0cserum_titers\\x94\\x8c\\x0fbench_iteration\\x94N\\x8c\\tscriptdir\\x94\\x8ct/fh/fast/bloom_j/computational_notebooks/jbloom/2023/flu_seqneut_DRIVE_2021-22_repeat_vax/seqneut-pipeline/notebooks\\x94ub.'); from snakemake.logging import logger; logger.printshellcmds = False; import os; os.chdir(r'/fh/fast/bloom_j/computational_notebooks/jbloom/2023/flu_seqneut_DRIVE_2021-22_repeat_vax/seqneut-pipeline/test_example');\n",
    "######## snakemake preamble end #########\n"
   ]
  },
  {
   "cell_type": "code",
   "execution_count": 3,
   "id": "83425f55-9905-4cc0-b42c-440926e9a81e",
   "metadata": {
    "execution": {
     "iopub.execute_input": "2023-12-30T15:18:18.287245Z",
     "iopub.status.busy": "2023-12-30T15:18:18.286738Z",
     "iopub.status.idle": "2023-12-30T15:18:18.296446Z",
     "shell.execute_reply": "2023-12-30T15:18:18.295290Z",
     "shell.execute_reply.started": "2023-12-30T15:18:18.287205Z"
    }
   },
   "outputs": [
    {
     "name": "stdout",
     "output_type": "stream",
     "text": [
      "Processing serum='Y044d30'\n"
     ]
    }
   ],
   "source": [
    "pickle_fits = snakemake.input.pickles\n",
    "per_rep_titers_csv = snakemake.output.per_rep_titers\n",
    "titers_csv = snakemake.output.titers\n",
    "curves_pdf = snakemake.output.curves_pdf\n",
    "output_pickle = snakemake.output.pickle\n",
    "qc_drops_file = snakemake.output.qc_drops\n",
    "viral_strain_plot_order = snakemake.params.viral_strain_plot_order\n",
    "serum_titer_as = snakemake.params.serum_titer_as\n",
    "qc_thresholds = snakemake.params.qc_thresholds\n",
    "serum = snakemake.wildcards.serum\n",
    "\n",
    "print(f\"Processing {serum=}\")"
   ]
  },
  {
   "cell_type": "markdown",
   "id": "eeb92b02-b9b0-47db-967d-d11fcb14885c",
   "metadata": {},
   "source": [
    "Combine all the pickled `neutcurve.CurveFits` from plates for this serum into a single `neutcurve.CurveFits`:"
   ]
  },
  {
   "cell_type": "code",
   "execution_count": 4,
   "id": "0495fb93-f3ea-4990-8668-5672005bb966",
   "metadata": {
    "execution": {
     "iopub.execute_input": "2023-12-30T15:18:18.298885Z",
     "iopub.status.busy": "2023-12-30T15:18:18.298426Z",
     "iopub.status.idle": "2023-12-30T15:18:18.532492Z",
     "shell.execute_reply": "2023-12-30T15:18:18.531418Z",
     "shell.execute_reply.started": "2023-12-30T15:18:18.298851Z"
    }
   },
   "outputs": [
    {
     "name": "stdout",
     "output_type": "stream",
     "text": [
      "Combining the curve fits for serum='Y044d30' from pickle_fits=['results/plates/plate11/curvefits.pickle']\n"
     ]
    }
   ],
   "source": [
    "print(f\"Combining the curve fits for {serum=} from {pickle_fits=}\")\n",
    "\n",
    "fits_to_combine = []\n",
    "for fname in pickle_fits:\n",
    "    with open(fname, \"rb\") as f:\n",
    "        fits_to_combine.append(pickle.load(f))\n",
    "fits_noqc = neutcurve.CurveFits.combineCurveFits(fits_to_combine, sera=[serum])"
   ]
  },
  {
   "cell_type": "markdown",
   "id": "aa008898-d36d-4ec7-881b-7eef91a01d61",
   "metadata": {},
   "source": [
    "Indicate how we are calculating the titer:"
   ]
  },
  {
   "cell_type": "code",
   "execution_count": 5,
   "id": "006523f7-5197-4e63-89fa-a3aaec8eea7b",
   "metadata": {
    "execution": {
     "iopub.execute_input": "2023-12-30T15:18:18.533987Z",
     "iopub.status.busy": "2023-12-30T15:18:18.533607Z",
     "iopub.status.idle": "2023-12-30T15:18:18.539568Z",
     "shell.execute_reply": "2023-12-30T15:18:18.538341Z",
     "shell.execute_reply.started": "2023-12-30T15:18:18.533959Z"
    }
   },
   "outputs": [
    {
     "name": "stdout",
     "output_type": "stream",
     "text": [
      "Calculating with serum_titer_as='midpoint'\n"
     ]
    }
   ],
   "source": [
    "print(f\"Calculating with {serum_titer_as=}\")\n",
    "assert serum_titer_as in {\"nt50\", \"midpoint\"}"
   ]
  },
  {
   "cell_type": "markdown",
   "id": "c63a348a-cc22-43a1-840f-7afc0f24a9f8",
   "metadata": {},
   "source": [
    "Get all the fit params with the titers, initially without any QC.\n",
    "We also convert the IC50 to NT50, and take inverse of midpoint to get it on same scale as NT50s:"
   ]
  },
  {
   "cell_type": "code",
   "execution_count": 16,
   "id": "0ed0cbc3-a6f6-4468-a87b-6f0fa21fb686",
   "metadata": {
    "execution": {
     "iopub.execute_input": "2023-12-30T15:22:25.027833Z",
     "iopub.status.busy": "2023-12-30T15:22:25.027200Z",
     "iopub.status.idle": "2023-12-30T15:22:25.066001Z",
     "shell.execute_reply": "2023-12-30T15:22:25.065260Z",
     "shell.execute_reply.started": "2023-12-30T15:22:25.027788Z"
    }
   },
   "outputs": [
    {
     "data": {
      "text/html": [
       "<div>\n",
       "<style scoped>\n",
       "    .dataframe tbody tr th:only-of-type {\n",
       "        vertical-align: middle;\n",
       "    }\n",
       "\n",
       "    .dataframe tbody tr th {\n",
       "        vertical-align: top;\n",
       "    }\n",
       "\n",
       "    .dataframe thead th {\n",
       "        text-align: right;\n",
       "    }\n",
       "</style>\n",
       "<table border=\"1\" class=\"dataframe\">\n",
       "  <thead>\n",
       "    <tr style=\"text-align: right;\">\n",
       "      <th></th>\n",
       "      <th>serum</th>\n",
       "      <th>virus</th>\n",
       "      <th>replicate</th>\n",
       "      <th>titer</th>\n",
       "      <th>titer_bound</th>\n",
       "      <th>titer_as</th>\n",
       "      <th>nt50</th>\n",
       "      <th>midpoint</th>\n",
       "      <th>top</th>\n",
       "      <th>bottom</th>\n",
       "    </tr>\n",
       "  </thead>\n",
       "  <tbody>\n",
       "    <tr>\n",
       "      <th>0</th>\n",
       "      <td>Y044d30</td>\n",
       "      <td>A/India-Pune-Nivcov2221170/2022</td>\n",
       "      <td>plate11-CGTTTAAACAATGAAG</td>\n",
       "      <td>1190.451201</td>\n",
       "      <td>interpolated</td>\n",
       "      <td>midpoint</td>\n",
       "      <td>1190.451174</td>\n",
       "      <td>1190.451201</td>\n",
       "      <td>1.000000</td>\n",
       "      <td>0</td>\n",
       "    </tr>\n",
       "    <tr>\n",
       "      <th>1</th>\n",
       "      <td>Y044d30</td>\n",
       "      <td>A/India-Pune-Nivcov2221170/2022</td>\n",
       "      <td>plate11-AAATCTACCGCATTAT</td>\n",
       "      <td>1642.760703</td>\n",
       "      <td>interpolated</td>\n",
       "      <td>midpoint</td>\n",
       "      <td>1642.760703</td>\n",
       "      <td>1642.760703</td>\n",
       "      <td>1.000000</td>\n",
       "      <td>0</td>\n",
       "    </tr>\n",
       "    <tr>\n",
       "      <th>2</th>\n",
       "      <td>Y044d30</td>\n",
       "      <td>A/Niger/10217/2021</td>\n",
       "      <td>plate11-AAATAAGTACGCAAAT</td>\n",
       "      <td>11692.956772</td>\n",
       "      <td>interpolated</td>\n",
       "      <td>midpoint</td>\n",
       "      <td>11692.074356</td>\n",
       "      <td>11692.956772</td>\n",
       "      <td>1.000129</td>\n",
       "      <td>0</td>\n",
       "    </tr>\n",
       "    <tr>\n",
       "      <th>3</th>\n",
       "      <td>Y044d30</td>\n",
       "      <td>A/Niger/10217/2021</td>\n",
       "      <td>plate11-GAACGATTGTAATTTT</td>\n",
       "      <td>10854.939520</td>\n",
       "      <td>interpolated</td>\n",
       "      <td>midpoint</td>\n",
       "      <td>10854.836191</td>\n",
       "      <td>10854.939520</td>\n",
       "      <td>1.000019</td>\n",
       "      <td>0</td>\n",
       "    </tr>\n",
       "    <tr>\n",
       "      <th>4</th>\n",
       "      <td>Y044d30</td>\n",
       "      <td>A/Niger/10217/2021</td>\n",
       "      <td>plate11-CATCAACCGCCATTTC</td>\n",
       "      <td>14597.871828</td>\n",
       "      <td>interpolated</td>\n",
       "      <td>midpoint</td>\n",
       "      <td>14596.653219</td>\n",
       "      <td>14597.871828</td>\n",
       "      <td>1.000154</td>\n",
       "      <td>0</td>\n",
       "    </tr>\n",
       "    <tr>\n",
       "      <th>...</th>\n",
       "      <td>...</td>\n",
       "      <td>...</td>\n",
       "      <td>...</td>\n",
       "      <td>...</td>\n",
       "      <td>...</td>\n",
       "      <td>...</td>\n",
       "      <td>...</td>\n",
       "      <td>...</td>\n",
       "      <td>...</td>\n",
       "      <td>...</td>\n",
       "    </tr>\n",
       "    <tr>\n",
       "      <th>105</th>\n",
       "      <td>Y044d30</td>\n",
       "      <td>A/SouthAfrica/R16462/2021</td>\n",
       "      <td>plate11-CGGCGTATCGTTCACA</td>\n",
       "      <td>17173.515868</td>\n",
       "      <td>interpolated</td>\n",
       "      <td>midpoint</td>\n",
       "      <td>17170.919199</td>\n",
       "      <td>17173.515868</td>\n",
       "      <td>1.000279</td>\n",
       "      <td>0</td>\n",
       "    </tr>\n",
       "    <tr>\n",
       "      <th>106</th>\n",
       "      <td>Y044d30</td>\n",
       "      <td>A/SouthAfrica/R16462/2021</td>\n",
       "      <td>plate11-CTAGCAGATTGTATAA</td>\n",
       "      <td>30165.743940</td>\n",
       "      <td>interpolated</td>\n",
       "      <td>midpoint</td>\n",
       "      <td>41016.635264</td>\n",
       "      <td>30165.743940</td>\n",
       "      <td>0.757728</td>\n",
       "      <td>0</td>\n",
       "    </tr>\n",
       "    <tr>\n",
       "      <th>107</th>\n",
       "      <td>Y044d30</td>\n",
       "      <td>A/Norway/25089/2022</td>\n",
       "      <td>plate11-GACTCAATAATCACAC</td>\n",
       "      <td>572.061169</td>\n",
       "      <td>interpolated</td>\n",
       "      <td>midpoint</td>\n",
       "      <td>572.061039</td>\n",
       "      <td>572.061169</td>\n",
       "      <td>1.000001</td>\n",
       "      <td>0</td>\n",
       "    </tr>\n",
       "    <tr>\n",
       "      <th>108</th>\n",
       "      <td>Y044d30</td>\n",
       "      <td>A/Norway/25089/2022</td>\n",
       "      <td>plate11-CGGATAAAAATGATAT</td>\n",
       "      <td>1119.314417</td>\n",
       "      <td>interpolated</td>\n",
       "      <td>midpoint</td>\n",
       "      <td>1119.306548</td>\n",
       "      <td>1119.314417</td>\n",
       "      <td>1.000022</td>\n",
       "      <td>0</td>\n",
       "    </tr>\n",
       "    <tr>\n",
       "      <th>109</th>\n",
       "      <td>Y044d30</td>\n",
       "      <td>A/Norway/25089/2022</td>\n",
       "      <td>plate11-TGGAAAAGATGTAATA</td>\n",
       "      <td>940.203354</td>\n",
       "      <td>interpolated</td>\n",
       "      <td>midpoint</td>\n",
       "      <td>939.883601</td>\n",
       "      <td>940.203354</td>\n",
       "      <td>1.000622</td>\n",
       "      <td>0</td>\n",
       "    </tr>\n",
       "  </tbody>\n",
       "</table>\n",
       "<p>110 rows × 10 columns</p>\n",
       "</div>"
      ],
      "text/plain": [
       "       serum                            virus                 replicate  \\\n",
       "0    Y044d30  A/India-Pune-Nivcov2221170/2022  plate11-CGTTTAAACAATGAAG   \n",
       "1    Y044d30  A/India-Pune-Nivcov2221170/2022  plate11-AAATCTACCGCATTAT   \n",
       "2    Y044d30               A/Niger/10217/2021  plate11-AAATAAGTACGCAAAT   \n",
       "3    Y044d30               A/Niger/10217/2021  plate11-GAACGATTGTAATTTT   \n",
       "4    Y044d30               A/Niger/10217/2021  plate11-CATCAACCGCCATTTC   \n",
       "..       ...                              ...                       ...   \n",
       "105  Y044d30        A/SouthAfrica/R16462/2021  plate11-CGGCGTATCGTTCACA   \n",
       "106  Y044d30        A/SouthAfrica/R16462/2021  plate11-CTAGCAGATTGTATAA   \n",
       "107  Y044d30              A/Norway/25089/2022  plate11-GACTCAATAATCACAC   \n",
       "108  Y044d30              A/Norway/25089/2022  plate11-CGGATAAAAATGATAT   \n",
       "109  Y044d30              A/Norway/25089/2022  plate11-TGGAAAAGATGTAATA   \n",
       "\n",
       "            titer   titer_bound  titer_as          nt50      midpoint  \\\n",
       "0     1190.451201  interpolated  midpoint   1190.451174   1190.451201   \n",
       "1     1642.760703  interpolated  midpoint   1642.760703   1642.760703   \n",
       "2    11692.956772  interpolated  midpoint  11692.074356  11692.956772   \n",
       "3    10854.939520  interpolated  midpoint  10854.836191  10854.939520   \n",
       "4    14597.871828  interpolated  midpoint  14596.653219  14597.871828   \n",
       "..            ...           ...       ...           ...           ...   \n",
       "105  17173.515868  interpolated  midpoint  17170.919199  17173.515868   \n",
       "106  30165.743940  interpolated  midpoint  41016.635264  30165.743940   \n",
       "107    572.061169  interpolated  midpoint    572.061039    572.061169   \n",
       "108   1119.314417  interpolated  midpoint   1119.306548   1119.314417   \n",
       "109    940.203354  interpolated  midpoint    939.883601    940.203354   \n",
       "\n",
       "          top  bottom  \n",
       "0    1.000000       0  \n",
       "1    1.000000       0  \n",
       "2    1.000129       0  \n",
       "3    1.000019       0  \n",
       "4    1.000154       0  \n",
       "..        ...     ...  \n",
       "105  1.000279       0  \n",
       "106  0.757728       0  \n",
       "107  1.000001       0  \n",
       "108  1.000022       0  \n",
       "109  1.000622       0  \n",
       "\n",
       "[110 rows x 10 columns]"
      ]
     },
     "execution_count": 16,
     "metadata": {},
     "output_type": "execute_result"
    }
   ],
   "source": [
    "def get_median_bound(s):\n",
    "    \"\"\"Get the bound on titer when taking median.\"\"\"\n",
    "    s = list(s)\n",
    "    if len(s) % 2:\n",
    "        return s[len(s) // 2]\n",
    "    else:\n",
    "        bounds = s[len(s) // 2 - 1 : len(s) // 2 + 1]\n",
    "        assert len(bounds) == 2\n",
    "        if len(set(bounds)) == 1:\n",
    "            return bounds[0]\n",
    "        elif \"interpolated\" in bounds:\n",
    "            return [b for b in bounds if b != \"interpolated\"][0]\n",
    "        else:\n",
    "            return \"inconsistent\"\n",
    "\n",
    "fit_params_noqc = (\n",
    "    fits_noqc.fitParams(average_only=False, no_average=True)\n",
    "    .assign(\n",
    "        nt50=lambda x: 1 / x[\"ic50\"],\n",
    "        midpoint=lambda x: 1 / x[\"midpoint_bound\"],\n",
    "        titer=lambda x: x[\"midpoint\"] if serum_titer_as == \"midpoint\" else x[\"nt50\"],\n",
    "        titer_bound=lambda x: (\n",
    "            x[\"midpoint_bound_type\"] if serum_titer_as == \"midpoint\" else x[\"ic50_bound\"]\n",
    "        ).map({\"lower\": \"upper\", \"upper\": \"lower\", \"interpolated\": \"interpolated\"}),\n",
    "        titer_as=serum_titer_as,\n",
    "    )\n",
    "    [[\"serum\", \"virus\", \"replicate\", \"titer\", \"titer_bound\", \"titer_as\", \"nt50\", \"midpoint\", \"top\", \"bottom\"]]\n",
    ")\n",
    "assert fit_params_noqc.notnull().all().all()\n",
    "\n",
    "if len(invalid_titer_as := fit_params_noqc.query(\"(titer_as == 'nt50') and top <= 0.5\")):\n",
    "    raise ValueError(\n",
    "        f\"There are titers computed as nt50 when curve top <= 0.5:\\n{invalid_titer_as}\"\n",
    "    )\n",
    "assert len(fit_params_noqc) == fit_params_noqc[\"replicate\"].nunique()"
   ]
  },
  {
   "cell_type": "markdown",
   "id": "afb9bd52-91d1-43aa-801b-679286bee2ea",
   "metadata": {},
   "source": [
    "Plot the correlation of the NT50s with the midpoint (this is an interactive plot, mouse over points for details).\n",
    "This plot can help you determine if you made the correct choice of `serum_titer_as` when choosing to use the midpoint or NT50 for the titer.\n",
    "For titers where they are well correlated it should not matter which you chose.\n",
    "But if there are titers far from the correlation line, you should look at those measurements and curves to make sure you made the correct choice of calculating the titer as the NT50 versus midpoint:"
   ]
  },
  {
   "cell_type": "code",
   "execution_count": 28,
   "id": "1d3198c0-834c-4884-9d5c-28f53fa30758",
   "metadata": {
    "execution": {
     "iopub.execute_input": "2023-12-30T15:27:29.735462Z",
     "iopub.status.busy": "2023-12-30T15:27:29.734664Z",
     "iopub.status.idle": "2023-12-30T15:27:29.931024Z",
     "shell.execute_reply": "2023-12-30T15:27:29.930120Z",
     "shell.execute_reply.started": "2023-12-30T15:27:29.735381Z"
    }
   },
   "outputs": [
    {
     "data": {
      "text/html": [
       "\n",
       "<style>\n",
       "  #altair-viz-c82d34168a8e4ff5bf0ba86929ae4149.vega-embed {\n",
       "    width: 100%;\n",
       "    display: flex;\n",
       "  }\n",
       "\n",
       "  #altair-viz-c82d34168a8e4ff5bf0ba86929ae4149.vega-embed details,\n",
       "  #altair-viz-c82d34168a8e4ff5bf0ba86929ae4149.vega-embed details summary {\n",
       "    position: relative;\n",
       "  }\n",
       "</style>\n",
       "<div id=\"altair-viz-c82d34168a8e4ff5bf0ba86929ae4149\"></div>\n",
       "<script type=\"text/javascript\">\n",
       "  var VEGA_DEBUG = (typeof VEGA_DEBUG == \"undefined\") ? {} : VEGA_DEBUG;\n",
       "  (function(spec, embedOpt){\n",
       "    let outputDiv = document.currentScript.previousElementSibling;\n",
       "    if (outputDiv.id !== \"altair-viz-c82d34168a8e4ff5bf0ba86929ae4149\") {\n",
       "      outputDiv = document.getElementById(\"altair-viz-c82d34168a8e4ff5bf0ba86929ae4149\");\n",
       "    }\n",
       "    const paths = {\n",
       "      \"vega\": \"https://cdn.jsdelivr.net/npm/vega@5?noext\",\n",
       "      \"vega-lib\": \"https://cdn.jsdelivr.net/npm/vega-lib?noext\",\n",
       "      \"vega-lite\": \"https://cdn.jsdelivr.net/npm/vega-lite@5.16.3?noext\",\n",
       "      \"vega-embed\": \"https://cdn.jsdelivr.net/npm/vega-embed@6?noext\",\n",
       "    };\n",
       "\n",
       "    function maybeLoadScript(lib, version) {\n",
       "      var key = `${lib.replace(\"-\", \"\")}_version`;\n",
       "      return (VEGA_DEBUG[key] == version) ?\n",
       "        Promise.resolve(paths[lib]) :\n",
       "        new Promise(function(resolve, reject) {\n",
       "          var s = document.createElement('script');\n",
       "          document.getElementsByTagName(\"head\")[0].appendChild(s);\n",
       "          s.async = true;\n",
       "          s.onload = () => {\n",
       "            VEGA_DEBUG[key] = version;\n",
       "            return resolve(paths[lib]);\n",
       "          };\n",
       "          s.onerror = () => reject(`Error loading script: ${paths[lib]}`);\n",
       "          s.src = paths[lib];\n",
       "        });\n",
       "    }\n",
       "\n",
       "    function showError(err) {\n",
       "      outputDiv.innerHTML = `<div class=\"error\" style=\"color:red;\">${err}</div>`;\n",
       "      throw err;\n",
       "    }\n",
       "\n",
       "    function displayChart(vegaEmbed) {\n",
       "      vegaEmbed(outputDiv, spec, embedOpt)\n",
       "        .catch(err => showError(`Javascript Error: ${err.message}<br>This usually means there's a typo in your chart specification. See the javascript console for the full traceback.`));\n",
       "    }\n",
       "\n",
       "    if(typeof define === \"function\" && define.amd) {\n",
       "      requirejs.config({paths});\n",
       "      require([\"vega-embed\"], displayChart, err => showError(`Error loading script: ${err.message}`));\n",
       "    } else {\n",
       "      maybeLoadScript(\"vega\", \"5\")\n",
       "        .then(() => maybeLoadScript(\"vega-lite\", \"5.16.3\"))\n",
       "        .then(() => maybeLoadScript(\"vega-embed\", \"6\"))\n",
       "        .catch(showError)\n",
       "        .then(() => displayChart(vegaEmbed));\n",
       "    }\n",
       "  })({\"config\": {\"view\": {\"continuousWidth\": 300, \"continuousHeight\": 300}, \"axis\": {\"grid\": false}}, \"data\": {\"name\": \"data-c6b70a47e80ddfe7e9e086a0c53d910c\"}, \"mark\": {\"type\": \"circle\", \"color\": \"black\", \"fillOpacity\": 0.45, \"stroke\": \"red\"}, \"encoding\": {\"size\": {\"condition\": {\"param\": \"param_11\", \"value\": 100, \"empty\": false}, \"value\": 60}, \"strokeWidth\": {\"condition\": {\"param\": \"param_11\", \"value\": 3, \"empty\": false}, \"value\": 0}, \"tooltip\": [{\"field\": \"serum\", \"type\": \"nominal\"}, {\"field\": \"virus\", \"type\": \"nominal\"}, {\"field\": \"replicate\", \"type\": \"nominal\"}, {\"field\": \"titer\", \"format\": \".2g\", \"type\": \"quantitative\"}, {\"field\": \"titer_bound\", \"type\": \"nominal\"}, {\"field\": \"titer_as\", \"type\": \"nominal\"}, {\"field\": \"nt50\", \"format\": \".2g\", \"type\": \"quantitative\"}, {\"field\": \"midpoint\", \"format\": \".2g\", \"type\": \"quantitative\"}, {\"field\": \"top\", \"format\": \".2g\", \"type\": \"quantitative\"}, {\"field\": \"bottom\", \"type\": \"quantitative\"}], \"x\": {\"field\": \"nt50\", \"scale\": {\"nice\": false, \"padding\": 8, \"type\": \"log\"}, \"type\": \"quantitative\"}, \"y\": {\"field\": \"midpoint\", \"scale\": {\"nice\": false, \"padding\": 8, \"type\": \"log\"}, \"type\": \"quantitative\"}}, \"height\": 350, \"params\": [{\"name\": \"param_11\", \"select\": {\"type\": \"point\", \"fields\": [\"virus\"], \"on\": \"mouseover\"}}], \"title\": \"NT50 versus midpoint for serum Y044d30\", \"width\": 350, \"$schema\": \"https://vega.github.io/schema/vega-lite/v5.16.3.json\", \"datasets\": {\"data-c6b70a47e80ddfe7e9e086a0c53d910c\": [{\"serum\": \"Y044d30\", \"virus\": \"A/India-Pune-Nivcov2221170/2022\", \"replicate\": \"plate11-CGTTTAAACAATGAAG\", \"titer\": 1190.451201496739, \"titer_bound\": \"interpolated\", \"titer_as\": \"midpoint\", \"nt50\": 1190.4511742667291, \"midpoint\": 1190.451201496739, \"top\": 1.0000001183973972, \"bottom\": 0}, {\"serum\": \"Y044d30\", \"virus\": \"A/India-Pune-Nivcov2221170/2022\", \"replicate\": \"plate11-AAATCTACCGCATTAT\", \"titer\": 1642.7607032157712, \"titer_bound\": \"interpolated\", \"titer_as\": \"midpoint\", \"nt50\": 1642.760703207859, \"midpoint\": 1642.7607032157712, \"top\": 1.0000000000495959, \"bottom\": 0}, {\"serum\": \"Y044d30\", \"virus\": \"A/Niger/10217/2021\", \"replicate\": \"plate11-AAATAAGTACGCAAAT\", \"titer\": 11692.9567719387, \"titer_bound\": \"interpolated\", \"titer_as\": \"midpoint\", \"nt50\": 11692.07435607789, \"midpoint\": 11692.9567719387, \"top\": 1.0001292734348628, \"bottom\": 0}, {\"serum\": \"Y044d30\", \"virus\": \"A/Niger/10217/2021\", \"replicate\": \"plate11-GAACGATTGTAATTTT\", \"titer\": 10854.939520192465, \"titer_bound\": \"interpolated\", \"titer_as\": \"midpoint\", \"nt50\": 10854.836190849177, \"midpoint\": 10854.939520192465, \"top\": 1.0000194175157466, \"bottom\": 0}, {\"serum\": \"Y044d30\", \"virus\": \"A/Niger/10217/2021\", \"replicate\": \"plate11-CATCAACCGCCATTTC\", \"titer\": 14597.871827959574, \"titer_bound\": \"interpolated\", \"titer_as\": \"midpoint\", \"nt50\": 14596.653218888421, \"midpoint\": 14597.871827959574, \"top\": 1.0001540180396287, \"bottom\": 0}, {\"serum\": \"Y044d30\", \"virus\": \"A/Michigan/45/2015\", \"replicate\": \"plate11-TGAGGATAATCACAAG\", \"titer\": 17138.42280494233, \"titer_bound\": \"interpolated\", \"titer_as\": \"midpoint\", \"nt50\": 17126.52443757063, \"midpoint\": 17138.42280494233, \"top\": 1.0010570002484471, \"bottom\": 0}, {\"serum\": \"Y044d30\", \"virus\": \"A/Michigan/45/2015\", \"replicate\": \"plate11-ACAAAGTCTCGAGAAG\", \"titer\": 13817.812214743135, \"titer_bound\": \"interpolated\", \"titer_as\": \"midpoint\", \"nt50\": 13808.14795925751, \"midpoint\": 13817.812214743135, \"top\": 1.000976748938534, \"bottom\": 0}, {\"serum\": \"Y044d30\", \"virus\": \"A/Michigan/45/2015\", \"replicate\": \"plate11-TTGAAAAAATCATAAA\", \"titer\": 7923.164651080413, \"titer_bound\": \"interpolated\", \"titer_as\": \"midpoint\", \"nt50\": 8948.428670750729, \"midpoint\": 7923.164651080413, \"top\": 0.9020614726921768, \"bottom\": 0}, {\"serum\": \"Y044d30\", \"virus\": \"A/Michigan/45/2015\", \"replicate\": \"plate11-CACCTAGGATCGCACT\", \"titer\": 11757.695655970756, \"titer_bound\": \"interpolated\", \"titer_as\": \"midpoint\", \"nt50\": 11688.528587270099, \"midpoint\": 11757.695655970756, \"top\": 1.0056290583016305, \"bottom\": 0}, {\"serum\": \"Y044d30\", \"virus\": \"A/California/07/2009\", \"replicate\": \"plate11-CATGTGAATTCGCCCA\", \"titer\": 6762.044993384494, \"titer_bound\": \"interpolated\", \"titer_as\": \"midpoint\", \"nt50\": 6761.232778816461, \"midpoint\": 6762.044993384494, \"top\": 1.0001632574752228, \"bottom\": 0}, {\"serum\": \"Y044d30\", \"virus\": \"A/California/07/2009\", \"replicate\": \"plate11-CGCCTAATGTTAATAA\", \"titer\": 8060.908958361765, \"titer_bound\": \"interpolated\", \"titer_as\": \"midpoint\", \"nt50\": 7935.992618000822, \"midpoint\": 8060.908958361765, \"top\": 1.01100055660497, \"bottom\": 0}, {\"serum\": \"Y044d30\", \"virus\": \"A/California/07/2009\", \"replicate\": \"plate11-GACACAGAACCCATGC\", \"titer\": 9583.570864529353, \"titer_bound\": \"interpolated\", \"titer_as\": \"midpoint\", \"nt50\": 9493.851837961243, \"midpoint\": 9583.570864529353, \"top\": 1.0077529737598798, \"bottom\": 0}, {\"serum\": \"Y044d30\", \"virus\": \"A/California/07/2009\", \"replicate\": \"plate11-CCTTTCTCAAAACATA\", \"titer\": 15327.95013104687, \"titer_bound\": \"interpolated\", \"titer_as\": \"midpoint\", \"nt50\": 15024.806725743016, \"midpoint\": 15327.95013104687, \"top\": 1.0165939831062107, \"bottom\": 0}, {\"serum\": \"Y044d30\", \"virus\": \"A/Belgium/H0038/2022\", \"replicate\": \"plate11-GATCCGTACTTTGATT\", \"titer\": 13488.340190475565, \"titer_bound\": \"interpolated\", \"titer_as\": \"midpoint\", \"nt50\": 14407.499114927357, \"midpoint\": 13488.340190475565, \"top\": 0.8925142482316057, \"bottom\": 0}, {\"serum\": \"Y044d30\", \"virus\": \"A/Belgium/H0038/2022\", \"replicate\": \"plate11-TACCGTATAATTAAAA\", \"titer\": 15037.464179162367, \"titer_bound\": \"interpolated\", \"titer_as\": \"midpoint\", \"nt50\": 16232.399324134081, \"midpoint\": 15037.464179162367, \"top\": 0.8457963089951899, \"bottom\": 0}, {\"serum\": \"Y044d30\", \"virus\": \"A/Belgium/H0038/2022\", \"replicate\": \"plate11-GCCGGAGGGCATTTTC\", \"titer\": 12651.206395392208, \"titer_bound\": \"interpolated\", \"titer_as\": \"midpoint\", \"nt50\": 12747.692074100753, \"midpoint\": 12651.206395392208, \"top\": 0.9872647269575184, \"bottom\": 0}, {\"serum\": \"Y044d30\", \"virus\": \"A/Paris/30353/2021\", \"replicate\": \"plate11-GTTTGACAATCACTAC\", \"titer\": 19374.135412697466, \"titer_bound\": \"interpolated\", \"titer_as\": \"midpoint\", \"nt50\": 19364.54638134099, \"midpoint\": 19374.135412697466, \"top\": 1.0008315219124133, \"bottom\": 0}, {\"serum\": \"Y044d30\", \"virus\": \"A/Paris/30353/2021\", \"replicate\": \"plate11-ACATAAGAACCCTATA\", \"titer\": 5739.680807814478, \"titer_bound\": \"interpolated\", \"titer_as\": \"midpoint\", \"nt50\": 5739.680705061217, \"midpoint\": 5739.680807814478, \"top\": 1.0000001409185881, \"bottom\": 0}, {\"serum\": \"Y044d30\", \"virus\": \"A/Paris/30353/2021\", \"replicate\": \"plate11-ACATTTCCCTCGATAT\", \"titer\": 10055.540694634641, \"titer_bound\": \"interpolated\", \"titer_as\": \"midpoint\", \"nt50\": 10033.830059407372, \"midpoint\": 10055.540694634641, \"top\": 1.002300988301807, \"bottom\": 0}, {\"serum\": \"Y044d30\", \"virus\": \"A/Brisbane/02/2018\", \"replicate\": \"plate11-TAATAAGCCAGCAAGA\", \"titer\": 6822.719549450109, \"titer_bound\": \"interpolated\", \"titer_as\": \"midpoint\", \"nt50\": 6822.710509788849, \"midpoint\": 6822.719549450109, \"top\": 1.0000027388256896, \"bottom\": 0}, {\"serum\": \"Y044d30\", \"virus\": \"A/Brisbane/02/2018\", \"replicate\": \"plate11-TTGGGCACTAAATTAA\", \"titer\": 25813.87245355497, \"titer_bound\": \"interpolated\", \"titer_as\": \"midpoint\", \"nt50\": 24574.483235887303, \"midpoint\": 25813.87245355497, \"top\": 1.0406280456479073, \"bottom\": 0}, {\"serum\": \"Y044d30\", \"virus\": \"A/Brisbane/02/2018\", \"replicate\": \"plate11-ATCCGATTTAAAGGCA\", \"titer\": 17451.87903021814, \"titer_bound\": \"interpolated\", \"titer_as\": \"midpoint\", \"nt50\": 15958.917850583866, \"midpoint\": 17451.87903021814, \"top\": 1.0549374905807145, \"bottom\": 0}, {\"serum\": \"Y044d30\", \"virus\": \"A/Brisbane/02/2018\", \"replicate\": \"plate11-ACGACATGATCAAACG\", \"titer\": 9705.469790791753, \"titer_bound\": \"interpolated\", \"titer_as\": \"midpoint\", \"nt50\": 11224.547365471079, \"midpoint\": 9705.469790791753, \"top\": 0.8779511655068869, \"bottom\": 0}, {\"serum\": \"Y044d30\", \"virus\": \"A/Perth/1/2022\", \"replicate\": \"plate11-CTGCACGAGAGACTTC\", \"titer\": 972.9575062556113, \"titer_bound\": \"interpolated\", \"titer_as\": \"midpoint\", \"nt50\": 977.3121446404658, \"midpoint\": 972.9575062556113, \"top\": 0.9691024235736602, \"bottom\": 0}, {\"serum\": \"Y044d30\", \"virus\": \"A/Perth/1/2022\", \"replicate\": \"plate11-TTGGGGAAATATATAA\", \"titer\": 829.4683699892145, \"titer_bound\": \"interpolated\", \"titer_as\": \"midpoint\", \"nt50\": 832.7045750167805, \"midpoint\": 829.4683699892145, \"top\": 0.97723292021962, \"bottom\": 0}, {\"serum\": \"Y044d30\", \"virus\": \"A/Perth/1/2022\", \"replicate\": \"plate11-AGCCCCGTGAGAAGCA\", \"titer\": 4325.445781663441, \"titer_bound\": \"interpolated\", \"titer_as\": \"midpoint\", \"nt50\": 4325.44573594478, \"midpoint\": 4325.445781663441, \"top\": 1.0000000670603197, \"bottom\": 0}, {\"serum\": \"Y044d30\", \"virus\": \"A/Cote_DIvoire/1448/2021\", \"replicate\": \"plate11-TCGAGAACACCCATAA\", \"titer\": 19086.53722276328, \"titer_bound\": \"interpolated\", \"titer_as\": \"midpoint\", \"nt50\": 26178.550607915564, \"midpoint\": 19086.53722276328, \"top\": 0.7505155436966094, \"bottom\": 0}, {\"serum\": \"Y044d30\", \"virus\": \"A/Cote_DIvoire/1448/2021\", \"replicate\": \"plate11-GTTAAACGATCTATAG\", \"titer\": 11764.011622877051, \"titer_bound\": \"interpolated\", \"titer_as\": \"midpoint\", \"nt50\": 11763.899669619126, \"midpoint\": 11764.011622877051, \"top\": 1.000019998948188, \"bottom\": 0}, {\"serum\": \"Y044d30\", \"virus\": \"A/Cote_DIvoire/1448/2021\", \"replicate\": \"plate11-GTCCGTTGATAAAGAG\", \"titer\": 16091.499284903368, \"titer_bound\": \"interpolated\", \"titer_as\": \"midpoint\", \"nt50\": 16467.30996331452, \"midpoint\": 16091.499284903368, \"top\": 0.8772920143760695, \"bottom\": 0}, {\"serum\": \"Y044d30\", \"virus\": \"A/Bangladesh/8036/2021\", \"replicate\": \"plate11-ATACCTCAACCTTGAA\", \"titer\": 1209.2970967949973, \"titer_bound\": \"interpolated\", \"titer_as\": \"midpoint\", \"nt50\": 1209.2960049806798, \"midpoint\": 1209.2970967949973, \"top\": 1.00000361653225, \"bottom\": 0}, {\"serum\": \"Y044d30\", \"virus\": \"A/Bangladesh/8036/2021\", \"replicate\": \"plate11-ACGGGGCCCAGGTAAT\", \"titer\": 1614.2084658445515, \"titer_bound\": \"interpolated\", \"titer_as\": \"midpoint\", \"nt50\": 1614.20846584455, \"midpoint\": 1614.2084658445515, \"top\": 1.0000000000000062, \"bottom\": 0}, {\"serum\": \"Y044d30\", \"virus\": \"A/Bangladesh/8036/2021\", \"replicate\": \"plate11-CAGTTCTGCGACCAGC\", \"titer\": 5064.597465791576, \"titer_bound\": \"interpolated\", \"titer_as\": \"midpoint\", \"nt50\": 5126.226771001931, \"midpoint\": 5064.597465791576, \"top\": 0.9035521626785389, \"bottom\": 0}, {\"serum\": \"Y044d30\", \"virus\": \"A/Bangladesh/8002/2021\", \"replicate\": \"plate11-AGTGTCCCTAAGAGGC\", \"titer\": 1180.9781391667125, \"titer_bound\": \"interpolated\", \"titer_as\": \"midpoint\", \"nt50\": 1180.9778025440496, \"midpoint\": 1180.9781391667125, \"top\": 1.0000012311895499, \"bottom\": 0}, {\"serum\": \"Y044d30\", \"virus\": \"A/Bangladesh/8002/2021\", \"replicate\": \"plate11-GCAACGCCAAATAATT\", \"titer\": 1205.3259729024753, \"titer_bound\": \"interpolated\", \"titer_as\": \"midpoint\", \"nt50\": 1205.3257613051603, \"midpoint\": 1205.3259729024753, \"top\": 1.000000796769468, \"bottom\": 0}, {\"serum\": \"Y044d30\", \"virus\": \"A/Bangladesh/8002/2021\", \"replicate\": \"plate11-TCTGCTAAACTAAGTA\", \"titer\": 1282.657062636549, \"titer_bound\": \"interpolated\", \"titer_as\": \"midpoint\", \"nt50\": 1282.6568421788436, \"midpoint\": 1282.657062636549, \"top\": 1.0000008149608088, \"bottom\": 0}, {\"serum\": \"Y044d30\", \"virus\": \"A/Michigan/19/2021\", \"replicate\": \"plate11-AGAGAAAAAACAGTGA\", \"titer\": 903.5687687189837, \"titer_bound\": \"interpolated\", \"titer_as\": \"midpoint\", \"nt50\": 905.391088734302, \"midpoint\": 903.5687687189837, \"top\": 0.9873493252670792, \"bottom\": 0}, {\"serum\": \"Y044d30\", \"virus\": \"A/Michigan/19/2021\", \"replicate\": \"plate11-AACGTTAACAAATGAA\", \"titer\": 795.3027620200036, \"titer_bound\": \"interpolated\", \"titer_as\": \"midpoint\", \"nt50\": 798.6761069607671, \"midpoint\": 795.3027620200036, \"top\": 0.9794032337934279, \"bottom\": 0}, {\"serum\": \"Y044d30\", \"virus\": \"A/Michigan/19/2021\", \"replicate\": \"plate11-TAATGAGCTTTATGGT\", \"titer\": 1262.5260108074906, \"titer_bound\": \"interpolated\", \"titer_as\": \"midpoint\", \"nt50\": 1262.5250824252764, \"midpoint\": 1262.5260108074906, \"top\": 1.0000030831131423, \"bottom\": 0}, {\"serum\": \"Y044d30\", \"virus\": \"A/Chester/5355/2022\", \"replicate\": \"plate11-CCTCAAAATAACAAGC\", \"titer\": 786.2644332167795, \"titer_bound\": \"interpolated\", \"titer_as\": \"midpoint\", \"nt50\": 797.9606200550314, \"midpoint\": 786.2644332167795, \"top\": 0.9172320936152464, \"bottom\": 0}, {\"serum\": \"Y044d30\", \"virus\": \"A/Chester/5355/2022\", \"replicate\": \"plate11-TCATATAAAGAAAAGG\", \"titer\": 4272.00418155382, \"titer_bound\": \"interpolated\", \"titer_as\": \"midpoint\", \"nt50\": 4307.019849002701, \"midpoint\": 4272.00418155382, \"top\": 0.941021651068772, \"bottom\": 0}, {\"serum\": \"Y044d30\", \"virus\": \"A/Chester/5355/2022\", \"replicate\": \"plate11-AAAAAACGCATGTAGA\", \"titer\": 896.3190953341732, \"titer_bound\": \"interpolated\", \"titer_as\": \"midpoint\", \"nt50\": 901.2992440962224, \"midpoint\": 896.3190953341732, \"top\": 0.9647703687621726, \"bottom\": 0}, {\"serum\": \"Y044d30\", \"virus\": \"A/India-PUN-NIV328484/2021\", \"replicate\": \"plate11-GATCTAATAATACGGC\", \"titer\": 4985.818180512083, \"titer_bound\": \"interpolated\", \"titer_as\": \"midpoint\", \"nt50\": 5009.106652004663, \"midpoint\": 4985.818180512083, \"top\": 0.9603480625809817, \"bottom\": 0}, {\"serum\": \"Y044d30\", \"virus\": \"A/India-PUN-NIV328484/2021\", \"replicate\": \"plate11-TCTGTTCCGGCCCGAA\", \"titer\": 1201.9440957291024, \"titer_bound\": \"interpolated\", \"titer_as\": \"midpoint\", \"nt50\": 1201.94325951119, \"midpoint\": 1201.9440957291024, \"top\": 1.0000028352595596, \"bottom\": 0}, {\"serum\": \"Y044d30\", \"virus\": \"A/India-PUN-NIV328484/2021\", \"replicate\": \"plate11-TTGTCCCGAGACAACA\", \"titer\": 1111.635284997932, \"titer_bound\": \"interpolated\", \"titer_as\": \"midpoint\", \"nt50\": 1121.4967328845387, \"midpoint\": 1111.635284997932, \"top\": 0.9302724884734084, \"bottom\": 0}, {\"serum\": \"Y044d30\", \"virus\": \"A/Bangladesh/3210810034/2021\", \"replicate\": \"plate11-ACAAAAGTACCTCTAC\", \"titer\": 427.24569145562214, \"titer_bound\": \"interpolated\", \"titer_as\": \"midpoint\", \"nt50\": 427.16939886996323, \"midpoint\": 427.24569145562214, \"top\": 1.0002537599230417, \"bottom\": 0}, {\"serum\": \"Y044d30\", \"virus\": \"A/Bangladesh/3210810034/2021\", \"replicate\": \"plate11-AACTATAGATCTAGAA\", \"titer\": 605.7482020105464, \"titer_bound\": \"interpolated\", \"titer_as\": \"midpoint\", \"nt50\": 605.7463013908995, \"midpoint\": 605.7482020105464, \"top\": 1.000007818076521, \"bottom\": 0}, {\"serum\": \"Y044d30\", \"virus\": \"A/India/Pun-NIV312851/2021\", \"replicate\": \"plate11-CAAGAACCCAAATATA\", \"titer\": 881.1143277119811, \"titer_bound\": \"interpolated\", \"titer_as\": \"midpoint\", \"nt50\": 897.225464676526, \"midpoint\": 881.1143277119811, \"top\": 0.8978659967955873, \"bottom\": 0}, {\"serum\": \"Y044d30\", \"virus\": \"A/India/Pun-NIV312851/2021\", \"replicate\": \"plate11-ACAGCAAATACTCACA\", \"titer\": 858.2360507041144, \"titer_bound\": \"interpolated\", \"titer_as\": \"midpoint\", \"nt50\": 874.7861709222484, \"midpoint\": 858.2360507041144, \"top\": 0.8840968454026146, \"bottom\": 0}, {\"serum\": \"Y044d30\", \"virus\": \"A/India/Pun-NIV312851/2021\", \"replicate\": \"plate11-GTAGCTATAACTAATA\", \"titer\": 1290.5877096980555, \"titer_bound\": \"interpolated\", \"titer_as\": \"midpoint\", \"nt50\": 1290.586102797, \"midpoint\": 1290.5877096980555, \"top\": 1.000005073170092, \"bottom\": 0}, {\"serum\": \"Y044d30\", \"virus\": \"A/Togo/0274/2021\", \"replicate\": \"plate11-TAGCAGATGTATCAAT\", \"titer\": 14504.289101194614, \"titer_bound\": \"interpolated\", \"titer_as\": \"midpoint\", \"nt50\": 14504.086919770774, \"midpoint\": 14504.289101194614, \"top\": 1.0000307141847842, \"bottom\": 0}, {\"serum\": \"Y044d30\", \"virus\": \"A/Togo/0274/2021\", \"replicate\": \"plate11-GTAACATTATACGATT\", \"titer\": 24660.936705301978, \"titer_bound\": \"interpolated\", \"titer_as\": \"midpoint\", \"nt50\": 24110.645713595826, \"midpoint\": 24660.936705301978, \"top\": 1.0219635723396903, \"bottom\": 0}, {\"serum\": \"Y044d30\", \"virus\": \"A/Togo/0274/2021\", \"replicate\": \"plate11-AACGAATGAATTTCTT\", \"titer\": 182212.53356113564, \"titer_bound\": \"interpolated\", \"titer_as\": \"midpoint\", \"nt50\": 62819.35008857448, \"midpoint\": 182212.53356113564, \"top\": 1.5622868044464735, \"bottom\": 0}, {\"serum\": \"Y044d30\", \"virus\": \"A/Ghana/2080/2020\", \"replicate\": \"plate11-GTAGTGCATCATTGAT\", \"titer\": 21761.650422154133, \"titer_bound\": \"interpolated\", \"titer_as\": \"midpoint\", \"nt50\": 21758.803105422478, \"midpoint\": 21761.650422154133, \"top\": 1.0002738608367758, \"bottom\": 0}, {\"serum\": \"Y044d30\", \"virus\": \"A/Ghana/2080/2020\", \"replicate\": \"plate11-CAGCAAAAGCATCACC\", \"titer\": 16024.943014780127, \"titer_bound\": \"interpolated\", \"titer_as\": \"midpoint\", \"nt50\": 16024.642489248421, \"midpoint\": 16024.943014780127, \"top\": 1.0000418948856853, \"bottom\": 0}, {\"serum\": \"Y044d30\", \"virus\": \"A/Ghana/2080/2020\", \"replicate\": \"plate11-GCAATCCCGCAATTTG\", \"titer\": 16176.179694063601, \"titer_bound\": \"interpolated\", \"titer_as\": \"midpoint\", \"nt50\": 16383.323434883816, \"midpoint\": 16176.179694063601, \"top\": 0.9380172226523062, \"bottom\": 0}, {\"serum\": \"Y044d30\", \"virus\": \"A/Sydney/43/2022\", \"replicate\": \"plate11-TACGGACATTCTTAAC\", \"titer\": 985.093750805659, \"titer_bound\": \"interpolated\", \"titer_as\": \"midpoint\", \"nt50\": 985.0781037354715, \"midpoint\": 985.093750805659, \"top\": 1.0000431296936627, \"bottom\": 0}, {\"serum\": \"Y044d30\", \"virus\": \"A/Sydney/43/2022\", \"replicate\": \"plate11-TAGTATAATAGAGCAG\", \"titer\": 1614.7963318086045, \"titer_bound\": \"interpolated\", \"titer_as\": \"midpoint\", \"nt50\": 1614.7963318086045, \"midpoint\": 1614.7963318086045, \"top\": 1.0000000000000009, \"bottom\": 0}, {\"serum\": \"Y044d30\", \"virus\": \"A/Sydney/43/2022\", \"replicate\": \"plate11-CTATTAATCATGCAAA\", \"titer\": 3169.764584567734, \"titer_bound\": \"interpolated\", \"titer_as\": \"midpoint\", \"nt50\": 3169.0694955467334, \"midpoint\": 3169.764584567734, \"top\": 1.0004709230459725, \"bottom\": 0}, {\"serum\": \"Y044d30\", \"virus\": \"A/Wisconsin/588/2019\", \"replicate\": \"plate11-TATATTAGTAACATAA\", \"titer\": 1172.0165584158542, \"titer_bound\": \"interpolated\", \"titer_as\": \"midpoint\", \"nt50\": 1172.013519854091, \"midpoint\": 1172.0165584158542, \"top\": 1.000009296278722, \"bottom\": 0}, {\"serum\": \"Y044d30\", \"virus\": \"A/Wisconsin/588/2019\", \"replicate\": \"plate11-GAAGAAACTATAACCA\", \"titer\": 1058.3565090190755, \"titer_bound\": \"interpolated\", \"titer_as\": \"midpoint\", \"nt50\": 1058.324599198581, \"midpoint\": 1058.3565090190755, \"top\": 1.0000796573209487, \"bottom\": 0}, {\"serum\": \"Y044d30\", \"virus\": \"A/Wisconsin/588/2019\", \"replicate\": \"plate11-AGTCCTATCCTCAAAT\", \"titer\": 1173.0641382777537, \"titer_bound\": \"interpolated\", \"titer_as\": \"midpoint\", \"nt50\": 1173.0595428348645, \"midpoint\": 1173.0641382777537, \"top\": 1.0000135379396877, \"bottom\": 0}, {\"serum\": \"Y044d30\", \"virus\": \"A/Washington/23/2020\", \"replicate\": \"plate11-GAACTGGCGTCAATCA\", \"titer\": 2506.125870840038, \"titer_bound\": \"interpolated\", \"titer_as\": \"midpoint\", \"nt50\": 4166.297384163117, \"midpoint\": 2506.125870840038, \"top\": 0.5771735972181411, \"bottom\": 0}, {\"serum\": \"Y044d30\", \"virus\": \"A/Washington/23/2020\", \"replicate\": \"plate11-GGATAAGAAAACTACT\", \"titer\": 902.4932754211216, \"titer_bound\": \"interpolated\", \"titer_as\": \"midpoint\", \"nt50\": 902.7865570352216, \"midpoint\": 902.4932754211216, \"top\": 0.9978204817751944, \"bottom\": 0}, {\"serum\": \"Y044d30\", \"virus\": \"A/Washington/23/2020\", \"replicate\": \"plate11-ACGGAATCCCCTGAGA\", \"titer\": 4270.401963791019, \"titer_bound\": \"interpolated\", \"titer_as\": \"midpoint\", \"nt50\": 4326.261072731124, \"midpoint\": 4270.401963791019, \"top\": 0.909502221278053, \"bottom\": 0}, {\"serum\": \"Y044d30\", \"virus\": \"A/Ghana/138/2020\", \"replicate\": \"plate11-GACTATGGTCTAAAAA\", \"titer\": 24167.346207381688, \"titer_bound\": \"interpolated\", \"titer_as\": \"midpoint\", \"nt50\": 23908.692788553402, \"midpoint\": 24167.346207381688, \"top\": 1.0121253700618822, \"bottom\": 0}, {\"serum\": \"Y044d30\", \"virus\": \"A/Ghana/138/2020\", \"replicate\": \"plate11-TAAGCCATAAATCAAT\", \"titer\": 15672.15033457924, \"titer_bound\": \"interpolated\", \"titer_as\": \"midpoint\", \"nt50\": 15726.944946569467, \"midpoint\": 15672.15033457924, \"top\": 0.9909453196844134, \"bottom\": 0}, {\"serum\": \"Y044d30\", \"virus\": \"A/Ghana/138/2020\", \"replicate\": \"plate11-CCAGTTCCCTTCGATG\", \"titer\": 20436.331328169206, \"titer_bound\": \"interpolated\", \"titer_as\": \"midpoint\", \"nt50\": 20415.652773646125, \"midpoint\": 20436.331328169206, \"top\": 1.0015773357213573, \"bottom\": 0}, {\"serum\": \"Y044d30\", \"virus\": \"A/Utah/27/2022\", \"replicate\": \"plate11-ACAATGTGACTCACCC\", \"titer\": 1207.1209743228553, \"titer_bound\": \"interpolated\", \"titer_as\": \"midpoint\", \"nt50\": 1207.1203838744352, \"midpoint\": 1207.1209743228553, \"top\": 1.000002055950695, \"bottom\": 0}, {\"serum\": \"Y044d30\", \"virus\": \"A/Utah/27/2022\", \"replicate\": \"plate11-TAAATAACTCGTATTT\", \"titer\": 1055.1554342954907, \"titer_bound\": \"interpolated\", \"titer_as\": \"midpoint\", \"nt50\": 1055.1141833948384, \"midpoint\": 1055.1554342954907, \"top\": 1.0001001593019179, \"bottom\": 0}, {\"serum\": \"Y044d30\", \"virus\": \"A/Utah/27/2022\", \"replicate\": \"plate11-TCCTTGTAATTCAACT\", \"titer\": 1613.5574764401779, \"titer_bound\": \"interpolated\", \"titer_as\": \"midpoint\", \"nt50\": 1613.5574764401765, \"midpoint\": 1613.5574764401779, \"top\": 1.0000000000000062, \"bottom\": 0}, {\"serum\": \"Y044d30\", \"virus\": \"A/Nimes/871/2021\", \"replicate\": \"plate11-GTTCCTTTAAGCCAAA\", \"titer\": 15161.999331021985, \"titer_bound\": \"interpolated\", \"titer_as\": \"midpoint\", \"nt50\": 15332.519943276902, \"midpoint\": 15161.999331021985, \"top\": 0.9827938882921354, \"bottom\": 0}, {\"serum\": \"Y044d30\", \"virus\": \"A/Nimes/871/2021\", \"replicate\": \"plate11-ACCTTACTAAATCCTG\", \"titer\": 20297.443068819888, \"titer_bound\": \"interpolated\", \"titer_as\": \"midpoint\", \"nt50\": 18360.60748031109, \"midpoint\": 20297.443068819888, \"top\": 1.0629112239195029, \"bottom\": 0}, {\"serum\": \"Y044d30\", \"virus\": \"A/Nimes/871/2021\", \"replicate\": \"plate11-TAATTACATTGCGGTT\", \"titer\": 15352.932504911792, \"titer_bound\": \"interpolated\", \"titer_as\": \"midpoint\", \"nt50\": 15352.932504911787, \"midpoint\": 15352.932504911792, \"top\": 1.0000000000000033, \"bottom\": 0}, {\"serum\": \"Y044d30\", \"virus\": \"A/Bangladesh/2221/2021\", \"replicate\": \"plate11-GATAGAAATACCAGGA\", \"titer\": 1181.8711381996518, \"titer_bound\": \"interpolated\", \"titer_as\": \"midpoint\", \"nt50\": 1181.8709473903334, \"midpoint\": 1181.8711381996518, \"top\": 1.0000007277433298, \"bottom\": 0}, {\"serum\": \"Y044d30\", \"virus\": \"A/Bangladesh/2221/2021\", \"replicate\": \"plate11-AAGAGAAATATTCGCT\", \"titer\": 3870.4107676486583, \"titer_bound\": \"interpolated\", \"titer_as\": \"midpoint\", \"nt50\": 3889.0587294398983, \"midpoint\": 3870.4107676486583, \"top\": 0.9964309984309444, \"bottom\": 0}, {\"serum\": \"Y044d30\", \"virus\": \"A/Bangladesh/2221/2021\", \"replicate\": \"plate11-GACAGCAATGCATACA\", \"titer\": 2088.3628835828713, \"titer_bound\": \"interpolated\", \"titer_as\": \"midpoint\", \"nt50\": 2086.7249207837785, \"midpoint\": 2088.3628835828713, \"top\": 1.0011379986868862, \"bottom\": 0}, {\"serum\": \"Y044d30\", \"virus\": \"A/Hawaii/70/2019\", \"replicate\": \"plate11-AGTAAACATGCATTGG\", \"titer\": 4926.020551027112, \"titer_bound\": \"interpolated\", \"titer_as\": \"midpoint\", \"nt50\": 4987.441062533148, \"midpoint\": 4926.020551027112, \"top\": 0.8974283115828642, \"bottom\": 0}, {\"serum\": \"Y044d30\", \"virus\": \"A/Hawaii/70/2019\", \"replicate\": \"plate11-ACATGAATTCAGACGG\", \"titer\": 22035.610438576907, \"titer_bound\": \"interpolated\", \"titer_as\": \"midpoint\", \"nt50\": 21959.782313187785, \"midpoint\": 22035.610438576907, \"top\": 1.0045891339931683, \"bottom\": 0}, {\"serum\": \"Y044d30\", \"virus\": \"A/Hawaii/70/2019\", \"replicate\": \"plate11-ATAGAATCGCAAATTA\", \"titer\": 11120.893521345031, \"titer_bound\": \"interpolated\", \"titer_as\": \"midpoint\", \"nt50\": 12462.508206758992, \"midpoint\": 11120.893521345031, \"top\": 0.8574155015869972, \"bottom\": 0}, {\"serum\": \"Y044d30\", \"virus\": \"A/Hawaii/70/2019\", \"replicate\": \"plate11-TGGAATCGTCACCGAT\", \"titer\": 15363.752840839414, \"titer_bound\": \"interpolated\", \"titer_as\": \"midpoint\", \"nt50\": 18220.53343715314, \"midpoint\": 15363.752840839414, \"top\": 0.7944378158808764, \"bottom\": 0}, {\"serum\": \"Y044d30\", \"virus\": \"A/Brisbane/48/2022\", \"replicate\": \"plate11-CCCTATGCTGCGTATT\", \"titer\": 1527.0065933620792, \"titer_bound\": \"interpolated\", \"titer_as\": \"midpoint\", \"nt50\": 1526.8295545430283, \"midpoint\": 1527.0065933620792, \"top\": 1.0001908350559834, \"bottom\": 0}, {\"serum\": \"Y044d30\", \"virus\": \"A/Brisbane/48/2022\", \"replicate\": \"plate11-GAGCTCTAAAGCAACA\", \"titer\": 770.0881060147884, \"titer_bound\": \"interpolated\", \"titer_as\": \"midpoint\", \"nt50\": 778.2295754835326, \"midpoint\": 770.0881060147884, \"top\": 0.9465182498105802, \"bottom\": 0}, {\"serum\": \"Y044d30\", \"virus\": \"A/Brisbane/48/2022\", \"replicate\": \"plate11-TTATGATCTAAACAGA\", \"titer\": 1206.9422726059674, \"titer_bound\": \"interpolated\", \"titer_as\": \"midpoint\", \"nt50\": 1206.9416473636088, \"midpoint\": 1206.9422726059674, \"top\": 1.000002167387925, \"bottom\": 0}, {\"serum\": \"Y044d30\", \"virus\": \"A/England/220200318/2022\", \"replicate\": \"plate11-GACCAACTGTGGTACA\", \"titer\": 24998.594845867567, \"titer_bound\": \"interpolated\", \"titer_as\": \"midpoint\", \"nt50\": 24425.148006422976, \"midpoint\": 24998.594845867567, \"top\": 1.0225792657532566, \"bottom\": 0}, {\"serum\": \"Y044d30\", \"virus\": \"A/England/220200318/2022\", \"replicate\": \"plate11-CGTAATACATTTAAGA\", \"titer\": 14676.241564386195, \"titer_bound\": \"interpolated\", \"titer_as\": \"midpoint\", \"nt50\": 14676.241564386186, \"midpoint\": 14676.241564386195, \"top\": 1.0000000000000058, \"bottom\": 0}, {\"serum\": \"Y044d30\", \"virus\": \"A/England/220200318/2022\", \"replicate\": \"plate11-GCTGCGCCTAACATAA\", \"titer\": 19797.759497365158, \"titer_bound\": \"interpolated\", \"titer_as\": \"midpoint\", \"nt50\": 19734.83988196161, \"midpoint\": 19797.759497365158, \"top\": 1.004096783669143, \"bottom\": 0}, {\"serum\": \"Y044d30\", \"virus\": \"A/Togo/845/2020\", \"replicate\": \"plate11-GCATGGATCCTTTACT\", \"titer\": 19887.52703800435, \"titer_bound\": \"interpolated\", \"titer_as\": \"midpoint\", \"nt50\": 19829.24596610583, \"midpoint\": 19887.52703800435, \"top\": 1.00383545349952, \"bottom\": 0}, {\"serum\": \"Y044d30\", \"virus\": \"A/Togo/845/2020\", \"replicate\": \"plate11-TTACCGTCTACGCATA\", \"titer\": 30576.428193375064, \"titer_bound\": \"interpolated\", \"titer_as\": \"midpoint\", \"nt50\": 29216.899488781622, \"midpoint\": 30576.428193375064, \"top\": 1.0412464791412743, \"bottom\": 0}, {\"serum\": \"Y044d30\", \"virus\": \"A/Togo/845/2020\", \"replicate\": \"plate11-AGGTCAAGACCACAGG\", \"titer\": 18066.732144796417, \"titer_bound\": \"interpolated\", \"titer_as\": \"midpoint\", \"nt50\": 18595.515274008336, \"midpoint\": 18066.732144796417, \"top\": 0.955698551133123, \"bottom\": 0}, {\"serum\": \"Y044d30\", \"virus\": \"A/Togo/0304/2021\", \"replicate\": \"plate11-GAAGAATGGTTTTCTG\", \"titer\": 5656.536832682727, \"titer_bound\": \"interpolated\", \"titer_as\": \"midpoint\", \"nt50\": 5656.536709104068, \"midpoint\": 5656.536832682727, \"top\": 1.0000001673376406, \"bottom\": 0}, {\"serum\": \"Y044d30\", \"virus\": \"A/Togo/0304/2021\", \"replicate\": \"plate11-AACTCTAAAGATATAA\", \"titer\": 24687.809830318725, \"titer_bound\": \"interpolated\", \"titer_as\": \"midpoint\", \"nt50\": 24560.311077444734, \"midpoint\": 24687.809830318725, \"top\": 1.0067680364772593, \"bottom\": 0}, {\"serum\": \"Y044d30\", \"virus\": \"A/Togo/0304/2021\", \"replicate\": \"plate11-AGAGATAATAACAAAA\", \"titer\": 9036.642609764096, \"titer_bound\": \"interpolated\", \"titer_as\": \"midpoint\", \"nt50\": 8935.637223115851, \"midpoint\": 9036.642609764096, \"top\": 1.0087860359809713, \"bottom\": 0}, {\"serum\": \"Y044d30\", \"virus\": \"A/Paris/31196/2021\", \"replicate\": \"plate11-AGCAGCCTGAAAATAT\", \"titer\": 33921.09747735497, \"titer_bound\": \"interpolated\", \"titer_as\": \"midpoint\", \"nt50\": 32602.909158290608, \"midpoint\": 33921.09747735497, \"top\": 1.0391270090158455, \"bottom\": 0}, {\"serum\": \"Y044d30\", \"virus\": \"A/Paris/31196/2021\", \"replicate\": \"plate11-AAACTAAAAGCAAGGG\", \"titer\": 12950.622649702493, \"titer_bound\": \"interpolated\", \"titer_as\": \"midpoint\", \"nt50\": 13178.199416533962, \"midpoint\": 12950.622649702493, \"top\": 0.952496214251651, \"bottom\": 0}, {\"serum\": \"Y044d30\", \"virus\": \"A/Paris/31196/2021\", \"replicate\": \"plate11-AATAAGTATACGGGAT\", \"titer\": 12569.808749977372, \"titer_bound\": \"interpolated\", \"titer_as\": \"midpoint\", \"nt50\": 12569.363351830543, \"midpoint\": 12569.808749977372, \"top\": 1.000067429590896, \"bottom\": 0}, {\"serum\": \"Y044d30\", \"virus\": \"A/Belgium/H0017/2022\", \"replicate\": \"plate11-GTAAAGCAAATCCATT\", \"titer\": 13962.402048804905, \"titer_bound\": \"interpolated\", \"titer_as\": \"midpoint\", \"nt50\": 13962.152908709792, \"midpoint\": 13962.402048804905, \"top\": 1.0000378258411158, \"bottom\": 0}, {\"serum\": \"Y044d30\", \"virus\": \"A/Belgium/H0017/2022\", \"replicate\": \"plate11-AATGAAAGTTAGCATT\", \"titer\": 13647.82003735484, \"titer_bound\": \"interpolated\", \"titer_as\": \"midpoint\", \"nt50\": 13647.820037354824, \"midpoint\": 13647.82003735484, \"top\": 1.0000000000000087, \"bottom\": 0}, {\"serum\": \"Y044d30\", \"virus\": \"A/Belgium/H0017/2022\", \"replicate\": \"plate11-ATGTCCATAAAAAATA\", \"titer\": 18361.48961470517, \"titer_bound\": \"interpolated\", \"titer_as\": \"midpoint\", \"nt50\": 18350.78657848058, \"midpoint\": 18361.48961470517, \"top\": 1.0009357595840394, \"bottom\": 0}, {\"serum\": \"Y044d30\", \"virus\": \"A/SouthAfrica/R14850/2021\", \"replicate\": \"plate11-TACTCAACAAGATAAA\", \"titer\": 364.7226498831382, \"titer_bound\": \"interpolated\", \"titer_as\": \"midpoint\", \"nt50\": 364.72264985580136, \"midpoint\": 364.7226498831382, \"top\": 1.0000000003318412, \"bottom\": 0}, {\"serum\": \"Y044d30\", \"virus\": \"A/SouthAfrica/R14850/2021\", \"replicate\": \"plate11-AACTCCGCAGACACTG\", \"titer\": 534.9377466017229, \"titer_bound\": \"interpolated\", \"titer_as\": \"midpoint\", \"nt50\": 548.6788894935194, \"midpoint\": 534.9377466017229, \"top\": 0.9405316050087527, \"bottom\": 0}, {\"serum\": \"Y044d30\", \"virus\": \"A/SouthAfrica/R14850/2021\", \"replicate\": \"plate11-GAGACGTACGAAATTA\", \"titer\": 678.9553421545227, \"titer_bound\": \"interpolated\", \"titer_as\": \"midpoint\", \"nt50\": 706.9493711143023, \"midpoint\": 678.9553421545227, \"top\": 0.8502866328540669, \"bottom\": 0}, {\"serum\": \"Y044d30\", \"virus\": \"A/Newcastle/2/2022\", \"replicate\": \"plate11-TTCACTAAGATTTCAT\", \"titer\": 1179.3007107654462, \"titer_bound\": \"interpolated\", \"titer_as\": \"midpoint\", \"nt50\": 1179.2987821115503, \"midpoint\": 1179.3007107654462, \"top\": 1.0000061301703447, \"bottom\": 0}, {\"serum\": \"Y044d30\", \"virus\": \"A/Newcastle/2/2022\", \"replicate\": \"plate11-CAAATATATCTTCATG\", \"titer\": 898.7180333630416, \"titer_bound\": \"interpolated\", \"titer_as\": \"midpoint\", \"nt50\": 903.5388565125157, \"midpoint\": 898.7180333630416, \"top\": 0.969207781038066, \"bottom\": 0}, {\"serum\": \"Y044d30\", \"virus\": \"A/Newcastle/2/2022\", \"replicate\": \"plate11-GCCCAAGTAGGTGCAA\", \"titer\": 746.6593928832308, \"titer_bound\": \"interpolated\", \"titer_as\": \"midpoint\", \"nt50\": 751.3250947088529, \"midpoint\": 746.6593928832308, \"top\": 0.9768781574697845, \"bottom\": 0}, {\"serum\": \"Y044d30\", \"virus\": \"A/SouthAfrica/R16462/2021\", \"replicate\": \"plate11-CACCATTAAAGAGGTA\", \"titer\": 15786.522161514598, \"titer_bound\": \"interpolated\", \"titer_as\": \"midpoint\", \"nt50\": 16378.061446378337, \"midpoint\": 15786.522161514598, \"top\": 0.9171060921025955, \"bottom\": 0}, {\"serum\": \"Y044d30\", \"virus\": \"A/SouthAfrica/R16462/2021\", \"replicate\": \"plate11-CGGCGTATCGTTCACA\", \"titer\": 17173.515868355, \"titer_bound\": \"interpolated\", \"titer_as\": \"midpoint\", \"nt50\": 17170.9191992641, \"midpoint\": 17173.515868355, \"top\": 1.0002791737313455, \"bottom\": 0}, {\"serum\": \"Y044d30\", \"virus\": \"A/SouthAfrica/R16462/2021\", \"replicate\": \"plate11-CTAGCAGATTGTATAA\", \"titer\": 30165.743940450287, \"titer_bound\": \"interpolated\", \"titer_as\": \"midpoint\", \"nt50\": 41016.635263658034, \"midpoint\": 30165.743940450287, \"top\": 0.757727606408138, \"bottom\": 0}, {\"serum\": \"Y044d30\", \"virus\": \"A/Norway/25089/2022\", \"replicate\": \"plate11-GACTCAATAATCACAC\", \"titer\": 572.0611693720965, \"titer_bound\": \"interpolated\", \"titer_as\": \"midpoint\", \"nt50\": 572.0610385070624, \"midpoint\": 572.0611693720965, \"top\": 1.000000684807133, \"bottom\": 0}, {\"serum\": \"Y044d30\", \"virus\": \"A/Norway/25089/2022\", \"replicate\": \"plate11-CGGATAAAAATGATAT\", \"titer\": 1119.3144174218205, \"titer_bound\": \"interpolated\", \"titer_as\": \"midpoint\", \"nt50\": 1119.3065482094962, \"midpoint\": 1119.3144174218205, \"top\": 1.000022323186816, \"bottom\": 0}, {\"serum\": \"Y044d30\", \"virus\": \"A/Norway/25089/2022\", \"replicate\": \"plate11-TGGAAAAGATGTAATA\", \"titer\": 940.2033541787611, \"titer_bound\": \"interpolated\", \"titer_as\": \"midpoint\", \"nt50\": 939.8836009546512, \"midpoint\": 940.2033541787611, \"top\": 1.000622359319908, \"bottom\": 0}]}}, {\"mode\": \"vega-lite\"});\n",
       "</script>"
      ],
      "text/plain": [
       "alt.Chart(...)"
      ]
     },
     "execution_count": 28,
     "metadata": {},
     "output_type": "execute_result"
    }
   ],
   "source": [
    "virus_selection = alt.selection_point(fields=[\"virus\"], on=\"mouseover\", empty=False)\n",
    "\n",
    "midpoint_vs_nt50_chart = (\n",
    "    alt.Chart(fit_params_noqc)\n",
    "    .add_params(virus_selection)\n",
    "    .encode(\n",
    "        alt.X(\"nt50\", scale=alt.Scale(type=\"log\", nice=False, padding=8)),\n",
    "        alt.Y(\"midpoint\", scale=alt.Scale(type=\"log\", nice=False, padding=8)),\n",
    "        strokeWidth=alt.condition(virus_selection, alt.value(3), alt.value(0)),\n",
    "        size=alt.condition(virus_selection, alt.value(100), alt.value(60)),\n",
    "        tooltip=[\n",
    "            alt.Tooltip(c, format=\".2g\") if fit_params_noqc[c].dtype == float else c\n",
    "            for c in fit_params_noqc.columns\n",
    "        ],\n",
    "    )\n",
    "    .mark_circle(stroke=\"red\", fillOpacity=0.45, color=\"black\")\n",
    "    .properties(\n",
    "        width=350,\n",
    "        height=350,\n",
    "        title=f\"NT50 versus midpoint for serum {serum}\",\n",
    "    )\n",
    "    .configure_axis(grid=False)\n",
    ")\n",
    "\n",
    "midpoint_vs_nt50_chart"
   ]
  },
  {
   "cell_type": "markdown",
   "id": "206ee46e-9309-45e0-a0af-e3bc1e61e33f",
   "metadata": {},
   "source": [
    "Write the individual per-replicate titers to a file, this is before any QC has been applied:"
   ]
  },
  {
   "cell_type": "code",
   "execution_count": 29,
   "id": "acdaf3d4-4469-429f-8f26-81087cd06edb",
   "metadata": {
    "execution": {
     "iopub.execute_input": "2023-12-30T15:30:16.720850Z",
     "iopub.status.busy": "2023-12-30T15:30:16.720158Z",
     "iopub.status.idle": "2023-12-30T15:30:16.775425Z",
     "shell.execute_reply": "2023-12-30T15:30:16.774330Z",
     "shell.execute_reply.started": "2023-12-30T15:30:16.720793Z"
    }
   },
   "outputs": [
    {
     "name": "stdout",
     "output_type": "stream",
     "text": [
      "Writing per-replicate titers (without QC filtering) to per_rep_titers_csv='results/sera/Y044d30/titers_per_replicate.csv'\n"
     ]
    }
   ],
   "source": [
    "print(f\"Writing per-replicate titers (without QC filtering) to {per_rep_titers_csv=}\")\n",
    "fit_params_noqc.to_csv(per_rep_titers_csv, index=False, float_format=\"%.4g\")"
   ]
  },
  {
   "cell_type": "markdown",
   "id": "0ff216ff-15af-49c5-b7c6-68533415960b",
   "metadata": {},
   "source": [
    "Plot the individual neutralization curves:"
   ]
  },
  {
   "cell_type": "markdown",
   "id": "8a52e418-ec22-4b25-ae6f-8ae510abb7ef",
   "metadata": {},
   "source": [
    "fig, _ = serum_curvefits.plotReplicates(\n",
    "    attempt_shared_legend=False,\n",
    "    legendfontsize=8,\n",
    "    ncol=4,\n",
    "    heightscale=1.25,\n",
    "    widthscale=1.25,\n",
    "    viruses=viruses,\n",
    "    subplot_titles=\"{virus}\",\n",
    ")\n",
    "\n",
    "_ = fig.suptitle(\n",
    "    f\"neutralization curves for {serum}\", y=1, fontsize=18, fontweight=\"bold\"\n",
    ")\n",
    "\n",
    "fig.tight_layout()"
   ]
  },
  {
   "cell_type": "markdown",
   "id": "b4f74eb0-2c8f-4916-9e91-aa7aa0c16ca2",
   "metadata": {},
   "source": [
    "Save the curves to a file:"
   ]
  },
  {
   "cell_type": "markdown",
   "id": "b444f8c4-7c74-4ac3-82d3-7277bd030b88",
   "metadata": {},
   "source": [
    "print(f\"Saving to {curves_pdf}\")\n",
    "fig.savefig(curves_pdf)"
   ]
  },
  {
   "cell_type": "markdown",
   "id": "9d8122c1-1b03-464f-af8e-5fa0fb29f50c",
   "metadata": {},
   "source": [
    "Save the `CurveFits` for the serum to a pickle file:"
   ]
  },
  {
   "cell_type": "markdown",
   "id": "3b1b6112-e9b2-4c55-8005-81506fe49729",
   "metadata": {},
   "source": [
    "with open(output_pickle, \"wb\") as f:\n",
    "    pickle.dump(serum_curvefits, f)"
   ]
  }
 ],
 "metadata": {
  "kernelspec": {
   "display_name": "Python 3 (ipykernel)",
   "language": "python",
   "name": "python3"
  },
  "language_info": {
   "codemirror_mode": {
    "name": "ipython",
    "version": 3
   },
   "file_extension": ".py",
   "mimetype": "text/x-python",
   "name": "python",
   "nbconvert_exporter": "python",
   "pygments_lexer": "ipython3",
   "version": "3.11.7"
  }
 },
 "nbformat": 4,
 "nbformat_minor": 5
}
