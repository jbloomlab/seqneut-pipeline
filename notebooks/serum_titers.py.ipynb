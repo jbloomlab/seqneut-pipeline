{
 "cells": [
  {
   "cell_type": "markdown",
   "id": "abe395dc-8a57-4ee8-b22e-8a1acacf1619",
   "metadata": {},
   "source": [
    "# Titers for a serum\n",
    "Analyze titers for a serum, aggregating replicates which may be across multiple plates."
   ]
  },
  {
   "cell_type": "code",
   "execution_count": null,
   "id": "f404cc02-6d9a-4a3a-892e-fd73f1e00b52",
   "metadata": {},
   "outputs": [],
   "source": [
    "import pickle\n",
    "import sys\n",
    "\n",
    "import altair as alt\n",
    "\n",
    "import matplotlib.pyplot as plt\n",
    "\n",
    "import neutcurve\n",
    "\n",
    "import numpy\n",
    "\n",
    "import pandas as pd\n",
    "\n",
    "import ruamel.yaml as yaml\n",
    "\n",
    "_ = alt.data_transformers.disable_max_rows()"
   ]
  },
  {
   "cell_type": "markdown",
   "id": "be4112bc-7d79-4b38-8e76-ec81588f40e9",
   "metadata": {},
   "source": [
    "Get variables from `snakemake`:"
   ]
  },
  {
   "cell_type": "code",
   "execution_count": null,
   "id": "83425f55-9905-4cc0-b42c-440926e9a81e",
   "metadata": {},
   "outputs": [],
   "source": [
    "pickle_fits = snakemake.input.pickles\n",
    "per_rep_titers_csv = snakemake.output.per_rep_titers\n",
    "titers_csv = snakemake.output.titers\n",
    "curves_pdf = snakemake.output.curves_pdf\n",
    "output_pickle = snakemake.output.pickle\n",
    "qc_drops_file = snakemake.output.qc_drops\n",
    "viral_strain_plot_order = snakemake.params.viral_strain_plot_order\n",
    "serum_titer_as = snakemake.params.serum_titer_as\n",
    "qc_thresholds = snakemake.params.qc_thresholds\n",
    "serum = snakemake.wildcards.serum\n",
    "\n",
    "print(f\"Processing {serum=}\")"
   ]
  },
  {
   "cell_type": "markdown",
   "id": "eeb92b02-b9b0-47db-967d-d11fcb14885c",
   "metadata": {},
   "source": [
    "## Get all titers for this plate\n",
    "Combine all the pickled `neutcurve.CurveFits` from plates for this serum into a single `neutcurve.CurveFits`:"
   ]
  },
  {
   "cell_type": "code",
   "execution_count": null,
   "id": "78800b5e-d947-4b28-82e4-06f729a46072",
   "metadata": {},
   "outputs": [],
   "source": [
    "print(f\"Combining the curve fits for {serum=} from {pickle_fits=}\")\n",
    "\n",
    "fits_to_combine = []\n",
    "for fname in pickle_fits:\n",
    "    with open(fname, \"rb\") as f:\n",
    "        fits_to_combine.append(pickle.load(f))\n",
    "fits_noqc = neutcurve.CurveFits.combineCurveFits(fits_to_combine, sera=[serum])"
   ]
  },
  {
   "cell_type": "markdown",
   "id": "aa008898-d36d-4ec7-881b-7eef91a01d61",
   "metadata": {},
   "source": [
    "Indicate how we are calculating the titer:"
   ]
  },
  {
   "cell_type": "code",
   "execution_count": null,
   "id": "006523f7-5197-4e63-89fa-a3aaec8eea7b",
   "metadata": {},
   "outputs": [],
   "source": [
    "print(f\"Calculating with {serum_titer_as=}\")\n",
    "assert serum_titer_as in {\"nt50\", \"midpoint\"}"
   ]
  },
  {
   "cell_type": "markdown",
   "id": "c63a348a-cc22-43a1-840f-7afc0f24a9f8",
   "metadata": {},
   "source": [
    "Get all the per-replicate fit params with the titers.\n",
    "We also convert the IC50 to NT50, and take inverse of midpoint to get it on same scale as NT50s:"
   ]
  },
  {
   "cell_type": "code",
   "execution_count": null,
   "id": "0ed0cbc3-a6f6-4468-a87b-6f0fa21fb686",
   "metadata": {},
   "outputs": [],
   "source": [
    "per_rep_titers = fits_noqc.fitParams(average_only=False, no_average=True).assign(\n",
    "    nt50=lambda x: 1 / x[\"ic50\"],\n",
    "    midpoint=lambda x: 1 / x[\"midpoint_bound\"],\n",
    "    titer=lambda x: x[\"midpoint\"] if serum_titer_as == \"midpoint\" else x[\"nt50\"],\n",
    "    titer_bound=lambda x: (\n",
    "        x[\"midpoint_bound_type\"] if serum_titer_as == \"midpoint\" else x[\"ic50_bound\"]\n",
    "    ).map({\"lower\": \"upper\", \"upper\": \"lower\", \"interpolated\": \"interpolated\"}),\n",
    "    titer_as=serum_titer_as,\n",
    ")[\n",
    "    [\n",
    "        \"serum\",\n",
    "        \"virus\",\n",
    "        \"replicate\",\n",
    "        \"titer\",\n",
    "        \"titer_bound\",\n",
    "        \"titer_as\",\n",
    "        \"nt50\",\n",
    "        \"midpoint\",\n",
    "        \"top\",\n",
    "        \"bottom\",\n",
    "        \"slope\",\n",
    "    ]\n",
    "]\n",
    "assert per_rep_titers.notnull().all().all()\n",
    "\n",
    "if len(invalid_titer_as := per_rep_titers.query(\"(titer_as == 'nt50') and top <= 0.5\")):\n",
    "    raise ValueError(\n",
    "        f\"There are titers computed as nt50 when curve top <= 0.5:\\n{invalid_titer_as}\"\n",
    "    )\n",
    "assert len(per_rep_titers) == per_rep_titers[\"replicate\"].nunique()\n",
    "\n",
    "# get viruses in the order to plot them\n",
    "viruses = sorted(per_rep_titers[\"virus\"].unique())\n",
    "if viral_strain_plot_order is not None:\n",
    "    if not set(viruses).issubset(viral_strain_plot_order):\n",
    "        raise ValueError(\n",
    "            \"`viral_strain_plot_order` lacks some viruses with titers:\\n\"\n",
    "            + str(set(viruses) - set(viral_strain_plot_order))\n",
    "        )\n",
    "    viruses = [v for v in viral_strain_plot_order if v in viruses]\n",
    "print(f\"{serum=} has titers for a total of {len(viruses)} viruses\")"
   ]
  },
  {
   "cell_type": "markdown",
   "id": "afb9bd52-91d1-43aa-801b-679286bee2ea",
   "metadata": {},
   "source": [
    "## Correlate NT50s with midpoints of curves\n",
    "Plot the correlation of the NT50s with the midpoint (this is an interactive plot, mouse over points for details).\n",
    "This plot can help you determine if you made the correct choice of `serum_titer_as` when choosing to use the midpoint or NT50 for the titer.\n",
    "For titers where they are well correlated it should not matter which you chose.\n",
    "But if there are titers far from the correlation line, you should look at those measurements and curves to make sure you made the correct choice of calculating the titer as the NT50 versus midpoint:"
   ]
  },
  {
   "cell_type": "code",
   "execution_count": null,
   "id": "1d3198c0-834c-4884-9d5c-28f53fa30758",
   "metadata": {},
   "outputs": [],
   "source": [
    "virus_selection = alt.selection_point(fields=[\"virus\"], on=\"mouseover\", empty=False)\n",
    "\n",
    "midpoint_vs_nt50_chart = (\n",
    "    alt.Chart(per_rep_titers)\n",
    "    .add_params(virus_selection)\n",
    "    .encode(\n",
    "        alt.X(\"nt50\", scale=alt.Scale(type=\"log\", nice=False, padding=8)),\n",
    "        alt.Y(\"midpoint\", scale=alt.Scale(type=\"log\", nice=False, padding=8)),\n",
    "        strokeWidth=alt.condition(virus_selection, alt.value(3), alt.value(0)),\n",
    "        size=alt.condition(virus_selection, alt.value(100), alt.value(60)),\n",
    "        tooltip=[\n",
    "            alt.Tooltip(c, format=\".2g\") if per_rep_titers[c].dtype == float else c\n",
    "            for c in per_rep_titers.columns\n",
    "            if c not in {\"serum\", \"titer_as\"}\n",
    "        ],\n",
    "    )\n",
    "    .mark_circle(stroke=\"red\", fillOpacity=0.45, color=\"black\")\n",
    "    .properties(\n",
    "        width=350,\n",
    "        height=350,\n",
    "        title=f\"NT50 versus midpoint for serum {serum}\",\n",
    "    )\n",
    "    .configure_axis(grid=False)\n",
    ")\n",
    "\n",
    "midpoint_vs_nt50_chart"
   ]
  },
  {
   "cell_type": "markdown",
   "id": "206ee46e-9309-45e0-a0af-e3bc1e61e33f",
   "metadata": {},
   "source": [
    "Write the individual per-replicate titers to a file, this is before any QC has been applied:"
   ]
  },
  {
   "cell_type": "code",
   "execution_count": null,
   "id": "acdaf3d4-4469-429f-8f26-81087cd06edb",
   "metadata": {},
   "outputs": [],
   "source": [
    "print(f\"Writing per-replicate titers (without QC filtering) to {per_rep_titers_csv=}\")\n",
    "per_rep_titers.to_csv(per_rep_titers_csv, index=False, float_format=\"%.4g\")"
   ]
  },
  {
   "cell_type": "markdown",
   "id": "7fa4a8eb-388c-4070-9a65-cf6d6dfd76e9",
   "metadata": {},
   "source": [
    "## Plot median titers and determine if they pass QC\n",
    "Get the median titers for each virus across replicates, then add these median titers to the per-replicate titers and calculate the fold-change in titer between each replicate and its median.\n",
    "Finally, for each virus indicates whether it passes the QC:"
   ]
  },
  {
   "cell_type": "code",
   "execution_count": null,
   "id": "330ca08b-7d66-4997-b6d7-ce4f2407d910",
   "metadata": {},
   "outputs": [],
   "source": [
    "print(f\"Using the following {qc_thresholds=}\")\n",
    "\n",
    "\n",
    "def get_median_bound(s):\n",
    "    \"\"\"Get the bound on titer when taking median.\"\"\"\n",
    "    s = list(s)\n",
    "    if len(s) % 2:\n",
    "        return s[len(s) // 2]\n",
    "    else:\n",
    "        bounds = s[len(s) // 2 - 1 : len(s) // 2 + 1]\n",
    "        assert len(bounds) == 2\n",
    "        if len(set(bounds)) == 1:\n",
    "            return bounds[0]\n",
    "        elif \"interpolated\" in bounds:\n",
    "            return [b for b in bounds if b != \"interpolated\"][0]\n",
    "        else:\n",
    "            return \"inconsistent\"\n",
    "\n",
    "\n",
    "median_titers_noqc = (\n",
    "    per_rep_titers.sort_values(\"titer\")  # for getting median bound\n",
    "    .groupby([\"serum\", \"virus\", \"titer_as\"], as_index=False)\n",
    "    .aggregate(\n",
    "        titer=pd.NamedAgg(\"titer\", \"median\"),\n",
    "        n_replicates=pd.NamedAgg(\"replicate\", \"count\"),\n",
    "        titer_sem=pd.NamedAgg(\"titer\", \"sem\"),\n",
    "        titer_bound=pd.NamedAgg(\"titer_bound\", get_median_bound),\n",
    "    )\n",
    ")\n",
    "\n",
    "per_rep_titers_w_fc = (\n",
    "    per_rep_titers.merge(\n",
    "        median_titers_noqc[[\"serum\", \"virus\", \"titer\"]].rename(\n",
    "            columns={\"titer\": \"median_titer\"}\n",
    "        ),\n",
    "        validate=\"many_to_one\",\n",
    "        on=[\"serum\", \"virus\"],\n",
    "    )\n",
    "    .assign(\n",
    "        fc_from_median=lambda x: numpy.where(\n",
    "            x[\"titer\"] > x[\"median_titer\"],\n",
    "            x[\"titer\"] / x[\"median_titer\"],\n",
    "            x[\"median_titer\"] / x[\"titer\"],\n",
    "        ),\n",
    "    )\n",
    "    .drop(columns=[\"serum\", \"titer_as\", \"median_titer\"])\n",
    ")\n",
    "\n",
    "median_titers_noqc = median_titers_noqc.merge(\n",
    "    per_rep_titers_w_fc.groupby(\"virus\", as_index=False).aggregate(\n",
    "        max_fc_from_median=pd.NamedAgg(\"fc_from_median\", \"max\")\n",
    "    ),\n",
    "    on=\"virus\",\n",
    "    validate=\"one_to_one\",\n",
    ").assign(\n",
    "    fails_min_reps=lambda x: x[\"n_replicates\"] < qc_thresholds[\"min_replicates\"],\n",
    "    fails_max_fc=lambda x: (\n",
    "        x[\"max_fc_from_median\"] >= qc_thresholds[\"max_fold_change_from_median\"]\n",
    "    ),\n",
    "    fails_qc=lambda x: x[\"fails_min_reps\"] | x[\"fails_max_fc\"],\n",
    "    fails_qc_reason=lambda x: (\n",
    "        x.apply(\n",
    "            lambda r: \", \".join(\n",
    "                ([\"min_replicates\"] if r[\"fails_min_reps\"] else [])\n",
    "                + ([\"max_fold_change_from_median\"] if r[\"fails_max_fc\"] else [])\n",
    "            ),\n",
    "            axis=1,\n",
    "        )\n",
    "    ),\n",
    ")\n",
    "\n",
    "# get viruses failing QC in order to plot\n",
    "viruses_failing_qc = (\n",
    "    median_titers_noqc.query(\"fails_qc\").set_index(\"virus\")[\"fails_qc_reason\"].to_dict()\n",
    ")\n",
    "viruses_failing_qc = {\n",
    "    v: viruses_failing_qc[v] for v in viruses if v in viruses_failing_qc\n",
    "}\n",
    "\n",
    "median_titers_noqc = median_titers_noqc.drop(\n",
    "    columns=[\"fails_min_reps\", \"fails_max_fc\", \"fails_qc_reason\"]\n",
    ")\n",
    "\n",
    "per_rep_titers_w_fc = per_rep_titers_w_fc.merge(\n",
    "    median_titers_noqc[[\"virus\", \"fails_qc\"]],\n",
    "    on=\"virus\",\n",
    "    validate=\"many_to_one\",\n",
    ")"
   ]
  },
  {
   "cell_type": "markdown",
   "id": "8a1344f6-4d98-4896-bd8d-01e54aa4b30a",
   "metadata": {},
   "source": [
    "Now plot the per-replicate and median titers, indicating any viruses that failed QC.\n",
    "Note that potentially some of these titers may still be retained if the viruses in question are specified in `viruses_ignore_qc` of `qc_thresholds`."
   ]
  },
  {
   "cell_type": "code",
   "execution_count": null,
   "id": "318570f5-e8ea-4dc4-8e26-d63289b73caf",
   "metadata": {},
   "outputs": [],
   "source": [
    "virus_selection = alt.selection_point(fields=[\"virus\"], on=\"mouseover\", empty=False)\n",
    "\n",
    "per_rep_chart = (\n",
    "    alt.Chart(per_rep_titers_w_fc)\n",
    "    .encode(\n",
    "        alt.X(\"titer\", scale=alt.Scale(nice=False, padding=5, type=\"log\")),\n",
    "        alt.Y(\"virus\", sort=viruses),\n",
    "        alt.Fill(\n",
    "            \"fails_qc\",\n",
    "            title=f\"fails {qc_thresholds['min_replicates']=}, {qc_thresholds['max_fold_change_from_median']=}\",\n",
    "            legend=alt.Legend(titleLimit=500),\n",
    "        ),\n",
    "        strokeWidth=alt.condition(virus_selection, alt.value(2), alt.value(0)),\n",
    "        tooltip=[\n",
    "            alt.Tooltip(c, format=\".3g\") if per_rep_titers_w_fc[c].dtype == float else c\n",
    "            for c in per_rep_titers_w_fc\n",
    "        ],\n",
    "    )\n",
    "    .mark_point(\n",
    "        shape=\"circle\",\n",
    "        size=40,\n",
    "        filled=True,\n",
    "        fillOpacity=0.5,\n",
    "        strokeOpacity=1,\n",
    "        stroke=\"black\",\n",
    "    )\n",
    ")\n",
    "\n",
    "median_chart = (\n",
    "    alt.Chart(median_titers_noqc)\n",
    "    .encode(\n",
    "        alt.X(\"titer\", scale=alt.Scale(nice=False, padding=5, type=\"log\")),\n",
    "        alt.Y(\"virus\", sort=viruses),\n",
    "        alt.Fill(\"fails_qc\"),\n",
    "        strokeWidth=alt.condition(virus_selection, alt.value(2), alt.value(0)),\n",
    "        tooltip=[\n",
    "            alt.Tooltip(c, format=\".3g\") if median_titers_noqc[c].dtype == float else c\n",
    "            for c in median_titers_noqc\n",
    "        ],\n",
    "    )\n",
    "    .mark_point(\n",
    "        shape=\"square\",\n",
    "        size=75,\n",
    "        filled=True,\n",
    "        fillOpacity=0.9,\n",
    "        strokeOpacity=1,\n",
    "        stroke=\"black\",\n",
    "    )\n",
    ")\n",
    "\n",
    "titer_chart = (\n",
    "    (per_rep_chart + median_chart)\n",
    "    .add_params(virus_selection)\n",
    "    .properties(\n",
    "        height=alt.Step(11),\n",
    "        width=250,\n",
    "        title=f\"{serum} median (square) and per-replicate (small circle) titers\",\n",
    "    )\n",
    "    .configure_axis(grid=False)\n",
    ")\n",
    "\n",
    "titer_chart"
   ]
  },
  {
   "cell_type": "markdown",
   "id": "50157c74-b269-4b91-b870-0d7e24d6d280",
   "metadata": {},
   "source": [
    "## Plot individual curves for any viruses failing QC\n",
    "Plot individual curves for viruses failing QC.\n",
    "Note that potentially some of these titers may still be retained if the viruses in question are specified in `viruses_ignore_qc` of `qc_thresholds`."
   ]
  },
  {
   "cell_type": "code",
   "execution_count": null,
   "id": "702750db-4d77-4933-84b0-3f27feb3fa35",
   "metadata": {},
   "outputs": [],
   "source": [
    "print(f\"Neutralization curves for the {len(viruses_failing_qc)} viruses failing QC:\")\n",
    "\n",
    "if len(viruses_failing_qc):\n",
    "    fig, _ = fits_noqc.plotReplicates(\n",
    "        viruses=viruses_failing_qc,\n",
    "        attempt_shared_legend=False,\n",
    "        legendfontsize=8,\n",
    "        ncol=4,\n",
    "        heightscale=1.2,\n",
    "        widthscale=1.2,\n",
    "        subplot_titles=\"{virus}\",\n",
    "    )\n",
    "    _ = fig.suptitle(\n",
    "        f\"neutralization curves for viruses failing QC for {serum}\",\n",
    "        y=1,\n",
    "        fontsize=18,\n",
    "        fontweight=\"bold\",\n",
    "    )\n",
    "    fig.tight_layout()"
   ]
  },
  {
   "cell_type": "markdown",
   "id": "16e3ada7-369d-4480-b6df-59ec145af04f",
   "metadata": {},
   "source": [
    "## Get the viruses to drop for QC failures\n",
    "Drop any viruses that fail QC and are not specified in `viruses_ignore_qc` of `qc_thresholds`:"
   ]
  },
  {
   "cell_type": "code",
   "execution_count": null,
   "id": "feedb392-d6f5-46c3-8f21-a6bda8b6fa6d",
   "metadata": {},
   "outputs": [],
   "source": [
    "viruses_to_drop = {\n",
    "    v: reason\n",
    "    for (v, reason) in viruses_failing_qc.items()\n",
    "    if v not in qc_thresholds[\"viruses_ignore_qc\"]\n",
    "}\n",
    "\n",
    "print(f\"Dropping {len(viruses_to_drop)} viruses for failing QC:\")\n",
    "yaml.YAML(typ=\"rt\").dump(viruses_to_drop, sys.stdout)\n",
    "if nkept := (len(viruses_failing_qc) - len(viruses_to_drop)):\n",
    "    print(\n",
    "        f\"\\nRetaining {nkept} viruses that fail QC because they are in `viruses_ignore_qc`:\"\n",
    "    )\n",
    "    print(\n",
    "        {\n",
    "            v: reason\n",
    "            for (v, reason) in viruses_failing_qc.items()\n",
    "            if v in qc_thresholds[\"viruses_ignore_qc\"]\n",
    "        }\n",
    "    )\n",
    "\n",
    "print(f\"\\nWriting QC drops to {qc_drops_file}\")\n",
    "with open(qc_drops_file, \"w\") as f:\n",
    "    yaml.YAML(typ=\"rt\").dump(viruses_to_drop, f)"
   ]
  },
  {
   "cell_type": "markdown",
   "id": "0ff216ff-15af-49c5-b7c6-68533415960b",
   "metadata": {},
   "source": [
    "## Get and plot the neutralization curves for all retained viruses\n",
    "First, get the `CurveFits` for just those retained viruses (dropping ones that fail QC), and plot:"
   ]
  },
  {
   "cell_type": "code",
   "execution_count": null,
   "id": "b8b6aae7-4ac6-4d8d-8d88-0966ca690a22",
   "metadata": {},
   "outputs": [],
   "source": [
    "fits_qc = neutcurve.CurveFits.combineCurveFits(\n",
    "    [fits_noqc],\n",
    "    viruses=[v for v in viruses if v not in viruses_to_drop],\n",
    ")\n",
    "assert len(viruses) == len(fits_qc.viruses[serum]) + len(viruses_to_drop)\n",
    "\n",
    "fig, _ = fits_qc.plotReplicates(\n",
    "    attempt_shared_legend=False,\n",
    "    legendfontsize=8,\n",
    "    ncol=4,\n",
    "    heightscale=1.2,\n",
    "    widthscale=1.2,\n",
    "    subplot_titles=\"{virus}\",\n",
    "    viruses=[v for v in viruses if v not in viruses_to_drop],\n",
    ")\n",
    "_ = fig.suptitle(\n",
    "    f\"neutralization curves for retained viruses for {serum}\",\n",
    "    y=1,\n",
    "    fontsize=18,\n",
    "    fontweight=\"bold\",\n",
    ")\n",
    "fig.tight_layout()\n",
    "display(fig)\n",
    "\n",
    "print(f\"Saving to plot of curves to {curves_pdf}\")\n",
    "fig.savefig(curves_pdf)\n",
    "plt.close(fig)"
   ]
  },
  {
   "cell_type": "markdown",
   "id": "9d8122c1-1b03-464f-af8e-5fa0fb29f50c",
   "metadata": {},
   "source": [
    "Save the `CurveFits` to a pickle file:"
   ]
  },
  {
   "cell_type": "code",
   "execution_count": null,
   "id": "9acdbbd8-8483-400b-850c-b50043ef8db7",
   "metadata": {},
   "outputs": [],
   "source": [
    "with open(output_pickle, \"wb\") as f:\n",
    "    pickle.dump(fits_qc, f)"
   ]
  },
  {
   "cell_type": "markdown",
   "id": "13d0d26c-3985-4afa-928c-d4c125cb3a30",
   "metadata": {},
   "source": [
    "Write the titers (excluding QC dropped viruses) to a CSV:"
   ]
  },
  {
   "cell_type": "code",
   "execution_count": null,
   "id": "ba5aa512-66dc-4ae1-a57a-faad8660f7c6",
   "metadata": {},
   "outputs": [],
   "source": [
    "print(f\"Writing titers to {titers_csv}\")\n",
    "\n",
    "(\n",
    "    median_titers_noqc.query(\"virus not in @viruses_to_drop\")[\n",
    "        [\n",
    "            \"serum\",\n",
    "            \"virus\",\n",
    "            \"titer\",\n",
    "            \"titer_bound\",\n",
    "            \"titer_sem\",\n",
    "            \"n_replicates\",\n",
    "            \"titer_as\",\n",
    "        ]\n",
    "    ].to_csv(titers_csv, index=False, float_format=\"%.4g\")\n",
    ")"
   ]
  },
  {
   "cell_type": "code",
   "execution_count": null,
   "id": "7021beb6-6b17-41fd-bf4d-d40cb2ae566c",
   "metadata": {},
   "outputs": [],
   "source": []
  }
 ],
 "metadata": {
  "kernelspec": {
   "display_name": "Python 3 (ipykernel)",
   "language": "python",
   "name": "python3"
  },
  "language_info": {
   "codemirror_mode": {
    "name": "ipython",
    "version": 3
   },
   "file_extension": ".py",
   "mimetype": "text/x-python",
   "name": "python",
   "nbconvert_exporter": "python",
   "pygments_lexer": "ipython3",
   "version": "3.11.7"
  }
 },
 "nbformat": 4,
 "nbformat_minor": 5
}
