{
 "cells": [
  {
   "cell_type": "markdown",
   "id": "d25b7008-70d0-4456-8793-116e394b9d3b",
   "metadata": {},
   "source": [
    "# Fit the neutralization curves for a plate\n",
    "The fitting is done using [neutcurve](https://jbloomlab.github.io/neutcurve)."
   ]
  },
  {
   "cell_type": "code",
   "execution_count": null,
   "id": "b58de3e1-0a05-42f5-9f7d-158311f3a1c1",
   "metadata": {},
   "outputs": [],
   "source": [
    "import neutcurve\n",
    "\n",
    "import pandas as pd"
   ]
  },
  {
   "cell_type": "markdown",
   "id": "0d8bbd3d-f4cb-4625-aaf9-09c3d83fac9e",
   "metadata": {},
   "source": [
    "Get variables from `snakemake`:"
   ]
  },
  {
   "cell_type": "code",
   "execution_count": null,
   "id": "d877d501-0dd0-4bb1-b8bc-e7f3e88656f3",
   "metadata": {},
   "outputs": [],
   "source": [
    "process_counts_qc_failures = snakemake.input.qc_failures\n",
    "frac_infectivity_csv = snakemake.input.frac_infectivity_csv\n",
    "output_csv = snakemake.output.csv\n",
    "output_pdf = snakemake.output.pdf\n",
    "curvefit_params = snakemake.params.curvefit_params\n",
    "plate = snakemake.wildcards.plate"
   ]
  },
  {
   "cell_type": "markdown",
   "id": "873eb2b5-d0e9-4245-8e07-c17d4c61c96b",
   "metadata": {},
   "source": [
    "Make sure the process counts ran OK:"
   ]
  },
  {
   "cell_type": "code",
   "execution_count": null,
   "id": "f00e2314-a395-47b5-a3b5-32a6fc466e69",
   "metadata": {},
   "outputs": [],
   "source": [
    "with open(process_counts_qc_failures) as f:\n",
    "    failures = [line.strip() for line in f if line.strip()]\n",
    "if failures:\n",
    "    raise ValueError(\n",
    "        \"First fix `process_counts` QC failures:\\n\\t\" + \"\\n\\t\".join(failures)\n",
    "    )\n",
    "else:\n",
    "    print(\"No failures for the `process_counts` QC, so proceeding with fitting.\")"
   ]
  },
  {
   "cell_type": "markdown",
   "id": "e4e5850f-2d5f-401d-9dd0-17dd641c196f",
   "metadata": {},
   "source": [
    "Read the fraction infectivity:"
   ]
  },
  {
   "cell_type": "code",
   "execution_count": null,
   "id": "c865f78e-72e0-4127-b6d5-9c71d7ef9f59",
   "metadata": {},
   "outputs": [],
   "source": [
    "frac_infectivity_ceiling = curvefit_params[\"frac_infectivity_ceiling\"]\n",
    "\n",
    "if not (frac_infectivity_ceiling > 0) or (frac_infectivity_ceiling is None):\n",
    "    raise ValueError(f\"invalid {frac_infectivity_ceiling=}\")\n",
    "print(f\"Clipping with {frac_infectivity_ceiling=}\")\n",
    "\n",
    "frac_infectivity = pd.read_csv(frac_infectivity_csv).assign(\n",
    "    serum_replicate=lambda x: x[\"serum\"].where(\n",
    "        x[\"plate_replicate\"] == plate,\n",
    "        x[\"serum\"] + \" (\" + x[\"plate_replicate\"].replace(plate, \"\") + \")\",\n",
    "    ),\n",
    "    serum_concentration=lambda x: 1 / x[\"dilution_factor\"],\n",
    "    frac_infectivity=lambda x: x[\"frac_infectivity\"].clip(\n",
    "        upper=frac_infectivity_ceiling,\n",
    "    ),\n",
    ")"
   ]
  },
  {
   "cell_type": "markdown",
   "id": "61b47e33-01b4-4434-9a9a-aeab09716c5a",
   "metadata": {
    "execution": {
     "iopub.execute_input": "2023-12-08T23:13:57.002807Z",
     "iopub.status.busy": "2023-12-08T23:13:57.002138Z",
     "iopub.status.idle": "2023-12-08T23:13:57.011269Z",
     "shell.execute_reply": "2023-12-08T23:13:57.009696Z",
     "shell.execute_reply.started": "2023-12-08T23:13:57.002742Z"
    }
   },
   "source": [
    "Fit all the neutralization curves:"
   ]
  },
  {
   "cell_type": "code",
   "execution_count": null,
   "id": "d7814904-746d-488c-a2d6-c76c67a846bf",
   "metadata": {},
   "outputs": [],
   "source": [
    "print(f\"Fitting with {curvefit_params['fixtop']=} and {curvefit_params['fixbottom']=}\")\n",
    "\n",
    "fits = neutcurve.CurveFits(\n",
    "    frac_infectivity.rename(\n",
    "        columns={\n",
    "            \"frac_infectivity\": \"fraction infectivity\",\n",
    "            \"serum_concentration\": \"serum concentration\",\n",
    "        }\n",
    "    ),\n",
    "    conc_col=\"serum concentration\",\n",
    "    fracinf_col=\"fraction infectivity\",\n",
    "    serum_col=\"serum_replicate\",\n",
    "    virus_col=\"strain\",\n",
    "    replicate_col=\"barcode\",\n",
    "    fixtop=curvefit_params[\"fixtop\"],\n",
    "    fixbottom=curvefit_params[\"fixbottom\"],\n",
    ")"
   ]
  },
  {
   "cell_type": "markdown",
   "id": "cb089e9a-177f-41a4-88f1-2581b9831d88",
   "metadata": {},
   "source": [
    "Plot all the neutralization curves:"
   ]
  },
  {
   "cell_type": "code",
   "execution_count": null,
   "id": "01379d20-77a8-4540-9389-de3af58c5636",
   "metadata": {},
   "outputs": [],
   "source": [
    "fig, _ = fits.plotReplicates(\n",
    "    attempt_shared_legend=False,\n",
    "    legendfontsize=9,\n",
    "    titlesize=10,\n",
    "    ticksize=10,\n",
    "    ncol=6,\n",
    ")"
   ]
  },
  {
   "cell_type": "markdown",
   "id": "83e466d5-538c-4a58-b6ca-d3ebc09c1a86",
   "metadata": {},
   "source": [
    "Save the curves to a file:"
   ]
  },
  {
   "cell_type": "code",
   "execution_count": null,
   "id": "ac97de56-6012-4307-8a26-6c8d991b8fbe",
   "metadata": {},
   "outputs": [],
   "source": [
    "print(f\"Saving to {output_pdf}\")\n",
    "fig.savefig(output_pdf)"
   ]
  },
  {
   "cell_type": "markdown",
   "id": "26c55f54-7eb9-444e-85ae-dee8765e6789",
   "metadata": {},
   "source": [
    "Get the fit parameters:"
   ]
  },
  {
   "cell_type": "code",
   "execution_count": null,
   "id": "0b5cfb00-825d-45d6-8bc1-00ed0def629c",
   "metadata": {},
   "outputs": [],
   "source": [
    "fit_params = (\n",
    "    fits.fitParams(average_only=False, no_average=True)\n",
    "    .rename(columns={\"serum\": \"serum_replicate\", \"replicate\": \"barcode\"})\n",
    "    .assign(nt50=lambda x: 1 / x[\"ic50\"])\n",
    "    .merge(\n",
    "        frac_infectivity[\n",
    "            [\"serum\", \"serum_replicate\", \"plate_replicate\"]\n",
    "        ].drop_duplicates(),\n",
    "        validate=\"many_to_one\",\n",
    "    )\n",
    "    .drop(columns=[\"ic50_str\", \"nreplicates\", \"serum_replicate\"])\n",
    "    .sort_values([\"serum\", \"virus\", \"plate_replicate\", \"barcode\"])\n",
    ")\n",
    "\n",
    "assert len(fit_params) == len(frac_infectivity.groupby([\"barcode\", \"serum_replicate\"]))\n",
    "\n",
    "print(f\"Saving to {output_csv}\")\n",
    "\n",
    "fit_params.to_csv(output_csv, index=False, float_format=\"%.4g\")"
   ]
  },
  {
   "cell_type": "code",
   "execution_count": null,
   "id": "dcf7dad2-dcc4-4a5a-8b3d-9e8fa101ad1e",
   "metadata": {},
   "outputs": [],
   "source": []
  }
 ],
 "metadata": {
  "kernelspec": {
   "display_name": "Python 3 (ipykernel)",
   "language": "python",
   "name": "python3"
  },
  "language_info": {
   "codemirror_mode": {
    "name": "ipython",
    "version": 3
   },
   "file_extension": ".py",
   "mimetype": "text/x-python",
   "name": "python",
   "nbconvert_exporter": "python",
   "pygments_lexer": "ipython3",
   "version": "3.11.6"
  }
 },
 "nbformat": 4,
 "nbformat_minor": 5
}
