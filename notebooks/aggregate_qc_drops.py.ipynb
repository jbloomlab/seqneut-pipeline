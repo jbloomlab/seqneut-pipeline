{
 "cells": [
  {
   "cell_type": "markdown",
   "id": "493185e7-3a1c-4e99-8e49-5d6f6163a625",
   "metadata": {},
   "source": [
    "# Aggregate and analyze the drops from QC-ing the plates and sera"
   ]
  },
  {
   "cell_type": "code",
   "execution_count": null,
   "id": "afc61615-0d86-4df1-9fbb-154716391462",
   "metadata": {},
   "outputs": [],
   "source": [
    "import altair as alt\n",
    "\n",
    "import pandas as pd\n",
    "\n",
    "from ruamel.yaml import YAML\n",
    "\n",
    "yaml = YAML(typ=\"rt\")\n",
    "\n",
    "_ = alt.data_transformers.disable_max_rows()"
   ]
  },
  {
   "cell_type": "markdown",
   "id": "800344c3-155c-4344-8d78-d0614dacf8f3",
   "metadata": {},
   "source": [
    "Get variables from `snakemake`:"
   ]
  },
  {
   "cell_type": "code",
   "execution_count": null,
   "id": "015cb75c-2a76-470a-9ec5-f46c0f5685e4",
   "metadata": {},
   "outputs": [],
   "source": [
    "input_plate_qc_drops = snakemake.input.plate_qc_drops\n",
    "input_sera_qc_drops = snakemake.input.sera_qc_drops\n",
    "output_plate_qc_drops = snakemake.output.plate_qc_drops\n",
    "output_sera_qc_drops = snakemake.output.sera_qc_drops\n",
    "plates = snakemake.params.plates\n",
    "sera = snakemake.params.sera"
   ]
  },
  {
   "cell_type": "markdown",
   "id": "035d90d3-815e-40d1-bf08-7f36a30cc473",
   "metadata": {},
   "source": [
    "## Analyze plate QC drops\n",
    "Read QC drops for individual plates into a merged dictionary, write it to YAML, and also convert to a DataFrame.\n",
    "If you really want to look into the details of what is being dropped, you will want to look at that merged YAML file."
   ]
  },
  {
   "cell_type": "code",
   "execution_count": null,
   "id": "c3acab3d-59a6-4909-9dbf-da02d75f67b5",
   "metadata": {},
   "outputs": [],
   "source": [
    "# read dictionary of QC drops\n",
    "assert len(plates) == len(input_plate_qc_drops)\n",
    "plate_qc_drops = {}\n",
    "for plate, qc_drops_yaml in zip(plates, input_plate_qc_drops):\n",
    "    with open(qc_drops_yaml) as f:\n",
    "        plate_qc_drops[plate] = yaml.load(f)\n",
    "assert len(plate_qc_drops) == len(input_plate_qc_drops)\n",
    "\n",
    "print(f\"Writing merged plate drops to {output_plate_qc_drops}\")\n",
    "with open(output_plate_qc_drops, \"w\") as f:\n",
    "    yaml.dump(plate_qc_drops, stream=f)\n",
    "\n",
    "# convert dictionary of QC drops into list of tuples\n",
    "plate_qc_drop_tups = [\n",
    "    (plate_key, droptype_key, drop_key, reason)\n",
    "    for (plate_key, plate_val) in plate_qc_drops.items()\n",
    "    for droptype_key, droptype_val in plate_val.items()\n",
    "    for drop_key, reason in droptype_val.items()\n",
    "]\n",
    "\n",
    "# create data frame of QC drops\n",
    "plate_qc_drops_df = pd.DataFrame(\n",
    "    plate_qc_drop_tups,\n",
    "    columns=[\"plate\", \"drop type\", \"drop\", \"reason\"],\n",
    ")"
   ]
  },
  {
   "cell_type": "code",
   "execution_count": null,
   "id": "369441cc-52ad-4b53-9e58-3589dc283eed",
   "metadata": {},
   "outputs": [],
   "source": [
    "plate_qc_drop_counts = plate_qc_drops_df.groupby(\n",
    "    [\"plate\", \"drop type\", \"reason\"], as_index=False\n",
    ").aggregate(n_drops=pd.NamedAgg(\"drop\", \"nunique\"))\n",
    "assert plate_qc_drop_counts[\"n_drops\"].sum() == len(plate_qc_drops_df)"
   ]
  },
  {
   "cell_type": "markdown",
   "id": "ac65567c-32c3-48f0-b864-bad3927daa4a",
   "metadata": {},
   "source": [
    "Now plot the number of drops for each plate.\n",
    "You should be worried (maybe re-do or discard) any plates with a very large number of drops:"
   ]
  },
  {
   "cell_type": "code",
   "execution_count": null,
   "id": "5c3a103b-7078-4f30-8472-cf56e9dad221",
   "metadata": {},
   "outputs": [],
   "source": [
    "plate_selection = alt.selection_point(fields=[\"plate\"], on=\"mouseover\", empty=False)\n",
    "\n",
    "plate_qc_drop_counts_chart = (\n",
    "    alt.Chart(plate_qc_drop_counts)\n",
    "    .add_params(plate_selection)\n",
    "    .encode(\n",
    "        alt.X(\n",
    "            \"n_drops\",\n",
    "            title=\"number of drops\",\n",
    "        ),\n",
    "        alt.Y(\n",
    "            \"plate\",\n",
    "            sort=plates,\n",
    "            title=None,\n",
    "            axis=alt.Axis(labelFontStyle=\"bold\", labelFontSize=11),\n",
    "        ),\n",
    "        alt.Column(\n",
    "            \"drop type\",\n",
    "            title=None,\n",
    "            spacing=5,\n",
    "            header=alt.Header(labelFontSize=12, labelFontStyle=\"bold\", labelPadding=1),\n",
    "        ),\n",
    "        alt.Color(\n",
    "            \"reason\",\n",
    "            legend=alt.Legend(\n",
    "                orient=\"top\", columns=1, labelLimit=230, title=None, padding=1\n",
    "            ),\n",
    "        ),\n",
    "        strokeWidth=alt.condition(plate_selection, alt.value(3), alt.value(0.5)),\n",
    "        tooltip=plate_qc_drop_counts.columns.tolist(),\n",
    "    )\n",
    "    .mark_bar(height={\"band\": 0.8}, stroke=\"black\")\n",
    "    .properties(\n",
    "        width=230,\n",
    "        height=alt.Step(16),\n",
    "        title=alt.TitleParams(\n",
    "            \"Number of QC drops when processing plates\", anchor=\"middle\", dy=-2\n",
    "        ),\n",
    "    )\n",
    "    .configure_axis(grid=False)\n",
    "    .resolve_scale(color=\"independent\", x=\"independent\")\n",
    ")\n",
    "\n",
    "plate_qc_drop_counts_chart"
   ]
  },
  {
   "cell_type": "markdown",
   "id": "7408dc19-f08d-4d76-aa81-34d32f39c91e",
   "metadata": {},
   "source": [
    "## Look for barcodes dropped especially often in plate QC\n",
    "If a barcode is dropped especially often across plates, that could indicate something problematic with that barcode such that it should be removed altogether from the library analysis."
   ]
  },
  {
   "cell_type": "code",
   "execution_count": null,
   "id": "98ee8881-a4ab-4a53-af61-d63de8968501",
   "metadata": {},
   "outputs": [],
   "source": [
    "barcode_drops = (\n",
    "    plate_qc_drops_df.query(\"`drop type`.str.startswith('barcode')\")\n",
    "    .assign(barcode=lambda x: x[\"drop\"].str.split().str[0])\n",
    "    .groupby([\"drop type\", \"barcode\"], as_index=False)\n",
    "    .aggregate(\n",
    "        plates_where_dropped=pd.NamedAgg(\"plate\", \"nunique\"),\n",
    "        total_drops=pd.NamedAgg(\"plate\", \"count\"),\n",
    "    )\n",
    ")\n",
    "\n",
    "barcode_selection = alt.selection_point(fields=[\"barcode\"], on=\"mouseover\", empty=False)\n",
    "\n",
    "barcode_drops_chart = (\n",
    "    alt.Chart(barcode_drops)\n",
    "    .add_params(barcode_selection)\n",
    "    .encode(\n",
    "        alt.X(\n",
    "            \"total_drops\",\n",
    "            title=\"times barcode dropped\",\n",
    "        ),\n",
    "        alt.Y(\n",
    "            \"barcode\",\n",
    "            sort=alt.SortField(\"total_drops\", order=\"descending\"),\n",
    "            axis=alt.Axis(labelFontSize=9),\n",
    "        ),\n",
    "        alt.Column(\n",
    "            \"drop type\",\n",
    "            title=None,\n",
    "            spacing=8,\n",
    "            header=alt.Header(labelFontSize=12, labelFontStyle=\"bold\", labelPadding=1),\n",
    "        ),\n",
    "        strokeWidth=alt.condition(barcode_selection, alt.value(3), alt.value(0.5)),\n",
    "        tooltip=barcode_drops.columns.tolist(),\n",
    "    )\n",
    "    .mark_bar(height={\"band\": 0.8}, stroke=\"black\")\n",
    "    .properties(\n",
    "        width=200,\n",
    "        height=alt.Step(10),\n",
    "        title=alt.TitleParams(\n",
    "            \"Number of QC drops when processing plates\", anchor=\"middle\", dy=-2\n",
    "        ),\n",
    "    )\n",
    "    .configure_axis(grid=False)\n",
    "    .resolve_scale(color=\"independent\", x=\"independent\", y=\"independent\")\n",
    ")\n",
    "\n",
    "barcode_drops_chart"
   ]
  },
  {
   "cell_type": "markdown",
   "id": "ab2a6ba9-5394-406a-a9ef-59092ad0281c",
   "metadata": {},
   "source": [
    "## Analyze the sera QC\n",
    "Analyze the QC performed on the sera, which involves completely dropping titers for certain virus-sera pairs.\n",
    "\n",
    "Read the QC for different sera into a merged dictionary, write it to YAML, and also convert to a DataFrame.\n",
    "If you really want to look into the details of what is being dropped, you will want to look at that merged YAML file."
   ]
  },
  {
   "cell_type": "code",
   "execution_count": null,
   "id": "fcd83ae4-60a2-48aa-b434-f078a3ea912d",
   "metadata": {},
   "outputs": [],
   "source": [
    "# read dictionary of QC drops\n",
    "assert len(sera) == len(input_sera_qc_drops)\n",
    "sera_qc_drops = {}\n",
    "for serum, qc_drops_yaml in zip(sera, input_sera_qc_drops):\n",
    "    with open(qc_drops_yaml) as f:\n",
    "        sera_qc_drops[serum] = yaml.load(f)\n",
    "assert len(sera_qc_drops) == len(input_sera_qc_drops)\n",
    "\n",
    "print(f\"Writing merged sera drops to {output_sera_qc_drops}\")\n",
    "with open(output_sera_qc_drops, \"w\") as f:\n",
    "    yaml.dump(sera_qc_drops, stream=f)\n",
    "\n",
    "# convert dictionary of QC drops into list of tuples\n",
    "sera_qc_drop_tups = [\n",
    "    (serum_key, virus, reason)\n",
    "    for (serum_key, serum_val) in sera_qc_drops.items()\n",
    "    for virus, reason in serum_val.items()\n",
    "]\n",
    "\n",
    "# create data frame of QC drops\n",
    "sera_qc_drops_df = pd.DataFrame(sera_qc_drop_tups, columns=[\"serum\", \"virus\", \"reason\"])"
   ]
  },
  {
   "cell_type": "markdown",
   "id": "d12e44e9-0163-47b2-99e9-c44915381bb4",
   "metadata": {},
   "source": [
    "Plot the number of viruses dropped for each serum.\n",
    "If a serum has many missed viruses, then you will lack a lot of titers and so it may be worth reviewing the cause of the drops."
   ]
  },
  {
   "cell_type": "code",
   "execution_count": null,
   "id": "669687c0-5af8-479f-9ea4-294ec491a9e3",
   "metadata": {},
   "outputs": [],
   "source": [
    "sera_n_drops = sera_qc_drops_df.groupby([\"serum\", \"reason\"], as_index=False).aggregate(\n",
    "    n_viruses=pd.NamedAgg(\"virus\", \"nunique\")\n",
    ")\n",
    "assert sera_n_drops[\"n_viruses\"].sum() == len(sera_qc_drops_df)\n",
    "\n",
    "sera_n_drops_chart = (\n",
    "    alt.Chart(sera_n_drops)\n",
    "    .encode(\n",
    "        alt.X(\"n_viruses\", title=\"number of viruses dropped\"),\n",
    "        alt.Y(\"serum\", sort=sera),\n",
    "        alt.Color(\"reason\", title=\"reason dropped\", legend=alt.Legend(labelLimit=350)),\n",
    "        tooltip=sera_n_drops.columns.tolist(),\n",
    "    )\n",
    "    .mark_bar(height={\"band\": 0.8})\n",
    "    .properties(\n",
    "        width=250,\n",
    "        height=alt.Step(13),\n",
    "        title=\"Number of viruses dropped at serum QC for each serum\",\n",
    "    )\n",
    "    .configure_axis(grid=False)\n",
    ")\n",
    "\n",
    "sera_n_drops_chart"
   ]
  },
  {
   "cell_type": "markdown",
   "id": "df664703-619b-4d1a-87c0-4628ba6e8395",
   "metadata": {},
   "source": [
    "Plot the number of sera for which each virus is dropped during serum QC.\n",
    "If a virus is dropped for many sera, that may indicate some issue with that virus in assays:"
   ]
  },
  {
   "cell_type": "code",
   "execution_count": null,
   "id": "2d7c34f6-ece8-4117-a72f-47aaf8610d9b",
   "metadata": {},
   "outputs": [],
   "source": [
    "virus_n_drops = sera_qc_drops_df.groupby([\"virus\", \"reason\"], as_index=False).aggregate(\n",
    "    n_sera=pd.NamedAgg(\"serum\", \"nunique\")\n",
    ")\n",
    "assert virus_n_drops[\"n_sera\"].sum() == len(sera_qc_drops_df)\n",
    "\n",
    "virus_n_drops_chart = (\n",
    "    alt.Chart(virus_n_drops)\n",
    "    .encode(\n",
    "        alt.X(\"n_sera\", title=\"number of sera for which virus is dropped\"),\n",
    "        alt.Y(\"virus\", sort=alt.SortField(\"n_sera\", order=\"descending\")),\n",
    "        alt.Color(\"reason\", title=\"reason dropped\", legend=alt.Legend(labelLimit=350)),\n",
    "        tooltip=virus_n_drops.columns.tolist(),\n",
    "    )\n",
    "    .mark_bar(height={\"band\": 0.8})\n",
    "    .properties(\n",
    "        width=250,\n",
    "        height=alt.Step(13),\n",
    "        title=\"Number of sera for which each virus is dropped at serum QC\",\n",
    "    )\n",
    "    .configure_axis(grid=False)\n",
    ")\n",
    "\n",
    "virus_n_drops_chart"
   ]
  },
  {
   "cell_type": "code",
   "execution_count": null,
   "id": "60312aba-ea9f-4e85-9428-9fede5377a55",
   "metadata": {},
   "outputs": [],
   "source": []
  }
 ],
 "metadata": {
  "kernelspec": {
   "display_name": "Python 3 (ipykernel)",
   "language": "python",
   "name": "python3"
  },
  "language_info": {
   "codemirror_mode": {
    "name": "ipython",
    "version": 3
   },
   "file_extension": ".py",
   "mimetype": "text/x-python",
   "name": "python",
   "nbconvert_exporter": "python",
   "pygments_lexer": "ipython3",
   "version": "3.11.7"
  }
 },
 "nbformat": 4,
 "nbformat_minor": 5
}
