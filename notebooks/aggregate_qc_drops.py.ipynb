{
 "cells": [
  {
   "cell_type": "markdown",
   "id": "493185e7-3a1c-4e99-8e49-5d6f6163a625",
   "metadata": {},
   "source": [
    "# Aggregate and analyze the drops from QC-ing the plates and sera"
   ]
  },
  {
   "cell_type": "code",
   "execution_count": 6,
   "id": "afc61615-0d86-4df1-9fbb-154716391462",
   "metadata": {
    "execution": {
     "iopub.execute_input": "2023-12-31T13:23:44.094297Z",
     "iopub.status.busy": "2023-12-31T13:23:44.093687Z",
     "iopub.status.idle": "2023-12-31T13:23:44.103598Z",
     "shell.execute_reply": "2023-12-31T13:23:44.102256Z",
     "shell.execute_reply.started": "2023-12-31T13:23:44.094236Z"
    }
   },
   "outputs": [],
   "source": [
    "import altair as alt\n",
    "\n",
    "import pandas as pd\n",
    "\n",
    "from ruamel.yaml import YAML\n",
    "\n",
    "yaml = YAML(typ=\"rt\")\n",
    "\n",
    "_ = alt.data_transformers.disable_max_rows()"
   ]
  },
  {
   "cell_type": "markdown",
   "id": "800344c3-155c-4344-8d78-d0614dacf8f3",
   "metadata": {},
   "source": [
    "Get variables from `snakemake`:"
   ]
  },
  {
   "cell_type": "code",
   "execution_count": 2,
   "id": "818b9063-16c0-40c8-bd4b-5b674da647df",
   "metadata": {
    "execution": {
     "iopub.execute_input": "2023-12-31T13:18:42.277008Z",
     "iopub.status.busy": "2023-12-31T13:18:42.276333Z",
     "iopub.status.idle": "2023-12-31T13:18:42.342562Z",
     "shell.execute_reply": "2023-12-31T13:18:42.341558Z",
     "shell.execute_reply.started": "2023-12-31T13:18:42.276970Z"
    }
   },
   "outputs": [],
   "source": [
    "\n",
    "######## snakemake preamble start (automatically inserted, do not edit) ########\n",
    "import sys; sys.path.extend(['/fh/fast/bloom_j/software/miniconda3/envs/seqneut-pipeline/lib/python3.11/site-packages', '/fh/fast/bloom_j/computational_notebooks/jbloom/2023/flu_seqneut_DRIVE_2021-22_repeat_vax/seqneut-pipeline', '/fh/fast/bloom_j/computational_notebooks/jbloom/2023/flu_seqneut_DRIVE_2021-22_repeat_vax/seqneut-pipeline/test_example/..', '/fh/fast/bloom_j/computational_notebooks/jbloom/2023/flu_seqneut_DRIVE_2021-22_repeat_vax/seqneut-pipeline/test_example', '/fh/fast/bloom_j/software/miniconda3/envs/seqneut-pipeline/bin', '/fh/fast/bloom_j/software/miniconda3/envs/seqneut-pipeline/lib/python3.11', '/fh/fast/bloom_j/software/miniconda3/envs/seqneut-pipeline/lib/python3.11/lib-dynload', '/home/jbloom/.local/lib/python3.11/site-packages', '/fh/fast/bloom_j/software/miniconda3/envs/seqneut-pipeline/lib/python3.11/site-packages', '/home/jbloom/.cache/snakemake/snakemake/source-cache/runtime-cache/tmpfy0wpwzq/file/fh/fast/bloom_j/computational_notebooks/jbloom/2023/flu_seqneut_DRIVE_2021-22_repeat_vax/seqneut-pipeline/notebooks', '/fh/fast/bloom_j/computational_notebooks/jbloom/2023/flu_seqneut_DRIVE_2021-22_repeat_vax/seqneut-pipeline/notebooks']); import pickle; snakemake = pickle.loads(b'\\x80\\x04\\x95\\xaf\\x11\\x00\\x00\\x00\\x00\\x00\\x00\\x8c\\x10snakemake.script\\x94\\x8c\\tSnakemake\\x94\\x93\\x94)\\x81\\x94}\\x94(\\x8c\\x05input\\x94\\x8c\\x0csnakemake.io\\x94\\x8c\\nInputFiles\\x94\\x93\\x94)\\x81\\x94(\\x8c\"results/plates/plate2/qc_drops.yml\\x94\\x8c#results/plates/plate11/qc_drops.yml\\x94\\x8c results/sera/M099d0/qc_drops.yml\\x94\\x8c!results/sera/M099d30/qc_drops.yml\\x94\\x8c!results/sera/Y044d30/qc_drops.yml\\x94\\x8c\"results/sera/Y154d182/qc_drops.yml\\x94e}\\x94(\\x8c\\x06_names\\x94}\\x94(\\x8c\\x0eplate_qc_drops\\x94K\\x00K\\x02\\x86\\x94\\x8c\\rsera_qc_drops\\x94K\\x02K\\x06\\x86\\x94u\\x8c\\x12_allowed_overrides\\x94]\\x94(\\x8c\\x05index\\x94\\x8c\\x04sort\\x94eh\\x19\\x8c\\tfunctools\\x94\\x8c\\x07partial\\x94\\x93\\x94h\\x06\\x8c\\x19Namedlist._used_attribute\\x94\\x93\\x94\\x85\\x94R\\x94(h\\x1f)}\\x94\\x8c\\x05_name\\x94h\\x19sNt\\x94bh\\x1ah\\x1dh\\x1f\\x85\\x94R\\x94(h\\x1f)}\\x94h#h\\x1asNt\\x94bh\\x13h\\x06\\x8c\\tNamedlist\\x94\\x93\\x94)\\x81\\x94(h\\nh\\x0be}\\x94(h\\x11}\\x94h\\x17]\\x94(h\\x19h\\x1aeh\\x19h\\x1dh\\x1f\\x85\\x94R\\x94(h\\x1f)}\\x94h#h\\x19sNt\\x94bh\\x1ah\\x1dh\\x1f\\x85\\x94R\\x94(h\\x1f)}\\x94h#h\\x1asNt\\x94bubh\\x15h*)\\x81\\x94(h\\x0ch\\rh\\x0eh\\x0fe}\\x94(h\\x11}\\x94h\\x17]\\x94(h\\x19h\\x1aeh\\x19h\\x1dh\\x1f\\x85\\x94R\\x94(h\\x1f)}\\x94h#h\\x19sNt\\x94bh\\x1ah\\x1dh\\x1f\\x85\\x94R\\x94(h\\x1f)}\\x94h#h\\x1asNt\\x94bubub\\x8c\\x06output\\x94h\\x06\\x8c\\x0bOutputFiles\\x94\\x93\\x94)\\x81\\x94(\\x8c#results/qc_drops/plate_qc_drops.yml\\x94\\x8c\"results/qc_drops/sera_qc_drops.yml\\x94e}\\x94(h\\x11}\\x94(h\\x13K\\x00N\\x86\\x94h\\x15K\\x01N\\x86\\x94uh\\x17]\\x94(h\\x19h\\x1aeh\\x19h\\x1dh\\x1f\\x85\\x94R\\x94(h\\x1f)}\\x94h#h\\x19sNt\\x94bh\\x1ah\\x1dh\\x1f\\x85\\x94R\\x94(h\\x1f)}\\x94h#h\\x1asNt\\x94bh\\x13hGh\\x15hHub\\x8c\\x06params\\x94h\\x06\\x8c\\x06Params\\x94\\x93\\x94)\\x81\\x94(]\\x94(\\x8c\\x06plate2\\x94\\x8c\\x07plate11\\x94e]\\x94(\\x8c\\x06M099d0\\x94\\x8c\\x07M099d30\\x94\\x8c\\x07Y044d30\\x94\\x8c\\x08Y154d182\\x94ee}\\x94(h\\x11}\\x94(\\x8c\\x06plates\\x94K\\x00N\\x86\\x94\\x8c\\x04sera\\x94K\\x01N\\x86\\x94uh\\x17]\\x94(h\\x19h\\x1aeh\\x19h\\x1dh\\x1f\\x85\\x94R\\x94(h\\x1f)}\\x94h#h\\x19sNt\\x94bh\\x1ah\\x1dh\\x1f\\x85\\x94R\\x94(h\\x1f)}\\x94h#h\\x1asNt\\x94bhdhZhfh]ub\\x8c\\twildcards\\x94h\\x06\\x8c\\tWildcards\\x94\\x93\\x94)\\x81\\x94}\\x94(h\\x11}\\x94h\\x17]\\x94(h\\x19h\\x1aeh\\x19h\\x1dh\\x1f\\x85\\x94R\\x94(h\\x1f)}\\x94h#h\\x19sNt\\x94bh\\x1ah\\x1dh\\x1f\\x85\\x94R\\x94(h\\x1f)}\\x94h#h\\x1asNt\\x94bub\\x8c\\x07threads\\x94K\\x01\\x8c\\tresources\\x94h\\x06\\x8c\\tResources\\x94\\x93\\x94)\\x81\\x94(K\\x01K\\x01\\x8c\\x04/tmp\\x94e}\\x94(h\\x11}\\x94(\\x8c\\x06_cores\\x94K\\x00N\\x86\\x94\\x8c\\x06_nodes\\x94K\\x01N\\x86\\x94\\x8c\\x06tmpdir\\x94K\\x02N\\x86\\x94uh\\x17]\\x94(h\\x19h\\x1aeh\\x19h\\x1dh\\x1f\\x85\\x94R\\x94(h\\x1f)}\\x94h#h\\x19sNt\\x94bh\\x1ah\\x1dh\\x1f\\x85\\x94R\\x94(h\\x1f)}\\x94h#h\\x1asNt\\x94bh\\x88K\\x01h\\x8aK\\x01h\\x8ch\\x85ub\\x8c\\x03log\\x94h\\x06\\x8c\\x03Log\\x94\\x93\\x94)\\x81\\x94\\x8c)results/qc_drops/aggregate_qc_drops.ipynb\\x94a}\\x94(h\\x11}\\x94\\x8c\\x08notebook\\x94K\\x00N\\x86\\x94sh\\x17]\\x94(h\\x19h\\x1aeh\\x19h\\x1dh\\x1f\\x85\\x94R\\x94(h\\x1f)}\\x94h#h\\x19sNt\\x94bh\\x1ah\\x1dh\\x1f\\x85\\x94R\\x94(h\\x1f)}\\x94h#h\\x1asNt\\x94bh\\x9eh\\x9bub\\x8c\\x06config\\x94}\\x94(\\x8c\\x10seqneut-pipeline\\x94\\x8c\\x03../\\x94\\x8c\\x04docs\\x94\\x8c\\x07../docs\\x94\\x8c\\x0bdescription\\x94X\\xba\\x01\\x00\\x00# Test example for [seqneut-pipeline](https://github.com/jbloomlab/seqneut-pipeline)\\nThis is a small toy-example created by subsetting a real experiment dataset.\\n\\nSee [https://github.com/jbloomlab/seqneut-pipeline](https://github.com/jbloomlab/seqneut-pipeline)\\nfor the computer code and underlying numerical data.\\n\\nSee [here](https://github.com/jbloomlab/seqneut-pipeline/graphs/contributors) for a\\nlist of all contributors to the pipeline.\\n\\x94\\x8c\\x0fviral_libraries\\x94}\\x94\\x8c\\x14pdmH1N1_lib2023_loes\\x94\\x8c-data/viral_libraries/pdmH1N1_lib2023_loes.csv\\x94s\\x8c\\x17viral_strain_plot_order\\x94\\x8c data/viral_strain_plot_order.csv\\x94\\x8c\\x12neut_standard_sets\\x94}\\x94\\x8c\\x08loes2023\\x94\\x8c3data/neut_standard_sets/loes2023_neut_standards.csv\\x94s\\x8c\\x1eillumina_barcode_parser_params\\x94}\\x94(\\x8c\\x08upstream\\x94\\x8c\\x1fCTCCCTACAATGTCGGATTTGTATTTAATAG\\x94\\x8c\\ndownstream\\x94\\x8c\\x00\\x94\\x8c\\x04minq\\x94K\\x14\\x8c\\x11upstream_mismatch\\x94K\\x04\\x8c\\x0ebc_orientation\\x94\\x8c\\x02R2\\x94u\\x8c#default_process_plate_qc_thresholds\\x94}\\x94(\\x8c\\x1bavg_barcode_counts_per_well\\x94K\\xfa\\x8c\\x1fmin_neut_standard_frac_per_well\\x94G?tz\\xe1G\\xae\\x14{\\x8c\"no_serum_per_viral_barcode_filters\\x94}\\x94(\\x8c\\x08min_frac\\x94G?@bM\\xd2\\xf1\\xa9\\xfc\\x8c\\x0fmax_fold_change\\x94K\\x03\\x8c\\tmax_wells\\x94K\\x02u\\x8c!per_neut_standard_barcode_filters\\x94}\\x94(\\x8c\\x08min_frac\\x94G?tz\\xe1G\\xae\\x14{\\x8c\\x0fmax_fold_change\\x94K\\x03\\x8c\\tmax_wells\\x94K\\x02u\\x8c min_neut_standard_count_per_well\\x94M\\xf4\\x01\\x8c)min_no_serum_count_per_viral_barcode_well\\x94K\\x1e\\x8c+max_frac_infectivity_per_viral_barcode_well\\x94K\\x05\\x8c)min_dilutions_per_barcode_serum_replicate\\x94K\\x06u\\x8c%default_process_plate_curvefit_params\\x94}\\x94(\\x8c\\x18frac_infectivity_ceiling\\x94K\\x01\\x8c\\x06fixtop\\x94\\x89\\x8c\\tfixbottom\\x94K\\x00u\\x8c!default_process_plate_curvefit_qc\\x94}\\x94(\\x8c\\x1dmax_frac_infectivity_at_least\\x94G?\\xe0\\x00\\x00\\x00\\x00\\x00\\x00\\x8c\\x06min_R2\\x94G?\\xe9\\x99\\x99\\x99\\x99\\x99\\x9a\\x8c#serum_replicates_ignore_curvefit_qc\\x94]\\x94\\x8c+barcode_serum_replicates_ignore_curvefit_qc\\x94]\\x94u\\x8c\\x06plates\\x94}\\x94(h[}\\x94(\\x8c\\x04date\\x94\\x8c\\x08datetime\\x94\\x8c\\x04date\\x94\\x93\\x94C\\x04\\x07\\xe7\\x08\\x01\\x94\\x85\\x94R\\x94\\x8c\\rviral_library\\x94\\x8c\\x14pdmH1N1_lib2023_loes\\x94\\x8c\\x11neut_standard_set\\x94\\x8c\\x08loes2023\\x94\\x8c\\x0bsamples_csv\\x94\\x8c\\x1edata/plates/plate2_samples.csv\\x94\\x8c\\x0cmanual_drops\\x94}\\x94\\x8c\\rqc_thresholds\\x94}\\x94(h\\xc7K\\xfah\\xc8G?tz\\xe1G\\xae\\x14{h\\xc9}\\x94(h\\xcbG?@bM\\xd2\\xf1\\xa9\\xfch\\xccK\\x03h\\xcdK\\x02uh\\xce}\\x94(h\\xd0G?tz\\xe1G\\xae\\x14{h\\xd1K\\x03h\\xd2K\\x02uh\\xd3M\\xf4\\x01h\\xd4K\\x1eh\\xd5K\\x05h\\xd6K\\x06u\\x8c\\x0fcurvefit_params\\x94}\\x94(h\\xd9K\\x01h\\xda\\x89h\\xdbK\\x00u\\x8c\\x0bcurvefit_qc\\x94}\\x94(h\\xdeG?\\xe0\\x00\\x00\\x00\\x00\\x00\\x00h\\xdfG?\\xe9\\x99\\x99\\x99\\x99\\x99\\x9ah\\xe0h\\xe1h\\xe2h\\xe3uuh\\\\}\\x94(\\x8c\\x04date\\x94h\\xeaC\\x04\\x07\\xe7\\t\\x1a\\x94\\x85\\x94R\\x94\\x8c\\rviral_library\\x94\\x8c\\x14pdmH1N1_lib2023_loes\\x94\\x8c\\x11neut_standard_set\\x94\\x8c\\x08loes2023\\x94\\x8c\\x0bsamples_csv\\x94\\x8c\\x1fdata/plates/plate11_samples.csv\\x94\\x8c\\x0cmanual_drops\\x94}\\x94\\x8c\\x18barcode_serum_replicates\\x94]\\x94]\\x94(\\x8c\\x10AGTCCTATCCTCAAAT\\x94\\x8c\\x06M099d0\\x94eas\\x8c\\rqc_thresholds\\x94}\\x94(h\\xc7K\\xfah\\xc8G?tz\\xe1G\\xae\\x14{h\\xc9}\\x94(h\\xcbG?@bM\\xd2\\xf1\\xa9\\xfch\\xccK\\x03h\\xcdK\\x02uh\\xce}\\x94(h\\xd0G?tz\\xe1G\\xae\\x14{h\\xd1K\\x03h\\xd2K\\x02uh\\xd3M\\xf4\\x01h\\xd4K\\x1eh\\xd5K\\x05h\\xd6K\\x06u\\x8c\\x0fcurvefit_params\\x94}\\x94(h\\xd9K\\x01h\\xda\\x89h\\xdbK\\x00u\\x8c\\x0bcurvefit_qc\\x94}\\x94(h\\xdeG?\\xe0\\x00\\x00\\x00\\x00\\x00\\x00h\\xdfG?\\xe9\\x99\\x99\\x99\\x99\\x99\\x9ah\\xe0h\\xe1h\\xe2]\\x94]\\x94(\\x8c\\x10AGGTCAAGACCACAGG\\x94\\x8c\\x06M099d0\\x94eauuu\\x8c\\x16default_serum_titer_as\\x94\\x8c\\x08midpoint\\x94\\x8c\\x1bdefault_serum_qc_thresholds\\x94}\\x94(\\x8c\\x0emin_replicates\\x94K\\x02\\x8c\\x1bmax_fold_change_from_median\\x94K\\x03\\x8c\\x11viruses_ignore_qc\\x94]\\x94u\\x8c\\x16sera_override_defaults\\x94}\\x94(\\x8c\\x07M099d30\\x94}\\x94\\x8c\\rqc_thresholds\\x94}\\x94(j \\x01\\x00\\x00K\\x02j!\\x01\\x00\\x00K\\x03j\"\\x01\\x00\\x00]\\x94\\x8c\\x14A/Belgium/H0017/2022\\x94aus\\x8c\\x07Y044d30\\x94}\\x94(\\x8c\\rqc_thresholds\\x94}\\x94(j \\x01\\x00\\x00K\\x02j!\\x01\\x00\\x00K\\x04j\"\\x01\\x00\\x00j#\\x01\\x00\\x00u\\x8c\\x08titer_as\\x94\\x8c\\x04nt50\\x94uuu\\x8c\\x04rule\\x94\\x8c\\x12aggregate_qc_drops\\x94\\x8c\\x0fbench_iteration\\x94N\\x8c\\tscriptdir\\x94\\x8ct/fh/fast/bloom_j/computational_notebooks/jbloom/2023/flu_seqneut_DRIVE_2021-22_repeat_vax/seqneut-pipeline/notebooks\\x94ub.'); from snakemake.logging import logger; logger.printshellcmds = False; import os; os.chdir(r'/fh/fast/bloom_j/computational_notebooks/jbloom/2023/flu_seqneut_DRIVE_2021-22_repeat_vax/seqneut-pipeline/test_example');\n",
    "######## snakemake preamble end #########\n"
   ]
  },
  {
   "cell_type": "code",
   "execution_count": 3,
   "id": "015cb75c-2a76-470a-9ec5-f46c0f5685e4",
   "metadata": {
    "execution": {
     "iopub.execute_input": "2023-12-31T13:18:42.344145Z",
     "iopub.status.busy": "2023-12-31T13:18:42.343742Z",
     "iopub.status.idle": "2023-12-31T13:18:42.349345Z",
     "shell.execute_reply": "2023-12-31T13:18:42.348494Z",
     "shell.execute_reply.started": "2023-12-31T13:18:42.344112Z"
    }
   },
   "outputs": [],
   "source": [
    "input_plate_qc_drops = snakemake.input.plate_qc_drops\n",
    "input_sera_qc_drops = snakemake.input.sera_qc_drops\n",
    "output_plate_qc_drops = snakemake.output.plate_qc_drops\n",
    "output_sera_qc_drops = snakemake.output.sera_qc_drops\n",
    "plates = snakemake.params.plates\n",
    "sera = snakemake.params.sera"
   ]
  },
  {
   "cell_type": "markdown",
   "id": "035d90d3-815e-40d1-bf08-7f36a30cc473",
   "metadata": {},
   "source": [
    "## Analyze plate QC drops\n",
    "Read QC drops for individual plates into a merged dictionary, write it to YAML, and also convert to a DataFrame:"
   ]
  },
  {
   "cell_type": "code",
   "execution_count": 31,
   "id": "c3acab3d-59a6-4909-9dbf-da02d75f67b5",
   "metadata": {
    "execution": {
     "iopub.execute_input": "2023-12-31T13:40:59.458833Z",
     "iopub.status.busy": "2023-12-31T13:40:59.458224Z",
     "iopub.status.idle": "2023-12-31T13:40:59.502862Z",
     "shell.execute_reply": "2023-12-31T13:40:59.502158Z",
     "shell.execute_reply.started": "2023-12-31T13:40:59.458775Z"
    }
   },
   "outputs": [
    {
     "name": "stdout",
     "output_type": "stream",
     "text": [
      "Writing merged plate drops to results/qc_drops/plate_qc_drops.yml\n"
     ]
    },
    {
     "data": {
      "text/html": [
       "<div>\n",
       "<style scoped>\n",
       "    .dataframe tbody tr th:only-of-type {\n",
       "        vertical-align: middle;\n",
       "    }\n",
       "\n",
       "    .dataframe tbody tr th {\n",
       "        vertical-align: top;\n",
       "    }\n",
       "\n",
       "    .dataframe thead th {\n",
       "        text-align: right;\n",
       "    }\n",
       "</style>\n",
       "<table border=\"1\" class=\"dataframe\">\n",
       "  <thead>\n",
       "    <tr style=\"text-align: right;\">\n",
       "      <th></th>\n",
       "      <th>plate</th>\n",
       "      <th>drop type</th>\n",
       "      <th>drop</th>\n",
       "      <th>reason</th>\n",
       "    </tr>\n",
       "  </thead>\n",
       "  <tbody>\n",
       "    <tr>\n",
       "      <th>0</th>\n",
       "      <td>plate2</td>\n",
       "      <td>barcodes</td>\n",
       "      <td>CATACAGAGTTTGTTG</td>\n",
       "      <td>min_neut_standard_frac_per_well</td>\n",
       "    </tr>\n",
       "    <tr>\n",
       "      <th>1</th>\n",
       "      <td>plate11</td>\n",
       "      <td>wells</td>\n",
       "      <td>D6</td>\n",
       "      <td>avg_barcode_counts_per_well</td>\n",
       "    </tr>\n",
       "    <tr>\n",
       "      <th>2</th>\n",
       "      <td>plate11</td>\n",
       "      <td>wells</td>\n",
       "      <td>C9</td>\n",
       "      <td>min_neut_standard_count_per_well</td>\n",
       "    </tr>\n",
       "    <tr>\n",
       "      <th>3</th>\n",
       "      <td>plate11</td>\n",
       "      <td>wells</td>\n",
       "      <td>D9</td>\n",
       "      <td>min_neut_standard_count_per_well</td>\n",
       "    </tr>\n",
       "    <tr>\n",
       "      <th>4</th>\n",
       "      <td>plate11</td>\n",
       "      <td>barcodes</td>\n",
       "      <td>CATACAGAGTTTGTTG</td>\n",
       "      <td>min_neut_standard_frac_per_well</td>\n",
       "    </tr>\n",
       "    <tr>\n",
       "      <th>5</th>\n",
       "      <td>plate11</td>\n",
       "      <td>barcode_wells</td>\n",
       "      <td>CGGATAAAAATGATAT B12</td>\n",
       "      <td>min_no_serum_count_per_viral_barcode_well</td>\n",
       "    </tr>\n",
       "    <tr>\n",
       "      <th>6</th>\n",
       "      <td>plate11</td>\n",
       "      <td>barcode_wells</td>\n",
       "      <td>ACGGAATCCCCTGAGA B12</td>\n",
       "      <td>min_no_serum_count_per_viral_barcode_well</td>\n",
       "    </tr>\n",
       "    <tr>\n",
       "      <th>7</th>\n",
       "      <td>plate11</td>\n",
       "      <td>barcode_wells</td>\n",
       "      <td>CAGTTCTGCGACCAGC D10</td>\n",
       "      <td>max_frac_infectivity_per_viral_barcode_well</td>\n",
       "    </tr>\n",
       "    <tr>\n",
       "      <th>8</th>\n",
       "      <td>plate11</td>\n",
       "      <td>barcode_serum_replicates</td>\n",
       "      <td>AGTCCTATCCTCAAAT M099d0</td>\n",
       "      <td>manual_drop</td>\n",
       "    </tr>\n",
       "    <tr>\n",
       "      <th>9</th>\n",
       "      <td>plate11</td>\n",
       "      <td>barcode_serum_replicates</td>\n",
       "      <td>ACGACATGATCAAACG M099d0</td>\n",
       "      <td>min_R2</td>\n",
       "    </tr>\n",
       "    <tr>\n",
       "      <th>10</th>\n",
       "      <td>plate11</td>\n",
       "      <td>barcode_serum_replicates</td>\n",
       "      <td>CTATTAATCATGCAAA M099d0</td>\n",
       "      <td>min_R2</td>\n",
       "    </tr>\n",
       "    <tr>\n",
       "      <th>11</th>\n",
       "      <td>plate11</td>\n",
       "      <td>barcode_serum_replicates</td>\n",
       "      <td>AATAAGTATACGGGAT M099d30</td>\n",
       "      <td>min_R2</td>\n",
       "    </tr>\n",
       "    <tr>\n",
       "      <th>12</th>\n",
       "      <td>plate11</td>\n",
       "      <td>barcode_serum_replicates</td>\n",
       "      <td>CCCTATGCTGCGTATT M099d30</td>\n",
       "      <td>min_R2</td>\n",
       "    </tr>\n",
       "    <tr>\n",
       "      <th>13</th>\n",
       "      <td>plate11</td>\n",
       "      <td>barcode_serum_replicates</td>\n",
       "      <td>CGGATAAAAATGATAT M099d30</td>\n",
       "      <td>min_R2</td>\n",
       "    </tr>\n",
       "  </tbody>\n",
       "</table>\n",
       "</div>"
      ],
      "text/plain": [
       "      plate                 drop type                      drop  \\\n",
       "0    plate2                  barcodes          CATACAGAGTTTGTTG   \n",
       "1   plate11                     wells                        D6   \n",
       "2   plate11                     wells                        C9   \n",
       "3   plate11                     wells                        D9   \n",
       "4   plate11                  barcodes          CATACAGAGTTTGTTG   \n",
       "5   plate11             barcode_wells      CGGATAAAAATGATAT B12   \n",
       "6   plate11             barcode_wells      ACGGAATCCCCTGAGA B12   \n",
       "7   plate11             barcode_wells      CAGTTCTGCGACCAGC D10   \n",
       "8   plate11  barcode_serum_replicates   AGTCCTATCCTCAAAT M099d0   \n",
       "9   plate11  barcode_serum_replicates   ACGACATGATCAAACG M099d0   \n",
       "10  plate11  barcode_serum_replicates   CTATTAATCATGCAAA M099d0   \n",
       "11  plate11  barcode_serum_replicates  AATAAGTATACGGGAT M099d30   \n",
       "12  plate11  barcode_serum_replicates  CCCTATGCTGCGTATT M099d30   \n",
       "13  plate11  barcode_serum_replicates  CGGATAAAAATGATAT M099d30   \n",
       "\n",
       "                                         reason  \n",
       "0               min_neut_standard_frac_per_well  \n",
       "1                   avg_barcode_counts_per_well  \n",
       "2              min_neut_standard_count_per_well  \n",
       "3              min_neut_standard_count_per_well  \n",
       "4               min_neut_standard_frac_per_well  \n",
       "5     min_no_serum_count_per_viral_barcode_well  \n",
       "6     min_no_serum_count_per_viral_barcode_well  \n",
       "7   max_frac_infectivity_per_viral_barcode_well  \n",
       "8                                   manual_drop  \n",
       "9                                        min_R2  \n",
       "10                                       min_R2  \n",
       "11                                       min_R2  \n",
       "12                                       min_R2  \n",
       "13                                       min_R2  "
      ]
     },
     "execution_count": 31,
     "metadata": {},
     "output_type": "execute_result"
    }
   ],
   "source": [
    "# read dictionary of QC drops\n",
    "assert len(plates) == len(input_plate_qc_drops)\n",
    "plate_qc_drops = {}\n",
    "for plate, qc_drops_yaml in zip(plates, input_plate_qc_drops):\n",
    "    with open(qc_drops_yaml) as f:\n",
    "        plate_qc_drops[plate] = yaml.load(f)\n",
    "assert len(plate_qc_drops) == len(input_plate_qc_drops)\n",
    "\n",
    "print(f\"Writing merged plate drops to {output_plate_qc_drops}\")\n",
    "with open(output_plate_qc_drops, \"w\") as f:\n",
    "    yaml.dump(plate_qc_drops, stream=f)\n",
    "\n",
    "# convert dictionary of QC drops into list of tuples\n",
    "plate_qc_drop_tups = [\n",
    "    (plate_key, droptype_key, drop_key, reason)\n",
    "    for (plate_key, plate_val) in plate_qc_drops.items()\n",
    "    for droptype_key, droptype_val in plate_val.items()\n",
    "    for drop_key, reason in droptype_val.items()\n",
    "]\n",
    "\n",
    "# create data frame of QC drops\n",
    "plate_qc_drops_df = pd.DataFrame(\n",
    "    plate_qc_drop_tups,\n",
    "    columns=[\"plate\", \"drop type\", \"drop\", \"reason\"],\n",
    ")\n",
    "\n",
    "plate_qc_drops_df"
   ]
  },
  {
   "cell_type": "code",
   "execution_count": 32,
   "id": "369441cc-52ad-4b53-9e58-3589dc283eed",
   "metadata": {
    "execution": {
     "iopub.execute_input": "2023-12-31T13:44:45.915734Z",
     "iopub.status.busy": "2023-12-31T13:44:45.915197Z",
     "iopub.status.idle": "2023-12-31T13:44:45.935991Z",
     "shell.execute_reply": "2023-12-31T13:44:45.935116Z",
     "shell.execute_reply.started": "2023-12-31T13:44:45.915684Z"
    }
   },
   "outputs": [],
   "source": [
    "plate_qc_drop_counts = (\n",
    "    plate_qc_drops_df\n",
    "    .groupby([\"plate\", \"drop type\", \"reason\"], as_index=False)\n",
    "    .aggregate(n_drops=pd.NamedAgg(\"drop\", \"nunique\"))\n",
    ")\n",
    "assert plate_qc_drop_counts[\"n_drops\"].sum() == len(plate_qc_drops_df)"
   ]
  },
  {
   "cell_type": "markdown",
   "id": "ac65567c-32c3-48f0-b864-bad3927daa4a",
   "metadata": {},
   "source": [
    "Now plot the number of drops for each plate.\n",
    "You should be worried (maybe re-do or discard) any plates with a very large number of drops:"
   ]
  },
  {
   "cell_type": "code",
   "execution_count": 78,
   "id": "5c3a103b-7078-4f30-8472-cf56e9dad221",
   "metadata": {
    "execution": {
     "iopub.execute_input": "2023-12-31T14:06:24.146904Z",
     "iopub.status.busy": "2023-12-31T14:06:24.146343Z",
     "iopub.status.idle": "2023-12-31T14:06:24.293964Z",
     "shell.execute_reply": "2023-12-31T14:06:24.293235Z",
     "shell.execute_reply.started": "2023-12-31T14:06:24.146860Z"
    }
   },
   "outputs": [
    {
     "data": {
      "text/html": [
       "\n",
       "<style>\n",
       "  #altair-viz-ea1b73ab479942788b024abdedd09277.vega-embed {\n",
       "    width: 100%;\n",
       "    display: flex;\n",
       "  }\n",
       "\n",
       "  #altair-viz-ea1b73ab479942788b024abdedd09277.vega-embed details,\n",
       "  #altair-viz-ea1b73ab479942788b024abdedd09277.vega-embed details summary {\n",
       "    position: relative;\n",
       "  }\n",
       "</style>\n",
       "<div id=\"altair-viz-ea1b73ab479942788b024abdedd09277\"></div>\n",
       "<script type=\"text/javascript\">\n",
       "  var VEGA_DEBUG = (typeof VEGA_DEBUG == \"undefined\") ? {} : VEGA_DEBUG;\n",
       "  (function(spec, embedOpt){\n",
       "    let outputDiv = document.currentScript.previousElementSibling;\n",
       "    if (outputDiv.id !== \"altair-viz-ea1b73ab479942788b024abdedd09277\") {\n",
       "      outputDiv = document.getElementById(\"altair-viz-ea1b73ab479942788b024abdedd09277\");\n",
       "    }\n",
       "    const paths = {\n",
       "      \"vega\": \"https://cdn.jsdelivr.net/npm/vega@5?noext\",\n",
       "      \"vega-lib\": \"https://cdn.jsdelivr.net/npm/vega-lib?noext\",\n",
       "      \"vega-lite\": \"https://cdn.jsdelivr.net/npm/vega-lite@5.16.3?noext\",\n",
       "      \"vega-embed\": \"https://cdn.jsdelivr.net/npm/vega-embed@6?noext\",\n",
       "    };\n",
       "\n",
       "    function maybeLoadScript(lib, version) {\n",
       "      var key = `${lib.replace(\"-\", \"\")}_version`;\n",
       "      return (VEGA_DEBUG[key] == version) ?\n",
       "        Promise.resolve(paths[lib]) :\n",
       "        new Promise(function(resolve, reject) {\n",
       "          var s = document.createElement('script');\n",
       "          document.getElementsByTagName(\"head\")[0].appendChild(s);\n",
       "          s.async = true;\n",
       "          s.onload = () => {\n",
       "            VEGA_DEBUG[key] = version;\n",
       "            return resolve(paths[lib]);\n",
       "          };\n",
       "          s.onerror = () => reject(`Error loading script: ${paths[lib]}`);\n",
       "          s.src = paths[lib];\n",
       "        });\n",
       "    }\n",
       "\n",
       "    function showError(err) {\n",
       "      outputDiv.innerHTML = `<div class=\"error\" style=\"color:red;\">${err}</div>`;\n",
       "      throw err;\n",
       "    }\n",
       "\n",
       "    function displayChart(vegaEmbed) {\n",
       "      vegaEmbed(outputDiv, spec, embedOpt)\n",
       "        .catch(err => showError(`Javascript Error: ${err.message}<br>This usually means there's a typo in your chart specification. See the javascript console for the full traceback.`));\n",
       "    }\n",
       "\n",
       "    if(typeof define === \"function\" && define.amd) {\n",
       "      requirejs.config({paths});\n",
       "      require([\"vega-embed\"], displayChart, err => showError(`Error loading script: ${err.message}`));\n",
       "    } else {\n",
       "      maybeLoadScript(\"vega\", \"5\")\n",
       "        .then(() => maybeLoadScript(\"vega-lite\", \"5.16.3\"))\n",
       "        .then(() => maybeLoadScript(\"vega-embed\", \"6\"))\n",
       "        .catch(showError)\n",
       "        .then(() => displayChart(vegaEmbed));\n",
       "    }\n",
       "  })({\"config\": {\"view\": {\"continuousWidth\": 300, \"continuousHeight\": 300}, \"axis\": {\"grid\": false}}, \"data\": {\"name\": \"data-621abbc5878eaa086e0ab11a277c8773\"}, \"mark\": {\"type\": \"bar\", \"height\": {\"band\": 0.8}, \"stroke\": \"black\"}, \"encoding\": {\"color\": {\"field\": \"reason\", \"legend\": {\"columns\": 1, \"labelLimit\": 230, \"orient\": \"top\", \"padding\": 1, \"title\": null}, \"type\": \"nominal\"}, \"column\": {\"field\": \"drop type\", \"header\": {\"labelFontSize\": 12, \"labelFontStyle\": \"bold\", \"labelPadding\": 1}, \"spacing\": 5, \"title\": null, \"type\": \"nominal\"}, \"strokeWidth\": {\"condition\": {\"param\": \"param_15\", \"value\": 3, \"empty\": false}, \"value\": 0.5}, \"tooltip\": [{\"field\": \"plate\", \"type\": \"nominal\"}, {\"field\": \"drop type\", \"type\": \"nominal\"}, {\"field\": \"reason\", \"type\": \"nominal\"}, {\"field\": \"n_drops\", \"type\": \"quantitative\"}], \"x\": {\"field\": \"n_drops\", \"scale\": {\"nice\": false, \"padding\": 7}, \"title\": \"number of drops\", \"type\": \"quantitative\"}, \"y\": {\"axis\": {\"labelFontSize\": 11, \"labelFontStyle\": \"bold\"}, \"field\": \"plate\", \"sort\": [\"plate2\", \"plate11\"], \"title\": null, \"type\": \"nominal\"}}, \"height\": {\"step\": 16}, \"params\": [{\"name\": \"param_15\", \"select\": {\"type\": \"point\", \"fields\": [\"plate\"], \"on\": \"mouseover\"}}], \"resolve\": {\"scale\": {\"color\": \"independent\", \"x\": \"independent\"}}, \"title\": {\"text\": \"Number of QC drops when processing plates\", \"anchor\": \"middle\", \"dy\": -2}, \"width\": 230, \"$schema\": \"https://vega.github.io/schema/vega-lite/v5.16.3.json\", \"datasets\": {\"data-621abbc5878eaa086e0ab11a277c8773\": [{\"plate\": \"plate11\", \"drop type\": \"barcode_serum_replicates\", \"reason\": \"manual_drop\", \"n_drops\": 1}, {\"plate\": \"plate11\", \"drop type\": \"barcode_serum_replicates\", \"reason\": \"min_R2\", \"n_drops\": 5}, {\"plate\": \"plate11\", \"drop type\": \"barcode_wells\", \"reason\": \"max_frac_infectivity_per_viral_barcode_well\", \"n_drops\": 1}, {\"plate\": \"plate11\", \"drop type\": \"barcode_wells\", \"reason\": \"min_no_serum_count_per_viral_barcode_well\", \"n_drops\": 2}, {\"plate\": \"plate11\", \"drop type\": \"barcodes\", \"reason\": \"min_neut_standard_frac_per_well\", \"n_drops\": 1}, {\"plate\": \"plate11\", \"drop type\": \"wells\", \"reason\": \"avg_barcode_counts_per_well\", \"n_drops\": 1}, {\"plate\": \"plate11\", \"drop type\": \"wells\", \"reason\": \"min_neut_standard_count_per_well\", \"n_drops\": 2}, {\"plate\": \"plate2\", \"drop type\": \"barcodes\", \"reason\": \"min_neut_standard_frac_per_well\", \"n_drops\": 1}]}}, {\"mode\": \"vega-lite\"});\n",
       "</script>"
      ],
      "text/plain": [
       "alt.Chart(...)"
      ]
     },
     "execution_count": 78,
     "metadata": {},
     "output_type": "execute_result"
    }
   ],
   "source": [
    "plate_selection = alt.selection_point(fields=[\"plate\"], on=\"mouseover\", empty=False)\n",
    "\n",
    "plate_qc_drop_counts_chart = (\n",
    "    alt.Chart(plate_qc_drop_counts)\n",
    "    .add_params(plate_selection)\n",
    "    .encode(\n",
    "        alt.X(\n",
    "            \"n_drops\",\n",
    "            title=\"number of drops\",\n",
    "            scale=alt.Scale(nice=False, padding=7),\n",
    "        ),\n",
    "        alt.Y(\"plate\", sort=plates, title=None, axis=alt.Axis(labelFontStyle=\"bold\", labelFontSize=11)),\n",
    "        alt.Column(\"drop type\", title=None, spacing=5, header=alt.Header(labelFontSize=12, labelFontStyle=\"bold\", labelPadding=1)),\n",
    "        alt.Color(\"reason\", legend=alt.Legend(orient=\"top\", columns=1, labelLimit=230, title=None, padding=1)),\n",
    "        strokeWidth=alt.condition(plate_selection, alt.value(3), alt.value(0.5)),\n",
    "        tooltip=plate_qc_drop_counts.columns.tolist(),\n",
    "    )\n",
    "    .mark_bar(height={\"band\": 0.8}, stroke=\"black\")\n",
    "    .properties(\n",
    "        width=230,\n",
    "        height=alt.Step(16),\n",
    "        title=alt.TitleParams(\"Number of QC drops when processing plates\", anchor=\"middle\", dy=-2),\n",
    "    )\n",
    "    .configure_axis(grid=False)\n",
    "    .resolve_scale(color=\"independent\", x=\"independent\")\n",
    ")\n",
    "\n",
    "plate_qc_drop_counts_chart"
   ]
  },
  {
   "cell_type": "code",
   "execution_count": null,
   "id": "62e40f04-5f2b-4b4d-8b26-4f6e7a9a7c8c",
   "metadata": {},
   "outputs": [],
   "source": []
  }
 ],
 "metadata": {
  "kernelspec": {
   "display_name": "Python 3 (ipykernel)",
   "language": "python",
   "name": "python3"
  },
  "language_info": {
   "codemirror_mode": {
    "name": "ipython",
    "version": 3
   },
   "file_extension": ".py",
   "mimetype": "text/x-python",
   "name": "python",
   "nbconvert_exporter": "python",
   "pygments_lexer": "ipython3",
   "version": "3.11.7"
  }
 },
 "nbformat": 4,
 "nbformat_minor": 5
}
